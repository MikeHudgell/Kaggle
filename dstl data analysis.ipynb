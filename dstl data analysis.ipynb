{
 "cells": [
  {
   "cell_type": "code",
   "execution_count": 2,
   "metadata": {},
   "outputs": [],
   "source": [
    "import os\n",
    "import pandas as pd\n",
    "import numpy as np\n",
    "# from shapely.wkt import loads\n",
    "from matplotlib.patches import Polygon\n",
    "import matplotlib.pyplot as plt\n",
    "import glob"
   ]
  },
  {
   "cell_type": "code",
   "execution_count": null,
   "metadata": {
    "collapsed": true
   },
   "outputs": [],
   "source": [
    "data_path = \"/home/data/dstl/data_prep\"\n",
    "\n",
    "sixteen_band_list = os.listdir(data_path + '/sixteen_band')\n",
    "three_band_list =  os.listdir(data_path + '/three_band')\n",
    "sixteen_band_list.sort()\n",
    "three_band_list.sort()\n",
    "\n",
    "# for file in three_band_list:\n",
    "#     print file\n",
    "\n",
    "print \"Three Band\"\n",
    "print len(three_band_list)\n",
    "\n",
    "print \"Sixteen Band\"\n",
    "print len(sixteen_band_list)\n",
    "\n",
    "# with open('../input/three_band/6120_2_2.tif',encoding='utf-8', errors='ignore') as f:\n",
    "#     print(f.readlines())"
   ]
  },
  {
   "cell_type": "code",
   "execution_count": null,
   "metadata": {
    "collapsed": true
   },
   "outputs": [],
   "source": [
    "print three_band_list\n",
    "print sixteen_band_list"
   ]
  },
  {
   "cell_type": "code",
   "execution_count": null,
   "metadata": {
    "collapsed": true
   },
   "outputs": [],
   "source": [
    "df = pd.read_csv(data_path + '/train_wkt_v4.csv')\n",
    "print len(df)\n",
    "print list(df['ImageId'].unique())\n",
    "print df.head(11)"
   ]
  },
  {
   "cell_type": "code",
   "execution_count": null,
   "metadata": {
    "collapsed": true
   },
   "outputs": [],
   "source": [
    "CLASSES = {\n",
    "        1 : 'Buildings',\n",
    "        2 : 'Misc. Manmade structures',\n",
    "        3 : 'Road',\n",
    "        4 : 'Track',\n",
    "        5 : 'Trees',\n",
    "        6 : 'Crops',\n",
    "        7 : 'Waterway',\n",
    "        8 : 'Standing water',\n",
    "        9 : 'Vehicle Large',\n",
    "        10 : 'Vehicle Small',\n",
    "        }\n",
    "\n",
    "d = []\n",
    "for index, row in df.iterrows():\n",
    "    image_name = row[\"ImageId\"]\n",
    "    # print CLASSES[row['ClassType']], ' : ', row['ClassType']\n",
    "    poly_count = row['MultipolygonWKT'].count('((')\n",
    "    # print poly_count\n",
    "    d.append({'a_ImageId': image_name,'b_ClassType': CLASSES[row['ClassType']], 'c_PolyCount': poly_count  })\n",
    "    \n",
    "summary_df = pd.DataFrame(d)"
   ]
  },
  {
   "cell_type": "code",
   "execution_count": null,
   "metadata": {
    "collapsed": true
   },
   "outputs": [],
   "source": [
    "summary_df.to_csv(data_path + '/classes_by_image.csv', index=False, header=False)"
   ]
  },
  {
   "cell_type": "code",
   "execution_count": null,
   "metadata": {
    "collapsed": true
   },
   "outputs": [],
   "source": [
    "print summary_df"
   ]
  },
  {
   "cell_type": "code",
   "execution_count": null,
   "metadata": {
    "collapsed": true
   },
   "outputs": [],
   "source": []
  },
  {
   "cell_type": "code",
   "execution_count": null,
   "metadata": {
    "collapsed": true
   },
   "outputs": [],
   "source": []
  }
 ],
 "metadata": {
  "kernelspec": {
   "display_name": "Python 2",
   "language": "python",
   "name": "python2"
  },
  "language_info": {
   "codemirror_mode": {
    "name": "ipython",
    "version": 2
   },
   "file_extension": ".py",
   "mimetype": "text/x-python",
   "name": "python",
   "nbconvert_exporter": "python",
   "pygments_lexer": "ipython2",
   "version": "2.7.6"
  }
 },
 "nbformat": 4,
 "nbformat_minor": 2
}
