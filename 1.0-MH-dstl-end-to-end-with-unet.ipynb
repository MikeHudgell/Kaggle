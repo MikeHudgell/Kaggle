{
 "cells": [
  {
   "cell_type": "code",
   "execution_count": 1,
   "metadata": {},
   "outputs": [
    {
     "name": "stderr",
     "output_type": "stream",
     "text": [
      "Using TensorFlow backend.\n"
     ]
    },
    {
     "name": "stdout",
     "output_type": "stream",
     "text": [
      "2.0.4\n"
     ]
    }
   ],
   "source": [
    "import matplotlib.pyplot as plt\n",
    "import numpy as np\n",
    "import cv2\n",
    "import pandas as pd\n",
    "from shapely.wkt import loads as wkt_loads\n",
    "import tifffile as tiff\n",
    "import os\n",
    "import random\n",
    "from keras.models import Model\n",
    "from keras.layers import Input, merge, Convolution2D, MaxPooling2D, UpSampling2D, Reshape, core, Dropout\n",
    "from keras.optimizers import Adam\n",
    "from keras.callbacks import ModelCheckpoint, LearningRateScheduler\n",
    "from keras import backend as K\n",
    "from sklearn.metrics import jaccard_similarity_score\n",
    "from shapely.geometry import MultiPolygon, Polygon\n",
    "import shapely.wkt\n",
    "import shapely.affinity\n",
    "from collections import defaultdict\n",
    "\n",
    "from keras import __version__\n",
    "print(__version__)"
   ]
  },
  {
   "cell_type": "code",
   "execution_count": 2,
   "metadata": {
    "collapsed": true
   },
   "outputs": [],
   "source": [
    "N_Cls = 10\n",
    "inDir = '/home/ubuntu/data/dstl/data'\n",
    "topDir = '/home/ubuntu/data/dstl'\n",
    "DF = pd.read_csv(inDir + '/train_wkt_v4.csv')\n",
    "GS = pd.read_csv(inDir + '/grid_sizes.csv', names=['ImageId', 'Xmax', 'Ymin'], skiprows=1)\n",
    "SB = pd.read_csv(os.path.join(inDir, 'sample_submission.csv'))\n",
    "ISZ = 160\n",
    "smooth = 1e-12"
   ]
  },
  {
   "cell_type": "code",
   "execution_count": 3,
   "metadata": {
    "collapsed": true
   },
   "outputs": [],
   "source": [
    "def _convert_coordinates_to_raster(coords, img_size, xymax):\n",
    "    # __author__ = visoft\n",
    "    # https://www.kaggle.com/visoft/dstl-satellite-imagery-feature-detection/export-pixel-wise-mask\n",
    "    Xmax, Ymax = xymax\n",
    "    H, W = img_size\n",
    "    W1 = 1.0 * W * W / (W + 1)\n",
    "    H1 = 1.0 * H * H / (H + 1)\n",
    "    xf = W1 / Xmax\n",
    "    yf = H1 / Ymax\n",
    "    coords[:, 1] *= yf\n",
    "    coords[:, 0] *= xf\n",
    "    coords_int = np.round(coords).astype(np.int32)\n",
    "    return coords_int\n"
   ]
  },
  {
   "cell_type": "code",
   "execution_count": 4,
   "metadata": {
    "collapsed": true
   },
   "outputs": [],
   "source": [
    "def _get_xmax_ymin(grid_sizes_panda, imageId):\n",
    "    # __author__ = visoft\n",
    "    # https://www.kaggle.com/visoft/dstl-satellite-imagery-feature-detection/export-pixel-wise-mask\n",
    "    xmax, ymin = grid_sizes_panda[grid_sizes_panda.ImageId == imageId].iloc[0, 1:].astype(float)\n",
    "    return (xmax, ymin)\n"
   ]
  },
  {
   "cell_type": "code",
   "execution_count": 5,
   "metadata": {
    "collapsed": true
   },
   "outputs": [],
   "source": [
    "def _get_polygon_list(wkt_list_pandas, imageId, cType):\n",
    "    # __author__ = visoft\n",
    "    # https://www.kaggle.com/visoft/dstl-satellite-imagery-feature-detection/export-pixel-wise-mask\n",
    "    df_image = wkt_list_pandas[wkt_list_pandas.ImageId == imageId]\n",
    "    multipoly_def = df_image[df_image.ClassType == cType].MultipolygonWKT\n",
    "    polygonList = None\n",
    "    if len(multipoly_def) > 0:\n",
    "        assert len(multipoly_def) == 1\n",
    "        polygonList = wkt_loads(multipoly_def.values[0])\n",
    "    return polygonList\n"
   ]
  },
  {
   "cell_type": "code",
   "execution_count": 6,
   "metadata": {
    "collapsed": true
   },
   "outputs": [],
   "source": [
    "def _get_and_convert_contours(polygonList, raster_img_size, xymax):\n",
    "    # __author__ = visoft\n",
    "    # https://www.kaggle.com/visoft/dstl-satellite-imagery-feature-detection/export-pixel-wise-mask\n",
    "    perim_list = []\n",
    "    interior_list = []\n",
    "    if polygonList is None:\n",
    "        return None\n",
    "    for k in range(len(polygonList)):\n",
    "        poly = polygonList[k]\n",
    "        perim = np.array(list(poly.exterior.coords))\n",
    "        perim_c = _convert_coordinates_to_raster(perim, raster_img_size, xymax)\n",
    "        perim_list.append(perim_c)\n",
    "        for pi in poly.interiors:\n",
    "            interior = np.array(list(pi.coords))\n",
    "            interior_c = _convert_coordinates_to_raster(interior, raster_img_size, xymax)\n",
    "            interior_list.append(interior_c)\n",
    "    return perim_list, interior_list"
   ]
  },
  {
   "cell_type": "code",
   "execution_count": 7,
   "metadata": {
    "collapsed": true
   },
   "outputs": [],
   "source": [
    "def _plot_mask_from_contours(raster_img_size, contours, class_value=1):\n",
    "    # __author__ = visoft\n",
    "    # https://www.kaggle.com/visoft/dstl-satellite-imagery-feature-detection/export-pixel-wise-mask\n",
    "    img_mask = np.zeros(raster_img_size, np.uint8)\n",
    "    if contours is None:\n",
    "        return img_mask\n",
    "    perim_list, interior_list = contours\n",
    "    cv2.fillPoly(img_mask, perim_list, class_value)\n",
    "    cv2.fillPoly(img_mask, interior_list, 0)\n",
    "    return img_mask"
   ]
  },
  {
   "cell_type": "code",
   "execution_count": 8,
   "metadata": {
    "collapsed": true
   },
   "outputs": [],
   "source": [
    "def generate_mask_for_image_and_class(raster_size, imageId, class_type, grid_sizes_panda=GS, wkt_list_pandas=DF):\n",
    "    # __author__ = visoft\n",
    "    # https://www.kaggle.com/visoft/dstl-satellite-imagery-feature-detection/export-pixel-wise-mask\n",
    "    xymax = _get_xmax_ymin(grid_sizes_panda, imageId)\n",
    "    polygon_list = _get_polygon_list(wkt_list_pandas, imageId, class_type)\n",
    "    contours = _get_and_convert_contours(polygon_list, raster_size, xymax)\n",
    "    mask = _plot_mask_from_contours(raster_size, contours, 1)\n",
    "    return mask"
   ]
  },
  {
   "cell_type": "code",
   "execution_count": 9,
   "metadata": {
    "collapsed": true
   },
   "outputs": [],
   "source": [
    "\n",
    "def M(image_id):\n",
    "    # __author__ = amaia\n",
    "    # https://www.kaggle.com/aamaia/dstl-satellite-imagery-feature-detection/rgb-using-m-bands-example\n",
    "    filename = os.path.join(inDir, 'sixteen_band', '{}_M.tif'.format(image_id))\n",
    "    img = tiff.imread(filename)\n",
    "    img = np.rollaxis(img, 0, 3)\n",
    "    return img\n"
   ]
  },
  {
   "cell_type": "code",
   "execution_count": 10,
   "metadata": {
    "collapsed": true
   },
   "outputs": [],
   "source": [
    "def stretch_n(bands, lower_percent=5, higher_percent=95):\n",
    "#     out = np.zeros_like(bands)    \n",
    "    out = np.zeros_like(bands).astype(np.float32)\n",
    "    n = bands.shape[2]\n",
    "    for i in range(n):\n",
    "        a = 0  # np.min(band)\n",
    "        b = 1  # np.max(band)\n",
    "        c = np.percentile(bands[:, :, i], lower_percent)\n",
    "        d = np.percentile(bands[:, :, i], higher_percent)\n",
    "        t = a + (bands[:, :, i] - c) * (b - a) / (d - c)\n",
    "        t[t < a] = a\n",
    "        t[t > b] = b\n",
    "        out[:, :, i] = t\n",
    "\n",
    "    return out.astype(np.float32)\n"
   ]
  },
  {
   "cell_type": "code",
   "execution_count": 29,
   "metadata": {
    "collapsed": true
   },
   "outputs": [],
   "source": [
    "def jaccard_coef(y_true, y_pred):\n",
    "    # __author__ = Vladimir Iglovikov\n",
    "    intersection = K.sum(y_true * y_pred, axis=[0, -1, -2])\n",
    "    sum_ = K.sum(y_true + y_pred, axis=[0, -1, -2])\n",
    "\n",
    "    jac = (intersection + smooth) / (sum_ - intersection + smooth)\n",
    "\n",
    "    return K.mean(jac)"
   ]
  },
  {
   "cell_type": "code",
   "execution_count": 27,
   "metadata": {
    "collapsed": true
   },
   "outputs": [],
   "source": [
    "def jaccard_coef_int(y_true, y_pred):\n",
    "    # __author__ = Vladimir Iglovikov\n",
    "    y_pred_pos = K.round(K.clip(y_pred, 0, 1))\n",
    "\n",
    "    intersection = K.sum(y_true * y_pred, axis=[0, -1, -2])\n",
    "    sum_ = K.sum(y_true + y_pred, axis=[0, -1, -2])\n",
    "    jac = (intersection + smooth) / (sum_ - intersection + smooth)\n",
    "    return K.mean(jac)"
   ]
  },
  {
   "cell_type": "code",
   "execution_count": 13,
   "metadata": {
    "collapsed": true
   },
   "outputs": [],
   "source": [
    "def stick_all_train():\n",
    "    print \"let's stick all imgs together\"\n",
    "    s = 835\n",
    "\n",
    "    x = np.zeros((5 * s, 5 * s, 8))\n",
    "    y = np.zeros((5 * s, 5 * s, N_Cls))\n",
    "\n",
    "    ids = sorted(DF.ImageId.unique())\n",
    "    print len(ids)\n",
    "    for i in range(5):\n",
    "        for j in range(5):\n",
    "            id = ids[5 * i + j]\n",
    "\n",
    "            img = M(id)\n",
    "            img = stretch_n(img)\n",
    "            print img.shape, id, np.amax(img), np.amin(img)\n",
    "            x[s * i:s * i + s, s * j:s * j + s, :] = img[:s, :s, :]\n",
    "            for z in range(N_Cls):\n",
    "                y[s * i:s * i + s, s * j:s * j + s, z] = generate_mask_for_image_and_class(\n",
    "                    (img.shape[0], img.shape[1]), id, z + 1)[:s, :s]\n",
    "\n",
    "    print np.amax(y), np.amin(y)\n",
    "\n",
    "#      np.save('data/x_trn_%d' % N_Cls, x)\n",
    "#      np.save('data/y_trn_%d' % N_Cls, y)\n",
    "\n",
    "    np.save(inDir + '/x_trn_%d' % N_Cls, x)\n",
    "    np.save(inDir + '/y_trn_%d' % N_Cls, y)"
   ]
  },
  {
   "cell_type": "code",
   "execution_count": 14,
   "metadata": {
    "collapsed": true
   },
   "outputs": [],
   "source": [
    "def get_patches(img, msk, amt=10000, aug=True):\n",
    "    is2 = int(1.0 * ISZ)\n",
    "    xm, ym = img.shape[0] - is2, img.shape[1] - is2\n",
    "\n",
    "    x, y = [], []\n",
    "\n",
    "    tr = [0.4, 0.1, 0.1, 0.15, 0.3, 0.95, 0.1, 0.05, 0.001, 0.005]\n",
    "    for i in range(amt):\n",
    "        xc = random.randint(0, xm)\n",
    "        yc = random.randint(0, ym)\n",
    "\n",
    "        im = img[xc:xc + is2, yc:yc + is2]\n",
    "        ms = msk[xc:xc + is2, yc:yc + is2]\n",
    "\n",
    "        for j in range(N_Cls):\n",
    "            sm = np.sum(ms[:, :, j])\n",
    "            if 1.0 * sm / is2 ** 2 > tr[j]:\n",
    "                if aug:\n",
    "                    if random.uniform(0, 1) > 0.5:\n",
    "                        im = im[::-1]\n",
    "                        ms = ms[::-1]\n",
    "                    if random.uniform(0, 1) > 0.5:\n",
    "                        im = im[:, ::-1]\n",
    "                        ms = ms[:, ::-1]\n",
    "\n",
    "                x.append(im)\n",
    "                y.append(ms)\n",
    "\n",
    "    x, y = 2 * np.transpose(x, (0, 3, 1, 2)) - 1, np.transpose(y, (0, 3, 1, 2))\n",
    "    print x.shape, y.shape, np.amax(x), np.amin(x), np.amax(y), np.amin(y)\n",
    "    return x, y\n"
   ]
  },
  {
   "cell_type": "code",
   "execution_count": 15,
   "metadata": {
    "collapsed": true
   },
   "outputs": [],
   "source": [
    "def make_val():\n",
    "    print \"let's pick some samples for validation\"\n",
    "    img = np.load(inDir + '/x_trn_%d.npy' % N_Cls)\n",
    "    msk = np.load(inDir + '/y_trn_%d.npy' % N_Cls)\n",
    "#     img = np.load('data/x_trn_%d.npy' % N_Cls)\n",
    "#     msk = np.load('data/y_trn_%d.npy' % N_Cls)\n",
    "    x, y = get_patches(img, msk, amt=3000)\n",
    "\n",
    "#     np.save('data/x_tmp_%d' % N_Cls, x)\n",
    "#     np.save('data/y_tmp_%d' % N_Cls, y)\n",
    "    \n",
    "    np.save(inDir + '/x_tmp_%d' % N_Cls, x)\n",
    "    np.save(inDir + '/y_tmp_%d' % N_Cls, y)\n",
    "    \n",
    "    "
   ]
  },
  {
   "cell_type": "code",
   "execution_count": 16,
   "metadata": {
    "collapsed": true
   },
   "outputs": [],
   "source": [
    "\n",
    "def get_unet():\n",
    "    print \"build network\"\n",
    "    inputs = Input((8, ISZ, ISZ))\n",
    "    conv1 = Convolution2D(32, 3, 3, activation='relu', border_mode='same')(inputs)\n",
    "    conv1 = Convolution2D(32, 3, 3, activation='relu', border_mode='same')(conv1)\n",
    "    pool1 = MaxPooling2D(pool_size=(2, 2))(conv1)\n",
    "\n",
    "    conv2 = Convolution2D(64, 3, 3, activation='relu', border_mode='same')(pool1)\n",
    "    conv2 = Convolution2D(64, 3, 3, activation='relu', border_mode='same')(conv2)\n",
    "    pool2 = MaxPooling2D(pool_size=(2, 2))(conv2)\n",
    "\n",
    "    conv3 = Convolution2D(128, 3, 3, activation='relu', border_mode='same')(pool2)\n",
    "    conv3 = Convolution2D(128, 3, 3, activation='relu', border_mode='same')(conv3)\n",
    "    pool3 = MaxPooling2D(pool_size=(2, 2))(conv3)\n",
    "\n",
    "    conv4 = Convolution2D(256, 3, 3, activation='relu', border_mode='same')(pool3)\n",
    "    conv4 = Convolution2D(256, 3, 3, activation='relu', border_mode='same')(conv4)\n",
    "    pool4 = MaxPooling2D(pool_size=(2, 2))(conv4)\n",
    "\n",
    "    conv5 = Convolution2D(512, 3, 3, activation='relu', border_mode='same')(pool4)\n",
    "    conv5 = Convolution2D(512, 3, 3, activation='relu', border_mode='same')(conv5)\n",
    "\n",
    "    up6 = merge([UpSampling2D(size=(2, 2))(conv5), conv4], mode='concat', concat_axis=1)\n",
    "    conv6 = Convolution2D(256, 3, 3, activation='relu', border_mode='same')(up6)\n",
    "    conv6 = Convolution2D(256, 3, 3, activation='relu', border_mode='same')(conv6)\n",
    "\n",
    "    up7 = merge([UpSampling2D(size=(2, 2))(conv6), conv3], mode='concat', concat_axis=1)\n",
    "    conv7 = Convolution2D(128, 3, 3, activation='relu', border_mode='same')(up7)\n",
    "    conv7 = Convolution2D(128, 3, 3, activation='relu', border_mode='same')(conv7)\n",
    "\n",
    "    up8 = merge([UpSampling2D(size=(2, 2))(conv7), conv2], mode='concat', concat_axis=1)\n",
    "    conv8 = Convolution2D(64, 3, 3, activation='relu', border_mode='same')(up8)\n",
    "    conv8 = Convolution2D(64, 3, 3, activation='relu', border_mode='same')(conv8)\n",
    "\n",
    "    up9 = merge([UpSampling2D(size=(2, 2))(conv8), conv1], mode='concat', concat_axis=1)\n",
    "    conv9 = Convolution2D(32, 3, 3, activation='relu', border_mode='same')(up9)\n",
    "    conv9 = Convolution2D(32, 3, 3, activation='relu', border_mode='same')(conv9)\n",
    "\n",
    "    conv10 = Convolution2D(N_Cls, 1, 1, activation='sigmoid')(conv9)\n",
    "\n",
    "    model = Model(input=inputs, output=conv10)\n",
    "    model.compile(optimizer=Adam(), loss='binary_crossentropy', metrics=[jaccard_coef, jaccard_coef_int, 'accuracy'])\n",
    "    return model"
   ]
  },
  {
   "cell_type": "code",
   "execution_count": 17,
   "metadata": {
    "collapsed": true
   },
   "outputs": [],
   "source": [
    "def calc_jacc(model):\n",
    "    img = np.load(inDir + '/x_tmp_%d.npy' % N_Cls)\n",
    "    msk = np.load(inDir + '/y_tmp_%d.npy' % N_Cls)\n",
    "\n",
    "    prd = model.predict(img, batch_size=4)\n",
    "    print prd.shape, msk.shape\n",
    "    avg, trs = [], []\n",
    "\n",
    "    for i in range(N_Cls):\n",
    "        t_msk = msk[:, i, :, :]\n",
    "        t_prd = prd[:, i, :, :]\n",
    "        t_msk = t_msk.reshape(msk.shape[0] * msk.shape[2], msk.shape[3])\n",
    "        t_prd = t_prd.reshape(msk.shape[0] * msk.shape[2], msk.shape[3])\n",
    "\n",
    "        m, b_tr = 0, 0\n",
    "        for j in range(10):\n",
    "            tr = j / 10.0\n",
    "            pred_binary_mask = t_prd > tr\n",
    "\n",
    "            jk = jaccard_similarity_score(t_msk, pred_binary_mask)\n",
    "            if jk > m:\n",
    "                m = jk\n",
    "                b_tr = tr\n",
    "        print i, m, b_tr\n",
    "        avg.append(m)\n",
    "        trs.append(b_tr)\n",
    "\n",
    "    score = sum(avg) / 10.0\n",
    "    return score, trs\n"
   ]
  },
  {
   "cell_type": "code",
   "execution_count": 18,
   "metadata": {
    "collapsed": true
   },
   "outputs": [],
   "source": [
    "def mask_for_polygons(polygons, im_size):\n",
    "    # __author__ = Konstantin Lopuhin\n",
    "    # https://www.kaggle.com/lopuhin/dstl-satellite-imagery-feature-detection/full-pipeline-demo-poly-pixels-ml-poly\n",
    "    img_mask = np.zeros(im_size, np.uint8)\n",
    "    if not polygons:\n",
    "        return img_mask\n",
    "    int_coords = lambda x: np.array(x).round().astype(np.int32)\n",
    "    exteriors = [int_coords(poly.exterior.coords) for poly in polygons]\n",
    "    interiors = [int_coords(pi.coords) for poly in polygons\n",
    "                 for pi in poly.interiors]\n",
    "    cv2.fillPoly(img_mask, exteriors, 1)\n",
    "    cv2.fillPoly(img_mask, interiors, 0)\n",
    "    return img_mask\n"
   ]
  },
  {
   "cell_type": "code",
   "execution_count": 19,
   "metadata": {
    "collapsed": true
   },
   "outputs": [],
   "source": [
    "\n",
    "def mask_to_polygons(mask, epsilon=5, min_area=1.):\n",
    "    # __author__ = Konstantin Lopuhin\n",
    "    # https://www.kaggle.com/lopuhin/dstl-satellite-imagery-feature-detection/full-pipeline-demo-poly-pixels-ml-poly\n",
    "\n",
    "    # first, find contours with cv2: it's much faster than shapely\n",
    "    image, contours, hierarchy = cv2.findContours(\n",
    "        ((mask == 1) * 255).astype(np.uint8),\n",
    "        cv2.RETR_CCOMP, cv2.CHAIN_APPROX_TC89_KCOS)\n",
    "    # create approximate contours to have reasonable submission size\n",
    "    approx_contours = [cv2.approxPolyDP(cnt, epsilon, True)\n",
    "                       for cnt in contours]\n",
    "    if not contours:\n",
    "        return MultiPolygon()\n",
    "    # now messy stuff to associate parent and child contours\n",
    "    cnt_children = defaultdict(list)\n",
    "    child_contours = set()\n",
    "    assert hierarchy.shape[0] == 1\n",
    "    # http://docs.opencv.org/3.1.0/d9/d8b/tutorial_py_contours_hierarchy.html\n",
    "    for idx, (_, _, _, parent_idx) in enumerate(hierarchy[0]):\n",
    "        if parent_idx != -1:\n",
    "            child_contours.add(idx)\n",
    "            cnt_children[parent_idx].append(approx_contours[idx])\n",
    "    # create actual polygons filtering by area (removes artifacts)\n",
    "    all_polygons = []\n",
    "    for idx, cnt in enumerate(approx_contours):\n",
    "        if idx not in child_contours and cv2.contourArea(cnt) >= min_area:\n",
    "            assert cnt.shape[1] == 1\n",
    "            poly = Polygon(\n",
    "                shell=cnt[:, 0, :],\n",
    "                holes=[c[:, 0, :] for c in cnt_children.get(idx, [])\n",
    "                       if cv2.contourArea(c) >= min_area])\n",
    "            all_polygons.append(poly)\n",
    "    # approximating polygons might have created invalid ones, fix them\n",
    "    all_polygons = MultiPolygon(all_polygons)\n",
    "    if not all_polygons.is_valid:\n",
    "        all_polygons = all_polygons.buffer(0)\n",
    "        # Sometimes buffer() converts a simple Multipolygon to just a Polygon,\n",
    "        # need to keep it a Multi throughout\n",
    "        if all_polygons.type == 'Polygon':\n",
    "            all_polygons = MultiPolygon([all_polygons])\n",
    "    return all_polygons\n",
    "\n"
   ]
  },
  {
   "cell_type": "code",
   "execution_count": 20,
   "metadata": {
    "collapsed": true
   },
   "outputs": [],
   "source": [
    "def get_scalers(im_size, x_max, y_min):\n",
    "    # __author__ = Konstantin Lopuhin\n",
    "    # https://www.kaggle.com/lopuhin/dstl-satellite-imagery-feature-detection/full-pipeline-demo-poly-pixels-ml-poly\n",
    "    h, w = im_size  # they are flipped so that mask_for_polygons works correctly\n",
    "    h, w = float(h), float(w)\n",
    "    w_ = 1.0 * w * (w / (w + 1))\n",
    "    h_ = 1.0 * h * (h / (h + 1))\n",
    "    return w_ / x_max, h_ / y_min\n",
    "\n"
   ]
  },
  {
   "cell_type": "code",
   "execution_count": 44,
   "metadata": {
    "collapsed": true
   },
   "outputs": [],
   "source": [
    "def train_net():\n",
    "    print \"start train net\"\n",
    "    x_val, y_val = np.load(inDir + '/x_tmp_%d.npy' % N_Cls), np.load(inDir +'/y_tmp_%d.npy' % N_Cls)\n",
    "   \n",
    "    img = np.load(inDir + '/x_trn_%d.npy' % N_Cls)\n",
    "    msk = np.load(inDir + '/y_trn_%d.npy' % N_Cls)\n",
    "\n",
    "    x_trn, y_trn = get_patches(img, msk)\n",
    "    print np.ndim(x_trn)\n",
    "    print np.ndim(y_trn)\n",
    "    model = get_unet()\n",
    "\n",
    "#\n",
    "    model.load_weights(topDir + '/weights/unet_10_jk0.7878')\n",
    "    model_checkpoint = ModelCheckpoint(topDir + '/weights/unet_tmp.hdf5', monitor='loss', save_best_only=True)\n",
    "    for i in range(1):\n",
    "        model.fit(x_trn, y_trn, batch_size=64, nb_epoch=10, verbose=1, shuffle=True,\n",
    "                  callbacks=[model_checkpoint], validation_data=(x_val, y_val))\n",
    "        del x_trn\n",
    "        del y_trn\n",
    "        x_trn, y_trn = get_patches(img, msk)\n",
    "        score, trs = calc_jacc(model)\n",
    "        print 'val jk', score\n",
    "        model.save_weights(topDir + '/weights/unet_10_jk%.4f' % score)\n",
    "\n",
    "    return model"
   ]
  },
  {
   "cell_type": "code",
   "execution_count": 45,
   "metadata": {
    "collapsed": true
   },
   "outputs": [],
   "source": [
    "def predict_id(id, model, trs):\n",
    "    img = M(id)\n",
    "    x = stretch_n(img)\n",
    "\n",
    "    cnv = np.zeros((960, 960, 8)).astype(np.float32)\n",
    "    prd = np.zeros((N_Cls, 960, 960)).astype(np.float32)\n",
    "    cnv[:img.shape[0], :img.shape[1], :] = x\n",
    "\n",
    "    for i in range(0, 6):\n",
    "        line = []\n",
    "        for j in range(0, 6):\n",
    "            line.append(cnv[i * ISZ:(i + 1) * ISZ, j * ISZ:(j + 1) * ISZ])\n",
    "\n",
    "        x = 2 * np.transpose(line, (0, 3, 1, 2)) - 1\n",
    "        tmp = model.predict(x, batch_size=4)\n",
    "        for j in range(tmp.shape[0]):\n",
    "            prd[:, i * ISZ:(i + 1) * ISZ, j * ISZ:(j + 1) * ISZ] = tmp[j]\n",
    "\n",
    "    # trs = [0.4, 0.1, 0.4, 0.3, 0.3, 0.5, 0.3, 0.6, 0.1, 0.1]\n",
    "    for i in range(N_Cls):\n",
    "        prd[i] = prd[i] > trs[i]\n",
    "\n",
    "    return prd[:, :img.shape[0], :img.shape[1]]\n",
    "\n"
   ]
  },
  {
   "cell_type": "code",
   "execution_count": 46,
   "metadata": {
    "collapsed": true
   },
   "outputs": [],
   "source": [
    "\n",
    "def predict_test(model, trs):\n",
    "    print \"predict test\"\n",
    "    for i, id in enumerate(sorted(set(SB['ImageId'].tolist()))):\n",
    "        msk = predict_id(id, model, trs)\n",
    "        np.save(topDir + '/msk/10_%s' % id, msk)\n",
    "        if i % 100 == 0: print i, id\n",
    "\n"
   ]
  },
  {
   "cell_type": "code",
   "execution_count": 47,
   "metadata": {
    "collapsed": true
   },
   "outputs": [],
   "source": [
    "\n",
    "\n",
    "def make_submit():\n",
    "    print \"make submission file\"\n",
    "    df = pd.read_csv(os.path.join(inDir, 'sample_submission.csv'))\n",
    "    print df.head()\n",
    "    for idx, row in df.iterrows():\n",
    "        id = row[0]\n",
    "        kls = row[1] - 1\n",
    "\n",
    "        msk = np.load(topDir + '/msk/10_%s.npy' % id)[kls]\n",
    "        pred_polygons = mask_to_polygons(msk)\n",
    "        x_max = GS.loc[GS['ImageId'] == id, 'Xmax'].as_matrix()[0]\n",
    "        y_min = GS.loc[GS['ImageId'] == id, 'Ymin'].as_matrix()[0]\n",
    "\n",
    "        x_scaler, y_scaler = get_scalers(msk.shape, x_max, y_min)\n",
    "\n",
    "        scaled_pred_polygons = shapely.affinity.scale(pred_polygons, xfact=1.0 / x_scaler, yfact=1.0 / y_scaler,\n",
    "                                                      origin=(0, 0, 0))\n",
    "\n",
    "        df.iloc[idx, 2] = shapely.wkt.dumps(scaled_pred_polygons)\n",
    "        if idx % 100 == 0: print idx\n",
    "    print df.head()\n",
    "    df.to_csv(topDir + '/subm/1.csv', index=False)\n"
   ]
  },
  {
   "cell_type": "code",
   "execution_count": 48,
   "metadata": {
    "collapsed": true
   },
   "outputs": [],
   "source": [
    "def check_predict(id='6120_2_3'):\n",
    "    model = get_unet()\n",
    "    model.load_weights(topDir + '/weights/unet_10_jk0.7878')\n",
    "\n",
    "    msk = predict_id(id, model, [0.4, 0.1, 0.4, 0.3, 0.3, 0.5, 0.3, 0.6, 0.1, 0.1])\n",
    "    img = M(id)\n",
    "\n",
    "    plt.figure(figsize=(15,10))\n",
    "    ax1 = plt.subplot(131)\n",
    "    ax1.set_title('image ID:6120_2_3')\n",
    "    ax1.imshow(img[:, :, 5], cmap=plt.get_cmap('gist_ncar'))\n",
    "    ax2 = plt.subplot(132)\n",
    "    ax2.set_title('predict bldg pixels')\n",
    "    ax2.imshow(msk[0], cmap=plt.get_cmap('gray'))\n",
    "    ax3 = plt.subplot(133)\n",
    "    ax3.set_title('predict bldg polygones')\n",
    "    ax3.imshow(mask_for_polygons(mask_to_polygons(msk[0], epsilon=1), img.shape[:2]), cmap=plt.get_cmap('gray'))\n",
    "\n",
    "    plt.show()\n",
    "\n"
   ]
  },
  {
   "cell_type": "code",
   "execution_count": null,
   "metadata": {},
   "outputs": [
    {
     "name": "stdout",
     "output_type": "stream",
     "text": [
      "let's stick all imgs together\n",
      "25\n",
      "(837, 849, 8) 6010_1_2 1.0 0.0\n",
      "(837, 849, 8) 6010_4_2 1.0 0.0\n",
      "(837, 848, 8) 6010_4_4 1.0 0.0\n",
      "(837, 848, 8) 6040_1_0 1.0 0.0\n",
      "(837, 848, 8) 6040_1_3 1.0 0.0\n",
      "(837, 848, 8) 6040_2_2 1.0 0.0\n",
      "(837, 846, 8) 6040_4_4 1.0 0.0\n",
      "(837, 851, 8) 6060_2_3 1.0 0.0\n",
      "(838, 835, 8) 6070_2_3 1.0 0.0\n",
      "(837, 848, 8) 6090_2_0 1.0 0.0\n",
      "(837, 848, 8) 6100_1_3 1.0 0.0\n",
      "(837, 848, 8) 6100_2_2 1.0 0.0\n",
      "(837, 848, 8) 6100_2_3 1.0 0.0\n",
      "(837, 849, 8) 6110_1_2 1.0 0.0\n",
      "(837, 849, 8) 6110_3_1 1.0 0.0\n",
      "(837, 849, 8) 6110_4_0 1.0 0.0\n",
      "(837, 851, 8) 6120_2_0 1.0 0.0\n",
      "(837, 851, 8) 6120_2_2 1.0 0.0\n",
      "(837, 849, 8) 6140_1_2 1.0 0.0\n",
      "(837, 849, 8) 6140_3_1 1.0 0.0\n",
      "(837, 851, 8) 6150_2_3 1.0 0.0\n",
      "(837, 848, 8) 6160_2_1 1.0 0.0\n",
      "(837, 848, 8) 6170_0_4 1.0 0.0\n",
      "(837, 848, 8) 6170_2_4 1.0 0.0\n",
      "(837, 848, 8) 6170_4_1 1.0 0.0\n",
      "1.0 0.0\n",
      "let's pick some samples for validation\n",
      "(1052, 8, 160, 160) (1052, 10, 160, 160) 1.0 -1.0 1.0 0.0\n",
      "start train net\n",
      "(3458, 8, 160, 160) (3458, 10, 160, 160) 1.0 -1.0 1.0 0.0\n",
      "4\n",
      "4\n",
      "build network\n"
     ]
    },
    {
     "name": "stderr",
     "output_type": "stream",
     "text": [
      "/usr/local/lib/python2.7/dist-packages/ipykernel_launcher.py:5: UserWarning: Update your `Conv2D` call to the Keras 2 API: `Conv2D(32, (3, 3), padding=\"same\", activation=\"relu\")`\n",
      "  \"\"\"\n",
      "/usr/local/lib/python2.7/dist-packages/ipykernel_launcher.py:6: UserWarning: Update your `Conv2D` call to the Keras 2 API: `Conv2D(32, (3, 3), padding=\"same\", activation=\"relu\")`\n",
      "  \n",
      "/usr/local/lib/python2.7/dist-packages/ipykernel_launcher.py:9: UserWarning: Update your `Conv2D` call to the Keras 2 API: `Conv2D(64, (3, 3), padding=\"same\", activation=\"relu\")`\n",
      "  if __name__ == '__main__':\n",
      "/usr/local/lib/python2.7/dist-packages/ipykernel_launcher.py:10: UserWarning: Update your `Conv2D` call to the Keras 2 API: `Conv2D(64, (3, 3), padding=\"same\", activation=\"relu\")`\n",
      "  # Remove the CWD from sys.path while we load stuff.\n",
      "/usr/local/lib/python2.7/dist-packages/ipykernel_launcher.py:13: UserWarning: Update your `Conv2D` call to the Keras 2 API: `Conv2D(128, (3, 3), padding=\"same\", activation=\"relu\")`\n",
      "  del sys.path[0]\n",
      "/usr/local/lib/python2.7/dist-packages/ipykernel_launcher.py:14: UserWarning: Update your `Conv2D` call to the Keras 2 API: `Conv2D(128, (3, 3), padding=\"same\", activation=\"relu\")`\n",
      "  \n",
      "/usr/local/lib/python2.7/dist-packages/ipykernel_launcher.py:17: UserWarning: Update your `Conv2D` call to the Keras 2 API: `Conv2D(256, (3, 3), padding=\"same\", activation=\"relu\")`\n",
      "/usr/local/lib/python2.7/dist-packages/ipykernel_launcher.py:18: UserWarning: Update your `Conv2D` call to the Keras 2 API: `Conv2D(256, (3, 3), padding=\"same\", activation=\"relu\")`\n",
      "/usr/local/lib/python2.7/dist-packages/ipykernel_launcher.py:21: UserWarning: Update your `Conv2D` call to the Keras 2 API: `Conv2D(512, (3, 3), padding=\"same\", activation=\"relu\")`\n",
      "/usr/local/lib/python2.7/dist-packages/ipykernel_launcher.py:22: UserWarning: Update your `Conv2D` call to the Keras 2 API: `Conv2D(512, (3, 3), padding=\"same\", activation=\"relu\")`\n",
      "/usr/local/lib/python2.7/dist-packages/ipykernel_launcher.py:24: UserWarning: The `merge` function is deprecated and will be removed after 08/2017. Use instead layers from `keras.layers.merge`, e.g. `add`, `concatenate`, etc.\n",
      "/usr/local/lib/python2.7/dist-packages/ipykernel_launcher.py:25: UserWarning: Update your `Conv2D` call to the Keras 2 API: `Conv2D(256, (3, 3), padding=\"same\", activation=\"relu\")`\n",
      "/usr/local/lib/python2.7/dist-packages/ipykernel_launcher.py:26: UserWarning: Update your `Conv2D` call to the Keras 2 API: `Conv2D(256, (3, 3), padding=\"same\", activation=\"relu\")`\n",
      "/usr/local/lib/python2.7/dist-packages/ipykernel_launcher.py:28: UserWarning: The `merge` function is deprecated and will be removed after 08/2017. Use instead layers from `keras.layers.merge`, e.g. `add`, `concatenate`, etc.\n",
      "/usr/local/lib/python2.7/dist-packages/ipykernel_launcher.py:29: UserWarning: Update your `Conv2D` call to the Keras 2 API: `Conv2D(128, (3, 3), padding=\"same\", activation=\"relu\")`\n",
      "/usr/local/lib/python2.7/dist-packages/ipykernel_launcher.py:30: UserWarning: Update your `Conv2D` call to the Keras 2 API: `Conv2D(128, (3, 3), padding=\"same\", activation=\"relu\")`\n",
      "/usr/local/lib/python2.7/dist-packages/ipykernel_launcher.py:32: UserWarning: The `merge` function is deprecated and will be removed after 08/2017. Use instead layers from `keras.layers.merge`, e.g. `add`, `concatenate`, etc.\n",
      "/usr/local/lib/python2.7/dist-packages/ipykernel_launcher.py:33: UserWarning: Update your `Conv2D` call to the Keras 2 API: `Conv2D(64, (3, 3), padding=\"same\", activation=\"relu\")`\n",
      "/usr/local/lib/python2.7/dist-packages/ipykernel_launcher.py:34: UserWarning: Update your `Conv2D` call to the Keras 2 API: `Conv2D(64, (3, 3), padding=\"same\", activation=\"relu\")`\n",
      "/usr/local/lib/python2.7/dist-packages/ipykernel_launcher.py:36: UserWarning: The `merge` function is deprecated and will be removed after 08/2017. Use instead layers from `keras.layers.merge`, e.g. `add`, `concatenate`, etc.\n",
      "/usr/local/lib/python2.7/dist-packages/ipykernel_launcher.py:37: UserWarning: Update your `Conv2D` call to the Keras 2 API: `Conv2D(32, (3, 3), padding=\"same\", activation=\"relu\")`\n",
      "/usr/local/lib/python2.7/dist-packages/ipykernel_launcher.py:38: UserWarning: Update your `Conv2D` call to the Keras 2 API: `Conv2D(32, (3, 3), padding=\"same\", activation=\"relu\")`\n",
      "/usr/local/lib/python2.7/dist-packages/ipykernel_launcher.py:40: UserWarning: Update your `Conv2D` call to the Keras 2 API: `Conv2D(10, (1, 1), activation=\"sigmoid\")`\n",
      "/usr/local/lib/python2.7/dist-packages/ipykernel_launcher.py:42: UserWarning: Update your `Model` call to the Keras 2 API: `Model(outputs=Tensor(\"co..., inputs=Tensor(\"in...)`\n",
      "/usr/local/lib/python2.7/dist-packages/ipykernel_launcher.py:18: UserWarning: The `nb_epoch` argument in `fit` has been renamed `epochs`.\n"
     ]
    },
    {
     "name": "stdout",
     "output_type": "stream",
     "text": [
      "Train on 3458 samples, validate on 1052 samples\n",
      "Epoch 1/10\n",
      "3458/3458 [==============================] - 364s - loss: 0.0996 - jaccard_coef: 0.1906 - jaccard_coef_int: 0.1906 - acc: 0.9655 - val_loss: 0.0873 - val_jaccard_coef: 0.2369 - val_jaccard_coef_int: 0.2369 - val_acc: 0.9685\n",
      "Epoch 2/10\n",
      "3392/3458 [============================>.] - ETA: 6s - loss: 0.0754 - jaccard_coef: 0.2733 - jaccard_coef_int: 0.2733 - acc: 0.9732 "
     ]
    }
   ],
   "source": [
    "if __name__ == '__main__':\n",
    "    stick_all_train()\n",
    "    make_val()\n",
    "    model = train_net()\n",
    "    score, trs = calc_jacc(model)\n",
    "    predict_test(model, trs)\n",
    "    make_submit()\n",
    "\n",
    "    # bonus\n",
    "    check_predict()\n"
   ]
  },
  {
   "cell_type": "code",
   "execution_count": 33,
   "metadata": {},
   "outputs": [
    {
     "name": "stdout",
     "output_type": "stream",
     "text": [
      "make submission file\n",
      "    ImageId  ClassType                                    MultipolygonWKT\n",
      "0  6120_2_4          1  POLYGON ((0 0, 0.009188 0, 0.009188 -0.0090399...\n",
      "1  6120_2_4          2  POLYGON ((0 0, 0.009188 0, 0.009188 -0.0090399...\n",
      "2  6120_2_4          3  POLYGON ((0 0, 0.009188 0, 0.009188 -0.0090399...\n",
      "3  6120_2_4          4  POLYGON ((0 0, 0.009188 0, 0.009188 -0.0090399...\n",
      "4  6120_2_4          5  POLYGON ((0 0, 0.009188 0, 0.009188 -0.0090399...\n"
     ]
    },
    {
     "name": "stderr",
     "output_type": "stream",
     "text": [
      "Self-intersection at or near point 824.0506912442396 342.59447004608296\n"
     ]
    },
    {
     "name": "stdout",
     "output_type": "stream",
     "text": [
      "0\n"
     ]
    },
    {
     "name": "stderr",
     "output_type": "stream",
     "text": [
      "Self-intersection at or near point 194.33333333333334 462\n",
      "Self-intersection at or near point 287.64406779661016 611.96610169491521\n",
      "Self-intersection at or near point 388.35425531914893 643.31489361702131\n",
      "Self-intersection at or near point 772 754\n",
      "Self-intersection at or near point 774.21006289308173 500.04779874213835\n",
      "Self-intersection at or near point 180.25 373.16666666666669\n",
      "Self-intersection at or near point 819.28205128205127 305.64102564102564\n",
      "Self-intersection at or near point 754.76190476190482 793.3650793650794\n",
      "Self-intersection at or near point 805.35265700483092 414.22705314009664\n",
      "Self-intersection at or near point 736.50510204081638 209.71938775510205\n",
      "Self-intersection at or near point 811.09090909090912 642.30681818181813\n",
      "Self-intersection at or near point 778.57142857142856 463.42857142857144\n",
      "Self-intersection at or near point 78.255319148936167 803.57446808510633\n",
      "Self-intersection at or near point 552.78215767634856 803.96265560165978\n",
      "Self-intersection at or near point 788.90909090909088 491.02597402597405\n",
      "Self-intersection at or near point 127.31578947368421 498.23308270676694\n",
      "Self-intersection at or near point 758.15384615384619 80.230769230769226\n",
      "Self-intersection at or near point 832.48192771084337 104.44578313253012\n",
      "Self-intersection at or near point 377.04444444444442 135.01111111111112\n",
      "Self-intersection at or near point 787.33944954128435 553.55045871559628\n",
      "Self-intersection at or near point 837.97297297297303 133.48648648648648\n",
      "Self-intersection at or near point 811.51999999999998 70.280000000000001\n",
      "Self-intersection at or near point 847.05511811023621 92.897637795275585\n",
      "Self-intersection at or near point 790.91011235955057 360.80898876404495\n",
      "Self-intersection at or near point 838.07462686567169 782.98507462686564\n"
     ]
    },
    {
     "name": "stdout",
     "output_type": "stream",
     "text": [
      "100\n"
     ]
    },
    {
     "name": "stderr",
     "output_type": "stream",
     "text": [
      "Self-intersection at or near point 778 686.33333333333337\n",
      "Self-intersection at or near point 847.90123456790127 601.27160493827159\n",
      "Self-intersection at or near point 807.77777777777783 227.66666666666666\n",
      "Self-intersection at or near point 784.24489795918362 513.96938775510205\n",
      "Self-intersection at or near point 832.08805031446536 39.276729559748425\n",
      "Self-intersection at or near point 1.2857142857142858 282.28571428571428\n",
      "Self-intersection at or near point 674.38461538461536 379\n",
      "Self-intersection at or near point 736.33333333333337 324\n",
      "Self-intersection at or near point 301 381\n",
      "Self-intersection at or near point 575.1204819277109 386.56626506024094\n",
      "Self-intersection at or near point 718.0625 401.125\n",
      "Self-intersection at or near point 495.26168224299067 435.98130841121497\n",
      "Self-intersection at or near point 792.66577540106948 370.72994652406419\n",
      "Self-intersection at or near point 823 475\n",
      "Self-intersection at or near point 796.83673469387759 794.2585034013606\n",
      "Self-intersection at or near point 529.61702127659578 68.936170212765958\n",
      "Self-intersection at or near point 817.66666666666663 159.44444444444446\n",
      "Self-intersection at or near point 633.15384615384619 483.38461538461536\n",
      "Self-intersection at or near point 800.86328125 22.19921875\n"
     ]
    },
    {
     "name": "stdout",
     "output_type": "stream",
     "text": [
      "200\n"
     ]
    },
    {
     "name": "stderr",
     "output_type": "stream",
     "text": [
      "Self-intersection at or near point 828.59375 552.8125\n",
      "Self-intersection at or near point 691.03404255319151 316.59148936170214\n",
      "Self-intersection at or near point 842.42735042735046 304.40170940170941\n",
      "Self-intersection at or near point 828.88059701492534 600.35820895522386\n",
      "Self-intersection at or near point 468.0344827586207 37.448275862068968\n",
      "Self-intersection at or near point 699.28571428571433 174\n",
      "Self-intersection at or near point 842.68789808917199 602.32484076433116\n",
      "Self-intersection at or near point 821.957345971564 647.48341232227483\n",
      "Self-intersection at or near point 781.41584158415844 827.02970297029708\n",
      "Self-intersection at or near point 468.17213114754099 15.098360655737705\n",
      "Self-intersection at or near point 145.15671641791045 797.79104477611941\n",
      "Self-intersection at or near point 819.96938775510205 223.07142857142858\n",
      "Self-intersection at or near point 787.35971223021579 659.74820143884892\n",
      "Self-intersection at or near point 732.7037037037037 514.03703703703707\n",
      "Self-intersection at or near point 791.75 397.07142857142856\n",
      "Self-intersection at or near point 737.83439490445858 381.59235668789808\n",
      "Self-intersection at or near point 840.44047619047615 496.64285714285717\n",
      "Self-intersection at or near point 785.8955223880597 325.97014925373134\n",
      "Self-intersection at or near point 583.97869101978688 797.65905631659052\n",
      "Self-intersection at or near point 840.38461538461536 291.46153846153845\n",
      "Self-intersection at or near point 797.09433962264154 84.339622641509436\n"
     ]
    },
    {
     "name": "stdout",
     "output_type": "stream",
     "text": [
      "300\n"
     ]
    },
    {
     "name": "stderr",
     "output_type": "stream",
     "text": [
      "Self-intersection at or near point 528.81132075471703 789.66037735849056\n",
      "Self-intersection at or near point 341.30769230769232 642.76923076923072\n",
      "Self-intersection at or near point 671 136.59090909090909\n",
      "Self-intersection at or near point 796.88461538461536 373.19230769230768\n",
      "Self-intersection at or near point 827.37956204379566 437.31751824817519\n",
      "Self-intersection at or near point 654 141.38095238095238\n",
      "Self-intersection at or near point 804.99502487562188 343.38142620232173\n",
      "Self-intersection at or near point 473.58064516129031 321.61290322580646\n",
      "Self-intersection at or near point 313.58536585365852 159.95121951219511\n",
      "Self-intersection at or near point 739 394.27272727272725\n",
      "Self-intersection at or near point 649.5 797.25\n",
      "Self-intersection at or near point 792.07692307692309 329.84615384615387\n",
      "Self-intersection at or near point 474.71052631578948 800.18421052631584\n",
      "Self-intersection at or near point 811.28571428571433 479.89610389610391\n",
      "Self-intersection at or near point 480.07079646017701 802.50442477876106\n",
      "Self-intersection at or near point 506.37704918032784 698.87978142076497\n",
      "Self-intersection at or near point 638.48155737704917 598.23360655737702\n",
      "Self-intersection at or near point 775.57142857142856 47.428571428571431\n"
     ]
    },
    {
     "name": "stdout",
     "output_type": "stream",
     "text": [
      "400\n"
     ]
    },
    {
     "name": "stderr",
     "output_type": "stream",
     "text": [
      "Self-intersection at or near point 722.66666666666663 123.33333333333333\n",
      "Self-intersection at or near point 826.30927835051546 40.134020618556704\n",
      "Self-intersection at or near point 764.68354430379748 425.55696202531647\n",
      "Self-intersection at or near point 185.39361702127658 376.22340425531917\n",
      "Self-intersection at or near point 724.60000000000002 477.80000000000001\n",
      "Self-intersection at or near point 837.0612244897959 100.91836734693878\n",
      "Self-intersection at or near point 790.53658536585363 401.07317073170731\n",
      "Self-intersection at or near point 779.54692556634302 768.22977346278321\n",
      "Self-intersection at or near point 16.029268292682929 788.9365853658536\n",
      "Self-intersection at or near point 781 144.47368421052633\n",
      "Self-intersection at or near point 841.73356401384081 598.50519031141869\n",
      "Self-intersection at or near point 742.5414012738853 272.36942675159236\n",
      "Self-intersection at or near point 744.10465116279067 62.046511627906973\n",
      "Ring Self-intersection at or near point 292 654\n",
      "Self-intersection at or near point 712.64864864864865 12.648648648648649\n",
      "Self-intersection at or near point 355.36585365853659 801.8780487804878\n",
      "Self-intersection at or near point 465.70588235294116 149.35294117647058\n",
      "Self-intersection at or near point 666.20512820512818 154.89743589743588\n",
      "Self-intersection at or near point 728.81725888324877 687.02030456852788\n",
      "Self-intersection at or near point 759 319\n"
     ]
    },
    {
     "name": "stdout",
     "output_type": "stream",
     "text": [
      "500\n"
     ]
    },
    {
     "name": "stderr",
     "output_type": "stream",
     "text": [
      "Self-intersection at or near point 679 733.77777777777783\n",
      "Self-intersection at or near point 830.09749303621174 30.233983286908078\n",
      "Self-intersection at or near point 525.125 779.75\n",
      "Self-intersection at or near point 794.17857142857144 386.53571428571428\n",
      "Self-intersection at or near point 830.83425414364638 133.40331491712706\n",
      "Self-intersection at or near point 831.81632653061229 684.47619047619048\n",
      "Self-intersection at or near point 808.54285714285709 65.67619047619047\n",
      "Self-intersection at or near point 808 809.18181818181813\n",
      "Self-intersection at or near point 818.44444444444446 135\n",
      "Self-intersection at or near point 652.63636363636363 218.45454545454547\n",
      "Self-intersection at or near point 795.52863436123346 701.10132158590307\n",
      "Self-intersection at or near point 800 721\n",
      "Self-intersection at or near point 577.0514469453376 28.781350482315112\n",
      "Self-intersection at or near point 746.29239766081866 788.80116959064333\n",
      "Self-intersection at or near point 743.64081632653063 163.05714285714285\n",
      "Self-intersection at or near point 459.05084745762713 252.77118644067798\n",
      "Self-intersection at or near point 843.66887417218538 799.57615894039736\n",
      "Self-intersection at or near point 752.82022471910113 367.04494382022472\n",
      "Self-intersection at or near point 801.66666666666663 40.333333333333336\n",
      "Self-intersection at or near point 792.72549019607845 391.52941176470586\n"
     ]
    },
    {
     "name": "stdout",
     "output_type": "stream",
     "text": [
      "600\n"
     ]
    },
    {
     "name": "stderr",
     "output_type": "stream",
     "text": [
      "Self-intersection at or near point 768.86238532110087 25.11467889908257\n",
      "Self-intersection at or near point 789.35849056603774 804.30188679245282\n",
      "Self-intersection at or near point 787.04907975460128 518.05521472392638\n",
      "Self-intersection at or near point 820.58076225045374 477.66061705989108\n",
      "Self-intersection at or near point 796.02531645569616 800.08860759493666\n",
      "Self-intersection at or near point 651.921875 38.9375\n",
      "Self-intersection at or near point 809.20689655172418 690.68965517241384\n",
      "Self-intersection at or near point 486.38636363636363 551.38636363636363\n",
      "Ring Self-intersection at or near point 632 511\n",
      "Self-intersection at or near point 38.142857142857146 285.28571428571428\n",
      "Self-intersection at or near point 678.83719615602035 321.67834934991521\n",
      "Self-intersection at or near point 324.92857142857144 811.83333333333337\n",
      "Self-intersection at or near point 591.07142857142856 151.5\n",
      "Self-intersection at or near point 279.33333333333331 388.66666666666669\n",
      "Self-intersection at or near point 775.16981132075466 814.15094339622647\n",
      "Self-intersection at or near point 756.17757009345792 623.49065420560748\n",
      "Self-intersection at or near point 192.25 305\n",
      "Self-intersection at or near point 629 114\n",
      "Self-intersection at or near point 174.46153846153845 427.84615384615387\n",
      "Self-intersection at or near point 784.31578947368416 339.31578947368422\n",
      "Self-intersection at or near point 805 350.39999999999998\n"
     ]
    },
    {
     "name": "stdout",
     "output_type": "stream",
     "text": [
      "700\n"
     ]
    },
    {
     "name": "stderr",
     "output_type": "stream",
     "text": [
      "Self-intersection at or near point 555.74693877551022 2.7448979591836737\n",
      "Self-intersection at or near point 663.78181818181815 595.74545454545455\n",
      "Self-intersection at or near point 105 512.5333333333333\n",
      "Self-intersection at or near point 189.92561983471074 414.04132231404958\n",
      "Ring Self-intersection at or near point 159 413\n",
      "Self-intersection at or near point 469.8692307692308 604.67307692307691\n",
      "Self-intersection at or near point 251.72392638036808 31.030674846625768\n",
      "Self-intersection at or near point 804.44444444444446 80.888888888888886\n",
      "Self-intersection at or near point 30.172786177105831 481.19438444924407\n",
      "Self-intersection at or near point 773.07284768211923 203.12582781456953\n",
      "Self-intersection at or near point 668.8648648648649 186.24324324324326\n",
      "Self-intersection at or near point 382.63285556780596 831.60418963616314\n",
      "Self-intersection at or near point 457.5 435.5\n",
      "Self-intersection at or near point 698.13636363636363 817.22727272727275\n",
      "Self-intersection at or near point 847.23076923076928 590.61538461538464\n",
      "Self-intersection at or near point 245.30172413793105 198.65517241379311\n",
      "Self-intersection at or near point 639.92424242424238 671.34090909090912\n",
      "Self-intersection at or near point 235.73170731707316 778.90243902439022\n",
      "Self-intersection at or near point 498.62962962962962 370.1358024691358\n",
      "Self-intersection at or near point 541.96753246753246 803.29220779220782\n",
      "Self-intersection at or near point 479.25301204819277 49.518072289156628\n",
      "Self-intersection at or near point 213.22346368715083 317.21787709497204\n"
     ]
    },
    {
     "name": "stdout",
     "output_type": "stream",
     "text": [
      "800\n"
     ]
    },
    {
     "name": "stderr",
     "output_type": "stream",
     "text": [
      "Self-intersection at or near point 20 693.15384615384619\n",
      "Self-intersection at or near point 812.11153846153843 163.66923076923078\n",
      "Self-intersection at or near point 733.16923076923081 157.67692307692309\n",
      "Self-intersection at or near point 616.48689138576776 625.5355805243446\n",
      "Ring Self-intersection at or near point 421 99\n",
      "Self-intersection at or near point 597.91836734693879 17.959183673469386\n",
      "Self-intersection at or near point 190 775.5454545454545\n",
      "Self-intersection at or near point 654.07692307692309 273.73076923076923\n",
      "Self-intersection at or near point 692.11640211640213 149.28042328042329\n",
      "Self-intersection at or near point 782.34883720930236 164.30232558139534\n",
      "Self-intersection at or near point 812.5 94.5\n",
      "Self-intersection at or near point 726.03731343283584 668.7388059701492\n",
      "Self-intersection at or near point 681.39285714285711 109.85714285714286\n",
      "Self-intersection at or near point 313.39999999999998 658.60000000000002\n",
      "Self-intersection at or near point 72 773\n",
      "Self-intersection at or near point 782.18461538461543 255.44615384615383\n",
      "Self-intersection at or near point 767.29745042492914 637.64305949008497\n",
      "Self-intersection at or near point 675 608.5\n",
      "Self-intersection at or near point 315.94827586206895 561\n",
      "Self-intersection at or near point 238.09302325581396 832.84496124031011\n",
      "Self-intersection at or near point 794.90778097982707 111.17291066282421\n",
      "Self-intersection at or near point 833 836\n"
     ]
    },
    {
     "name": "stdout",
     "output_type": "stream",
     "text": [
      "900\n"
     ]
    },
    {
     "name": "stderr",
     "output_type": "stream",
     "text": [
      "Self-intersection at or near point 814.38461538461536 642.92307692307691\n",
      "Self-intersection at or near point 801.85714285714289 80.285714285714292\n",
      "Self-intersection at or near point 757.39097744360902 704.48872180451133\n",
      "Self-intersection at or near point 730.13043478260875 774\n",
      "Self-intersection at or near point 671.26016260162601 560.83739837398377\n",
      "Self-intersection at or near point 843.63963963963965 37.549549549549553\n",
      "Self-intersection at or near point 674.02127659574467 473.68085106382978\n",
      "Self-intersection at or near point 529.78947368421052 260.78947368421052\n",
      "Self-intersection at or near point 263.03422053231941 575.11406844106466\n",
      "Self-intersection at or near point 787.14999999999998 472.69999999999999\n",
      "Ring Self-intersection at or near point 827 517\n",
      "Self-intersection at or near point 777.77419354838707 570.58064516129036\n",
      "Self-intersection at or near point 800.47619047619048 296.47619047619048\n",
      "Self-intersection at or near point 196.58823529411765 143\n",
      "Self-intersection at or near point 440.62318840579712 643.63768115942025\n",
      "Self-intersection at or near point 813.4487179487179 1.1923076923076923\n",
      "Self-intersection at or near point 798.77999999999997 684.88\n",
      "Self-intersection at or near point 837.05882352941171 20.470588235294116\n",
      "Self-intersection at or near point 601.16937354988397 832.40835266821341\n",
      "Self-intersection at or near point 785.75 160.75\n",
      "Self-intersection at or near point 755.05999999999995 797.58000000000004\n",
      "Self-intersection at or near point 818.75 365.35000000000002\n"
     ]
    },
    {
     "name": "stdout",
     "output_type": "stream",
     "text": [
      "1000\n"
     ]
    },
    {
     "name": "stderr",
     "output_type": "stream",
     "text": [
      "Self-intersection at or near point 805.54298642533934 768.95927601809956\n",
      "Self-intersection at or near point 323.95652173913044 210.33913043478262\n",
      "Self-intersection at or near point 787.49275362318838 260.08695652173913\n",
      "Self-intersection at or near point 627 800\n",
      "Self-intersection at or near point 12.056603773584905 39.037735849056602\n",
      "Self-intersection at or near point 645.1416309012875 85.115879828326186\n",
      "Self-intersection at or near point 534.11583011583014 812.32432432432438\n",
      "Self-intersection at or near point 798.03759398496243 803.73684210526312\n",
      "Self-intersection at or near point 818.90082644628103 419.26446280991735\n",
      "Self-intersection at or near point 625.14285714285711 341.71428571428572\n",
      "Self-intersection at or near point 846.43902439024396 724.6260162601626\n",
      "Self-intersection at or near point 444.53846153846155 594.46153846153845\n",
      "Self-intersection at or near point 725.27272727272725 637.22314049586782\n",
      "Self-intersection at or near point 762.30769230769226 782.92307692307691\n",
      "Self-intersection at or near point 704.83720930232562 814.88372093023258\n",
      "Self-intersection at or near point 691.69230769230774 781.53846153846155\n",
      "Self-intersection at or near point 415.80487804878049 39.829268292682926\n",
      "Self-intersection at or near point 747.46153846153845 88.358974358974365\n",
      "Self-intersection at or near point 187.29253731343283 800.25074626865671\n",
      "Self-intersection at or near point 714.30921052631584 781.60526315789468\n",
      "Self-intersection at or near point 633.12 3.1800000000000002\n",
      "Self-intersection at or near point 416.72000000000003 496.83999999999997\n"
     ]
    },
    {
     "name": "stdout",
     "output_type": "stream",
     "text": [
      "1100\n"
     ]
    },
    {
     "name": "stderr",
     "output_type": "stream",
     "text": [
      "Self-intersection at or near point 2.4615384615384617 26\n",
      "Self-intersection at or near point 343 179\n",
      "Self-intersection at or near point 623.82769230769236 172.3753846153846\n",
      "Self-intersection at or near point 470.55893536121675 69.091254752851711\n",
      "Self-intersection at or near point 751.51612903225805 167.07526881720429\n",
      "Self-intersection at or near point 599.39800995024871 222.05472636815921\n",
      "Self-intersection at or near point 153.70260223048328 155.02230483271376\n",
      "Self-intersection at or near point 708.93396226415098 172.27358490566039\n",
      "Self-intersection at or near point 637.96676737160124 800.11480362537759\n",
      "Self-intersection at or near point 564.33788395904435 752.96928327645048\n",
      "Self-intersection at or near point 667.08695652173913 237.08695652173913\n",
      "Ring Self-intersection at or near point 813 480\n",
      "Self-intersection at or near point 726.12716763005778 653.96531791907512\n",
      "Self-intersection at or near point 639.3373493975904 89.963855421686745\n",
      "Self-intersection at or near point 655 836\n",
      "Self-intersection at or near point 817.0625 614.27083333333337\n",
      "Self-intersection at or near point 621.19874476987445 821.15690376569034\n",
      "Self-intersection at or near point 560.20408163265301 117.24489795918367\n",
      "Self-intersection at or near point 108.87769784172662 8.2661870503597115\n",
      "Self-intersection at or near point 713.36619718309862 367.57746478873241\n",
      "Self-intersection at or near point 119.15384615384616 175.69230769230768\n",
      "Self-intersection at or near point 791.6395348837209 53.02325581395349\n",
      "Ring Self-intersection at or near point 42 0\n",
      "Self-intersection at or near point 669.57037037037037 190.48888888888888\n",
      "Self-intersection at or near point 847 835.89610389610391\n",
      "Self-intersection at or near point 677 444.66666666666669\n",
      "Self-intersection at or near point 813.72727272727275 607\n"
     ]
    },
    {
     "name": "stdout",
     "output_type": "stream",
     "text": [
      "1200\n"
     ]
    },
    {
     "name": "stderr",
     "output_type": "stream",
     "text": [
      "Self-intersection at or near point 193.41176470588235 225.29411764705881\n",
      "Self-intersection at or near point 645.16666666666663 808.91666666666663\n",
      "Self-intersection at or near point 121.82142857142857 230.17857142857142\n",
      "Self-intersection at or near point 808.86666666666667 14.066666666666666\n",
      "Self-intersection at or near point 417.62162162162161 332.72972972972974\n",
      "Self-intersection at or near point 443.8173515981735 492.52511415525112\n",
      "Self-intersection at or near point 402.72972972972974 247.43243243243242\n",
      "Self-intersection at or near point 720.27272727272725 624.09090909090912\n",
      "Self-intersection at or near point 814.375 123.25\n",
      "Self-intersection at or near point 776.07913669064749 790.06474820143887\n",
      "Self-intersection at or near point 709.30923694779119 673.25301204819277\n",
      "Self-intersection at or near point 178.46808510638297 281.02127659574467\n",
      "Self-intersection at or near point 579 744\n",
      "Self-intersection at or near point 564.61855670103091 709.32989690721649\n",
      "Self-intersection at or near point 813.8780487804878 313.26829268292681\n",
      "Self-intersection at or near point 423.81914893617022 328.79787234042556\n",
      "Self-intersection at or near point 747.09090909090912 798\n",
      "Self-intersection at or near point 779.29213483146066 821.52808988764048\n",
      "Self-intersection at or near point 777.20000000000005 544.20000000000005\n",
      "Self-intersection at or near point 797.84848484848487 536.10606060606062\n",
      "Self-intersection at or near point 799.92617449664431 166.10738255033556\n",
      "Self-intersection at or near point 439 836\n"
     ]
    },
    {
     "name": "stdout",
     "output_type": "stream",
     "text": [
      "1300\n"
     ]
    },
    {
     "name": "stderr",
     "output_type": "stream",
     "text": [
      "Self-intersection at or near point 802.89020270270271 481.92145270270271\n",
      "Self-intersection at or near point 318.92556634304208 829.01618122977345\n",
      "Self-intersection at or near point 718.08888888888885 822.93333333333328\n",
      "Self-intersection at or near point 309.39603960396039 320.43564356435644\n",
      "Ring Self-intersection at or near point 320 499\n",
      "Self-intersection at or near point 516.69767441860461 730.11627906976742\n",
      "Self-intersection at or near point 398.05000000000001 230.69999999999999\n",
      "Self-intersection at or near point 811.03076923076924 750.89743589743591\n",
      "Self-intersection at or near point 714.32869080779949 636.02228412256272\n",
      "Self-intersection at or near point 716.95555555555552 457.0888888888889\n",
      "Self-intersection at or near point 30.25 72.625\n",
      "Self-intersection at or near point 781.86538461538464 713.80769230769226\n",
      "Self-intersection at or near point 157.94814814814814 93.007407407407413\n",
      "Self-intersection at or near point 482.75 289.25\n",
      "Self-intersection at or near point 480 769\n",
      "Self-intersection at or near point 644.88165680473378 685.18343195266277\n",
      "Self-intersection at or near point 697.87755102040819 599.89795918367349\n",
      "Self-intersection at or near point 796.59798994974869 698.1155778894472\n",
      "Ring Self-intersection at or near point 632 585\n",
      "Self-intersection at or near point 837.62711864406776 42.762711864406782\n",
      "Self-intersection at or near point 676.16535433070862 337.49606299212599\n",
      "Self-intersection at or near point 702.13043478260875 370.41304347826087\n",
      "Self-intersection at or near point 675.22222222222217 347.19753086419752\n",
      "Self-intersection at or near point 689.94557823129253 306.75510204081633\n",
      "Self-intersection at or near point 671.20512820512818 159.31623931623932\n"
     ]
    },
    {
     "name": "stdout",
     "output_type": "stream",
     "text": [
      "1400\n"
     ]
    },
    {
     "name": "stderr",
     "output_type": "stream",
     "text": [
      "Self-intersection at or near point 710.13043478260875 350.30434782608694\n",
      "Self-intersection at or near point 689.15189873417717 367.22784810126581\n",
      "Self-intersection at or near point 668.51923076923072 597.76923076923072\n",
      "Self-intersection at or near point 181 392\n",
      "Self-intersection at or near point 152.85714285714286 267.57142857142856\n",
      "Self-intersection at or near point 784.35668789808915 296.84713375796179\n",
      "Self-intersection at or near point 284.52173913043481 273.56521739130437\n",
      "Self-intersection at or near point 609.29508196721315 72.180327868852459\n",
      "Self-intersection at or near point 629.45714285714291 147.51428571428571\n",
      "Self-intersection at or near point 642.79245283018872 606.23899371069183\n",
      "Self-intersection at or near point 480.02158273381298 638.51798561151077\n",
      "Self-intersection at or near point 794.42222222222222 603.86666666666667\n",
      "Self-intersection at or near point 810.80094786729853 158.66824644549763\n",
      "Self-intersection at or near point 808.15625 210.4375\n",
      "Self-intersection at or near point 643.33333333333337 782\n",
      "Self-intersection at or near point 813.31818181818187 160.04545454545453\n",
      "Self-intersection at or near point 613.63636363636363 500.63636363636363\n",
      "Self-intersection at or near point 748.46564885496184 362.4503816793893\n",
      "Self-intersection at or near point 820.79200000000003 261.78399999999999\n",
      "Self-intersection at or near point 819.47368421052636 718.68421052631584\n",
      "Self-intersection at or near point 41.88095238095238 118.83333333333333\n",
      "Self-intersection at or near point 775.73333333333335 362.06666666666666\n",
      "Self-intersection at or near point 340.74172185430461 805.07947019867549\n",
      "Self-intersection at or near point 678.180487804878 130.65365853658537\n"
     ]
    },
    {
     "name": "stdout",
     "output_type": "stream",
     "text": [
      "1500\n"
     ]
    },
    {
     "name": "stderr",
     "output_type": "stream",
     "text": [
      "Self-intersection at or near point 766.69767441860461 836.30232558139539\n",
      "Self-intersection at or near point 476.64556962025318 170.02531645569621\n",
      "Self-intersection at or near point 322.88 21.66\n",
      "Self-intersection at or near point 755.2696629213483 57.044943820224717\n",
      "Self-intersection at or near point 811.00797448165872 2.0287081339712918\n",
      "Self-intersection at or near point 785.75285171102666 312.04182509505705\n",
      "Self-intersection at or near point 714.32352941176475 827.32352941176475\n",
      "Self-intersection at or near point 756.24242424242425 549.78787878787875\n",
      "Self-intersection at or near point 2.4070450097847358 17.436399217221137\n",
      "Self-intersection at or near point 805.10810810810813 204.08108108108109\n",
      "Self-intersection at or near point 806.14400000000001 608.72799999999995\n",
      "Self-intersection at or near point 196 798\n",
      "Self-intersection at or near point 797.10526315789468 448.89473684210526\n",
      "Self-intersection at or near point 834 223\n",
      "Self-intersection at or near point 819.06185567010311 144.76288659793815\n",
      "Self-intersection at or near point 136.43333333333334 681.91666666666663\n",
      "Self-intersection at or near point 580.59259259259261 292.74074074074076\n",
      "Self-intersection at or near point 678.38 481.75999999999999\n",
      "Self-intersection at or near point 752.98798798798794 529.02702702702697\n",
      "Self-intersection at or near point 235.88235294117646 146.52941176470588\n",
      "Self-intersection at or near point 812.14285714285711 59\n",
      "Self-intersection at or near point 812.57289002557548 0.53196930946291565\n",
      "Self-intersection at or near point 178 836\n",
      "Self-intersection at or near point 89.640883977900558 485.12154696132598\n",
      "Self-intersection at or near point 388.48275862068965 479.39655172413791\n"
     ]
    },
    {
     "name": "stdout",
     "output_type": "stream",
     "text": [
      "1600\n"
     ]
    },
    {
     "name": "stderr",
     "output_type": "stream",
     "text": [
      "Self-intersection at or near point 816.80952380952385 646.19047619047615\n",
      "Self-intersection at or near point 795.86298076923072 822.97115384615381\n",
      "Self-intersection at or near point 399.64705882352939 183.64705882352942\n",
      "Self-intersection at or near point 434.67029972752044 340.85013623978199\n",
      "Self-intersection at or near point 537.04132231404958 205.099173553719\n",
      "Self-intersection at or near point 64.333333333333329 37\n",
      "Self-intersection at or near point 641.5333333333333 437.73333333333335\n",
      "Self-intersection at or near point 448.60194174757282 591.93203883495141\n",
      "Self-intersection at or near point 625.05154639175259 426.22886597938145\n",
      "Self-intersection at or near point 599.66666666666663 175.66666666666666\n",
      "Self-intersection at or near point 618.14545454545453 45.554545454545455\n",
      "Self-intersection at or near point 703.66666666666663 204.33333333333334\n",
      "Ring Self-intersection at or near point 764 792\n",
      "Self-intersection at or near point 637.37423312883436 692.1625766871166\n",
      "Self-intersection at or near point 522 133.55555555555554\n",
      "Self-intersection at or near point 814.86666666666667 266.61904761904759\n",
      "Self-intersection at or near point 647.30177514792899 579.39053254437874\n",
      "Self-intersection at or near point 121.96676737160121 5.6646525679758302\n",
      "Self-intersection at or near point 739.9655172413793 304.34482758620692\n",
      "Self-intersection at or near point 160 275\n",
      "Self-intersection at or near point 658.09090909090912 638.18181818181813\n",
      "Self-intersection at or near point 123.45086705202313 375.91329479768785\n",
      "Self-intersection at or near point 653.93822393822393 370.94594594594594\n"
     ]
    },
    {
     "name": "stdout",
     "output_type": "stream",
     "text": [
      "1700\n"
     ]
    },
    {
     "name": "stderr",
     "output_type": "stream",
     "text": [
      "Self-intersection at or near point 712.51999999999998 117.23999999999999\n",
      "Self-intersection at or near point 199.31578947368422 708.02631578947364\n",
      "Self-intersection at or near point 381 760\n",
      "Self-intersection at or near point 691.56164383561645 67.956947162426616\n",
      "Self-intersection at or near point 678.96116504854365 527.82524271844659\n",
      "Self-intersection at or near point 159.71428571428572 689.42857142857144\n",
      "Ring Self-intersection at or near point 116 821\n",
      "Self-intersection at or near point 663.09230769230771 244.59999999999999\n",
      "Self-intersection at or near point 279.95774647887322 833.52112676056333\n",
      "Self-intersection at or near point 684.44444444444446 613.55555555555554\n",
      "Self-intersection at or near point 840.19512195121956 321.34146341463412\n",
      "Self-intersection at or near point 638.63829787234044 381.82978723404256\n",
      "Self-intersection at or near point 333.7748344370861 423.17218543046357\n",
      "Self-intersection at or near point 800.063829787234 226.04255319148936\n",
      "Self-intersection at or near point 802.58760484622553 297.41798695246973\n",
      "Self-intersection at or near point 798.7962962962963 225.38888888888889\n",
      "Self-intersection at or near point 562 68.666666666666671\n",
      "Self-intersection at or near point 606.93388429752065 152.02479338842974\n",
      "Self-intersection at or near point 825.57142857142856 231.14285714285714\n",
      "Self-intersection at or near point 565.54128440366969 429.13761467889907\n"
     ]
    },
    {
     "name": "stdout",
     "output_type": "stream",
     "text": [
      "1800\n"
     ]
    },
    {
     "name": "stderr",
     "output_type": "stream",
     "text": [
      "Self-intersection at or near point 788.78571428571433 571.78571428571433\n",
      "Self-intersection at or near point 803.71181556195961 573.67146974063405\n",
      "Self-intersection at or near point 814.22699386503064 162.32515337423314\n",
      "Self-intersection at or near point 45.545454545454547 119.81818181818181\n",
      "Self-intersection at or near point 817.16666666666663 129\n",
      "Self-intersection at or near point 749.06884681583472 158.24268502581756\n",
      "Self-intersection at or near point 805.76728499156832 347.84148397976389\n",
      "Self-intersection at or near point 842.88100686498854 284.50800915331808\n",
      "Self-intersection at or near point 838.61290322580646 127.58064516129032\n",
      "Self-intersection at or near point 301.78260869565219 806.73913043478262\n",
      "Self-intersection at or near point 719.65340909090912 300.26136363636363\n",
      "Self-intersection at or near point 482.96306068601581 597.24538258575194\n",
      "Self-intersection at or near point 145.37323943661971 718.18309859154931\n",
      "Self-intersection at or near point 843.5175879396985 820.1155778894472\n",
      "Self-intersection at or near point 608.09677419354841 41.70967741935484\n",
      "Self-intersection at or near point 337.41666666666669 208.10416666666666\n",
      "Self-intersection at or near point 820.26712328767121 568.89726027397262\n",
      "Self-intersection at or near point 431.93478260869563 427.14130434782606\n",
      "Self-intersection at or near point 798.8125 347.8125\n",
      "Self-intersection at or near point 818.03491271820451 161.03241895261846\n",
      "Self-intersection at or near point 251.32558139534885 765.18604651162786\n"
     ]
    },
    {
     "name": "stdout",
     "output_type": "stream",
     "text": [
      "1900\n"
     ]
    },
    {
     "name": "stderr",
     "output_type": "stream",
     "text": [
      "Self-intersection at or near point 449.78947368421052 190.89473684210526\n",
      "Self-intersection at or near point 252.12980769230768 335.32211538461536\n",
      "Self-intersection at or near point 492.28057553956836 638.34532374100718\n",
      "Self-intersection at or near point 703.30769230769226 515.61538461538464\n",
      "Self-intersection at or near point 307.83928571428572 484.42857142857144\n",
      "Self-intersection at or near point 402.97066014669929 296.16625916870413\n",
      "Self-intersection at or near point 319 633.89473684210532\n",
      "Self-intersection at or near point 82.091872791519435 182.0565371024735\n",
      "Self-intersection at or near point 723.95876288659792 161.24742268041237\n",
      "Self-intersection at or near point 779.35714285714289 701.71428571428567\n",
      "Self-intersection at or near point 723.90909090909088 791.84415584415581\n",
      "Self-intersection at or near point 677.14035087719299 11.754385964912281\n",
      "Self-intersection at or near point 718 792.75\n",
      "Self-intersection at or near point 797.60227272727275 469.44318181818181\n",
      "Self-intersection at or near point 619.76095617529882 26.545816733067728\n",
      "Self-intersection at or near point 758.5454545454545 164.81818181818181\n",
      "Self-intersection at or near point 631.06542056074761 802.58878504672896\n",
      "Self-intersection at or near point 715 431.39999999999998\n",
      "Self-intersection at or near point 803.34123222748815 34.170616113744074\n"
     ]
    },
    {
     "name": "stdout",
     "output_type": "stream",
     "text": [
      "2000\n"
     ]
    },
    {
     "name": "stderr",
     "output_type": "stream",
     "text": [
      "Self-intersection at or near point 795.02479338842977 801.10743801652893\n",
      "Self-intersection at or near point 633.71428571428567 502.28571428571428\n",
      "Self-intersection at or near point 734.70212765957444 619.531914893617\n",
      "Self-intersection at or near point 846.24786324786328 264.71794871794873\n",
      "Self-intersection at or near point 811 212.33333333333334\n",
      "Self-intersection at or near point 596.17307692307691 445.77884615384613\n",
      "Self-intersection at or near point 643.40597014925368 370.70447761194032\n",
      "Self-intersection at or near point 731.50837988826811 389.32960893854749\n",
      "Self-intersection at or near point 501.25 816.125\n",
      "Self-intersection at or near point 753.15384615384619 491.13461538461536\n",
      "Self-intersection at or near point 40 836\n",
      "Self-intersection at or near point 815.51724137931035 395.41379310344826\n",
      "Self-intersection at or near point 828.51048951048949 449.29370629370629\n",
      "Self-intersection at or near point 814.85788113695094 401.16795865633077\n",
      "Self-intersection at or near point 602.56521739130437 304.67391304347825\n",
      "Self-intersection at or near point 637.06024096385545 444.72891566265059\n",
      "Self-intersection at or near point 724.88059701492534 800.20895522388059\n",
      "Self-intersection at or near point 802.81666666666672 1.5166666666666666\n",
      "Self-intersection at or near point 803.89465283320033 167.51316839584996\n",
      "Self-intersection at or near point 671.12244897959181 3.0816326530612246\n",
      "Self-intersection at or near point 827.30063291139243 769.03164556962031\n"
     ]
    },
    {
     "name": "stdout",
     "output_type": "stream",
     "text": [
      "2100\n"
     ]
    },
    {
     "name": "stderr",
     "output_type": "stream",
     "text": [
      "Self-intersection at or near point 792.55862068965519 417.72413793103448\n",
      "Self-intersection at or near point 659.80645161290317 297.87096774193549\n",
      "Self-intersection at or near point 764.66796875 835.62890625\n",
      "Self-intersection at or near point 792.25 445.0625\n",
      "Ring Self-intersection at or near point 845 697\n",
      "Self-intersection at or near point 785.16129032258061 616.83870967741939\n",
      "Self-intersection at or near point 801.82894736842104 612.86184210526312\n",
      "Self-intersection at or near point 711.91566265060237 23.309236947791163\n",
      "Self-intersection at or near point 88.062052505966591 2.8353221957040571\n",
      "Self-intersection at or near point 707.15044247787614 13.097345132743364\n",
      "Self-intersection at or near point 728.08759124087589 640.70072992700727\n",
      "Self-intersection at or near point 538.64561734213009 830.28840716305376\n",
      "Self-intersection at or near point 222.07250755287009 571.23564954682774\n",
      "Self-intersection at or near point 785.21739130434787 354.26086956521738\n",
      "Self-intersection at or near point 68.13274336283186 478.90265486725662\n",
      "Self-intersection at or near point 614.625 697\n",
      "Self-intersection at or near point 829.94117647058829 678.35294117647061\n",
      "Self-intersection at or near point 819.39999999999998 689.60000000000002\n",
      "Self-intersection at or near point 769 129.35294117647058\n",
      "Self-intersection at or near point 829.84000000000003 114.88\n",
      "Self-intersection at or near point 791.11428571428576 363.12857142857143\n",
      "Self-intersection at or near point 832.66863905325442 384.93343195266272\n"
     ]
    },
    {
     "name": "stdout",
     "output_type": "stream",
     "text": [
      "2200\n"
     ]
    },
    {
     "name": "stderr",
     "output_type": "stream",
     "text": [
      "Self-intersection at or near point 777 643.66666666666663\n",
      "Self-intersection at or near point 829.21428571428567 678.21428571428567\n",
      "Self-intersection at or near point 802.98130841121497 594.35514018691583\n",
      "Self-intersection at or near point 737.75862068965512 447.44827586206895\n",
      "Self-intersection at or near point 803.13253012048187 374.46987951807228\n",
      "Self-intersection at or near point 552.38636363636363 694.61363636363637\n",
      "Self-intersection at or near point 745.984375 160.125\n",
      "Self-intersection at or near point 604.64516129032256 638.35483870967744\n",
      "Self-intersection at or near point 815.53846153846155 479.46153846153845\n",
      "Self-intersection at or near point 748.23025210084029 240.71764705882353\n",
      "Self-intersection at or near point 685.5 638\n",
      "Self-intersection at or near point 532.14666666666665 244.06666666666666\n",
      "Self-intersection at or near point 685.10526315789468 446.21052631578948\n",
      "Self-intersection at or near point 417.36437246963561 702.48987854251016\n",
      "Self-intersection at or near point 562.41509433962267 40.150943396226417\n",
      "Self-intersection at or near point 797.69512195121956 184.32926829268294\n",
      "Self-intersection at or near point 806.17857142857144 421.39285714285717\n",
      "Self-intersection at or near point 812.94594594594594 489.29729729729729\n",
      "Self-intersection at or near point 368.125 571.625\n"
     ]
    },
    {
     "name": "stdout",
     "output_type": "stream",
     "text": [
      "2300\n"
     ]
    },
    {
     "name": "stderr",
     "output_type": "stream",
     "text": [
      "Self-intersection at or near point 362.37837837837839 289.27027027027026\n",
      "Self-intersection at or near point 590.10752688172045 798.17204301075265\n",
      "Self-intersection at or near point 800.68852459016398 417.34426229508199\n",
      "Self-intersection at or near point 785.48387096774195 636.87096774193549\n",
      "Self-intersection at or near point 798.7560975609756 51.097560975609753\n",
      "Self-intersection at or near point 236.56 637.35428571428577\n",
      "Self-intersection at or near point 765.99065420560748 799.9439252336449\n",
      "Self-intersection at or near point 664.25641025641028 833.46438746438741\n",
      "Self-intersection at or near point 743.42657342657344 565.22377622377621\n",
      "Self-intersection at or near point 764.25711481844951 833.4857703631011\n",
      "Self-intersection at or near point 652.40601503759399 24.766917293233082\n",
      "Self-intersection at or near point 365.24444444444447 347.93333333333334\n",
      "Self-intersection at or near point 687 459\n",
      "Self-intersection at or near point 49.421052631578945 749.68421052631584\n",
      "Self-intersection at or near point 641.87341772151899 441.49367088607596\n",
      "Self-intersection at or near point 238.34615384615384 146.34615384615384\n",
      "Self-intersection at or near point 481.91105769230768 731.25480769230774\n",
      "Self-intersection at or near point 842.2439024390244 348.41463414634148\n",
      "Self-intersection at or near point 768.3125 397.375\n",
      "Self-intersection at or near point 319.79562043795619 725.70802919708024\n",
      "Self-intersection at or near point 522 316\n",
      "Self-intersection at or near point 468.7578947368421 313.15263157894736\n",
      "Self-intersection at or near point 823.77049180327867 479.42622950819674\n",
      "Self-intersection at or near point 680.3291139240506 806.74683544303798\n"
     ]
    },
    {
     "name": "stdout",
     "output_type": "stream",
     "text": [
      "2400\n"
     ]
    },
    {
     "name": "stderr",
     "output_type": "stream",
     "text": [
      "Self-intersection at or near point 795.63636363636363 16.272727272727273\n",
      "Self-intersection at or near point 845.18181818181813 377.45454545454544\n",
      "Self-intersection at or near point 291.5 461.875\n",
      "Self-intersection at or near point 760.75862068965512 685.06896551724139\n",
      "Self-intersection at or near point 844.22033898305085 134.28813559322035\n",
      "Self-intersection at or near point 778.40740740740739 799.07037037037037\n",
      "Self-intersection at or near point 838.44686648501363 37.408719346049047\n",
      "Self-intersection at or near point 809.78048780487802 279.34146341463412\n",
      "Self-intersection at or near point 816.84982935153585 3.4129692832764507\n",
      "Self-intersection at or near point 82.808118081180808 126.32472324723247\n",
      "Self-intersection at or near point 615.53846153846155 112\n",
      "Self-intersection at or near point 321.30434782608694 171.47826086956522\n",
      "Self-intersection at or near point 756.68627450980387 499.50980392156862\n",
      "Self-intersection at or near point 649.786350148368 477.81305637982194\n",
      "Self-intersection at or near point 230.42553191489361 806.61702127659578\n",
      "Self-intersection at or near point 69.255319148936167 797.55319148936167\n",
      "Self-intersection at or near point 799.18103448275861 696.55172413793105\n",
      "Self-intersection at or near point 621.6223776223776 429.00699300699301\n",
      "Self-intersection at or near point 821.16748768472905 220.7536945812808\n",
      "Self-intersection at or near point 304.928 669.49599999999998\n",
      "Self-intersection at or near point 818.54330708661416 475.94488188976379\n"
     ]
    },
    {
     "name": "stdout",
     "output_type": "stream",
     "text": [
      "2500\n"
     ]
    },
    {
     "name": "stderr",
     "output_type": "stream",
     "text": [
      "Self-intersection at or near point 808.33196721311481 381.90983606557376\n",
      "Self-intersection at or near point 617.17808219178085 819.16438356164383\n",
      "Self-intersection at or near point 793.57446808510633 344.61702127659572\n",
      "Self-intersection at or near point 824.66666666666663 301.66666666666669\n",
      "Self-intersection at or near point 259.25641025641028 87.230769230769226\n",
      "Self-intersection at or near point 741.93237704918033 142.13729508196721\n",
      "Self-intersection at or near point 340.33333333333331 139\n",
      "Self-intersection at or near point 203.21492537313432 322.78805970149256\n",
      "Self-intersection at or near point 823.36363636363637 402.77272727272725\n",
      "Self-intersection at or near point 561.37037037037032 32.246913580246911\n",
      "Self-intersection at or near point 747.7538461538461 79.574358974358972\n",
      "Ring Self-intersection at or near point 640 93\n",
      "Self-intersection at or near point 703.52941176470586 97.764705882352942\n",
      "Self-intersection at or near point 706.20930232558135 457.04651162790697\n",
      "Self-intersection at or near point 373.19747899159665 316.0840336134454\n",
      "Self-intersection at or near point 782.47368421052636 36.10526315789474\n",
      "Self-intersection at or near point 476.93103448275861 131\n",
      "Self-intersection at or near point 559.33949191685917 278.45265588914549\n",
      "Self-intersection at or near point 605.2782608695652 765.2347826086957\n",
      "Self-intersection at or near point 204.52813067150635 819.80217785843922\n",
      "Self-intersection at or near point 800.93827160493822 637.82716049382714\n",
      "Self-intersection at or near point 529 283\n",
      "Self-intersection at or near point 435.60000000000002 223.59999999999999\n",
      "Self-intersection at or near point 330.51983298538624 94.993736951983294\n",
      "Self-intersection at or near point 431.59073359073358 295.83397683397681\n",
      "Self-intersection at or near point 436.34375 328.625\n"
     ]
    },
    {
     "name": "stdout",
     "output_type": "stream",
     "text": [
      "2600\n"
     ]
    },
    {
     "name": "stderr",
     "output_type": "stream",
     "text": [
      "Self-intersection at or near point 697.30364372469637 772.9878542510121\n",
      "Self-intersection at or near point 763.02439024390242 86.390243902439025\n",
      "Self-intersection at or near point 368.19642857142856 537.41071428571433\n",
      "Self-intersection at or near point 269.51020408163265 581.69387755102036\n",
      "Self-intersection at or near point 11.302670623145401 835.60830860534122\n",
      "Self-intersection at or near point 734.59459459459458 318.19819819819821\n",
      "Self-intersection at or near point 640.1232876712329 636.71232876712327\n",
      "Self-intersection at or near point 808.03125 323.96875\n",
      "Self-intersection at or near point 813.54736842105262 261.34385964912281\n",
      "Self-intersection at or near point 481.91891891891891 600.40540540540542\n",
      "Self-intersection at or near point 849.12016293279021 108.5112016293279\n",
      "Self-intersection at or near point 675.27272727272725 525.31818181818187\n",
      "Self-intersection at or near point 810.50400000000002 366.06400000000002\n",
      "Self-intersection at or near point 497.23809523809524 637.76190476190482\n",
      "Self-intersection at or near point 209.15254237288136 86.186440677966104\n",
      "Self-intersection at or near point 341.09090909090907 2.2727272727272729\n",
      "Self-intersection at or near point 715 796\n",
      "Self-intersection at or near point 589.25766871165649 334.82822085889569\n",
      "Self-intersection at or near point 780.07407407407402 278.7037037037037\n",
      "Self-intersection at or near point 734.66129032258061 290.88709677419354\n"
     ]
    },
    {
     "name": "stdout",
     "output_type": "stream",
     "text": [
      "2700\n"
     ]
    },
    {
     "name": "stderr",
     "output_type": "stream",
     "text": [
      "Self-intersection at or near point 687.29230769230765 581.81538461538457\n",
      "Self-intersection at or near point 475.29310344827587 482.19827586206895\n",
      "Self-intersection at or near point 747.57142857142856 201.12244897959184\n",
      "Ring Self-intersection at or near point 177 571\n",
      "Self-intersection at or near point 224.57142857142858 100\n",
      "Self-intersection at or near point 251.75490196078431 56.803921568627452\n",
      "Self-intersection at or near point 766.00985221674875 228.12807881773398\n",
      "Self-intersection at or near point 689.84615384615381 73\n",
      "Self-intersection at or near point 22.969581749049429 453.28517110266159\n",
      "Self-intersection at or near point 641.52127659574467 40.468085106382979\n",
      "Self-intersection at or near point 171.5 551\n",
      "Self-intersection at or near point 791.5454545454545 268.63636363636363\n",
      "Self-intersection at or near point 827.44796380090497 197.45248868778282\n",
      "Self-intersection at or near point 712.87610619469024 216.61061946902655\n",
      "Self-intersection at or near point 801.61470588235295 765.10294117647061\n",
      "Self-intersection at or near point 692.24170616113747 576.96208530805688\n",
      "Self-intersection at or near point 293.36585365853659 230.78048780487805\n",
      "Self-intersection at or near point 830.80952380952385 776.66666666666663\n",
      "Self-intersection at or near point 677.42857142857144 831.23809523809518\n",
      "Self-intersection at or near point 557.38547486033519 286.93854748603354\n",
      "Self-intersection at or near point 828.58064516129036 315.64516129032256\n"
     ]
    },
    {
     "name": "stdout",
     "output_type": "stream",
     "text": [
      "2800\n"
     ]
    },
    {
     "name": "stderr",
     "output_type": "stream",
     "text": [
      "Self-intersection at or near point 705.27777777777783 208.7685185185185\n",
      "Self-intersection at or near point 838.0114942528736 340.10344827586209\n",
      "Self-intersection at or near point 814.61818181818182 606.31818181818187\n",
      "Self-intersection at or near point 482.38732394366195 603.85915492957747\n",
      "Self-intersection at or near point 812.76595744680856 32.872340425531917\n",
      "Self-intersection at or near point 463.26153846153846 151.09230769230768\n",
      "Self-intersection at or near point 759.94117647058829 496.14705882352939\n",
      "Self-intersection at or near point 837.02970297029708 410.79207920792078\n",
      "Self-intersection at or near point 307 353.66666666666669\n",
      "Self-intersection at or near point 814.82524271844659 747.01941747572812\n",
      "Self-intersection at or near point 458.30034129692831 641.13651877133111\n",
      "Self-intersection at or near point 800.61904761904759 1.8571428571428572\n",
      "Self-intersection at or near point 800 296.75\n",
      "Self-intersection at or near point 806.70000000000005 422.51428571428573\n",
      "Self-intersection at or near point 841.33971291866033 584.4497607655502\n",
      "Self-intersection at or near point 786 608.95652173913038\n",
      "Self-intersection at or near point 709.13559322033893 47.847457627118644\n",
      "Self-intersection at or near point 241.72318339100346 557.7750865051903\n",
      "Self-intersection at or near point 21.363636363636363 766.969696969697\n",
      "Self-intersection at or near point 731 285.31578947368422\n",
      "Self-intersection at or near point 317.78048780487802 383.21951219512198\n"
     ]
    },
    {
     "name": "stdout",
     "output_type": "stream",
     "text": [
      "2900\n"
     ]
    },
    {
     "name": "stderr",
     "output_type": "stream",
     "text": [
      "Self-intersection at or near point 381.3984375 48.4375\n",
      "Self-intersection at or near point 592.1512195121951 540.44390243902444\n",
      "Self-intersection at or near point 796.43153526970957 670.12033195020751\n",
      "Self-intersection at or near point 160.41984732824429 447.3358778625954\n",
      "Ring Self-intersection at or near point 808 638\n",
      "Self-intersection at or near point 685.18181818181813 618.93939393939399\n",
      "Self-intersection at or near point 550.10000000000002 356.69999999999999\n",
      "Self-intersection at or near point 802.16470588235291 741.30196078431368\n",
      "Self-intersection at or near point 626.55357142857144 482.8125\n",
      "Self-intersection at or near point 776.25157232704407 314.20125786163521\n",
      "Self-intersection at or near point 846.08527131782944 618.08527131782944\n",
      "Self-intersection at or near point 672.25581395348843 447.75968992248062\n",
      "Self-intersection at or near point 821.46153846153845 236.28846153846155\n",
      "Self-intersection at or near point 796.74157303370782 10.426966292134832\n",
      "Self-intersection at or near point 332.19999999999999 93.799999999999997\n"
     ]
    },
    {
     "name": "stdout",
     "output_type": "stream",
     "text": [
      "3000\n"
     ]
    },
    {
     "name": "stderr",
     "output_type": "stream",
     "text": [
      "Self-intersection at or near point 733.1875 420.58333333333331\n",
      "Self-intersection at or near point 839.49275362318838 92.710144927536234\n",
      "Self-intersection at or near point 775.11940298507466 750.66417910447763\n",
      "Self-intersection at or near point 67.438596491228068 157.45614035087721\n",
      "Self-intersection at or near point 554.51724137931035 533.51724137931035\n",
      "Self-intersection at or near point 845.06635071090045 735.3175355450237\n",
      "Self-intersection at or near point 823.50806451612902 269.83870967741933\n",
      "Self-intersection at or near point 352.0563697857948 320.23675310033821\n",
      "Self-intersection at or near point 842.77272727272725 226.48863636363637\n",
      "Self-intersection at or near point 846.28994082840234 118.69822485207101\n",
      "Self-intersection at or near point 391.62576687116564 366.26993865030676\n",
      "Self-intersection at or near point 578.06862745098044 587.23529411764707\n",
      "Self-intersection at or near point 750.87209302325584 324.69767441860466\n",
      "Self-intersection at or near point 788.57142857142856 480.08928571428572\n",
      "Self-intersection at or near point 766.12080536912754 420.49664429530202\n",
      "Self-intersection at or near point 740.46268656716416 777.1343283582089\n",
      "Self-intersection at or near point 826.24137931034488 153.13793103448276\n",
      "Self-intersection at or near point 677.24590163934431 158.50819672131146\n"
     ]
    },
    {
     "name": "stdout",
     "output_type": "stream",
     "text": [
      "3100\n"
     ]
    },
    {
     "name": "stderr",
     "output_type": "stream",
     "text": [
      "Self-intersection at or near point 336.45161290322579 690.41935483870964\n",
      "Self-intersection at or near point 781.33783783783781 203.40540540540542\n",
      "Self-intersection at or near point 800 804\n",
      "Self-intersection at or near point 330.12101910828028 830.82165605095543\n",
      "Self-intersection at or near point 833.68292682926824 486.0569105691057\n",
      "Self-intersection at or near point 845.7731958762887 511.18556701030928\n",
      "Self-intersection at or near point 799.928 356.36000000000001\n",
      "Self-intersection at or near point 349.92631578947368 10.610526315789473\n",
      "Self-intersection at or near point 327.77486910994764 287.24607329842934\n",
      "Self-intersection at or near point 535 636.9655172413793\n",
      "Self-intersection at or near point 685 50\n",
      "Ring Self-intersection at or near point 456 747\n",
      "Self-intersection at or near point 671.82608695652175 642.82608695652175\n",
      "Self-intersection at or near point 658.03846153846155 552.34615384615381\n",
      "Self-intersection at or near point 606.34645669291342 20.212598425196852\n",
      "Self-intersection at or near point 750.42105263157896 37.89473684210526\n",
      "Self-intersection at or near point 832.39999999999998 604\n",
      "Self-intersection at or near point 844.01078490113844 601.42240862792096\n",
      "Self-intersection at or near point 365.56989247311827 7.5376344086021501\n",
      "Self-intersection at or near point 783.47058823529414 580.24183006535952\n",
      "Self-intersection at or near point 663 836\n",
      "Self-intersection at or near point 423.64179104477614 734.2885572139304\n",
      "Self-intersection at or near point 412.17021276595744 681.36170212765956\n",
      "Self-intersection at or near point 784.78518518518524 511.34074074074073\n",
      "Self-intersection at or near point 804.08924485125863 371.7780320366133\n"
     ]
    },
    {
     "name": "stdout",
     "output_type": "stream",
     "text": [
      "3200\n"
     ]
    },
    {
     "name": "stderr",
     "output_type": "stream",
     "text": [
      "Self-intersection at or near point 766.61111111111109 299.27777777777777\n",
      "Self-intersection at or near point 818.45614035087715 609.61403508771934\n",
      "Self-intersection at or near point 695.69298245614038 763.78070175438597\n",
      "Self-intersection at or near point 806.37777777777774 467.35555555555555\n",
      "Self-intersection at or near point 790.38144329896909 755.74226804123714\n",
      "Self-intersection at or near point 800.53475177304961 512.34184397163119\n",
      "Self-intersection at or near point 728.14029850746272 517.86268656716413\n",
      "Self-intersection at or near point 800.32450832072618 562.09984871406959\n",
      "Self-intersection at or near point 431 655\n",
      "Ring Self-intersection at or near point 325 793\n",
      "Self-intersection at or near point 843.96000000000004 156.36000000000001\n",
      "Self-intersection at or near point 777.56363636363642 745.5090909090909\n",
      "Self-intersection at or near point 366.25324675324674 194.35064935064935\n",
      "Self-intersection at or near point 796.768115942029 360.68115942028987\n",
      "Self-intersection at or near point 190.875 457.125\n",
      "Self-intersection at or near point 371.88079470198676 247.94701986754967\n",
      "Self-intersection at or near point 411.98214285714283 435.08928571428572\n",
      "Self-intersection at or near point 160.28205128205127 293.82051282051282\n",
      "Self-intersection at or near point 366.45161290322579 514.87096774193549\n",
      "Self-intersection at or near point 20.633587786259543 789.49618320610682\n",
      "Self-intersection at or near point 796.6272189349113 799.01775147928993\n",
      "Ring Self-intersection at or near point 388 836\n"
     ]
    },
    {
     "name": "stdout",
     "output_type": "stream",
     "text": [
      "3300\n"
     ]
    },
    {
     "name": "stderr",
     "output_type": "stream",
     "text": [
      "Self-intersection at or near point 740 409.55555555555554\n",
      "Self-intersection at or near point 833.35057471264372 226.84482758620689\n",
      "Self-intersection at or near point 768.38181818181818 648.41818181818178\n",
      "Self-intersection at or near point 839.74545454545455 325.35000000000002\n",
      "Self-intersection at or near point 778.14754098360652 792.59016393442619\n",
      "Self-intersection at or near point 620.42424242424238 787.5151515151515\n",
      "Self-intersection at or near point 635 87.111111111111114\n",
      "Self-intersection at or near point 637.93548387096769 619.08064516129036\n",
      "Self-intersection at or near point 280.45685279187819 811.05076142131975\n",
      "Self-intersection at or near point 400.07594936708858 834.96202531645565\n",
      "Self-intersection at or near point 70.547169811320757 809.35849056603774\n",
      "Self-intersection at or near point 739.7429805615551 581.93952483801297\n",
      "Self-intersection at or near point 517 836\n",
      "Self-intersection at or near point 725.5336322869955 60.439461883408072\n",
      "Self-intersection at or near point 802.255033557047 722.08724832214762\n",
      "Self-intersection at or near point 82.117647058823536 127.27450980392157\n",
      "Self-intersection at or near point 632 544\n",
      "Self-intersection at or near point 28.11038961038961 806.88311688311683\n",
      "Self-intersection at or near point 543 630\n",
      "Self-intersection at or near point 468.05291005291008 801.93650793650795\n",
      "Self-intersection at or near point 434.95857988165682 294.27810650887574\n",
      "Self-intersection at or near point 395.59124087591243 18.927007299270073\n",
      "Self-intersection at or near point 519.3125 119.4375\n",
      "Ring Self-intersection at or near point 850 550\n",
      "Self-intersection at or near point 60.091370558375637 324.69035532994923\n",
      "Self-intersection at or near point 34.059701492537314 781.41791044776119\n",
      "Self-intersection at or near point 639 659\n",
      "Self-intersection at or near point 850 386\n"
     ]
    },
    {
     "name": "stdout",
     "output_type": "stream",
     "text": [
      "3400\n"
     ]
    },
    {
     "name": "stderr",
     "output_type": "stream",
     "text": [
      "Self-intersection at or near point 253.03667481662592 547.73105134474326\n",
      "Self-intersection at or near point 347.03603603603602 547.61261261261257\n",
      "Self-intersection at or near point 800.40487804878046 40.424390243902437\n",
      "Self-intersection at or near point 644.296875 81.25\n",
      "Self-intersection at or near point 796.92857142857144 64.678571428571431\n",
      "Self-intersection at or near point 360.77777777777777 265.88888888888891\n",
      "Self-intersection at or near point 168.67088607594937 544.37341772151899\n",
      "Self-intersection at or near point 694.23004694835686 469.44366197183098\n",
      "Self-intersection at or near point 692.43689320388353 131.19417475728156\n",
      "Self-intersection at or near point 823.67816091954023 170.60919540229884\n",
      "Self-intersection at or near point 841.72602739726028 800.2465753424658\n",
      "Self-intersection at or near point 788 299.33333333333331\n",
      "Self-intersection at or near point 634.43478260869563 468.69565217391306\n",
      "Self-intersection at or near point 494.32499999999999 37.075000000000003\n",
      "Self-intersection at or near point 809.97350993377484 278.46357615894038\n",
      "Self-intersection at or near point 841.58149779735686 350.80616740088107\n",
      "Self-intersection at or near point 421.61007957559684 465.76127320954907\n",
      "Self-intersection at or near point 645.04255319148933 642.12765957446811\n",
      "Self-intersection at or near point 846.03726708074532 653.73913043478262\n",
      "Self-intersection at or near point 580.91999999999996 233.90000000000001\n",
      "Self-intersection at or near point 502.09580838323353 151.21556886227546\n",
      "Self-intersection at or near point 322.81481481481484 119.46296296296296\n",
      "Self-intersection at or near point 62.842105263157897 246.31578947368422\n",
      "Self-intersection at or near point 809.93103448275861 359.62068965517244\n",
      "Self-intersection at or near point 764.11864406779659 246.69491525423729\n",
      "Self-intersection at or near point 668.44303797468353 341.74683544303798\n",
      "Self-intersection at or near point 404.69918699186991 654.2520325203252\n",
      "Self-intersection at or near point 450 836\n"
     ]
    },
    {
     "name": "stdout",
     "output_type": "stream",
     "text": [
      "3500\n"
     ]
    },
    {
     "name": "stderr",
     "output_type": "stream",
     "text": [
      "Self-intersection at or near point 705.44000000000005 153.28\n",
      "Self-intersection at or near point 786.09638554216872 504.72289156626505\n",
      "Self-intersection at or near point 647.03846153846155 835.19230769230774\n",
      "Self-intersection at or near point 633.77279752704794 532.27897990726433\n",
      "Self-intersection at or near point 677.25 564\n",
      "Self-intersection at or near point 571.7795414462081 834.58024691358025\n",
      "Self-intersection at or near point 436.83263598326357 112.14225941422595\n",
      "Self-intersection at or near point 371.40625 188.375\n",
      "Self-intersection at or near point 675.2658227848101 631.54430379746839\n",
      "Self-intersection at or near point 208.47368421052633 817.68421052631584\n",
      "Self-intersection at or near point 791.28571428571433 691.57142857142856\n",
      "Self-intersection at or near point 697.3125 368.125\n",
      "Self-intersection at or near point 237.06060606060606 9.7272727272727266\n",
      "Self-intersection at or near point 593.04499999999996 274.93000000000001\n",
      "Self-intersection at or near point 614.77777777777783 72.777777777777771\n",
      "Self-intersection at or near point 480.00433359144694 798.33262691717266\n",
      "Self-intersection at or near point 206.9245283018868 278.11320754716979\n",
      "Self-intersection at or near point 246.1639344262295 277.85245901639342\n",
      "Self-intersection at or near point 760.50746268656712 343.17910447761193\n",
      "Self-intersection at or near point 676.00048192771089 4.8573493975903617\n",
      "Self-intersection at or near point 735.27083333333337 275.5625\n",
      "Self-intersection at or near point 712.54385964912285 383.36842105263156\n",
      "Self-intersection at or near point 569.42424242424238 813.030303030303\n",
      "Self-intersection at or near point 536.37921348314603 779.56179775280896\n"
     ]
    },
    {
     "name": "stdout",
     "output_type": "stream",
     "text": [
      "3600\n"
     ]
    },
    {
     "name": "stderr",
     "output_type": "stream",
     "text": [
      "Self-intersection at or near point 671.44525547445255 278.54014598540147\n",
      "Self-intersection at or near point 563.6044776119403 735.87313432835822\n",
      "Self-intersection at or near point 161.41453566621803 463.77792732166893\n",
      "Self-intersection at or near point 746.65346534653463 501.23762376237624\n",
      "Self-intersection at or near point 499.73913043478262 480.08695652173913\n",
      "Self-intersection at or near point 160.00638964876899 318.49841257163393\n",
      "Self-intersection at or near point 511 576.13793103448279\n",
      "Self-intersection at or near point 714.95384615384614 669.98461538461538\n",
      "Self-intersection at or near point 476.69325153374234 179.22494887525562\n",
      "Self-intersection at or near point 712.78417266187046 510.97841726618702\n",
      "Self-intersection at or near point 763.86607142857144 552.6875\n",
      "Self-intersection at or near point 666.62337662337666 15.142857142857142\n",
      "Self-intersection at or near point 665.05063291139243 407.45569620253167\n",
      "Self-intersection at or near point 785.07482993197277 604.42176870748301\n",
      "Self-intersection at or near point 707.27160493827159 240.24691358024691\n",
      "Self-intersection at or near point 749.86666666666667 650.13333333333333\n",
      "Self-intersection at or near point 806.37078651685397 311.86516853932585\n",
      "Self-intersection at or near point 726.19572953736656 313.35231316725981\n",
      "Self-intersection at or near point 804.70588235294122 140.58823529411765\n",
      "Self-intersection at or near point 805.60000000000002 514.60000000000002\n",
      "Self-intersection at or near point 680.83817427385895 69.539419087136935\n",
      "Self-intersection at or near point 799.12765957446811 3.042553191489362\n",
      "Self-intersection at or near point 684.95121951219517 748.57723577235777\n"
     ]
    },
    {
     "name": "stdout",
     "output_type": "stream",
     "text": [
      "3700\n"
     ]
    },
    {
     "name": "stderr",
     "output_type": "stream",
     "text": [
      "Self-intersection at or near point 643.10725552050474 234.09463722397476\n",
      "Self-intersection at or near point 787.62893081761001 738.63522012578619\n",
      "Self-intersection at or near point 770.02702702702697 641.37837837837833\n",
      "Self-intersection at or near point 806.24193548387098 236.85483870967741\n",
      "Self-intersection at or near point 434.69339622641508 638.04245283018872\n",
      "Self-intersection at or near point 602.13157894736844 10.601973684210526\n",
      "Self-intersection at or near point 346.03550295857985 798.44378698224853\n",
      "Self-intersection at or near point 645.46318289786223 223.96437054631829\n",
      "Self-intersection at or near point 806.60591133004925 777.53201970443354\n",
      "Self-intersection at or near point 387 788\n",
      "Self-intersection at or near point 76 320\n",
      "Self-intersection at or near point 799 199.11764705882354\n",
      "Ring Self-intersection at or near point 252 365\n",
      "Self-intersection at or near point 314.09947643979058 287.27225130890054\n",
      "Self-intersection at or near point 635.90909090909088 106.36363636363636\n",
      "Self-intersection at or near point 797 551\n",
      "Self-intersection at or near point 779.87551867219918 181.06639004149378\n",
      "Self-intersection at or near point 580.07407407407402 591.74074074074076\n",
      "Self-intersection at or near point 754.25 185\n",
      "Self-intersection at or near point 838.25210084033608 238.26050420168067\n"
     ]
    },
    {
     "name": "stdout",
     "output_type": "stream",
     "text": [
      "3800\n"
     ]
    },
    {
     "name": "stderr",
     "output_type": "stream",
     "text": [
      "Self-intersection at or near point 797 134\n",
      "Self-intersection at or near point 802.49710982658962 821.3121387283237\n",
      "Self-intersection at or near point 532 836\n",
      "Self-intersection at or near point 726.97938144329896 326.92783505154637\n",
      "Self-intersection at or near point 774.5 238.5\n",
      "Ring Self-intersection at or near point 799 765\n",
      "Self-intersection at or near point 768.02803738317755 90.887850467289724\n",
      "Self-intersection at or near point 159.59259259259258 429.2962962962963\n",
      "Self-intersection at or near point 178.30324400564174 326.15232722143867\n",
      "Self-intersection at or near point 478.72602739726028 220.83561643835617\n",
      "Self-intersection at or near point 543.08823529411768 500.99019607843138\n",
      "Self-intersection at or near point 791.04132231404958 276.77685950413223\n",
      "Self-intersection at or near point 760.0151515151515 455.93939393939394\n",
      "Self-intersection at or near point 714.31531531531527 488.7837837837838\n",
      "Self-intersection at or near point 770.47540983606552 560.70491803278685\n",
      "Self-intersection at or near point 481 667.75\n",
      "Self-intersection at or near point 836.73469387755097 766.38775510204084\n"
     ]
    },
    {
     "name": "stdout",
     "output_type": "stream",
     "text": [
      "3900\n"
     ]
    },
    {
     "name": "stderr",
     "output_type": "stream",
     "text": [
      "Self-intersection at or near point 843.44009779951102 94.464547677261606\n",
      "Self-intersection at or near point 840.39999999999998 617.39999999999998\n",
      "Self-intersection at or near point 836.61111111111109 200\n",
      "Self-intersection at or near point 838.304347826087 451.47826086956519\n",
      "Self-intersection at or near point 729.89473684210532 31.368421052631579\n",
      "Self-intersection at or near point 798.58715596330273 819.04587155963304\n",
      "Self-intersection at or near point 799 131.61904761904762\n",
      "Self-intersection at or near point 800.5151515151515 627.93939393939399\n",
      "Self-intersection at or near point 844.14285714285711 449.14285714285717\n",
      "Self-intersection at or near point 239.68421052631578 595.44019138755982\n",
      "Self-intersection at or near point 816.08280254777071 481.40764331210192\n",
      "Self-intersection at or near point 826.21649484536078 174.97938144329896\n",
      "Self-intersection at or near point 677.06235565819861 431.11085450346422\n",
      "Self-intersection at or near point 659.10526315789468 702.66666666666663\n",
      "Self-intersection at or near point 821.18421052631584 99.526315789473685\n",
      "Self-intersection at or near point 668.52406417112297 477.28877005347596\n",
      "Self-intersection at or near point 484 602\n",
      "Self-intersection at or near point 841.17727272727268 659.48636363636365\n",
      "Self-intersection at or near point 480.99056603773585 814.29245283018872\n",
      "Self-intersection at or near point 322.39999999999998 289.39999999999998\n"
     ]
    },
    {
     "name": "stdout",
     "output_type": "stream",
     "text": [
      "4000\n"
     ]
    },
    {
     "name": "stderr",
     "output_type": "stream",
     "text": [
      "Self-intersection at or near point 777.74050632911394 400.46202531645571\n",
      "Self-intersection at or near point 791.15999999999997 82.813333333333333\n",
      "Self-intersection at or near point 610 155.65384615384616\n",
      "Self-intersection at or near point 477.86046511627904 38.95348837209302\n",
      "Self-intersection at or near point 802.35416666666663 539.98611111111109\n",
      "Self-intersection at or near point 801.96621621621625 383.61486486486484\n",
      "Self-intersection at or near point 838.92307692307691 51.384615384615387\n",
      "Self-intersection at or near point 321.11111111111109 271.88888888888891\n",
      "Self-intersection at or near point 633.76842105263154 751.65263157894742\n",
      "Self-intersection at or near point 796.60000000000002 468.39999999999998\n",
      "Self-intersection at or near point 281.22891566265059 764.91566265060237\n",
      "Self-intersection at or near point 224 747.5\n",
      "Self-intersection at or near point 676 146.125\n",
      "Self-intersection at or near point 711.01244813278004 1.0788381742738589\n",
      "Self-intersection at or near point 728.82352941176475 686.70588235294122\n",
      "Self-intersection at or near point 815.4545454545455 516.78787878787875\n",
      "Self-intersection at or near point 738.20289855072463 790.6521739130435\n",
      "Self-intersection at or near point 648.74698795180723 408.01204819277109\n",
      "Self-intersection at or near point 801.90566037735846 774.4905660377359\n"
     ]
    },
    {
     "name": "stdout",
     "output_type": "stream",
     "text": [
      "4100\n"
     ]
    },
    {
     "name": "stderr",
     "output_type": "stream",
     "text": [
      "Self-intersection at or near point 377.38461538461536 529.84615384615381\n",
      "Self-intersection at or near point 151.12950296397628 831.18695850433198\n",
      "Self-intersection at or near point 109.48 486.16000000000003\n",
      "Self-intersection at or near point 611.23834196891187 773.03108808290153\n",
      "Self-intersection at or near point 640.47058823529414 370.47058823529414\n",
      "Self-intersection at or near point 792.31818181818187 420.04545454545456\n",
      "Self-intersection at or near point 765.44827586206895 325.34482758620692\n",
      "Ring Self-intersection at or near point 309 711\n",
      "Self-intersection at or near point 388 803\n",
      "Self-intersection at or near point 633.73109243697479 52.621848739495796\n",
      "Self-intersection at or near point 795.20796460176996 80.329646017699119\n",
      "Self-intersection at or near point 479.83999999999997 659.85333333333335\n",
      "Self-intersection at or near point 791 150\n",
      "Ring Self-intersection at or near point 847 380\n",
      "Self-intersection at or near point 826.06271777003485 741.17770034843204\n",
      "Self-intersection at or near point 734.44680851063833 54.255319148936167\n",
      "Self-intersection at or near point 280.29213483146066 811.92134831460669\n",
      "Self-intersection at or near point 639.90909090909088 59.545454545454547\n",
      "Self-intersection at or near point 841.88888888888891 743.22222222222217\n",
      "Self-intersection at or near point 780.19718309859149 798.4084507042254\n",
      "Self-intersection at or near point 666.39344262295083 828.78688524590166\n",
      "Self-intersection at or near point 842.12977099236639 613.00381679389318\n",
      "Self-intersection at or near point 794.63636363636363 178\n"
     ]
    },
    {
     "name": "stdout",
     "output_type": "stream",
     "text": [
      "4200\n"
     ]
    },
    {
     "name": "stderr",
     "output_type": "stream",
     "text": [
      "Self-intersection at or near point 780.10746812386162 5.2695810564663024\n",
      "Self-intersection at or near point 31.94142259414226 360.13389121338912\n",
      "Self-intersection at or near point 834.64285714285711 658.5\n",
      "Self-intersection at or near point 664.125 45.5\n",
      "Self-intersection at or near point 48.5 508.14285714285717\n",
      "Self-intersection at or near point 440.32530120481925 185.56626506024097\n",
      "Self-intersection at or near point 803.063829787234 263.19148936170211\n",
      "Self-intersection at or near point 833.88235294117646 510.47058823529414\n",
      "Self-intersection at or near point 705.9473684210526 250.78947368421052\n",
      "Self-intersection at or near point 705.33333333333337 108.16666666666667\n",
      "Self-intersection at or near point 698.02967788635544 834.77741585233446\n",
      "Self-intersection at or near point 350.61111111111109 281.5\n",
      "Self-intersection at or near point 679.40851063829791 323.95744680851061\n",
      "Self-intersection at or near point 741.71428571428567 335.85714285714283\n",
      "Self-intersection at or near point 307.98263027295286 320.69478908188586\n",
      "Self-intersection at or near point 713.94505494505495 194.50549450549451\n",
      "Ring Self-intersection at or near point 799 8\n"
     ]
    },
    {
     "name": "stdout",
     "output_type": "stream",
     "text": [
      "    ImageId  ClassType                                    MultipolygonWKT\n",
      "0  6120_2_4          1  MULTIPOLYGON (((0.0061163830238859 -0.00727740...\n",
      "1  6120_2_4          2  MULTIPOLYGON (((0.0022300440759655 -0.00814247...\n",
      "2  6120_2_4          3  MULTIPOLYGON (((0.0034100188540249 -0.00753692...\n",
      "3  6120_2_4          4  MULTIPOLYGON (((0.0022516949893244 -0.00808840...\n",
      "4  6120_2_4          5  MULTIPOLYGON (((0.0091042090674125 -0.00532018...\n"
     ]
    }
   ],
   "source": [
    "    make_submit()\n"
   ]
  },
  {
   "cell_type": "code",
   "execution_count": 39,
   "metadata": {},
   "outputs": [
    {
     "name": "stdout",
     "output_type": "stream",
     "text": [
      "build network\n"
     ]
    },
    {
     "name": "stderr",
     "output_type": "stream",
     "text": [
      "/usr/local/lib/python2.7/dist-packages/ipykernel_launcher.py:5: UserWarning: Update your `Conv2D` call to the Keras 2 API: `Conv2D(32, (3, 3), padding=\"same\", activation=\"relu\")`\n",
      "  \"\"\"\n",
      "/usr/local/lib/python2.7/dist-packages/ipykernel_launcher.py:6: UserWarning: Update your `Conv2D` call to the Keras 2 API: `Conv2D(32, (3, 3), padding=\"same\", activation=\"relu\")`\n",
      "  \n",
      "/usr/local/lib/python2.7/dist-packages/ipykernel_launcher.py:9: UserWarning: Update your `Conv2D` call to the Keras 2 API: `Conv2D(64, (3, 3), padding=\"same\", activation=\"relu\")`\n",
      "  if __name__ == '__main__':\n",
      "/usr/local/lib/python2.7/dist-packages/ipykernel_launcher.py:10: UserWarning: Update your `Conv2D` call to the Keras 2 API: `Conv2D(64, (3, 3), padding=\"same\", activation=\"relu\")`\n",
      "  # Remove the CWD from sys.path while we load stuff.\n",
      "/usr/local/lib/python2.7/dist-packages/ipykernel_launcher.py:13: UserWarning: Update your `Conv2D` call to the Keras 2 API: `Conv2D(128, (3, 3), padding=\"same\", activation=\"relu\")`\n",
      "  del sys.path[0]\n",
      "/usr/local/lib/python2.7/dist-packages/ipykernel_launcher.py:14: UserWarning: Update your `Conv2D` call to the Keras 2 API: `Conv2D(128, (3, 3), padding=\"same\", activation=\"relu\")`\n",
      "  \n",
      "/usr/local/lib/python2.7/dist-packages/ipykernel_launcher.py:17: UserWarning: Update your `Conv2D` call to the Keras 2 API: `Conv2D(256, (3, 3), padding=\"same\", activation=\"relu\")`\n",
      "/usr/local/lib/python2.7/dist-packages/ipykernel_launcher.py:18: UserWarning: Update your `Conv2D` call to the Keras 2 API: `Conv2D(256, (3, 3), padding=\"same\", activation=\"relu\")`\n",
      "/usr/local/lib/python2.7/dist-packages/ipykernel_launcher.py:21: UserWarning: Update your `Conv2D` call to the Keras 2 API: `Conv2D(512, (3, 3), padding=\"same\", activation=\"relu\")`\n",
      "/usr/local/lib/python2.7/dist-packages/ipykernel_launcher.py:22: UserWarning: Update your `Conv2D` call to the Keras 2 API: `Conv2D(512, (3, 3), padding=\"same\", activation=\"relu\")`\n",
      "/usr/local/lib/python2.7/dist-packages/ipykernel_launcher.py:24: UserWarning: The `merge` function is deprecated and will be removed after 08/2017. Use instead layers from `keras.layers.merge`, e.g. `add`, `concatenate`, etc.\n",
      "/usr/local/lib/python2.7/dist-packages/ipykernel_launcher.py:25: UserWarning: Update your `Conv2D` call to the Keras 2 API: `Conv2D(256, (3, 3), padding=\"same\", activation=\"relu\")`\n",
      "/usr/local/lib/python2.7/dist-packages/ipykernel_launcher.py:26: UserWarning: Update your `Conv2D` call to the Keras 2 API: `Conv2D(256, (3, 3), padding=\"same\", activation=\"relu\")`\n",
      "/usr/local/lib/python2.7/dist-packages/ipykernel_launcher.py:28: UserWarning: The `merge` function is deprecated and will be removed after 08/2017. Use instead layers from `keras.layers.merge`, e.g. `add`, `concatenate`, etc.\n",
      "/usr/local/lib/python2.7/dist-packages/ipykernel_launcher.py:29: UserWarning: Update your `Conv2D` call to the Keras 2 API: `Conv2D(128, (3, 3), padding=\"same\", activation=\"relu\")`\n",
      "/usr/local/lib/python2.7/dist-packages/ipykernel_launcher.py:30: UserWarning: Update your `Conv2D` call to the Keras 2 API: `Conv2D(128, (3, 3), padding=\"same\", activation=\"relu\")`\n",
      "/usr/local/lib/python2.7/dist-packages/ipykernel_launcher.py:32: UserWarning: The `merge` function is deprecated and will be removed after 08/2017. Use instead layers from `keras.layers.merge`, e.g. `add`, `concatenate`, etc.\n",
      "/usr/local/lib/python2.7/dist-packages/ipykernel_launcher.py:33: UserWarning: Update your `Conv2D` call to the Keras 2 API: `Conv2D(64, (3, 3), padding=\"same\", activation=\"relu\")`\n",
      "/usr/local/lib/python2.7/dist-packages/ipykernel_launcher.py:34: UserWarning: Update your `Conv2D` call to the Keras 2 API: `Conv2D(64, (3, 3), padding=\"same\", activation=\"relu\")`\n",
      "/usr/local/lib/python2.7/dist-packages/ipykernel_launcher.py:36: UserWarning: The `merge` function is deprecated and will be removed after 08/2017. Use instead layers from `keras.layers.merge`, e.g. `add`, `concatenate`, etc.\n",
      "/usr/local/lib/python2.7/dist-packages/ipykernel_launcher.py:37: UserWarning: Update your `Conv2D` call to the Keras 2 API: `Conv2D(32, (3, 3), padding=\"same\", activation=\"relu\")`\n",
      "/usr/local/lib/python2.7/dist-packages/ipykernel_launcher.py:38: UserWarning: Update your `Conv2D` call to the Keras 2 API: `Conv2D(32, (3, 3), padding=\"same\", activation=\"relu\")`\n",
      "/usr/local/lib/python2.7/dist-packages/ipykernel_launcher.py:40: UserWarning: Update your `Conv2D` call to the Keras 2 API: `Conv2D(10, (1, 1), activation=\"sigmoid\")`\n",
      "/usr/local/lib/python2.7/dist-packages/ipykernel_launcher.py:42: UserWarning: Update your `Model` call to the Keras 2 API: `Model(outputs=Tensor(\"co..., inputs=Tensor(\"in...)`\n",
      "Ring Self-intersection at or near point 170 112\n"
     ]
    },
    {
     "data": {
      "image/png": "[encoded data removed]",
      "text/plain": [
       "<matplotlib.figure.Figure at 0x7f5793cb1bd0>"
      ]
     },
     "metadata": {},
     "output_type": "display_data"
    }
   ],
   "source": [
    "\n",
    "    # bonus\n",
    "check_predict()"
   ]
  },
  {
   "cell_type": "code",
   "execution_count": null,
   "metadata": {
    "collapsed": true
   },
   "outputs": [],
   "source": []
  }
 ],
 "metadata": {
  "kernelspec": {
   "display_name": "Python 2",
   "language": "python",
   "name": "python2"
  },
  "language_info": {
   "codemirror_mode": {
    "name": "ipython",
    "version": 2
   },
   "file_extension": ".py",
   "mimetype": "text/x-python",
   "name": "python",
   "nbconvert_exporter": "python",
   "pygments_lexer": "ipython2",
   "version": "2.7.6"
  }
 },
 "nbformat": 4,
 "nbformat_minor": 2
}
