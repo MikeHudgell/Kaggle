{
 "cells": [
  {
   "cell_type": "markdown",
   "metadata": {},
   "source": [
    "#JUNK CODE SNIPS"
   ]
  },
  {
   "cell_type": "code",
   "execution_count": null,
   "metadata": {
    "collapsed": true
   },
   "outputs": [],
   "source": [
    "%cd '/home/ubuntu/data/fish/valid_b'\n",
    "!ls | while read line; do echo \"$line\"=`ls \"$line\" | wc -l`; done"
   ]
  },
  {
   "cell_type": "code",
   "execution_count": null,
   "metadata": {
    "collapsed": true
   },
   "outputs": [],
   "source": [
    "# chec output directory\n",
    "\n",
    "%cd /home/ubuntu/data/fish/test_stg2/test_stg2_rs\n",
    "g = glob.glob('*.jpg')\n",
    "for fileName in g:\n",
    "    filePathIn = os.path.join(TEST_STG2_DIR_rs, fileName)\n",
    "    im = Image.open(filePathIn)\n",
    "    print fileName, im.size"
   ]
  },
  {
   "cell_type": "code",
   "execution_count": null,
   "metadata": {
    "collapsed": true
   },
   "outputs": [],
   "source": [
    "import os\n",
    "import sys\n",
    "from PIL import Image\n",
    "\n",
    "TEST_STG2_DIR = '/home/ubuntu/data/fish/test_stg2/test_stg2'\n",
    "TEST_STG2_DIR_rs = '/home/ubuntu/data/fish/test_stg2/test_stg2_rs'\n",
    "\n",
    "def resize(InDir, OutDir, imgfile):\n",
    "    filePathIn = os.path.join(InDir, fileName)\n",
    "    filePathOut = os.path.join(OutDir, fileName)\n",
    "    im = Image.open(filePathIn)\n",
    "    print im.size\n",
    "    newIm = im.resize((224,224), Image.ANTIALIAS)\n",
    "    newIm.save(filePathOut)\n",
    "\n",
    "%cd /home/ubuntu/data/fish/test_stg2/test_stg2\n",
    "g = glob.glob('*.jpg')\n",
    "for fileName in g:\n",
    "    print fileName\n",
    "    resize(TEST_STG2_DIR, TEST_STG2_DIR_rs, fileName)        "
   ]
  },
  {
   "cell_type": "code",
   "execution_count": null,
   "metadata": {
    "collapsed": true
   },
   "outputs": [],
   "source": [
    "conv_layers = resnet_base"
   ]
  },
  {
   "cell_type": "code",
   "execution_count": null,
   "metadata": {
    "collapsed": true
   },
   "outputs": [],
   "source": [
    "resnet_base.summary()"
   ]
  },
  {
   "cell_type": "code",
   "execution_count": null,
   "metadata": {
    "collapsed": true
   },
   "outputs": [],
   "source": [
    "# Create my new model, three layers input, flatten, dense(output)\n",
    "from keras.layers.convolutional import Conv2D\n",
    "from keras.layers.pooling import GlobalAveragePooling2D\n",
    "from keras.activations import softmax\n",
    "\n",
    "nf=128 # number of features\n",
    "p = 0. # dropout_probability\n",
    "\n",
    "x = BatchNormalization(axis=-1)(classifier_input)\n",
    "x = Conv2D(nf,(3,3), activation='relu', border_mode='same')(x)\n",
    "x = BatchNormalization(axis=-1)(x)\n",
    "# x = MaxPooling2D()(x)\n",
    "# x = Conv2D(nf,3,3, activation='relu', border_mode='same')(x)\n",
    "# x = BatchNormalization(axis=-1)(x)\n",
    "# x = MaxPooling2D()(x)\n",
    "# x = Conv2D(nf,3,3, activation='relu', border_mode='same')(x)\n",
    "# x = BatchNormalization(axis=-1)(x)\n",
    "# x = MaxPooling2D((1,2))(x)\n",
    "x = Conv2D(8,(3,3), border_mode='same')(x)\n",
    "# x = Dropout(p)(x)\n",
    "#x = GlobalAveragePooling2D()(x)\n",
    "#x = softmax(x, axis=-1)\n",
    "#x = Activation('softmax')\n",
    "\n",
    "\n",
    "\n",
    "# note to self: work through various activation functions.\n",
    "\n",
    "classifier_model_v2 = Model(classifier_input, x)\n",
    "\n",
    "#from keras.optimizers import SGD\n",
    "classifier_model_v2.compile(Adam(lr=0.01), loss='categorical_crossentropy', metrics=['accuracy'])\n",
    "classifier_model_v2.summary()\n"
   ]
  },
  {
   "cell_type": "code",
   "execution_count": null,
   "metadata": {
    "collapsed": true
   },
   "outputs": [],
   "source": [
    "l = classifier_model_v2.layers\n",
    "#4\n",
    "conv_fn = K.function([l[0].input, K.learning_phase()], l[-2].output)"
   ]
  },
  {
   "cell_type": "code",
   "execution_count": null,
   "metadata": {
    "collapsed": true
   },
   "outputs": [],
   "source": [
    "def get_cm(imp, label):\n",
    "    conv = conv_fn([inp,0])[0, label]\n",
    "    return scipy.misc.imresize(conv, (360,640), interp='nearest')"
   ]
  },
  {
   "cell_type": "code",
   "execution_count": null,
   "metadata": {
    "collapsed": true
   },
   "outputs": [],
   "source": [
    "inp = np.expand_dims(conv_val_feat[0], 0)\n",
    "np.round(lrg_model.predict(inp)[0],2)"
   ]
  },
  {
   "cell_type": "code",
   "execution_count": null,
   "metadata": {
    "collapsed": true
   },
   "outputs": [],
   "source": [
    "plt.imshow(to_plot(val[0]))"
   ]
  },
  {
   "cell_type": "code",
   "execution_count": null,
   "metadata": {
    "collapsed": true
   },
   "outputs": [],
   "source": [
    "cm = get_cm(inp, 0)"
   ]
  },
  {
   "cell_type": "code",
   "execution_count": null,
   "metadata": {
    "collapsed": true
   },
   "outputs": [],
   "source": [
    "plt.imshow(cm, cmap=\"cool\")"
   ]
  },
  {
   "cell_type": "code",
   "execution_count": null,
   "metadata": {
    "collapsed": true
   },
   "outputs": [],
   "source": [
    "\n",
    "import glob\n",
    "from IPython.display import display, Image\n",
    "from keras.preprocessing import image as kimage\n",
    "import skimage.io\n",
    "             \n",
    "img_dir = '/home/ubuntu/data/test_stg1/unknown'\n",
    "rand_img = np.random.choice(glob.glob(img_dir + '/*.jpg'))\n",
    "Image(filename=rand_img)"
   ]
  },
  {
   "cell_type": "code",
   "execution_count": null,
   "metadata": {
    "collapsed": true
   },
   "outputs": [],
   "source": [
    "real_test_gen = test_datagen.flow_from_directory(\n",
    "        '/home/ubuntu/data/test_stg1',\n",
    "        target_size=(224, 224),\n",
    "        batch_size=10,\n",
    "        shuffle=False,\n",
    "        class_mode=None)"
   ]
  },
  {
   "cell_type": "code",
   "execution_count": null,
   "metadata": {
    "collapsed": true
   },
   "outputs": [],
   "source": [
    "# predict \n",
    "# batch size infuences speed not accuracy\n",
    "#\n",
    "test_pred_all = model2.predict_generator(real_test_gen,1250, verbose=1)\n",
    "files = np.array([real_test_gen.filenames]).T\n",
    "all_preds = np.hstack((np.round(test_pred_all,decimals=3), files))"
   ]
  }
 ],
 "metadata": {
  "kernelspec": {
   "display_name": "Python 2",
   "language": "python",
   "name": "python2"
  },
  "language_info": {
   "codemirror_mode": {
    "name": "ipython",
    "version": 2
   },
   "file_extension": ".py",
   "mimetype": "text/x-python",
   "name": "python",
   "nbconvert_exporter": "python",
   "pygments_lexer": "ipython2",
   "version": "2.7.6"
  }
 },
 "nbformat": 4,
 "nbformat_minor": 2
}
