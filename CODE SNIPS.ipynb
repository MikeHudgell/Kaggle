{
 "cells": [
  {
   "cell_type": "markdown",
   "metadata": {},
   "source": [
    "#JUNK CODE SNIPS"
   ]
  },
  {
   "cell_type": "code",
   "execution_count": null,
   "metadata": {
    "collapsed": true
   },
   "outputs": [],
   "source": [
    "%cd '/home/ubuntu/data/fish/valid_b'\n",
    "!ls | while read line; do echo \"$line\"=`ls \"$line\" | wc -l`; done"
   ]
  },
  {
   "cell_type": "code",
   "execution_count": null,
   "metadata": {
    "collapsed": true
   },
   "outputs": [],
   "source": [
    "# chec output directory\n",
    "\n",
    "%cd /home/ubuntu/data/fish/test_stg2/test_stg2_rs\n",
    "g = glob.glob('*.jpg')\n",
    "for fileName in g:\n",
    "    filePathIn = os.path.join(TEST_STG2_DIR_rs, fileName)\n",
    "    im = Image.open(filePathIn)\n",
    "    print fileName, im.size"
   ]
  },
  {
   "cell_type": "code",
   "execution_count": null,
   "metadata": {
    "collapsed": true
   },
   "outputs": [],
   "source": [
    "import os\n",
    "import sys\n",
    "from PIL import Image\n",
    "\n",
    "TEST_STG2_DIR = '/home/ubuntu/data/fish/test_stg2/test_stg2'\n",
    "TEST_STG2_DIR_rs = '/home/ubuntu/data/fish/test_stg2/test_stg2_rs'\n",
    "\n",
    "def resize(InDir, OutDir, imgfile):\n",
    "    filePathIn = os.path.join(InDir, fileName)\n",
    "    filePathOut = os.path.join(OutDir, fileName)\n",
    "    im = Image.open(filePathIn)\n",
    "    print im.size\n",
    "    newIm = im.resize((224,224), Image.ANTIALIAS)\n",
    "    newIm.save(filePathOut)\n",
    "\n",
    "%cd /home/ubuntu/data/fish/test_stg2/test_stg2\n",
    "g = glob.glob('*.jpg')\n",
    "for fileName in g:\n",
    "    print fileName\n",
    "    resize(TEST_STG2_DIR, TEST_STG2_DIR_rs, fileName)        "
   ]
  },
  {
   "cell_type": "code",
   "execution_count": null,
   "metadata": {
    "collapsed": true
   },
   "outputs": [],
   "source": []
  },
  {
   "cell_type": "code",
   "execution_count": null,
   "metadata": {
    "collapsed": true
   },
   "outputs": [],
   "source": []
  },
  {
   "cell_type": "code",
   "execution_count": null,
   "metadata": {
    "collapsed": true
   },
   "outputs": [],
   "source": []
  },
  {
   "cell_type": "code",
   "execution_count": null,
   "metadata": {
    "collapsed": true
   },
   "outputs": [],
   "source": []
  },
  {
   "cell_type": "code",
   "execution_count": null,
   "metadata": {
    "collapsed": true
   },
   "outputs": [],
   "source": []
  },
  {
   "cell_type": "code",
   "execution_count": null,
   "metadata": {
    "collapsed": true
   },
   "outputs": [],
   "source": []
  },
  {
   "cell_type": "code",
   "execution_count": null,
   "metadata": {
    "collapsed": true
   },
   "outputs": [],
   "source": []
  }
 ],
 "metadata": {
  "kernelspec": {
   "display_name": "Python 2",
   "language": "python",
   "name": "python2"
  },
  "language_info": {
   "codemirror_mode": {
    "name": "ipython",
    "version": 2
   },
   "file_extension": ".py",
   "mimetype": "text/x-python",
   "name": "python",
   "nbconvert_exporter": "python",
   "pygments_lexer": "ipython2",
   "version": "2.7.6"
  }
 },
 "nbformat": 4,
 "nbformat_minor": 2
}
