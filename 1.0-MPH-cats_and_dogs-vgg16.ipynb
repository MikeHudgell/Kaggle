{
 "cells": [
  {
   "cell_type": "code",
   "execution_count": 1,
   "metadata": {},
   "outputs": [
    {
     "name": "stderr",
     "output_type": "stream",
     "text": [
      "Using TensorFlow backend.\n"
     ]
    }
   ],
   "source": [
    "from keras.applications.vgg16 import VGG16\n",
    "from keras.preprocessing import image\n",
    "from keras.applications.vgg16 import preprocess_input\n",
    "import numpy as np"
   ]
  },
  {
   "cell_type": "markdown",
   "metadata": {},
   "source": [
    "VGG16 model, with weights pre-trained on ImageNet.\n",
    "\n",
    "This model is available for both the Theano and TensorFlow backend, and can be built both with \"channels_first\" data format (channels, height, width) or \"channels_last\" data format (height, width, channels).\n",
    "\n",
    "The default input size for this model is 224x224.\n",
    "\n",
    "It's important to understand the data that Vgg16 is built on. Most of these images are of single objects. What this means is that Vgg16 is best applied in circumstances where the images are primarily of one object, such as our cats and dogs images. It's essential when using a pre-trained model to explore the data it was trained on so you can understand it's limits and bias. "
   ]
  },
  {
   "cell_type": "code",
   "execution_count": 2,
   "metadata": {},
   "outputs": [
    {
     "name": "stdout",
     "output_type": "stream",
     "text": [
      "_________________________________________________________________\n",
      "Layer (type)                 Output Shape              Param #   \n",
      "=================================================================\n",
      "input_1 (InputLayer)         (None, 224, 224, 3)       0         \n",
      "_________________________________________________________________\n",
      "block1_conv1 (Conv2D)        (None, 224, 224, 64)      1792      \n",
      "_________________________________________________________________\n",
      "block1_conv2 (Conv2D)        (None, 224, 224, 64)      36928     \n",
      "_________________________________________________________________\n",
      "block1_pool (MaxPooling2D)   (None, 112, 112, 64)      0         \n",
      "_________________________________________________________________\n",
      "block2_conv1 (Conv2D)        (None, 112, 112, 128)     73856     \n",
      "_________________________________________________________________\n",
      "block2_conv2 (Conv2D)        (None, 112, 112, 128)     147584    \n",
      "_________________________________________________________________\n",
      "block2_pool (MaxPooling2D)   (None, 56, 56, 128)       0         \n",
      "_________________________________________________________________\n",
      "block3_conv1 (Conv2D)        (None, 56, 56, 256)       295168    \n",
      "_________________________________________________________________\n",
      "block3_conv2 (Conv2D)        (None, 56, 56, 256)       590080    \n",
      "_________________________________________________________________\n",
      "block3_conv3 (Conv2D)        (None, 56, 56, 256)       590080    \n",
      "_________________________________________________________________\n",
      "block3_pool (MaxPooling2D)   (None, 28, 28, 256)       0         \n",
      "_________________________________________________________________\n",
      "block4_conv1 (Conv2D)        (None, 28, 28, 512)       1180160   \n",
      "_________________________________________________________________\n",
      "block4_conv2 (Conv2D)        (None, 28, 28, 512)       2359808   \n",
      "_________________________________________________________________\n",
      "block4_conv3 (Conv2D)        (None, 28, 28, 512)       2359808   \n",
      "_________________________________________________________________\n",
      "block4_pool (MaxPooling2D)   (None, 14, 14, 512)       0         \n",
      "_________________________________________________________________\n",
      "block5_conv1 (Conv2D)        (None, 14, 14, 512)       2359808   \n",
      "_________________________________________________________________\n",
      "block5_conv2 (Conv2D)        (None, 14, 14, 512)       2359808   \n",
      "_________________________________________________________________\n",
      "block5_conv3 (Conv2D)        (None, 14, 14, 512)       2359808   \n",
      "_________________________________________________________________\n",
      "block5_pool (MaxPooling2D)   (None, 7, 7, 512)         0         \n",
      "_________________________________________________________________\n",
      "flatten (Flatten)            (None, 25088)             0         \n",
      "_________________________________________________________________\n",
      "fc1 (Dense)                  (None, 4096)              102764544 \n",
      "_________________________________________________________________\n",
      "fc2 (Dense)                  (None, 4096)              16781312  \n",
      "=================================================================\n",
      "Total params: 134,260,544\n",
      "Trainable params: 134,260,544\n",
      "Non-trainable params: 0\n",
      "_________________________________________________________________\n"
     ]
    }
   ],
   "source": [
    "# instantiate layer and load imagenet weights\n",
    "# include_top: whether to include the 3 fully-connected layers at the top of the network.\n",
    "# model.layers.pop() remove last layer - to allow for retraining...\n",
    "\n",
    "model = VGG16(weights='imagenet', include_top=True)\n",
    "model.layers.pop()\n",
    "model.summary()"
   ]
  },
  {
   "cell_type": "code",
   "execution_count": null,
   "metadata": {
    "collapsed": true
   },
   "outputs": [],
   "source": [
    "# for layer in model.layers:\n",
    "#    print layer.name"
   ]
  },
  {
   "cell_type": "code",
   "execution_count": 3,
   "metadata": {},
   "outputs": [
    {
     "name": "stdout",
     "output_type": "stream",
     "text": [
      "_________________________________________________________________\n",
      "Layer (type)                 Output Shape              Param #   \n",
      "=================================================================\n",
      "input_1 (InputLayer)         (None, 224, 224, 3)       0         \n",
      "_________________________________________________________________\n",
      "block1_conv1 (Conv2D)        (None, 224, 224, 64)      1792      \n",
      "_________________________________________________________________\n",
      "block1_conv2 (Conv2D)        (None, 224, 224, 64)      36928     \n",
      "_________________________________________________________________\n",
      "block1_pool (MaxPooling2D)   (None, 112, 112, 64)      0         \n",
      "_________________________________________________________________\n",
      "block2_conv1 (Conv2D)        (None, 112, 112, 128)     73856     \n",
      "_________________________________________________________________\n",
      "block2_conv2 (Conv2D)        (None, 112, 112, 128)     147584    \n",
      "_________________________________________________________________\n",
      "block2_pool (MaxPooling2D)   (None, 56, 56, 128)       0         \n",
      "_________________________________________________________________\n",
      "block3_conv1 (Conv2D)        (None, 56, 56, 256)       295168    \n",
      "_________________________________________________________________\n",
      "block3_conv2 (Conv2D)        (None, 56, 56, 256)       590080    \n",
      "_________________________________________________________________\n",
      "block3_conv3 (Conv2D)        (None, 56, 56, 256)       590080    \n",
      "_________________________________________________________________\n",
      "block3_pool (MaxPooling2D)   (None, 28, 28, 256)       0         \n",
      "_________________________________________________________________\n",
      "block4_conv1 (Conv2D)        (None, 28, 28, 512)       1180160   \n",
      "_________________________________________________________________\n",
      "block4_conv2 (Conv2D)        (None, 28, 28, 512)       2359808   \n",
      "_________________________________________________________________\n",
      "block4_conv3 (Conv2D)        (None, 28, 28, 512)       2359808   \n",
      "_________________________________________________________________\n",
      "block4_pool (MaxPooling2D)   (None, 14, 14, 512)       0         \n",
      "_________________________________________________________________\n",
      "block5_conv1 (Conv2D)        (None, 14, 14, 512)       2359808   \n",
      "_________________________________________________________________\n",
      "block5_conv2 (Conv2D)        (None, 14, 14, 512)       2359808   \n",
      "_________________________________________________________________\n",
      "block5_conv3 (Conv2D)        (None, 14, 14, 512)       2359808   \n",
      "_________________________________________________________________\n",
      "block5_pool (MaxPooling2D)   (None, 7, 7, 512)         0         \n",
      "_________________________________________________________________\n",
      "flatten (Flatten)            (None, 25088)             0         \n",
      "_________________________________________________________________\n",
      "fc1 (Dense)                  (None, 4096)              102764544 \n",
      "_________________________________________________________________\n",
      "fc2 (Dense)                  (None, 4096)              16781312  \n",
      "=================================================================\n",
      "Total params: 134,260,544\n",
      "Trainable params: 0\n",
      "Non-trainable params: 134,260,544\n",
      "_________________________________________________________________\n"
     ]
    }
   ],
   "source": [
    "#\n",
    "# set existing layers so that the entire model is not retrained\n",
    "#\n",
    "for l in model.layers:\n",
    "    l.trainable =False\n",
    "model.summary()"
   ]
  },
  {
   "cell_type": "code",
   "execution_count": null,
   "metadata": {
    "collapsed": true
   },
   "outputs": [],
   "source": [
    "# create new layer 2 dimensions with softmax activation function.\n",
    "\n",
    "#import math\n",
    "#z = [1.0, 2.0, 3.0, 4.0, 1.0, 2.0, 3.0]\n",
    "#z_exp = [math.exp(i) for i in z]  \n",
    "#print(z_exp)  # Result: [2.72, 7.39, 20.09, 54.6, 2.72, 7.39, 20.09] \n",
    "#sum_z_exp = sum(z_exp)  \n",
    "#print(sum_z_exp)  # Result: 114.98 \n",
    "#softmax = [round(i / sum_z_exp, 3) for i in z_exp]\n",
    "#print(softmax)  # Result: [0.024, 0.064, 0.175, 0.475, 0.024, 0.064, 0.175]\n",
    "\n",
    "# lr - 0,001 - learning rate\n"
   ]
  },
  {
   "cell_type": "markdown",
   "metadata": {},
   "source": [
    "As detailed above, a neural network is at it's core a sequence of matrices that map an input vector to an output vector through matrix multiplication. The intermediate vectors in between each matrix are the activations, and the matrices themselves are the layers. Through a process we'll learn about called \"fitting\", our goal is to adjust the values of the matrices, which we call \"weights\", so that when our input vectors are passed into the neural network we are able to produce an output vector that is as close as possible to the true output vector, and we do this across multiple labeled input vectors. This is what makes up a training set. \n"
   ]
  },
  {
   "cell_type": "markdown",
   "metadata": {},
   "source": [
    "Standard gradient descent is a method of iteratively selecting \"parameters\" (what we call weights in deep learning) that successively minimize what is known as a \"loss function.\" The loss function is simply some method of determining how different the predicted output, as determined by prediction \"parameters\" and given input, are from the true output associated with the same inputs. A common loss function is sum of square errors, which is simply the sum of squares of the difference between predicted responses and true responses. This loss function is common in processes like linear regression. Another common loss function is the log-loss, which we have defined above. We commonly use this loss function in neural networks.\n",
    "\n",
    "Since our loss function is essentially a measure of how well our predictions match with the expected values, the goal of our optimization algorithm is to minimize this value. Our prediction function has at a minimum two kinds of numerical values, the inputs that the function acts upon, and the \"parameters\" that dictate what we do to the input. Since we cannot change the inputs, we necessarily must minimize the loss function by choosing parameters that produce predictions that are closer to the expected values. "
   ]
  },
  {
   "cell_type": "code",
   "execution_count": 4,
   "metadata": {},
   "outputs": [
    {
     "name": "stdout",
     "output_type": "stream",
     "text": [
      "_________________________________________________________________\n",
      "Layer (type)                 Output Shape              Param #   \n",
      "=================================================================\n",
      "input_1 (InputLayer)         (None, 224, 224, 3)       0         \n",
      "_________________________________________________________________\n",
      "block1_conv1 (Conv2D)        (None, 224, 224, 64)      1792      \n",
      "_________________________________________________________________\n",
      "block1_conv2 (Conv2D)        (None, 224, 224, 64)      36928     \n",
      "_________________________________________________________________\n",
      "block1_pool (MaxPooling2D)   (None, 112, 112, 64)      0         \n",
      "_________________________________________________________________\n",
      "block2_conv1 (Conv2D)        (None, 112, 112, 128)     73856     \n",
      "_________________________________________________________________\n",
      "block2_conv2 (Conv2D)        (None, 112, 112, 128)     147584    \n",
      "_________________________________________________________________\n",
      "block2_pool (MaxPooling2D)   (None, 56, 56, 128)       0         \n",
      "_________________________________________________________________\n",
      "block3_conv1 (Conv2D)        (None, 56, 56, 256)       295168    \n",
      "_________________________________________________________________\n",
      "block3_conv2 (Conv2D)        (None, 56, 56, 256)       590080    \n",
      "_________________________________________________________________\n",
      "block3_conv3 (Conv2D)        (None, 56, 56, 256)       590080    \n",
      "_________________________________________________________________\n",
      "block3_pool (MaxPooling2D)   (None, 28, 28, 256)       0         \n",
      "_________________________________________________________________\n",
      "block4_conv1 (Conv2D)        (None, 28, 28, 512)       1180160   \n",
      "_________________________________________________________________\n",
      "block4_conv2 (Conv2D)        (None, 28, 28, 512)       2359808   \n",
      "_________________________________________________________________\n",
      "block4_conv3 (Conv2D)        (None, 28, 28, 512)       2359808   \n",
      "_________________________________________________________________\n",
      "block4_pool (MaxPooling2D)   (None, 14, 14, 512)       0         \n",
      "_________________________________________________________________\n",
      "block5_conv1 (Conv2D)        (None, 14, 14, 512)       2359808   \n",
      "_________________________________________________________________\n",
      "block5_conv2 (Conv2D)        (None, 14, 14, 512)       2359808   \n",
      "_________________________________________________________________\n",
      "block5_conv3 (Conv2D)        (None, 14, 14, 512)       2359808   \n",
      "_________________________________________________________________\n",
      "block5_pool (MaxPooling2D)   (None, 7, 7, 512)         0         \n",
      "_________________________________________________________________\n",
      "flatten (Flatten)            (None, 25088)             0         \n",
      "_________________________________________________________________\n",
      "fc1 (Dense)                  (None, 4096)              102764544 \n",
      "_________________________________________________________________\n",
      "fc2 (Dense)                  (None, 4096)              16781312  \n",
      "_________________________________________________________________\n",
      "my_dense (Dense)             (None, 2)                 8194      \n",
      "=================================================================\n",
      "Total params: 134,268,738\n",
      "Trainable params: 8,194\n",
      "Non-trainable params: 134,260,544\n",
      "_________________________________________________________________\n"
     ]
    }
   ],
   "source": [
    "from keras.layers import Dense\n",
    "from keras.models import Model\n",
    "from keras.optimizers import Adam\n",
    "\n",
    "new_layer = Dense(2, activation='softmax', name='my_dense')\n",
    "\n",
    "inp = model.input\n",
    "out = new_layer(model.layers[-1].output)\n",
    "\n",
    "model2 = Model(inp, out)\n",
    "model2.compile(loss='categorical_crossentropy',optimizer=Adam(lr=0.001),metrics=['accuracy'])\n",
    "model2.summary()"
   ]
  },
  {
   "cell_type": "code",
   "execution_count": 98,
   "metadata": {},
   "outputs": [
    {
     "name": "stdout",
     "output_type": "stream",
     "text": [
      "Found 200 images belonging to 2 classes.\n"
     ]
    }
   ],
   "source": [
    "# based on sample dataset build training data\n",
    "#\n",
    "#\n",
    "#\n",
    "\n",
    "from keras.preprocessing.image import ImageDataGenerator\n",
    "\n",
    "train_datagen = ImageDataGenerator(\n",
    "        rescale=1./255,\n",
    "        shear_range=0.2,\n",
    "        zoom_range=0.2,\n",
    "        horizontal_flip=True)\n",
    "\n",
    "train_generator = train_datagen.flow_from_directory(\n",
    "        '/home/ubuntu/lesson1/data/redux/sample/train',\n",
    "        target_size=(224, 224),\n",
    "        batch_size=32,\n",
    "        class_mode='categorical')"
   ]
  },
  {
   "cell_type": "code",
   "execution_count": 6,
   "metadata": {},
   "outputs": [
    {
     "data": {
      "text/plain": [
       "<keras.preprocessing.image.DirectoryIterator at 0x7f17c8833350>"
      ]
     },
     "execution_count": 6,
     "metadata": {},
     "output_type": "execute_result"
    }
   ],
   "source": [
    "train_generator\n"
   ]
  },
  {
   "cell_type": "code",
   "execution_count": 7,
   "metadata": {},
   "outputs": [
    {
     "data": {
      "text/plain": [
       "<tensorflow.python.ops.variables.Variable at 0x7f17761d9450>"
      ]
     },
     "execution_count": 7,
     "metadata": {},
     "output_type": "execute_result"
    }
   ],
   "source": [
    "model2.optimizer.lr"
   ]
  },
  {
   "cell_type": "code",
   "execution_count": 22,
   "metadata": {},
   "outputs": [
    {
     "name": "stdout",
     "output_type": "stream",
     "text": [
      "Found 50 images belonging to 2 classes.\n",
      "Epoch 1/5\n",
      "200/200 [==============================] - 120s - loss: 0.3746 - acc: 0.8269 - val_loss: 0.3384 - val_acc: 0.8600\n",
      "Epoch 2/5\n",
      "200/200 [==============================] - 120s - loss: 0.3984 - acc: 0.8131 - val_loss: 0.2601 - val_acc: 0.8800\n",
      "Epoch 3/5\n",
      "200/200 [==============================] - 137s - loss: 0.3428 - acc: 0.8525 - val_loss: 0.2783 - val_acc: 0.9000\n",
      "Epoch 4/5\n",
      "200/200 [==============================] - 120s - loss: 0.3215 - acc: 0.8625 - val_loss: 0.5670 - val_acc: 0.7608\n",
      "Epoch 5/5\n",
      "200/200 [==============================] - 120s - loss: 0.3406 - acc: 0.8506 - val_loss: 0.2552 - val_acc: 0.8400\n"
     ]
    },
    {
     "data": {
      "text/plain": [
       "<keras.callbacks.History at 0x7f3480ce6710>"
      ]
     },
     "execution_count": 22,
     "metadata": {},
     "output_type": "execute_result"
    }
   ],
   "source": [
    "# based on sample dataset build validation data\n",
    "#\n",
    "\n",
    "\n",
    "test_datagen = ImageDataGenerator(rescale=1./255)\n",
    "\n",
    "validation_generator = test_datagen.flow_from_directory(\n",
    "        '/home/ubuntu/lesson1/data/redux/sample/valid',\n",
    "        target_size=(224, 224),\n",
    "        batch_size=16,\n",
    "        class_mode='categorical')\n",
    "\n",
    "# Train model with training and validation data.\n",
    "#\n",
    "\n",
    "model2.fit_generator(\n",
    "        train_generator,\n",
    "        steps_per_epoch=200,\n",
    "        epochs=5,\n",
    "        validation_data=validation_generator,\n",
    "        validation_steps=100)"
   ]
  },
  {
   "cell_type": "markdown",
   "metadata": {},
   "source": [
    "training loss and accuracy and validation loss and accuracy\n",
    "\n",
    "The lower the Loss, the better a model (unless the model has over-fitted to the training data). The loss is calculated on training and validation and its interperation is how well the model is doing for these two sets. Loss is not in percentage as opposed to accuracy and it is a summation of the errors made for each example in training or validation sets. In the case of neural networks the loss is usually negative log-likelihood and residual sum of squares for classification and regression respectively. Then naturally, the main objective in a learning model is to reduce (minimize) the loss function's value with respect to the model's parameters by changing the weight vector values through different optimization methods, such as backpropagation in neural networks. Loss value implies how well or bad a certain model is behaving after each iteration of optimization. Ideally, one would expect the reduction of loss after each, or several, iteration(s). The accuracy of a model is usually determined after the model parameters are learned and fixed and no learning is taking place. Then the test samples are fed to the model and the number of mistakes (zero-one loss) the model makes are recorded, after comparison to the true targets. Then the percentage of misclassification is calculated. For example, if the number of test samples is 1000 and model classifies 952 of those correctly, then the model's accuracy is reported as 95.2%."
   ]
  },
  {
   "cell_type": "code",
   "execution_count": 74,
   "metadata": {
    "collapsed": true
   },
   "outputs": [],
   "source": [
    "# model2.load_weights('/home/ubuntu/lesson1/weights/ft2_sample.h5')\n",
    "model2.save_weights('/home/ubuntu/lesson1/weights/ft2_sample.h5')"
   ]
  },
  {
   "cell_type": "code",
   "execution_count": 9,
   "metadata": {},
   "outputs": [
    {
     "name": "stdout",
     "output_type": "stream",
     "text": [
      "_________________________________________________________________\n",
      "Layer (type)                 Output Shape              Param #   \n",
      "=================================================================\n",
      "input_1 (InputLayer)         (None, 224, 224, 3)       0         \n",
      "_________________________________________________________________\n",
      "block1_conv1 (Conv2D)        (None, 224, 224, 64)      1792      \n",
      "_________________________________________________________________\n",
      "block1_conv2 (Conv2D)        (None, 224, 224, 64)      36928     \n",
      "_________________________________________________________________\n",
      "block1_pool (MaxPooling2D)   (None, 112, 112, 64)      0         \n",
      "_________________________________________________________________\n",
      "block2_conv1 (Conv2D)        (None, 112, 112, 128)     73856     \n",
      "_________________________________________________________________\n",
      "block2_conv2 (Conv2D)        (None, 112, 112, 128)     147584    \n",
      "_________________________________________________________________\n",
      "block2_pool (MaxPooling2D)   (None, 56, 56, 128)       0         \n",
      "_________________________________________________________________\n",
      "block3_conv1 (Conv2D)        (None, 56, 56, 256)       295168    \n",
      "_________________________________________________________________\n",
      "block3_conv2 (Conv2D)        (None, 56, 56, 256)       590080    \n",
      "_________________________________________________________________\n",
      "block3_conv3 (Conv2D)        (None, 56, 56, 256)       590080    \n",
      "_________________________________________________________________\n",
      "block3_pool (MaxPooling2D)   (None, 28, 28, 256)       0         \n",
      "_________________________________________________________________\n",
      "block4_conv1 (Conv2D)        (None, 28, 28, 512)       1180160   \n",
      "_________________________________________________________________\n",
      "block4_conv2 (Conv2D)        (None, 28, 28, 512)       2359808   \n",
      "_________________________________________________________________\n",
      "block4_conv3 (Conv2D)        (None, 28, 28, 512)       2359808   \n",
      "_________________________________________________________________\n",
      "block4_pool (MaxPooling2D)   (None, 14, 14, 512)       0         \n",
      "_________________________________________________________________\n",
      "block5_conv1 (Conv2D)        (None, 14, 14, 512)       2359808   \n",
      "_________________________________________________________________\n",
      "block5_conv2 (Conv2D)        (None, 14, 14, 512)       2359808   \n",
      "_________________________________________________________________\n",
      "block5_conv3 (Conv2D)        (None, 14, 14, 512)       2359808   \n",
      "_________________________________________________________________\n",
      "block5_pool (MaxPooling2D)   (None, 7, 7, 512)         0         \n",
      "_________________________________________________________________\n",
      "flatten (Flatten)            (None, 25088)             0         \n",
      "_________________________________________________________________\n",
      "fc1 (Dense)                  (None, 4096)              102764544 \n",
      "_________________________________________________________________\n",
      "fc2 (Dense)                  (None, 4096)              16781312  \n",
      "_________________________________________________________________\n",
      "my_dense (Dense)             (None, 2)                 8194      \n",
      "=================================================================\n",
      "Total params: 134,268,738\n",
      "Trainable params: 8,194\n",
      "Non-trainable params: 134,260,544\n",
      "_________________________________________________________________\n"
     ]
    }
   ],
   "source": [
    "model2.summary()"
   ]
  },
  {
   "cell_type": "code",
   "execution_count": null,
   "metadata": {
    "collapsed": true
   },
   "outputs": [],
   "source": [
    "#for l in model2.layers:\n",
    "#    if l.name == 'fc2':\n",
    "#        l.trainable = True\n",
    "#    else:\n",
    "#        l.trainable =False"
   ]
  },
  {
   "cell_type": "code",
   "execution_count": 15,
   "metadata": {},
   "outputs": [
    {
     "name": "stdout",
     "output_type": "stream",
     "text": [
      "_________________________________________________________________\n",
      "Layer (type)                 Output Shape              Param #   \n",
      "=================================================================\n",
      "input_1 (InputLayer)         (None, 224, 224, 3)       0         \n",
      "_________________________________________________________________\n",
      "block1_conv1 (Conv2D)        (None, 224, 224, 64)      1792      \n",
      "_________________________________________________________________\n",
      "block1_conv2 (Conv2D)        (None, 224, 224, 64)      36928     \n",
      "_________________________________________________________________\n",
      "block1_pool (MaxPooling2D)   (None, 112, 112, 64)      0         \n",
      "_________________________________________________________________\n",
      "block2_conv1 (Conv2D)        (None, 112, 112, 128)     73856     \n",
      "_________________________________________________________________\n",
      "block2_conv2 (Conv2D)        (None, 112, 112, 128)     147584    \n",
      "_________________________________________________________________\n",
      "block2_pool (MaxPooling2D)   (None, 56, 56, 128)       0         \n",
      "_________________________________________________________________\n",
      "block3_conv1 (Conv2D)        (None, 56, 56, 256)       295168    \n",
      "_________________________________________________________________\n",
      "block3_conv2 (Conv2D)        (None, 56, 56, 256)       590080    \n",
      "_________________________________________________________________\n",
      "block3_conv3 (Conv2D)        (None, 56, 56, 256)       590080    \n",
      "_________________________________________________________________\n",
      "block3_pool (MaxPooling2D)   (None, 28, 28, 256)       0         \n",
      "_________________________________________________________________\n",
      "block4_conv1 (Conv2D)        (None, 28, 28, 512)       1180160   \n",
      "_________________________________________________________________\n",
      "block4_conv2 (Conv2D)        (None, 28, 28, 512)       2359808   \n",
      "_________________________________________________________________\n",
      "block4_conv3 (Conv2D)        (None, 28, 28, 512)       2359808   \n",
      "_________________________________________________________________\n",
      "block4_pool (MaxPooling2D)   (None, 14, 14, 512)       0         \n",
      "_________________________________________________________________\n",
      "block5_conv1 (Conv2D)        (None, 14, 14, 512)       2359808   \n",
      "_________________________________________________________________\n",
      "block5_conv2 (Conv2D)        (None, 14, 14, 512)       2359808   \n",
      "_________________________________________________________________\n",
      "block5_conv3 (Conv2D)        (None, 14, 14, 512)       2359808   \n",
      "_________________________________________________________________\n",
      "block5_pool (MaxPooling2D)   (None, 7, 7, 512)         0         \n",
      "_________________________________________________________________\n",
      "flatten (Flatten)            (None, 25088)             0         \n",
      "_________________________________________________________________\n",
      "fc1 (Dense)                  (None, 4096)              102764544 \n",
      "_________________________________________________________________\n",
      "fc2 (Dense)                  (None, 4096)              16781312  \n",
      "_________________________________________________________________\n",
      "my_dense (Dense)             (None, 2)                 8194      \n",
      "=================================================================\n",
      "Total params: 134,268,738\n",
      "Trainable params: 8,194\n",
      "Non-trainable params: 134,260,544\n",
      "_________________________________________________________________\n"
     ]
    }
   ],
   "source": [
    "model2.summary()"
   ]
  },
  {
   "cell_type": "code",
   "execution_count": 75,
   "metadata": {},
   "outputs": [
    {
     "name": "stdout",
     "output_type": "stream",
     "text": [
      "Found 23000 images belonging to 2 classes.\n",
      "Found 2000 images belonging to 2 classes.\n",
      "Epoch 1/5\n",
      "160/160 [==============================] - 198s - loss: 0.2842 - acc: 0.8789 - val_loss: 0.1936 - val_acc: 0.9250\n",
      "Epoch 2/5\n",
      "160/160 [==============================] - 187s - loss: 0.2788 - acc: 0.8816 - val_loss: 0.2321 - val_acc: 0.8906\n",
      "Epoch 3/5\n",
      "160/160 [==============================] - 188s - loss: 0.2710 - acc: 0.8877 - val_loss: 0.2753 - val_acc: 0.8844\n",
      "Epoch 4/5\n",
      "160/160 [==============================] - 187s - loss: 0.2530 - acc: 0.8924 - val_loss: 0.2104 - val_acc: 0.9000\n",
      "Epoch 5/5\n",
      "160/160 [==============================] - 196s - loss: 0.2706 - acc: 0.8805 - val_loss: 0.2103 - val_acc: 0.9281\n"
     ]
    },
    {
     "data": {
      "text/plain": [
       "<keras.callbacks.History at 0x7f177ed29e90>"
      ]
     },
     "execution_count": 75,
     "metadata": {},
     "output_type": "execute_result"
    }
   ],
   "source": [
    "# train model using the full training and validation data\n",
    "\n",
    "train_datagen = ImageDataGenerator(\n",
    "        rescale=1./255,\n",
    "        shear_range=0.2,\n",
    "        rotation_range=15, \n",
    "        width_shift_range=0.1,                         \n",
    "        height_shift_range=0.1, \n",
    "        zoom_range=0.1, \n",
    "        horizontal_flip=True)\n",
    "\n",
    "test_datagen = ImageDataGenerator(rescale=1./255)\n",
    "\n",
    "train_generator = train_datagen.flow_from_directory(\n",
    "        '/home/ubuntu/lesson1/data/redux/train',\n",
    "        target_size=(224, 224),\n",
    "        batch_size=32,\n",
    "        class_mode='categorical')\n",
    "\n",
    "validation_generator = test_datagen.flow_from_directory(\n",
    "        '/home/ubuntu/lesson1/data/redux/valid',\n",
    "        target_size=(224, 224),\n",
    "        batch_size=8,\n",
    "        class_mode='categorical')\n",
    "\n",
    "model2.fit_generator(\n",
    "        train_generator,\n",
    "        steps_per_epoch=160,\n",
    "        epochs=5,\n",
    "        validation_data=validation_generator,\n",
    "        validation_steps=40)"
   ]
  },
  {
   "cell_type": "code",
   "execution_count": 101,
   "metadata": {},
   "outputs": [
    {
     "data": {
      "image/jpeg": "[encoded data removed]",
      "text/plain": [
       "<IPython.core.display.Image object>"
      ]
     },
     "execution_count": 101,
     "metadata": {},
     "output_type": "execute_result"
    }
   ],
   "source": [
    "# lets start looking at the test data to predict.\n",
    "\n",
    "import glob\n",
    "from IPython.display import display, Image\n",
    "from keras.preprocessing import image as kimage\n",
    "import skimage.io\n",
    "\n",
    "img_dir = '/home/ubuntu/lesson1/data/redux/test1/unknown'\n",
    "rand_img = np.random.choice(glob.glob(img_dir + '/*.jpg'))\n",
    "Image(filename=rand_img)\n"
   ]
  },
  {
   "cell_type": "code",
   "execution_count": 77,
   "metadata": {},
   "outputs": [
    {
     "name": "stdout",
     "output_type": "stream",
     "text": [
      "Found 12500 images belonging to 1 classes.\n"
     ]
    }
   ],
   "source": [
    "# Load in the data to predict.\n",
    "#\n",
    "\n",
    "real_test_gen = test_datagen.flow_from_directory(\n",
    "        '/home/ubuntu/lesson1/data/redux/test1',\n",
    "        target_size=(224, 224),\n",
    "        batch_size=10,\n",
    "        shuffle=False,\n",
    "        class_mode=None)"
   ]
  },
  {
   "cell_type": "code",
   "execution_count": 104,
   "metadata": {},
   "outputs": [
    {
     "name": "stdout",
     "output_type": "stream",
     "text": [
      "1250/1250 [==============================] - 556s   \n"
     ]
    }
   ],
   "source": [
    "# predict \n",
    "# batch size infuences speed not accuracy\n",
    "#\n",
    "test_pred_all = model2.predict_generator(real_test_gen,1250, verbose=1)\n",
    "files = np.array([real_test_gen.filenames]).T\n",
    "all_preds = np.hstack((np.round(test_pred_all,decimals=3), files))"
   ]
  },
  {
   "cell_type": "code",
   "execution_count": 102,
   "metadata": {},
   "outputs": [
    {
     "data": {
      "text/plain": [
       "(12500, 2)"
      ]
     },
     "execution_count": 102,
     "metadata": {},
     "output_type": "execute_result"
    }
   ],
   "source": [
    "test_pred_all\n",
    "test_pred_all.shape\n"
   ]
  },
  {
   "cell_type": "code",
   "execution_count": 80,
   "metadata": {},
   "outputs": [
    {
     "data": {
      "text/plain": [
       "(['unknown/10438.jpg', 'unknown/12309.jpg'], array([[ 0.12609735,  0.87390262],\n",
       "        [ 0.65624744,  0.34375259]], dtype=float32))"
      ]
     },
     "execution_count": 80,
     "metadata": {},
     "output_type": "execute_result"
    }
   ],
   "source": [
    "real_test_gen.filenames[0:2], test_pred_all[0:2]"
   ]
  },
  {
   "cell_type": "code",
   "execution_count": 81,
   "metadata": {},
   "outputs": [
    {
     "data": {
      "text/plain": [
       "['unknown/10438.jpg',\n",
       " 'unknown/12309.jpg',\n",
       " 'unknown/10240.jpg',\n",
       " 'unknown/10851.jpg',\n",
       " 'unknown/11269.jpg',\n",
       " 'unknown/5698.jpg',\n",
       " 'unknown/5273.jpg',\n",
       " 'unknown/12445.jpg',\n",
       " 'unknown/7626.jpg',\n",
       " 'unknown/7692.jpg',\n",
       " 'unknown/871.jpg',\n",
       " 'unknown/1846.jpg',\n",
       " 'unknown/9165.jpg',\n",
       " 'unknown/4335.jpg',\n",
       " 'unknown/796.jpg',\n",
       " 'unknown/8408.jpg',\n",
       " 'unknown/2771.jpg',\n",
       " 'unknown/7299.jpg',\n",
       " 'unknown/8955.jpg',\n",
       " 'unknown/7932.jpg',\n",
       " 'unknown/2168.jpg',\n",
       " 'unknown/6378.jpg',\n",
       " 'unknown/9689.jpg',\n",
       " 'unknown/10669.jpg',\n",
       " 'unknown/2510.jpg',\n",
       " 'unknown/6768.jpg',\n",
       " 'unknown/11827.jpg',\n",
       " 'unknown/716.jpg',\n",
       " 'unknown/1938.jpg',\n",
       " 'unknown/10105.jpg',\n",
       " 'unknown/8891.jpg',\n",
       " 'unknown/384.jpg',\n",
       " 'unknown/11125.jpg',\n",
       " 'unknown/9082.jpg',\n",
       " 'unknown/2574.jpg',\n",
       " 'unknown/12377.jpg',\n",
       " 'unknown/377.jpg',\n",
       " 'unknown/3190.jpg',\n",
       " 'unknown/11923.jpg',\n",
       " 'unknown/8267.jpg',\n",
       " 'unknown/942.jpg',\n",
       " 'unknown/4522.jpg',\n",
       " 'unknown/4411.jpg',\n",
       " 'unknown/220.jpg',\n",
       " 'unknown/7973.jpg',\n",
       " 'unknown/9762.jpg',\n",
       " 'unknown/1970.jpg',\n",
       " 'unknown/3637.jpg',\n",
       " 'unknown/7662.jpg',\n",
       " 'unknown/4929.jpg',\n",
       " 'unknown/2690.jpg',\n",
       " 'unknown/5586.jpg',\n",
       " 'unknown/8800.jpg',\n",
       " 'unknown/5545.jpg',\n",
       " 'unknown/6296.jpg',\n",
       " 'unknown/9322.jpg',\n",
       " 'unknown/2115.jpg',\n",
       " 'unknown/4859.jpg',\n",
       " 'unknown/6987.jpg',\n",
       " 'unknown/11109.jpg',\n",
       " 'unknown/9512.jpg',\n",
       " 'unknown/4447.jpg',\n",
       " 'unknown/2102.jpg',\n",
       " 'unknown/581.jpg',\n",
       " 'unknown/11030.jpg',\n",
       " 'unknown/3788.jpg',\n",
       " 'unknown/2920.jpg',\n",
       " 'unknown/2131.jpg',\n",
       " 'unknown/3056.jpg',\n",
       " 'unknown/9468.jpg',\n",
       " 'unknown/9776.jpg',\n",
       " 'unknown/2595.jpg',\n",
       " 'unknown/7450.jpg',\n",
       " 'unknown/11346.jpg',\n",
       " 'unknown/5236.jpg',\n",
       " 'unknown/1811.jpg',\n",
       " 'unknown/6484.jpg',\n",
       " 'unknown/4576.jpg',\n",
       " 'unknown/9211.jpg',\n",
       " 'unknown/11782.jpg',\n",
       " 'unknown/10089.jpg',\n",
       " 'unknown/4916.jpg',\n",
       " 'unknown/1090.jpg',\n",
       " 'unknown/5614.jpg',\n",
       " 'unknown/1945.jpg',\n",
       " 'unknown/6877.jpg',\n",
       " 'unknown/4038.jpg',\n",
       " 'unknown/10911.jpg',\n",
       " 'unknown/4318.jpg',\n",
       " 'unknown/4702.jpg',\n",
       " 'unknown/6288.jpg',\n",
       " 'unknown/10267.jpg',\n",
       " 'unknown/2385.jpg',\n",
       " 'unknown/7469.jpg',\n",
       " 'unknown/2777.jpg',\n",
       " 'unknown/1073.jpg',\n",
       " 'unknown/1796.jpg',\n",
       " 'unknown/6898.jpg',\n",
       " 'unknown/4198.jpg',\n",
       " 'unknown/85.jpg',\n",
       " 'unknown/2606.jpg',\n",
       " 'unknown/11943.jpg',\n",
       " 'unknown/4010.jpg',\n",
       " 'unknown/2232.jpg',\n",
       " 'unknown/11516.jpg',\n",
       " 'unknown/5543.jpg',\n",
       " 'unknown/2149.jpg',\n",
       " 'unknown/7190.jpg',\n",
       " 'unknown/2957.jpg',\n",
       " 'unknown/9395.jpg',\n",
       " 'unknown/10047.jpg',\n",
       " 'unknown/7796.jpg',\n",
       " 'unknown/6384.jpg',\n",
       " 'unknown/9057.jpg',\n",
       " 'unknown/9987.jpg',\n",
       " 'unknown/1288.jpg',\n",
       " 'unknown/323.jpg',\n",
       " 'unknown/12049.jpg',\n",
       " 'unknown/10549.jpg',\n",
       " 'unknown/6276.jpg',\n",
       " 'unknown/2301.jpg',\n",
       " 'unknown/3942.jpg',\n",
       " 'unknown/5238.jpg',\n",
       " 'unknown/5814.jpg',\n",
       " 'unknown/3743.jpg',\n",
       " 'unknown/11463.jpg',\n",
       " 'unknown/5707.jpg',\n",
       " 'unknown/7531.jpg',\n",
       " 'unknown/3461.jpg',\n",
       " 'unknown/1399.jpg',\n",
       " 'unknown/6791.jpg',\n",
       " 'unknown/10990.jpg',\n",
       " 'unknown/12020.jpg',\n",
       " 'unknown/11729.jpg',\n",
       " 'unknown/6249.jpg',\n",
       " 'unknown/5812.jpg',\n",
       " 'unknown/417.jpg',\n",
       " 'unknown/3367.jpg',\n",
       " 'unknown/10349.jpg',\n",
       " 'unknown/2039.jpg',\n",
       " 'unknown/4999.jpg',\n",
       " 'unknown/5576.jpg',\n",
       " 'unknown/547.jpg',\n",
       " 'unknown/11652.jpg',\n",
       " 'unknown/4724.jpg',\n",
       " 'unknown/9528.jpg',\n",
       " 'unknown/8532.jpg',\n",
       " 'unknown/3652.jpg',\n",
       " 'unknown/6492.jpg',\n",
       " 'unknown/11140.jpg',\n",
       " 'unknown/8439.jpg',\n",
       " 'unknown/11622.jpg',\n",
       " 'unknown/9764.jpg',\n",
       " 'unknown/1503.jpg',\n",
       " 'unknown/5050.jpg',\n",
       " 'unknown/9077.jpg',\n",
       " 'unknown/1663.jpg',\n",
       " 'unknown/6012.jpg',\n",
       " 'unknown/6819.jpg',\n",
       " 'unknown/6679.jpg',\n",
       " 'unknown/9189.jpg',\n",
       " 'unknown/6356.jpg',\n",
       " 'unknown/9891.jpg',\n",
       " 'unknown/11975.jpg',\n",
       " 'unknown/2436.jpg',\n",
       " 'unknown/8206.jpg',\n",
       " 'unknown/2352.jpg',\n",
       " 'unknown/5400.jpg',\n",
       " 'unknown/10718.jpg',\n",
       " 'unknown/177.jpg',\n",
       " 'unknown/8055.jpg',\n",
       " 'unknown/1395.jpg',\n",
       " 'unknown/4861.jpg',\n",
       " 'unknown/2084.jpg',\n",
       " 'unknown/1962.jpg',\n",
       " 'unknown/437.jpg',\n",
       " 'unknown/8897.jpg',\n",
       " 'unknown/2969.jpg',\n",
       " 'unknown/2873.jpg',\n",
       " 'unknown/6651.jpg',\n",
       " 'unknown/7775.jpg',\n",
       " 'unknown/7014.jpg',\n",
       " 'unknown/1314.jpg',\n",
       " 'unknown/12118.jpg',\n",
       " 'unknown/12380.jpg',\n",
       " 'unknown/7441.jpg',\n",
       " 'unknown/12443.jpg',\n",
       " 'unknown/9157.jpg',\n",
       " 'unknown/6336.jpg',\n",
       " 'unknown/2205.jpg',\n",
       " 'unknown/8131.jpg',\n",
       " 'unknown/5498.jpg',\n",
       " 'unknown/5606.jpg',\n",
       " 'unknown/7971.jpg',\n",
       " 'unknown/8252.jpg',\n",
       " 'unknown/3963.jpg',\n",
       " 'unknown/1250.jpg',\n",
       " 'unknown/6552.jpg',\n",
       " 'unknown/8254.jpg',\n",
       " 'unknown/246.jpg',\n",
       " 'unknown/3216.jpg',\n",
       " 'unknown/12448.jpg',\n",
       " 'unknown/6777.jpg',\n",
       " 'unknown/7846.jpg',\n",
       " 'unknown/2889.jpg',\n",
       " 'unknown/10338.jpg',\n",
       " 'unknown/6437.jpg',\n",
       " 'unknown/10872.jpg',\n",
       " 'unknown/3225.jpg',\n",
       " 'unknown/10073.jpg',\n",
       " 'unknown/3146.jpg',\n",
       " 'unknown/873.jpg',\n",
       " 'unknown/11340.jpg',\n",
       " 'unknown/11276.jpg',\n",
       " 'unknown/10037.jpg',\n",
       " 'unknown/11733.jpg',\n",
       " 'unknown/53.jpg',\n",
       " 'unknown/7222.jpg',\n",
       " 'unknown/10452.jpg',\n",
       " 'unknown/51.jpg',\n",
       " 'unknown/1130.jpg',\n",
       " 'unknown/10959.jpg',\n",
       " 'unknown/11674.jpg',\n",
       " 'unknown/8656.jpg',\n",
       " 'unknown/11263.jpg',\n",
       " 'unknown/7658.jpg',\n",
       " 'unknown/10253.jpg',\n",
       " 'unknown/1385.jpg',\n",
       " 'unknown/11597.jpg',\n",
       " 'unknown/71.jpg',\n",
       " 'unknown/10827.jpg',\n",
       " 'unknown/10552.jpg',\n",
       " 'unknown/7997.jpg',\n",
       " 'unknown/4580.jpg',\n",
       " 'unknown/3834.jpg',\n",
       " 'unknown/593.jpg',\n",
       " 'unknown/5169.jpg',\n",
       " 'unknown/7106.jpg',\n",
       " 'unknown/6979.jpg',\n",
       " 'unknown/11500.jpg',\n",
       " 'unknown/2880.jpg',\n",
       " 'unknown/11084.jpg',\n",
       " 'unknown/602.jpg',\n",
       " 'unknown/10800.jpg',\n",
       " 'unknown/345.jpg',\n",
       " 'unknown/4295.jpg',\n",
       " 'unknown/1641.jpg',\n",
       " 'unknown/11371.jpg',\n",
       " 'unknown/6527.jpg',\n",
       " 'unknown/3428.jpg',\n",
       " 'unknown/638.jpg',\n",
       " 'unknown/9736.jpg',\n",
       " 'unknown/9111.jpg',\n",
       " 'unknown/5704.jpg',\n",
       " 'unknown/487.jpg',\n",
       " 'unknown/11892.jpg',\n",
       " 'unknown/242.jpg',\n",
       " 'unknown/3726.jpg',\n",
       " 'unknown/4634.jpg',\n",
       " 'unknown/4798.jpg',\n",
       " 'unknown/5116.jpg',\n",
       " 'unknown/11051.jpg',\n",
       " 'unknown/6923.jpg',\n",
       " 'unknown/6209.jpg',\n",
       " 'unknown/12074.jpg',\n",
       " 'unknown/1547.jpg',\n",
       " 'unknown/9694.jpg',\n",
       " 'unknown/5582.jpg',\n",
       " 'unknown/9668.jpg',\n",
       " 'unknown/4504.jpg',\n",
       " 'unknown/1320.jpg',\n",
       " 'unknown/12151.jpg',\n",
       " 'unknown/730.jpg',\n",
       " 'unknown/5522.jpg',\n",
       " 'unknown/5096.jpg',\n",
       " 'unknown/7623.jpg',\n",
       " 'unknown/9243.jpg',\n",
       " 'unknown/1639.jpg',\n",
       " 'unknown/1620.jpg',\n",
       " 'unknown/2302.jpg',\n",
       " 'unknown/7000.jpg',\n",
       " 'unknown/441.jpg',\n",
       " 'unknown/9058.jpg',\n",
       " 'unknown/4985.jpg',\n",
       " 'unknown/410.jpg',\n",
       " 'unknown/9634.jpg',\n",
       " 'unknown/8515.jpg',\n",
       " 'unknown/9150.jpg',\n",
       " 'unknown/1794.jpg',\n",
       " 'unknown/10923.jpg',\n",
       " 'unknown/8953.jpg',\n",
       " 'unknown/10320.jpg',\n",
       " 'unknown/6741.jpg',\n",
       " 'unknown/1592.jpg',\n",
       " 'unknown/12112.jpg',\n",
       " 'unknown/7449.jpg',\n",
       " 'unknown/9767.jpg',\n",
       " 'unknown/10446.jpg',\n",
       " 'unknown/1245.jpg',\n",
       " 'unknown/10689.jpg',\n",
       " 'unknown/10185.jpg',\n",
       " 'unknown/9471.jpg',\n",
       " 'unknown/2707.jpg',\n",
       " 'unknown/12218.jpg',\n",
       " 'unknown/10315.jpg',\n",
       " 'unknown/6590.jpg',\n",
       " 'unknown/11551.jpg',\n",
       " 'unknown/7372.jpg',\n",
       " 'unknown/8837.jpg',\n",
       " 'unknown/5619.jpg',\n",
       " 'unknown/10189.jpg',\n",
       " 'unknown/6065.jpg',\n",
       " 'unknown/2850.jpg',\n",
       " 'unknown/131.jpg',\n",
       " 'unknown/575.jpg',\n",
       " 'unknown/174.jpg',\n",
       " 'unknown/9655.jpg',\n",
       " 'unknown/1486.jpg',\n",
       " 'unknown/6562.jpg',\n",
       " 'unknown/10013.jpg',\n",
       " 'unknown/5818.jpg',\n",
       " 'unknown/5359.jpg',\n",
       " 'unknown/7419.jpg',\n",
       " 'unknown/2257.jpg',\n",
       " 'unknown/9565.jpg',\n",
       " 'unknown/6581.jpg',\n",
       " 'unknown/8382.jpg',\n",
       " 'unknown/11767.jpg',\n",
       " 'unknown/3048.jpg',\n",
       " 'unknown/7068.jpg',\n",
       " 'unknown/5666.jpg',\n",
       " 'unknown/380.jpg',\n",
       " 'unknown/9254.jpg',\n",
       " 'unknown/5500.jpg',\n",
       " 'unknown/11239.jpg',\n",
       " 'unknown/9297.jpg',\n",
       " 'unknown/8793.jpg',\n",
       " 'unknown/10003.jpg',\n",
       " 'unknown/9652.jpg',\n",
       " 'unknown/4866.jpg',\n",
       " 'unknown/6617.jpg',\n",
       " 'unknown/6515.jpg',\n",
       " 'unknown/589.jpg',\n",
       " 'unknown/2064.jpg',\n",
       " 'unknown/3198.jpg',\n",
       " 'unknown/5638.jpg',\n",
       " 'unknown/8721.jpg',\n",
       " 'unknown/5832.jpg',\n",
       " 'unknown/9394.jpg',\n",
       " 'unknown/3852.jpg',\n",
       " 'unknown/199.jpg',\n",
       " 'unknown/975.jpg',\n",
       " 'unknown/6385.jpg',\n",
       " 'unknown/3767.jpg',\n",
       " 'unknown/11427.jpg',\n",
       " 'unknown/710.jpg',\n",
       " 'unknown/516.jpg',\n",
       " 'unknown/4061.jpg',\n",
       " 'unknown/7479.jpg',\n",
       " 'unknown/7956.jpg',\n",
       " 'unknown/1241.jpg',\n",
       " 'unknown/8288.jpg',\n",
       " 'unknown/9473.jpg',\n",
       " 'unknown/2312.jpg',\n",
       " 'unknown/8234.jpg',\n",
       " 'unknown/2404.jpg',\n",
       " 'unknown/10663.jpg',\n",
       " 'unknown/6443.jpg',\n",
       " 'unknown/1763.jpg',\n",
       " 'unknown/1268.jpg',\n",
       " 'unknown/7287.jpg',\n",
       " 'unknown/7854.jpg',\n",
       " 'unknown/2162.jpg',\n",
       " 'unknown/1883.jpg',\n",
       " 'unknown/8576.jpg',\n",
       " 'unknown/12253.jpg',\n",
       " 'unknown/8322.jpg',\n",
       " 'unknown/2255.jpg',\n",
       " 'unknown/2291.jpg',\n",
       " 'unknown/1009.jpg',\n",
       " 'unknown/4851.jpg',\n",
       " 'unknown/2684.jpg',\n",
       " 'unknown/6542.jpg',\n",
       " 'unknown/9001.jpg',\n",
       " 'unknown/9992.jpg',\n",
       " 'unknown/3268.jpg',\n",
       " 'unknown/8177.jpg',\n",
       " 'unknown/5583.jpg',\n",
       " 'unknown/5787.jpg',\n",
       " 'unknown/7606.jpg',\n",
       " 'unknown/1821.jpg',\n",
       " 'unknown/2882.jpg',\n",
       " 'unknown/888.jpg',\n",
       " 'unknown/3780.jpg',\n",
       " 'unknown/7821.jpg',\n",
       " 'unknown/9308.jpg',\n",
       " 'unknown/10648.jpg',\n",
       " 'unknown/6608.jpg',\n",
       " 'unknown/5032.jpg',\n",
       " 'unknown/1707.jpg',\n",
       " 'unknown/1787.jpg',\n",
       " 'unknown/513.jpg',\n",
       " 'unknown/2567.jpg',\n",
       " 'unknown/254.jpg',\n",
       " 'unknown/3103.jpg',\n",
       " 'unknown/1331.jpg',\n",
       " 'unknown/494.jpg',\n",
       " 'unknown/6170.jpg',\n",
       " 'unknown/5574.jpg',\n",
       " 'unknown/10675.jpg',\n",
       " 'unknown/10665.jpg',\n",
       " 'unknown/2419.jpg',\n",
       " 'unknown/8637.jpg',\n",
       " 'unknown/1101.jpg',\n",
       " 'unknown/12463.jpg',\n",
       " 'unknown/3504.jpg',\n",
       " 'unknown/4520.jpg',\n",
       " 'unknown/8389.jpg',\n",
       " 'unknown/3041.jpg',\n",
       " 'unknown/6115.jpg',\n",
       " 'unknown/2824.jpg',\n",
       " 'unknown/2658.jpg',\n",
       " 'unknown/8965.jpg',\n",
       " 'unknown/1.jpg',\n",
       " 'unknown/2123.jpg',\n",
       " 'unknown/2922.jpg',\n",
       " 'unknown/10298.jpg',\n",
       " 'unknown/6212.jpg',\n",
       " 'unknown/3784.jpg',\n",
       " 'unknown/5994.jpg',\n",
       " 'unknown/8397.jpg',\n",
       " 'unknown/11896.jpg',\n",
       " 'unknown/4208.jpg',\n",
       " 'unknown/4374.jpg',\n",
       " 'unknown/9442.jpg',\n",
       " 'unknown/4976.jpg',\n",
       " 'unknown/10846.jpg',\n",
       " 'unknown/11866.jpg',\n",
       " 'unknown/2461.jpg',\n",
       " 'unknown/4575.jpg',\n",
       " 'unknown/5884.jpg',\n",
       " 'unknown/2720.jpg',\n",
       " 'unknown/10199.jpg',\n",
       " 'unknown/11901.jpg',\n",
       " 'unknown/8701.jpg',\n",
       " 'unknown/11665.jpg',\n",
       " 'unknown/5166.jpg',\n",
       " 'unknown/2185.jpg',\n",
       " 'unknown/6922.jpg',\n",
       " 'unknown/8763.jpg',\n",
       " 'unknown/2356.jpg',\n",
       " 'unknown/6471.jpg',\n",
       " 'unknown/11594.jpg',\n",
       " 'unknown/11578.jpg',\n",
       " 'unknown/5890.jpg',\n",
       " 'unknown/204.jpg',\n",
       " 'unknown/5784.jpg',\n",
       " 'unknown/2628.jpg',\n",
       " 'unknown/4646.jpg',\n",
       " 'unknown/6260.jpg',\n",
       " 'unknown/2531.jpg',\n",
       " 'unknown/10146.jpg',\n",
       " 'unknown/808.jpg',\n",
       " 'unknown/11215.jpg',\n",
       " 'unknown/6686.jpg',\n",
       " 'unknown/707.jpg',\n",
       " 'unknown/9421.jpg',\n",
       " 'unknown/4343.jpg',\n",
       " 'unknown/11793.jpg',\n",
       " 'unknown/447.jpg',\n",
       " 'unknown/2283.jpg',\n",
       " 'unknown/5235.jpg',\n",
       " 'unknown/10245.jpg',\n",
       " 'unknown/5366.jpg',\n",
       " 'unknown/6825.jpg',\n",
       " 'unknown/3239.jpg',\n",
       " 'unknown/11581.jpg',\n",
       " 'unknown/1880.jpg',\n",
       " 'unknown/4399.jpg',\n",
       " 'unknown/10540.jpg',\n",
       " 'unknown/10607.jpg',\n",
       " 'unknown/5711.jpg',\n",
       " 'unknown/6724.jpg',\n",
       " 'unknown/10832.jpg',\n",
       " 'unknown/9772.jpg',\n",
       " 'unknown/5439.jpg',\n",
       " 'unknown/7209.jpg',\n",
       " 'unknown/11571.jpg',\n",
       " 'unknown/1086.jpg',\n",
       " 'unknown/9725.jpg',\n",
       " 'unknown/2306.jpg',\n",
       " 'unknown/10681.jpg',\n",
       " 'unknown/11479.jpg',\n",
       " 'unknown/5886.jpg',\n",
       " 'unknown/7231.jpg',\n",
       " 'unknown/4906.jpg',\n",
       " 'unknown/5804.jpg',\n",
       " 'unknown/5293.jpg',\n",
       " 'unknown/7512.jpg',\n",
       " 'unknown/316.jpg',\n",
       " 'unknown/408.jpg',\n",
       " 'unknown/5269.jpg',\n",
       " 'unknown/5271.jpg',\n",
       " 'unknown/3975.jpg',\n",
       " 'unknown/4842.jpg',\n",
       " 'unknown/4366.jpg',\n",
       " 'unknown/1598.jpg',\n",
       " 'unknown/11727.jpg',\n",
       " 'unknown/12052.jpg',\n",
       " 'unknown/8904.jpg',\n",
       " 'unknown/5154.jpg',\n",
       " 'unknown/10493.jpg',\n",
       " 'unknown/4100.jpg',\n",
       " 'unknown/3179.jpg',\n",
       " 'unknown/6475.jpg',\n",
       " 'unknown/149.jpg',\n",
       " 'unknown/11589.jpg',\n",
       " 'unknown/4972.jpg',\n",
       " 'unknown/2536.jpg',\n",
       " 'unknown/9724.jpg',\n",
       " 'unknown/9616.jpg',\n",
       " 'unknown/10808.jpg',\n",
       " 'unknown/8333.jpg',\n",
       " 'unknown/8273.jpg',\n",
       " 'unknown/10197.jpg',\n",
       " 'unknown/12033.jpg',\n",
       " 'unknown/7260.jpg',\n",
       " 'unknown/12290.jpg',\n",
       " 'unknown/4266.jpg',\n",
       " 'unknown/3996.jpg',\n",
       " 'unknown/8498.jpg',\n",
       " 'unknown/10756.jpg',\n",
       " 'unknown/11922.jpg',\n",
       " 'unknown/12239.jpg',\n",
       " 'unknown/8776.jpg',\n",
       " 'unknown/11641.jpg',\n",
       " 'unknown/10128.jpg',\n",
       " 'unknown/10662.jpg',\n",
       " 'unknown/9521.jpg',\n",
       " 'unknown/2373.jpg',\n",
       " 'unknown/11891.jpg',\n",
       " 'unknown/105.jpg',\n",
       " 'unknown/322.jpg',\n",
       " 'unknown/4090.jpg',\n",
       " 'unknown/990.jpg',\n",
       " 'unknown/1985.jpg',\n",
       " 'unknown/5922.jpg',\n",
       " 'unknown/1464.jpg',\n",
       " 'unknown/5662.jpg',\n",
       " 'unknown/7482.jpg',\n",
       " 'unknown/2182.jpg',\n",
       " 'unknown/4675.jpg',\n",
       " 'unknown/7960.jpg',\n",
       " 'unknown/9086.jpg',\n",
       " 'unknown/4299.jpg',\n",
       " 'unknown/6235.jpg',\n",
       " 'unknown/1247.jpg',\n",
       " 'unknown/2594.jpg',\n",
       " 'unknown/1974.jpg',\n",
       " 'unknown/10700.jpg',\n",
       " 'unknown/11627.jpg',\n",
       " 'unknown/4562.jpg',\n",
       " 'unknown/8668.jpg',\n",
       " 'unknown/10929.jpg',\n",
       " 'unknown/7418.jpg',\n",
       " 'unknown/6056.jpg',\n",
       " 'unknown/4019.jpg',\n",
       " 'unknown/10831.jpg',\n",
       " 'unknown/7777.jpg',\n",
       " 'unknown/677.jpg',\n",
       " 'unknown/2888.jpg',\n",
       " 'unknown/770.jpg',\n",
       " 'unknown/903.jpg',\n",
       " 'unknown/1391.jpg',\n",
       " 'unknown/4526.jpg',\n",
       " 'unknown/11327.jpg',\n",
       " 'unknown/8488.jpg',\n",
       " 'unknown/11815.jpg',\n",
       " 'unknown/4808.jpg',\n",
       " 'unknown/11052.jpg',\n",
       " 'unknown/5594.jpg',\n",
       " 'unknown/6166.jpg',\n",
       " 'unknown/6046.jpg',\n",
       " 'unknown/6183.jpg',\n",
       " 'unknown/776.jpg',\n",
       " 'unknown/4829.jpg',\n",
       " 'unknown/10534.jpg',\n",
       " 'unknown/5129.jpg',\n",
       " 'unknown/9490.jpg',\n",
       " 'unknown/4448.jpg',\n",
       " 'unknown/11739.jpg',\n",
       " 'unknown/6942.jpg',\n",
       " 'unknown/5051.jpg',\n",
       " 'unknown/6103.jpg',\n",
       " 'unknown/2464.jpg',\n",
       " 'unknown/7132.jpg',\n",
       " 'unknown/6573.jpg',\n",
       " 'unknown/6489.jpg',\n",
       " 'unknown/6095.jpg',\n",
       " 'unknown/644.jpg',\n",
       " 'unknown/2547.jpg',\n",
       " 'unknown/8478.jpg',\n",
       " 'unknown/11065.jpg',\n",
       " 'unknown/3686.jpg',\n",
       " 'unknown/6172.jpg',\n",
       " 'unknown/179.jpg',\n",
       " 'unknown/10477.jpg',\n",
       " 'unknown/4895.jpg',\n",
       " 'unknown/3244.jpg',\n",
       " 'unknown/11868.jpg',\n",
       " 'unknown/2416.jpg',\n",
       " 'unknown/5208.jpg',\n",
       " 'unknown/3649.jpg',\n",
       " 'unknown/7573.jpg',\n",
       " 'unknown/8020.jpg',\n",
       " 'unknown/231.jpg',\n",
       " 'unknown/1628.jpg',\n",
       " 'unknown/81.jpg',\n",
       " 'unknown/8044.jpg',\n",
       " 'unknown/8094.jpg',\n",
       " 'unknown/855.jpg',\n",
       " 'unknown/9936.jpg',\n",
       " 'unknown/9518.jpg',\n",
       " 'unknown/11912.jpg',\n",
       " 'unknown/804.jpg',\n",
       " 'unknown/891.jpg',\n",
       " 'unknown/5805.jpg',\n",
       " 'unknown/10519.jpg',\n",
       " 'unknown/8339.jpg',\n",
       " 'unknown/7608.jpg',\n",
       " 'unknown/10362.jpg',\n",
       " 'unknown/2582.jpg',\n",
       " 'unknown/7655.jpg',\n",
       " 'unknown/7359.jpg',\n",
       " 'unknown/10697.jpg',\n",
       " 'unknown/7651.jpg',\n",
       " 'unknown/7769.jpg',\n",
       " 'unknown/1459.jpg',\n",
       " 'unknown/10596.jpg',\n",
       " 'unknown/3237.jpg',\n",
       " 'unknown/9527.jpg',\n",
       " 'unknown/3875.jpg',\n",
       " 'unknown/10015.jpg',\n",
       " 'unknown/9340.jpg',\n",
       " 'unknown/3615.jpg',\n",
       " 'unknown/6208.jpg',\n",
       " 'unknown/6400.jpg',\n",
       " 'unknown/3636.jpg',\n",
       " 'unknown/432.jpg',\n",
       " 'unknown/5420.jpg',\n",
       " 'unknown/757.jpg',\n",
       " 'unknown/6960.jpg',\n",
       " 'unknown/11523.jpg',\n",
       " 'unknown/6665.jpg',\n",
       " 'unknown/3876.jpg',\n",
       " 'unknown/2395.jpg',\n",
       " 'unknown/3689.jpg',\n",
       " 'unknown/824.jpg',\n",
       " 'unknown/4704.jpg',\n",
       " 'unknown/9683.jpg',\n",
       " 'unknown/11626.jpg',\n",
       " 'unknown/4292.jpg',\n",
       " 'unknown/2499.jpg',\n",
       " 'unknown/2207.jpg',\n",
       " 'unknown/11703.jpg',\n",
       " 'unknown/7056.jpg',\n",
       " 'unknown/11849.jpg',\n",
       " 'unknown/6816.jpg',\n",
       " 'unknown/10350.jpg',\n",
       " 'unknown/5508.jpg',\n",
       " 'unknown/6353.jpg',\n",
       " 'unknown/9281.jpg',\n",
       " 'unknown/7316.jpg',\n",
       " 'unknown/2355.jpg',\n",
       " 'unknown/9098.jpg',\n",
       " 'unknown/11728.jpg',\n",
       " 'unknown/630.jpg',\n",
       " 'unknown/1652.jpg',\n",
       " 'unknown/798.jpg',\n",
       " 'unknown/4800.jpg',\n",
       " 'unknown/4430.jpg',\n",
       " 'unknown/4157.jpg',\n",
       " 'unknown/6555.jpg',\n",
       " 'unknown/11313.jpg',\n",
       " 'unknown/6505.jpg',\n",
       " 'unknown/752.jpg',\n",
       " 'unknown/11732.jpg',\n",
       " 'unknown/3904.jpg',\n",
       " 'unknown/7403.jpg',\n",
       " 'unknown/3956.jpg',\n",
       " 'unknown/8608.jpg',\n",
       " 'unknown/3590.jpg',\n",
       " 'unknown/1799.jpg',\n",
       " 'unknown/7133.jpg',\n",
       " 'unknown/8105.jpg',\n",
       " 'unknown/11593.jpg',\n",
       " 'unknown/4130.jpg',\n",
       " 'unknown/8932.jpg',\n",
       " 'unknown/2357.jpg',\n",
       " 'unknown/8552.jpg',\n",
       " 'unknown/10290.jpg',\n",
       " 'unknown/3481.jpg',\n",
       " 'unknown/10940.jpg',\n",
       " 'unknown/9341.jpg',\n",
       " 'unknown/89.jpg',\n",
       " 'unknown/7746.jpg',\n",
       " 'unknown/8424.jpg',\n",
       " 'unknown/12006.jpg',\n",
       " 'unknown/7797.jpg',\n",
       " 'unknown/11788.jpg',\n",
       " 'unknown/1506.jpg',\n",
       " 'unknown/8315.jpg',\n",
       " 'unknown/6011.jpg',\n",
       " 'unknown/2645.jpg',\n",
       " 'unknown/2640.jpg',\n",
       " 'unknown/8426.jpg',\n",
       " 'unknown/6647.jpg',\n",
       " 'unknown/10224.jpg',\n",
       " 'unknown/7322.jpg',\n",
       " 'unknown/2280.jpg',\n",
       " 'unknown/6687.jpg',\n",
       " 'unknown/8579.jpg',\n",
       " 'unknown/5368.jpg',\n",
       " 'unknown/1454.jpg',\n",
       " 'unknown/1637.jpg',\n",
       " 'unknown/6994.jpg',\n",
       " 'unknown/6560.jpg',\n",
       " 'unknown/9598.jpg',\n",
       " 'unknown/11543.jpg',\n",
       " 'unknown/6652.jpg',\n",
       " 'unknown/2204.jpg',\n",
       " 'unknown/4917.jpg',\n",
       " 'unknown/9218.jpg',\n",
       " 'unknown/7261.jpg',\n",
       " 'unknown/6990.jpg',\n",
       " 'unknown/5159.jpg',\n",
       " 'unknown/9692.jpg',\n",
       " 'unknown/1611.jpg',\n",
       " 'unknown/6655.jpg',\n",
       " 'unknown/8052.jpg',\n",
       " 'unknown/8046.jpg',\n",
       " 'unknown/11172.jpg',\n",
       " 'unknown/11536.jpg',\n",
       " 'unknown/10429.jpg',\n",
       " 'unknown/10207.jpg',\n",
       " 'unknown/7992.jpg',\n",
       " 'unknown/6388.jpg',\n",
       " 'unknown/8168.jpg',\n",
       " 'unknown/6413.jpg',\n",
       " 'unknown/4378.jpg',\n",
       " 'unknown/10083.jpg',\n",
       " 'unknown/1656.jpg',\n",
       " 'unknown/3129.jpg',\n",
       " 'unknown/10841.jpg',\n",
       " 'unknown/11200.jpg',\n",
       " 'unknown/449.jpg',\n",
       " 'unknown/8147.jpg',\n",
       " 'unknown/8952.jpg',\n",
       " 'unknown/7497.jpg',\n",
       " 'unknown/6394.jpg',\n",
       " 'unknown/2641.jpg',\n",
       " 'unknown/9896.jpg',\n",
       " 'unknown/2743.jpg',\n",
       " 'unknown/8214.jpg',\n",
       " 'unknown/12172.jpg',\n",
       " 'unknown/79.jpg',\n",
       " 'unknown/1134.jpg',\n",
       " 'unknown/10879.jpg',\n",
       " 'unknown/755.jpg',\n",
       " 'unknown/2083.jpg',\n",
       " 'unknown/372.jpg',\n",
       " 'unknown/11114.jpg',\n",
       " 'unknown/8280.jpg',\n",
       " 'unknown/4085.jpg',\n",
       " 'unknown/9452.jpg',\n",
       " 'unknown/6863.jpg',\n",
       " 'unknown/9484.jpg',\n",
       " 'unknown/6556.jpg',\n",
       " 'unknown/8524.jpg',\n",
       " 'unknown/10775.jpg',\n",
       " 'unknown/8597.jpg',\n",
       " 'unknown/9028.jpg',\n",
       " 'unknown/1670.jpg',\n",
       " 'unknown/3648.jpg',\n",
       " 'unknown/5060.jpg',\n",
       " 'unknown/7652.jpg',\n",
       " 'unknown/9130.jpg',\n",
       " 'unknown/8887.jpg',\n",
       " 'unknown/8540.jpg',\n",
       " 'unknown/10893.jpg',\n",
       " 'unknown/5350.jpg',\n",
       " 'unknown/5073.jpg',\n",
       " 'unknown/8813.jpg',\n",
       " 'unknown/8917.jpg',\n",
       " 'unknown/576.jpg',\n",
       " 'unknown/2470.jpg',\n",
       " 'unknown/7779.jpg',\n",
       " 'unknown/10786.jpg',\n",
       " 'unknown/9280.jpg',\n",
       " 'unknown/11663.jpg',\n",
       " 'unknown/2845.jpg',\n",
       " 'unknown/9542.jpg',\n",
       " 'unknown/7820.jpg',\n",
       " 'unknown/1920.jpg',\n",
       " 'unknown/11823.jpg',\n",
       " 'unknown/1806.jpg',\n",
       " 'unknown/12296.jpg',\n",
       " 'unknown/2223.jpg',\n",
       " 'unknown/5252.jpg',\n",
       " 'unknown/1184.jpg',\n",
       " 'unknown/3480.jpg',\n",
       " 'unknown/265.jpg',\n",
       " 'unknown/3252.jpg',\n",
       " 'unknown/11273.jpg',\n",
       " 'unknown/7459.jpg',\n",
       " 'unknown/5731.jpg',\n",
       " 'unknown/9325.jpg',\n",
       " 'unknown/9929.jpg',\n",
       " 'unknown/6040.jpg',\n",
       " 'unknown/6487.jpg',\n",
       " 'unknown/3859.jpg',\n",
       " 'unknown/5088.jpg',\n",
       " 'unknown/9674.jpg',\n",
       " 'unknown/9686.jpg',\n",
       " 'unknown/3700.jpg',\n",
       " 'unknown/10593.jpg',\n",
       " 'unknown/7505.jpg',\n",
       " 'unknown/9905.jpg',\n",
       " 'unknown/6222.jpg',\n",
       " 'unknown/474.jpg',\n",
       " 'unknown/887.jpg',\n",
       " 'unknown/8660.jpg',\n",
       " 'unknown/9128.jpg',\n",
       " 'unknown/5988.jpg',\n",
       " 'unknown/5104.jpg',\n",
       " 'unknown/3495.jpg',\n",
       " 'unknown/9470.jpg',\n",
       " 'unknown/10901.jpg',\n",
       " 'unknown/9809.jpg',\n",
       " 'unknown/1940.jpg',\n",
       " 'unknown/11667.jpg',\n",
       " 'unknown/11908.jpg',\n",
       " 'unknown/3251.jpg',\n",
       " 'unknown/6459.jpg',\n",
       " 'unknown/7963.jpg',\n",
       " 'unknown/6504.jpg',\n",
       " 'unknown/1107.jpg',\n",
       " 'unknown/477.jpg',\n",
       " 'unknown/2154.jpg',\n",
       " 'unknown/11086.jpg',\n",
       " 'unknown/12484.jpg',\n",
       " 'unknown/2986.jpg',\n",
       " 'unknown/9947.jpg',\n",
       " 'unknown/10824.jpg',\n",
       " 'unknown/3003.jpg',\n",
       " 'unknown/2161.jpg',\n",
       " 'unknown/12352.jpg',\n",
       " 'unknown/6837.jpg',\n",
       " 'unknown/10163.jpg',\n",
       " 'unknown/9017.jpg',\n",
       " 'unknown/5526.jpg',\n",
       " 'unknown/1472.jpg',\n",
       " 'unknown/6010.jpg',\n",
       " 'unknown/4515.jpg',\n",
       " 'unknown/3449.jpg',\n",
       " 'unknown/2177.jpg',\n",
       " 'unknown/7740.jpg',\n",
       " 'unknown/7473.jpg',\n",
       " 'unknown/2817.jpg',\n",
       " 'unknown/2515.jpg',\n",
       " 'unknown/8558.jpg',\n",
       " 'unknown/4939.jpg',\n",
       " 'unknown/1712.jpg',\n",
       " 'unknown/7667.jpg',\n",
       " 'unknown/5254.jpg',\n",
       " 'unknown/1657.jpg',\n",
       " 'unknown/5736.jpg',\n",
       " 'unknown/8304.jpg',\n",
       " 'unknown/9499.jpg',\n",
       " 'unknown/6453.jpg',\n",
       " 'unknown/2103.jpg',\n",
       " 'unknown/5347.jpg',\n",
       " 'unknown/5342.jpg',\n",
       " 'unknown/7385.jpg',\n",
       " 'unknown/3782.jpg',\n",
       " 'unknown/7154.jpg',\n",
       " 'unknown/597.jpg',\n",
       " 'unknown/1424.jpg',\n",
       " 'unknown/8546.jpg',\n",
       " 'unknown/7410.jpg',\n",
       " 'unknown/2408.jpg',\n",
       " 'unknown/1279.jpg',\n",
       " 'unknown/10255.jpg',\n",
       " 'unknown/10469.jpg',\n",
       " 'unknown/11993.jpg',\n",
       " 'unknown/6271.jpg',\n",
       " 'unknown/12297.jpg',\n",
       " 'unknown/3040.jpg',\n",
       " 'unknown/733.jpg',\n",
       " 'unknown/4660.jpg',\n",
       " 'unknown/1242.jpg',\n",
       " 'unknown/5833.jpg',\n",
       " 'unknown/10708.jpg',\n",
       " 'unknown/7451.jpg',\n",
       " 'unknown/4743.jpg',\n",
       " 'unknown/4011.jpg',\n",
       " 'unknown/6238.jpg',\n",
       " 'unknown/7047.jpg',\n",
       " 'unknown/1723.jpg',\n",
       " 'unknown/10260.jpg',\n",
       " 'unknown/11971.jpg',\n",
       " 'unknown/9659.jpg',\n",
       " 'unknown/8374.jpg',\n",
       " 'unknown/7412.jpg',\n",
       " 'unknown/5178.jpg',\n",
       " 'unknown/7812.jpg',\n",
       " 'unknown/9274.jpg',\n",
       " 'unknown/229.jpg',\n",
       " 'unknown/7701.jpg',\n",
       " 'unknown/1762.jpg',\n",
       " 'unknown/9935.jpg',\n",
       " 'unknown/11001.jpg',\n",
       " 'unknown/5899.jpg',\n",
       " 'unknown/2021.jpg',\n",
       " 'unknown/2616.jpg',\n",
       " 'unknown/7374.jpg',\n",
       " 'unknown/4286.jpg',\n",
       " 'unknown/11542.jpg',\n",
       " 'unknown/8499.jpg',\n",
       " 'unknown/3663.jpg',\n",
       " 'unknown/9942.jpg',\n",
       " 'unknown/5292.jpg',\n",
       " 'unknown/3612.jpg',\n",
       " 'unknown/5207.jpg',\n",
       " 'unknown/9663.jpg',\n",
       " 'unknown/3944.jpg',\n",
       " 'unknown/8768.jpg',\n",
       " 'unknown/4081.jpg',\n",
       " 'unknown/8957.jpg',\n",
       " 'unknown/6229.jpg',\n",
       " 'unknown/4183.jpg',\n",
       " 'unknown/4290.jpg',\n",
       " 'unknown/1465.jpg',\n",
       " 'unknown/7380.jpg',\n",
       " 'unknown/1186.jpg',\n",
       " 'unknown/4373.jpg',\n",
       " 'unknown/1870.jpg',\n",
       " 'unknown/9792.jpg',\n",
       " 'unknown/11836.jpg',\n",
       " 'unknown/7849.jpg',\n",
       " 'unknown/6917.jpg',\n",
       " 'unknown/9314.jpg',\n",
       " 'unknown/9759.jpg',\n",
       " 'unknown/3639.jpg',\n",
       " 'unknown/11473.jpg',\n",
       " 'unknown/5817.jpg',\n",
       " 'unknown/2134.jpg',\n",
       " 'unknown/2187.jpg',\n",
       " 'unknown/6191.jpg',\n",
       " 'unknown/10836.jpg',\n",
       " 'unknown/7103.jpg',\n",
       " 'unknown/6800.jpg',\n",
       " 'unknown/11645.jpg',\n",
       " 'unknown/2712.jpg',\n",
       " 'unknown/8862.jpg',\n",
       " 'unknown/10051.jpg',\n",
       " 'unknown/3711.jpg',\n",
       " 'unknown/11917.jpg',\n",
       " 'unknown/8939.jpg',\n",
       " 'unknown/639.jpg',\n",
       " 'unknown/4006.jpg',\n",
       " 'unknown/3488.jpg',\n",
       " 'unknown/3227.jpg',\n",
       " 'unknown/5727.jpg',\n",
       " 'unknown/6325.jpg',\n",
       " 'unknown/6016.jpg',\n",
       " 'unknown/11105.jpg',\n",
       " 'unknown/9106.jpg',\n",
       " 'unknown/8998.jpg',\n",
       " 'unknown/5056.jpg',\n",
       " 'unknown/10312.jpg',\n",
       " 'unknown/1861.jpg',\n",
       " 'unknown/8403.jpg',\n",
       " 'unknown/11219.jpg',\n",
       " 'unknown/735.jpg',\n",
       " 'unknown/9880.jpg',\n",
       " 'unknown/11884.jpg',\n",
       " 'unknown/5869.jpg',\n",
       " 'unknown/4804.jpg',\n",
       " 'unknown/8704.jpg',\n",
       " 'unknown/10050.jpg',\n",
       " 'unknown/2788.jpg',\n",
       " 'unknown/1316.jpg',\n",
       " 'unknown/6178.jpg',\n",
       " 'unknown/5946.jpg',\n",
       " 'unknown/6434.jpg',\n",
       " 'unknown/9013.jpg',\n",
       " 'unknown/1585.jpg',\n",
       " 'unknown/4375.jpg',\n",
       " 'unknown/15.jpg',\n",
       " ...]"
      ]
     },
     "execution_count": 81,
     "metadata": {},
     "output_type": "execute_result"
    }
   ],
   "source": [
    "real_test_gen.filenames"
   ]
  },
  {
   "cell_type": "code",
   "execution_count": 82,
   "metadata": {},
   "outputs": [
    {
     "data": {
      "text/plain": [
       "array([[  1.26097351e-01,   8.73902619e-01],\n",
       "       [  6.56247437e-01,   3.43752593e-01],\n",
       "       [  9.99993682e-01,   6.37370294e-06],\n",
       "       ..., \n",
       "       [  9.82342303e-01,   1.76576339e-02],\n",
       "       [  6.85118139e-01,   3.14881861e-01],\n",
       "       [  9.83730018e-01,   1.62699725e-02]], dtype=float32)"
      ]
     },
     "execution_count": 82,
     "metadata": {},
     "output_type": "execute_result"
    }
   ],
   "source": [
    "test_pred_all"
   ]
  },
  {
   "cell_type": "code",
   "execution_count": 83,
   "metadata": {},
   "outputs": [
    {
     "data": {
      "image/jpeg": "[encoded data removed]",
      "text/plain": [
       "<IPython.core.display.Image object>"
      ]
     },
     "execution_count": 83,
     "metadata": {},
     "output_type": "execute_result"
    }
   ],
   "source": [
    "img_path = '/home/ubuntu/lesson1/data/redux/test1/unknown/12309.jpg'\n",
    "Image(filename=img_path)"
   ]
  },
  {
   "cell_type": "code",
   "execution_count": 84,
   "metadata": {},
   "outputs": [
    {
     "data": {
      "image/jpeg": "[encoded data removed]",
      "text/plain": [
       "<IPython.core.display.Image object>"
      ]
     },
     "execution_count": 84,
     "metadata": {},
     "output_type": "execute_result"
    }
   ],
   "source": [
    "img_path = '/home/ubuntu/lesson1/data/redux/test1/unknown/10438.jpg'\n",
    "Image(filename=img_path)"
   ]
  },
  {
   "cell_type": "code",
   "execution_count": 85,
   "metadata": {},
   "outputs": [
    {
     "data": {
      "text/plain": [
       "array(['0.874000012875', '0.344000011683', '0.0', ..., '0.0179999992251',\n",
       "       '0.314999997616', '0.01600000076'], \n",
       "      dtype='|S32')"
      ]
     },
     "execution_count": 85,
     "metadata": {},
     "output_type": "execute_result"
    }
   ],
   "source": [
    "all_preds[:,1]"
   ]
  },
  {
   "cell_type": "code",
   "execution_count": 86,
   "metadata": {},
   "outputs": [
    {
     "data": {
      "text/plain": [
       "array([['0.126000002027', '0.874000012875', 'unknown/10438.jpg'],\n",
       "       ['0.65600001812', '0.344000011683', 'unknown/12309.jpg'],\n",
       "       ['1.0', '0.0', 'unknown/10240.jpg'],\n",
       "       ..., \n",
       "       ['0.981999993324', '0.0179999992251', 'unknown/7979.jpg'],\n",
       "       ['0.685000002384', '0.314999997616', 'unknown/10148.jpg'],\n",
       "       ['0.98400002718', '0.01600000076', 'unknown/10582.jpg']], \n",
       "      dtype='|S32')"
      ]
     },
     "execution_count": 86,
     "metadata": {},
     "output_type": "execute_result"
    }
   ],
   "source": [
    "all_preds"
   ]
  },
  {
   "cell_type": "code",
   "execution_count": 109,
   "metadata": {},
   "outputs": [
    {
     "data": {
      "image/jpeg": "[encoded data removed]",
      "text/plain": [
       "<IPython.core.display.Image object>"
      ]
     },
     "execution_count": 109,
     "metadata": {},
     "output_type": "execute_result"
    }
   ],
   "source": [
    "img_path = '/home/ubuntu/lesson1/data/redux/test1/unknown/10438.jpg'\n",
    "Image(filename=img_path)"
   ]
  },
  {
   "cell_type": "code",
   "execution_count": 110,
   "metadata": {},
   "outputs": [
    {
     "data": {
      "image/jpeg": "[encoded data removed]",
      "text/plain": [
       "<IPython.core.display.Image object>"
      ]
     },
     "execution_count": 110,
     "metadata": {},
     "output_type": "execute_result"
    }
   ],
   "source": [
    "img_path = '/home/ubuntu/lesson1/data/redux/test1/unknown/12309.jpg'\n",
    "Image(filename=img_path)"
   ]
  },
  {
   "cell_type": "code",
   "execution_count": 111,
   "metadata": {},
   "outputs": [
    {
     "data": {
      "image/jpeg": "[encoded data removed]",
      "text/plain": [
       "<IPython.core.display.Image object>"
      ]
     },
     "execution_count": 111,
     "metadata": {},
     "output_type": "execute_result"
    }
   ],
   "source": [
    "img_path = '/home/ubuntu/lesson1/data/redux/test1/unknown/10240.jpg'\n",
    "Image(filename=img_path)"
   ]
  },
  {
   "cell_type": "code",
   "execution_count": 108,
   "metadata": {},
   "outputs": [
    {
     "data": {
      "image/jpeg": "[encoded data removed]",
      "text/plain": [
       "<IPython.core.display.Image object>"
      ]
     },
     "execution_count": 108,
     "metadata": {},
     "output_type": "execute_result"
    }
   ],
   "source": [
    "img_path = '/home/ubuntu/lesson1/data/redux/test1/unknown/7979.jpg'\n",
    "Image(filename=img_path)"
   ]
  },
  {
   "cell_type": "code",
   "execution_count": 106,
   "metadata": {},
   "outputs": [
    {
     "data": {
      "image/jpeg": "[encoded data removed]",
      "text/plain": [
       "<IPython.core.display.Image object>"
      ]
     },
     "execution_count": 106,
     "metadata": {},
     "output_type": "execute_result"
    }
   ],
   "source": [
    "img_path = '/home/ubuntu/lesson1/data/redux/test1/unknown/10148.jpg'\n",
    "Image(filename=img_path)"
   ]
  },
  {
   "cell_type": "code",
   "execution_count": 105,
   "metadata": {},
   "outputs": [
    {
     "data": {
      "image/jpeg": "[encoded data removed]",
      "text/plain": [
       "<IPython.core.display.Image object>"
      ]
     },
     "execution_count": 105,
     "metadata": {},
     "output_type": "execute_result"
    }
   ],
   "source": [
    "img_path = '/home/ubuntu/lesson1/data/redux/test1/unknown/10582.jpg'\n",
    "Image(filename=img_path)"
   ]
  },
  {
   "cell_type": "code",
   "execution_count": 88,
   "metadata": {},
   "outputs": [
    {
     "name": "stdout",
     "output_type": "stream",
     "text": [
      "[  8.73902619e-01   3.43752593e-01   6.37370294e-06 ...,   1.76576339e-02\n",
      "   3.14881861e-01   1.62699725e-02]\n"
     ]
    }
   ],
   "source": [
    "# isdog.clip(min=0.02, max=0.98)\n",
    "isdog = test_pred_all[:,1]\n",
    "print isdog\n"
   ]
  },
  {
   "cell_type": "code",
   "execution_count": 89,
   "metadata": {},
   "outputs": [
    {
     "name": "stdout",
     "output_type": "stream",
     "text": [
      "[ 0.87390262  0.34375259  0.02       ...,  0.02        0.31488186  0.02      ]\n"
     ]
    }
   ],
   "source": [
    "isdog = np.clip(isdog, 0.02, 0.98, out=isdog)\n",
    "print isdog"
   ]
  },
  {
   "cell_type": "code",
   "execution_count": 93,
   "metadata": {},
   "outputs": [
    {
     "data": {
      "text/plain": [
       "(12500,)"
      ]
     },
     "execution_count": 93,
     "metadata": {},
     "output_type": "execute_result"
    }
   ],
   "source": [
    "isdog.shape"
   ]
  },
  {
   "cell_type": "code",
   "execution_count": 94,
   "metadata": {
    "collapsed": true
   },
   "outputs": [],
   "source": [
    "filenames = real_test_gen.filenames\n",
    "ids = np.array([int(f[8:f.find('.')]) for f in filenames])"
   ]
  },
  {
   "cell_type": "code",
   "execution_count": 95,
   "metadata": {},
   "outputs": [
    {
     "data": {
      "text/plain": [
       "array([[  1.04380000e+04,   8.73902619e-01],\n",
       "       [  1.23090000e+04,   3.43752593e-01],\n",
       "       [  1.02400000e+04,   1.99999996e-02],\n",
       "       [  1.08510000e+04,   9.80000019e-01],\n",
       "       [  1.12690000e+04,   9.80000019e-01],\n",
       "       [  5.69800000e+03,   9.80000019e-01]])"
      ]
     },
     "execution_count": 95,
     "metadata": {},
     "output_type": "execute_result"
    }
   ],
   "source": [
    "subm = np.stack([ids,isdog], axis=1)\n",
    "subm[:6]"
   ]
  },
  {
   "cell_type": "code",
   "execution_count": 96,
   "metadata": {},
   "outputs": [
    {
     "name": "stdout",
     "output_type": "stream",
     "text": [
      "/home/ubuntu/lesson1/output\n"
     ]
    }
   ],
   "source": [
    "%cd /home/ubuntu/lesson1/output\n",
    "\n",
    "submission_file_name = 'vgg16b.csv'\n",
    "np.savetxt(submission_file_name, subm, fmt='%d,%.5f', header='id,label', comments='')"
   ]
  },
  {
   "cell_type": "code",
   "execution_count": 97,
   "metadata": {},
   "outputs": [
    {
     "data": {
      "text/html": [
       "<a href='/home/ubuntu/lesson1/output/vgg16b.csv' target='_blank'>/home/ubuntu/lesson1/output/vgg16b.csv</a><br>"
      ],
      "text/plain": [
       "/home/ubuntu/lesson1/output/vgg16b.csv"
      ]
     },
     "execution_count": 97,
     "metadata": {},
     "output_type": "execute_result"
    }
   ],
   "source": [
    "from IPython.display import FileLink\n",
    "FileLink('/home/ubuntu/lesson1/output/'+submission_file_name)"
   ]
  },
  {
   "cell_type": "code",
   "execution_count": null,
   "metadata": {
    "collapsed": true
   },
   "outputs": [],
   "source": []
  }
 ],
 "metadata": {
  "kernelspec": {
   "display_name": "Python 2",
   "language": "python",
   "name": "python2"
  },
  "language_info": {
   "codemirror_mode": {
    "name": "ipython",
    "version": 2
   },
   "file_extension": ".py",
   "mimetype": "text/x-python",
   "name": "python",
   "nbconvert_exporter": "python",
   "pygments_lexer": "ipython2",
   "version": "2.7.6"
  }
 },
 "nbformat": 4,
 "nbformat_minor": 2
}
