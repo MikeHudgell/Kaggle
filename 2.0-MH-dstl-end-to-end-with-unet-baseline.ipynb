{
 "cells": [
  {
   "cell_type": "code",
   "execution_count": 1,
   "metadata": {},
   "outputs": [
    {
     "name": "stderr",
     "output_type": "stream",
     "text": [
      "Using TensorFlow backend.\n"
     ]
    },
    {
     "name": "stdout",
     "output_type": "stream",
     "text": [
      "2.0.4\n"
     ]
    }
   ],
   "source": [
    "import matplotlib.pyplot as plt\n",
    "import numpy as np\n",
    "import cv2\n",
    "import pandas as pd\n",
    "from shapely.wkt import loads as wkt_loads\n",
    "import tifffile as tiff\n",
    "import os\n",
    "import random\n",
    "from keras.models import Model\n",
    "from keras.layers import Input, merge, Convolution2D, MaxPooling2D, UpSampling2D, Reshape, core, Dropout\n",
    "from keras.optimizers import Adam\n",
    "from keras.callbacks import ModelCheckpoint, LearningRateScheduler\n",
    "from keras import backend as K\n",
    "from sklearn.metrics import jaccard_similarity_score\n",
    "from shapely.geometry import MultiPolygon, Polygon\n",
    "import shapely.wkt\n",
    "import shapely.affinity\n",
    "from collections import defaultdict\n",
    "\n",
    "from keras import __version__\n",
    "print(__version__)"
   ]
  },
  {
   "cell_type": "code",
   "execution_count": 2,
   "metadata": {
    "collapsed": true
   },
   "outputs": [],
   "source": [
    "# N_Cls = 10\n",
    "N_Cls = 10\n",
    "inDir = '/home/ubuntu/data/dstl/data'\n",
    "topDir = '/home/ubuntu/data/dstl'\n",
    "DF = pd.read_csv(inDir + '/train_wkt_v4.csv')\n",
    "GS = pd.read_csv(inDir + '/grid_sizes.csv', names=['ImageId', 'Xmax', 'Ymin'], skiprows=1)\n",
    "SB = pd.read_csv(topDir + '/subm/sample_submission.csv')\n",
    "ISZ = 160\n",
    "smooth = 1e-12"
   ]
  },
  {
   "cell_type": "code",
   "execution_count": 3,
   "metadata": {},
   "outputs": [
    {
     "name": "stdout",
     "output_type": "stream",
     "text": [
      "250\n",
      "450\n",
      "4290\n"
     ]
    }
   ],
   "source": [
    "#DF = DF.loc[(DF['ClassType'] == 1)] # | (DF['ClassType'] == 2)]\n",
    "print len(DF)\n",
    "print len(GS)\n",
    "print len(SB)"
   ]
  },
  {
   "cell_type": "code",
   "execution_count": 4,
   "metadata": {
    "collapsed": true
   },
   "outputs": [],
   "source": [
    "def _convert_coordinates_to_raster(coords, img_size, xymax):\n",
    "    # __author__ = visoft\n",
    "    # https://www.kaggle.com/visoft/dstl-satellite-imagery-feature-detection/export-pixel-wise-mask\n",
    "    Xmax, Ymax = xymax\n",
    "    H, W = img_size\n",
    "    W1 = 1.0 * W * W / (W + 1)\n",
    "    H1 = 1.0 * H * H / (H + 1)\n",
    "    xf = W1 / Xmax\n",
    "    yf = H1 / Ymax\n",
    "    coords[:, 1] *= yf\n",
    "    coords[:, 0] *= xf\n",
    "    coords_int = np.round(coords).astype(np.int32)\n",
    "    return coords_int\n"
   ]
  },
  {
   "cell_type": "code",
   "execution_count": 5,
   "metadata": {
    "collapsed": true
   },
   "outputs": [],
   "source": [
    "def _get_xmax_ymin(grid_sizes_panda, imageId):\n",
    "    # __author__ = visoft\n",
    "    # https://www.kaggle.com/visoft/dstl-satellite-imagery-feature-detection/export-pixel-wise-mask\n",
    "    xmax, ymin = grid_sizes_panda[grid_sizes_panda.ImageId == imageId].iloc[0, 1:].astype(float)\n",
    "    return (xmax, ymin)\n"
   ]
  },
  {
   "cell_type": "code",
   "execution_count": 6,
   "metadata": {
    "collapsed": true
   },
   "outputs": [],
   "source": [
    "def _get_polygon_list(wkt_list_pandas, imageId, cType):\n",
    "    # __author__ = visoft\n",
    "    # https://www.kaggle.com/visoft/dstl-satellite-imagery-feature-detection/export-pixel-wise-mask\n",
    "    df_image = wkt_list_pandas[wkt_list_pandas.ImageId == imageId]\n",
    "    multipoly_def = df_image[df_image.ClassType == cType].MultipolygonWKT\n",
    "    polygonList = None\n",
    "    if len(multipoly_def) > 0:\n",
    "        assert len(multipoly_def) == 1\n",
    "        polygonList = wkt_loads(multipoly_def.values[0])\n",
    "    return polygonList\n"
   ]
  },
  {
   "cell_type": "code",
   "execution_count": 7,
   "metadata": {
    "collapsed": true
   },
   "outputs": [],
   "source": [
    "def _get_and_convert_contours(polygonList, raster_img_size, xymax):\n",
    "    # __author__ = visoft\n",
    "    # https://www.kaggle.com/visoft/dstl-satellite-imagery-feature-detection/export-pixel-wise-mask\n",
    "    perim_list = []\n",
    "    interior_list = []\n",
    "    if polygonList is None:\n",
    "        return None\n",
    "    for k in range(len(polygonList)):\n",
    "        poly = polygonList[k]\n",
    "        perim = np.array(list(poly.exterior.coords))\n",
    "        perim_c = _convert_coordinates_to_raster(perim, raster_img_size, xymax)\n",
    "        perim_list.append(perim_c)\n",
    "        for pi in poly.interiors:\n",
    "            interior = np.array(list(pi.coords))\n",
    "            interior_c = _convert_coordinates_to_raster(interior, raster_img_size, xymax)\n",
    "            interior_list.append(interior_c)\n",
    "    return perim_list, interior_list"
   ]
  },
  {
   "cell_type": "code",
   "execution_count": 8,
   "metadata": {
    "collapsed": true
   },
   "outputs": [],
   "source": [
    "def _plot_mask_from_contours(raster_img_size, contours, class_value=1):\n",
    "    # __author__ = visoft\n",
    "    # https://www.kaggle.com/visoft/dstl-satellite-imagery-feature-detection/export-pixel-wise-mask\n",
    "    img_mask = np.zeros(raster_img_size, np.uint8)\n",
    "    if contours is None:\n",
    "        return img_mask\n",
    "    perim_list, interior_list = contours\n",
    "    cv2.fillPoly(img_mask, perim_list, class_value)\n",
    "    cv2.fillPoly(img_mask, interior_list, 0)\n",
    "    return img_mask"
   ]
  },
  {
   "cell_type": "code",
   "execution_count": 9,
   "metadata": {
    "collapsed": true
   },
   "outputs": [],
   "source": [
    "def generate_mask_for_image_and_class(raster_size, imageId, class_type, grid_sizes_panda=GS, wkt_list_pandas=DF):\n",
    "    # __author__ = visoft\n",
    "    # https://www.kaggle.com/visoft/dstl-satellite-imagery-feature-detection/export-pixel-wise-mask\n",
    "    xymax = _get_xmax_ymin(grid_sizes_panda, imageId)\n",
    "    polygon_list = _get_polygon_list(wkt_list_pandas, imageId, class_type)\n",
    "    contours = _get_and_convert_contours(polygon_list, raster_size, xymax)\n",
    "    mask = _plot_mask_from_contours(raster_size, contours, 1)\n",
    "    return mask"
   ]
  },
  {
   "cell_type": "code",
   "execution_count": 10,
   "metadata": {
    "collapsed": true
   },
   "outputs": [],
   "source": [
    "\n",
    "def M(image_id):\n",
    "    # __author__ = amaia\n",
    "    # https://www.kaggle.com/aamaia/dstl-satellite-imagery-feature-detection/rgb-using-m-bands-example\n",
    "    filename = os.path.join(inDir, 'sixteen_band', '{}_M.tif'.format(image_id))\n",
    "    img = tiff.imread(filename)\n",
    "    img = np.rollaxis(img, 0, 3)\n",
    "    return img\n"
   ]
  },
  {
   "cell_type": "code",
   "execution_count": 11,
   "metadata": {
    "collapsed": true
   },
   "outputs": [],
   "source": [
    "def stretch_n(bands, lower_percent=5, higher_percent=95):\n",
    "#     out = np.zeros_like(bands)    \n",
    "    out = np.zeros_like(bands).astype(np.float32)\n",
    "    n = bands.shape[2]\n",
    "    for i in range(n):\n",
    "        a = 0  # np.min(band)\n",
    "        b = 1  # np.max(band)\n",
    "        c = np.percentile(bands[:, :, i], lower_percent)\n",
    "        d = np.percentile(bands[:, :, i], higher_percent)\n",
    "        t = a + (bands[:, :, i] - c) * (b - a) / (d - c)\n",
    "        t[t < a] = a\n",
    "        t[t > b] = b\n",
    "        out[:, :, i] = t\n",
    "\n",
    "    return out.astype(np.float32)\n"
   ]
  },
  {
   "cell_type": "code",
   "execution_count": 12,
   "metadata": {
    "collapsed": true
   },
   "outputs": [],
   "source": [
    "def jaccard_coef(y_true, y_pred):\n",
    "    # __author__ = Vladimir Iglovikov\n",
    "    intersection = K.sum(y_true * y_pred, axis=[0, -1, -2])\n",
    "    sum_ = K.sum(y_true + y_pred, axis=[0, -1, -2])\n",
    "\n",
    "    jac = (intersection + smooth) / (sum_ - intersection + smooth)\n",
    "\n",
    "    return K.mean(jac)"
   ]
  },
  {
   "cell_type": "code",
   "execution_count": 13,
   "metadata": {
    "collapsed": true
   },
   "outputs": [],
   "source": [
    "def jaccard_coef_int(y_true, y_pred):\n",
    "    # __author__ = Vladimir Iglovikov\n",
    "    y_pred_pos = K.round(K.clip(y_pred, 0, 1))\n",
    "\n",
    "    intersection = K.sum(y_true * y_pred, axis=[0, -1, -2])\n",
    "    sum_ = K.sum(y_true + y_pred, axis=[0, -1, -2])\n",
    "    jac = (intersection + smooth) / (sum_ - intersection + smooth)\n",
    "    return K.mean(jac)"
   ]
  },
  {
   "cell_type": "code",
   "execution_count": 14,
   "metadata": {
    "collapsed": true
   },
   "outputs": [],
   "source": [
    "def stick_all_train():\n",
    "    print \"let's stick all imgs together\"\n",
    "    s = 835\n",
    "\n",
    "    x = np.zeros((5 * s, 5 * s, 8))\n",
    "    y = np.zeros((5 * s, 5 * s, N_Cls))\n",
    "\n",
    "    ids = sorted(DF.ImageId.unique())\n",
    "    print len(ids)\n",
    "    for i in range(5):\n",
    "        for j in range(5):\n",
    "            id = ids[5 * i + j]\n",
    "\n",
    "            img = M(id)\n",
    "            img = stretch_n(img)\n",
    "            print img.shape, id, np.amax(img), np.amin(img)\n",
    "            x[s * i:s * i + s, s * j:s * j + s, :] = img[:s, :s, :]\n",
    "            for z in range(N_Cls):\n",
    "                y[s * i:s * i + s, s * j:s * j + s, z] = generate_mask_for_image_and_class(\n",
    "                    (img.shape[0], img.shape[1]), id, z + 1)[:s, :s]\n",
    "\n",
    "    print np.amax(y), np.amin(y)\n",
    "\n",
    "#      np.save('data/x_trn_%d' % N_Cls, x)\n",
    "#      np.save('data/y_trn_%d' % N_Cls, y)\n",
    "\n",
    "    np.save(inDir + '/x_trn_%d' % N_Cls, x)\n",
    "    np.save(inDir + '/y_trn_%d' % N_Cls, y)"
   ]
  },
  {
   "cell_type": "code",
   "execution_count": 15,
   "metadata": {
    "collapsed": true
   },
   "outputs": [],
   "source": [
    "def get_patches(img, msk, amt=10000, aug=True):\n",
    "    is2 = int(1.0 * ISZ)\n",
    "    xm, ym = img.shape[0] - is2, img.shape[1] - is2\n",
    "\n",
    "    x, y = [], []\n",
    "\n",
    "    tr = [0.4, 0.1, 0.1, 0.15, 0.3, 0.95, 0.1, 0.05, 0.001, 0.005]\n",
    "    for i in range(amt):\n",
    "        xc = random.randint(0, xm)\n",
    "        yc = random.randint(0, ym)\n",
    "\n",
    "        im = img[xc:xc + is2, yc:yc + is2]\n",
    "        ms = msk[xc:xc + is2, yc:yc + is2]\n",
    "\n",
    "        for j in range(N_Cls):\n",
    "            sm = np.sum(ms[:, :, j])\n",
    "            if 1.0 * sm / is2 ** 2 > tr[j]:\n",
    "                if aug:\n",
    "                    if random.uniform(0, 1) > 0.5:\n",
    "                        im = im[::-1]\n",
    "                        ms = ms[::-1]\n",
    "                    if random.uniform(0, 1) > 0.5:\n",
    "                        im = im[:, ::-1]\n",
    "                        ms = ms[:, ::-1]\n",
    "\n",
    "                x.append(im)\n",
    "                y.append(ms)\n",
    "\n",
    "    x, y = 2 * np.transpose(x, (0, 3, 1, 2)) - 1, np.transpose(y, (0, 3, 1, 2))\n",
    "    print x.shape, y.shape, np.amax(x), np.amin(x), np.amax(y), np.amin(y)\n",
    "    return x, y\n"
   ]
  },
  {
   "cell_type": "code",
   "execution_count": 16,
   "metadata": {
    "collapsed": true
   },
   "outputs": [],
   "source": [
    "def make_val():\n",
    "    print \"let's pick some samples for validation\"\n",
    "    img = np.load(inDir + '/x_trn_%d.npy' % N_Cls)\n",
    "    msk = np.load(inDir + '/y_trn_%d.npy' % N_Cls)\n",
    "    x, y = get_patches(img, msk, amt=3000)\n",
    "    np.save(inDir + '/x_tmp_%d' % N_Cls, x)\n",
    "    np.save(inDir + '/y_tmp_%d' % N_Cls, y)\n",
    "    "
   ]
  },
  {
   "cell_type": "code",
   "execution_count": 17,
   "metadata": {
    "collapsed": true
   },
   "outputs": [],
   "source": [
    "\n",
    "def get_unet():\n",
    "    print \"build network\"\n",
    "    inputs = Input((8, ISZ, ISZ))\n",
    "    conv1 = Convolution2D(32, 3, 3, activation='relu', border_mode='same')(inputs)\n",
    "    conv1 = Convolution2D(32, 3, 3, activation='relu', border_mode='same')(conv1)\n",
    "    pool1 = MaxPooling2D(pool_size=(2, 2))(conv1)\n",
    "\n",
    "    conv2 = Convolution2D(64, 3, 3, activation='relu', border_mode='same')(pool1)\n",
    "    conv2 = Convolution2D(64, 3, 3, activation='relu', border_mode='same')(conv2)\n",
    "    pool2 = MaxPooling2D(pool_size=(2, 2))(conv2)\n",
    "\n",
    "    conv3 = Convolution2D(128, 3, 3, activation='relu', border_mode='same')(pool2)\n",
    "    conv3 = Convolution2D(128, 3, 3, activation='relu', border_mode='same')(conv3)\n",
    "    pool3 = MaxPooling2D(pool_size=(2, 2))(conv3)\n",
    "\n",
    "    conv4 = Convolution2D(256, 3, 3, activation='relu', border_mode='same')(pool3)\n",
    "    conv4 = Convolution2D(256, 3, 3, activation='relu', border_mode='same')(conv4)\n",
    "    pool4 = MaxPooling2D(pool_size=(2, 2))(conv4)\n",
    "\n",
    "    conv5 = Convolution2D(512, 3, 3, activation='relu', border_mode='same')(pool4)\n",
    "    conv5 = Convolution2D(512, 3, 3, activation='relu', border_mode='same')(conv5)\n",
    "\n",
    "    up6 = merge([UpSampling2D(size=(2, 2))(conv5), conv4], mode='concat', concat_axis=1)\n",
    "    conv6 = Convolution2D(256, 3, 3, activation='relu', border_mode='same')(up6)\n",
    "    conv6 = Convolution2D(256, 3, 3, activation='relu', border_mode='same')(conv6)\n",
    "\n",
    "    up7 = merge([UpSampling2D(size=(2, 2))(conv6), conv3], mode='concat', concat_axis=1)\n",
    "    conv7 = Convolution2D(128, 3, 3, activation='relu', border_mode='same')(up7)\n",
    "    conv7 = Convolution2D(128, 3, 3, activation='relu', border_mode='same')(conv7)\n",
    "\n",
    "    up8 = merge([UpSampling2D(size=(2, 2))(conv7), conv2], mode='concat', concat_axis=1)\n",
    "    conv8 = Convolution2D(64, 3, 3, activation='relu', border_mode='same')(up8)\n",
    "    conv8 = Convolution2D(64, 3, 3, activation='relu', border_mode='same')(conv8)\n",
    "\n",
    "    up9 = merge([UpSampling2D(size=(2, 2))(conv8), conv1], mode='concat', concat_axis=1)\n",
    "    conv9 = Convolution2D(32, 3, 3, activation='relu', border_mode='same')(up9)\n",
    "    conv9 = Convolution2D(32, 3, 3, activation='relu', border_mode='same')(conv9)\n",
    "\n",
    "    conv10 = Convolution2D(N_Cls, 1, 1, activation='sigmoid')(conv9)\n",
    "\n",
    "    model = Model(input=inputs, output=conv10)\n",
    "    model.compile(optimizer=Adam(), loss='binary_crossentropy', metrics=[jaccard_coef, jaccard_coef_int, 'accuracy'])\n",
    "    return model"
   ]
  },
  {
   "cell_type": "code",
   "execution_count": 18,
   "metadata": {
    "collapsed": true
   },
   "outputs": [],
   "source": [
    "def calc_jacc(model):\n",
    "    img = np.load(inDir + '/x_tmp_%d.npy' % N_Cls)\n",
    "    msk = np.load(inDir + '/y_tmp_%d.npy' % N_Cls)\n",
    "\n",
    "    prd = model.predict(img, batch_size=4)\n",
    "    print prd.shape, msk.shape\n",
    "    avg, trs = [], []\n",
    "\n",
    "    for i in range(N_Cls):\n",
    "        t_msk = msk[:, i, :, :]\n",
    "        t_prd = prd[:, i, :, :]\n",
    "        t_msk = t_msk.reshape(msk.shape[0] * msk.shape[2], msk.shape[3])\n",
    "        t_prd = t_prd.reshape(msk.shape[0] * msk.shape[2], msk.shape[3])\n",
    "\n",
    "        m, b_tr = 0, 0\n",
    "        for j in range(10):\n",
    "            tr = j / 10.0\n",
    "            pred_binary_mask = t_prd > tr\n",
    "\n",
    "            jk = jaccard_similarity_score(t_msk, pred_binary_mask)\n",
    "            if jk > m:\n",
    "                m = jk\n",
    "                b_tr = tr\n",
    "        print i, m, b_tr\n",
    "        avg.append(m)\n",
    "        trs.append(b_tr)\n",
    "\n",
    "    score = sum(avg) / 10.0\n",
    "    return score, trs\n"
   ]
  },
  {
   "cell_type": "code",
   "execution_count": 19,
   "metadata": {
    "collapsed": true
   },
   "outputs": [],
   "source": [
    "def mask_for_polygons(polygons, im_size):\n",
    "    # __author__ = Konstantin Lopuhin\n",
    "    # https://www.kaggle.com/lopuhin/dstl-satellite-imagery-feature-detection/full-pipeline-demo-poly-pixels-ml-poly\n",
    "    img_mask = np.zeros(im_size, np.uint8)\n",
    "    if not polygons:\n",
    "        return img_mask\n",
    "    int_coords = lambda x: np.array(x).round().astype(np.int32)\n",
    "    exteriors = [int_coords(poly.exterior.coords) for poly in polygons]\n",
    "    interiors = [int_coords(pi.coords) for poly in polygons\n",
    "                 for pi in poly.interiors]\n",
    "    cv2.fillPoly(img_mask, exteriors, 1)\n",
    "    cv2.fillPoly(img_mask, interiors, 0)\n",
    "    return img_mask\n"
   ]
  },
  {
   "cell_type": "code",
   "execution_count": 20,
   "metadata": {
    "collapsed": true
   },
   "outputs": [],
   "source": [
    "\n",
    "def mask_to_polygons(mask, epsilon=5, min_area=1.):\n",
    "    # __author__ = Konstantin Lopuhin\n",
    "    # https://www.kaggle.com/lopuhin/dstl-satellite-imagery-feature-detection/full-pipeline-demo-poly-pixels-ml-poly\n",
    "\n",
    "    # first, find contours with cv2: it's much faster than shapely\n",
    "    image, contours, hierarchy = cv2.findContours(\n",
    "        ((mask == 1) * 255).astype(np.uint8),\n",
    "        cv2.RETR_CCOMP, cv2.CHAIN_APPROX_TC89_KCOS)\n",
    "    # create approximate contours to have reasonable submission size\n",
    "    approx_contours = [cv2.approxPolyDP(cnt, epsilon, True)\n",
    "                       for cnt in contours]\n",
    "    if not contours:\n",
    "        return MultiPolygon()\n",
    "    # now messy stuff to associate parent and child contours\n",
    "    cnt_children = defaultdict(list)\n",
    "    child_contours = set()\n",
    "    assert hierarchy.shape[0] == 1\n",
    "    # http://docs.opencv.org/3.1.0/d9/d8b/tutorial_py_contours_hierarchy.html\n",
    "    for idx, (_, _, _, parent_idx) in enumerate(hierarchy[0]):\n",
    "        if parent_idx != -1:\n",
    "            child_contours.add(idx)\n",
    "            cnt_children[parent_idx].append(approx_contours[idx])\n",
    "    # create actual polygons filtering by area (removes artifacts)\n",
    "    all_polygons = []\n",
    "    for idx, cnt in enumerate(approx_contours):\n",
    "        if idx not in child_contours and cv2.contourArea(cnt) >= min_area:\n",
    "            assert cnt.shape[1] == 1\n",
    "            poly = Polygon(\n",
    "                shell=cnt[:, 0, :],\n",
    "                holes=[c[:, 0, :] for c in cnt_children.get(idx, [])\n",
    "                       if cv2.contourArea(c) >= min_area])\n",
    "            all_polygons.append(poly)\n",
    "    # approximating polygons might have created invalid ones, fix them\n",
    "    all_polygons = MultiPolygon(all_polygons)\n",
    "    if not all_polygons.is_valid:\n",
    "        all_polygons = all_polygons.buffer(0)\n",
    "        # Sometimes buffer() converts a simple Multipolygon to just a Polygon,\n",
    "        # need to keep it a Multi throughout\n",
    "        if all_polygons.type == 'Polygon':\n",
    "            all_polygons = MultiPolygon([all_polygons])\n",
    "    return all_polygons\n",
    "\n"
   ]
  },
  {
   "cell_type": "code",
   "execution_count": 21,
   "metadata": {
    "collapsed": true
   },
   "outputs": [],
   "source": [
    "def get_scalers(im_size, x_max, y_min):\n",
    "    # __author__ = Konstantin Lopuhin\n",
    "    # https://www.kaggle.com/lopuhin/dstl-satellite-imagery-feature-detection/full-pipeline-demo-poly-pixels-ml-poly\n",
    "    h, w = im_size  # they are flipped so that mask_for_polygons works correctly\n",
    "    h, w = float(h), float(w)\n",
    "    w_ = 1.0 * w * (w / (w + 1))\n",
    "    h_ = 1.0 * h * (h / (h + 1))\n",
    "    return w_ / x_max, h_ / y_min\n",
    "\n"
   ]
  },
  {
   "cell_type": "code",
   "execution_count": 22,
   "metadata": {
    "collapsed": true
   },
   "outputs": [],
   "source": [
    "def predict_id(id, model, trs):\n",
    "    img = M(id)\n",
    "    x = stretch_n(img)\n",
    "\n",
    "    cnv = np.zeros((960, 960, 8)).astype(np.float32)\n",
    "    prd = np.zeros((N_Cls, 960, 960)).astype(np.float32)\n",
    "    cnv[:img.shape[0], :img.shape[1], :] = x\n",
    "\n",
    "    for i in range(0, 6):\n",
    "        line = []\n",
    "        for j in range(0, 6):\n",
    "            line.append(cnv[i * ISZ:(i + 1) * ISZ, j * ISZ:(j + 1) * ISZ])\n",
    "\n",
    "        x = 2 * np.transpose(line, (0, 3, 1, 2)) - 1\n",
    "        tmp = model.predict(x, batch_size=4)\n",
    "        for j in range(tmp.shape[0]):\n",
    "            prd[:, i * ISZ:(i + 1) * ISZ, j * ISZ:(j + 1) * ISZ] = tmp[j]\n",
    "\n",
    "    # trs = [0.4, 0.1, 0.4, 0.3, 0.3, 0.5, 0.3, 0.6, 0.1, 0.1]\n",
    "    for i in range(N_Cls):\n",
    "        prd[i] = prd[i] > trs[i]\n",
    "\n",
    "    return prd[:, :img.shape[0], :img.shape[1]]"
   ]
  },
  {
   "cell_type": "code",
   "execution_count": 23,
   "metadata": {
    "collapsed": true
   },
   "outputs": [],
   "source": [
    "def predict_test(model, trs):\n",
    "    print \"predict test\"\n",
    "    for i, id in enumerate(sorted(set(SB['ImageId'].tolist()))):\n",
    "        msk = predict_id(id, model, trs)\n",
    "        np.save(topDir + '/msk/10_%s' % id, msk)\n",
    "        if i % 100 == 0: print i, id"
   ]
  },
  {
   "cell_type": "code",
   "execution_count": 24,
   "metadata": {
    "collapsed": true
   },
   "outputs": [],
   "source": [
    "def make_submit():\n",
    "    print \"make submission file\"\n",
    "#    df = pd.read_csv(os.path.join(topDir + '/subm/BASELINE__empty_with_true_train.csv'))\n",
    "    df = pd.read_csv(os.path.join(topDir + '/subm/sample_submission.csv'))\n",
    "    print df.head()\n",
    "    for idx, row in df.iterrows():\n",
    "        id = row[0]\n",
    "        kls = row[1] - 1\n",
    "#        if kls == 0: #  class 0 is buildings\n",
    "        msk = np.load(topDir + '/msk/10_%s.npy' % id)[kls]\n",
    "        pred_polygons = mask_to_polygons(msk)\n",
    "        x_max = GS.loc[GS['ImageId'] == id, 'Xmax'].as_matrix()[0]\n",
    "        y_min = GS.loc[GS['ImageId'] == id, 'Ymin'].as_matrix()[0]\n",
    "        x_scaler, y_scaler = get_scalers(msk.shape, x_max, y_min)\n",
    "\n",
    "        scaled_pred_polygons = shapely.affinity.scale(pred_polygons, xfact=1.0 / x_scaler, yfact=1.0 / y_scaler,origin=(0, 0, 0))\n",
    "        df.iloc[idx, 2] = shapely.wkt.dumps(scaled_pred_polygons)\n",
    "        if idx % 100 == 0: print idx\n",
    "    print df.head()\n",
    "    df.to_csv(topDir + '/subm/buildings_base_v1.csv', index=False)"
   ]
  },
  {
   "cell_type": "code",
   "execution_count": 25,
   "metadata": {
    "collapsed": true
   },
   "outputs": [],
   "source": [
    "def train_net():\n",
    "    print \"start train net\"\n",
    "    x_val, y_val = np.load(inDir + '/x_tmp_%d.npy' % N_Cls), np.load(inDir +'/y_tmp_%d.npy' % N_Cls)\n",
    "   \n",
    "    img = np.load(inDir + '/x_trn_%d.npy' % N_Cls)\n",
    "    msk = np.load(inDir + '/y_trn_%d.npy' % N_Cls)\n",
    "\n",
    "    x_trn, y_trn = get_patches(img, msk)\n",
    "    print np.ndim(x_trn)\n",
    "    print np.ndim(y_trn)\n",
    "    model = get_unet()\n",
    "\n",
    "#    model.load_weights(topDir + '/weights/buildings_28_june.w')\n",
    "    model.load_weights(topDir + '/weights/unet_10_jk0.7878')\n",
    "#    model.load_weights(topDir + '/weights/baseline.w')\n",
    "    model_checkpoint = ModelCheckpoint(topDir + '/weights/unet_tmp.hdf5', monitor='loss', save_best_only=True)\n",
    "    for i in range(1):\n",
    "        model.fit(x_trn, y_trn, batch_size=64, nb_epoch=1, verbose=1, shuffle=True,\n",
    "                  callbacks=[model_checkpoint], validation_data=(x_val, y_val))\n",
    "        del x_trn\n",
    "        del y_trn\n",
    "        x_trn, y_trn = get_patches(img, msk)\n",
    "        score, trs = calc_jacc(model)\n",
    "        print 'val jk', score\n",
    "        model.save_weights(topDir + '/weights/unet_10_jk%.4f' % score)\n",
    "\n",
    "    return model"
   ]
  },
  {
   "cell_type": "code",
   "execution_count": 26,
   "metadata": {
    "collapsed": true
   },
   "outputs": [],
   "source": [
    "def check_predict(id='6120_2_3'):\n",
    "    model = get_unet()\n",
    "    model.load_weights(topDir + '/weights/unet_10_jk0.7878')\n",
    "#    model.load_weights(topDir + '/weights/structures.w')\n",
    "#    model.load_weights(topDir + '/weights/buildings_28_june.w')\n",
    "    msk = predict_id(id, model, [0.4, 0.1, 0.4, 0.3, 0.3, 0.5, 0.3, 0.6, 0.1, 0.1])\n",
    "    img = M(id)\n",
    "\n",
    "    plt.figure(figsize=(15,10))\n",
    "    ax1 = plt.subplot(131)\n",
    "    ax1.set_title('image ID:6120_2_3')\n",
    "    ax1.imshow(img[:, :, 5], cmap=plt.get_cmap('gist_ncar'))\n",
    "    ax2 = plt.subplot(132)\n",
    "    ax2.set_title('predict bldg pixels')\n",
    "    ax2.imshow(msk[0], cmap=plt.get_cmap('gray'))\n",
    "    ax3 = plt.subplot(133)\n",
    "    ax3.set_title('predict bldg polygones')\n",
    "    ax3.imshow(mask_for_polygons(mask_to_polygons(msk[0], epsilon=1), img.shape[:2]), cmap=plt.get_cmap('gray'))\n",
    "\n",
    "    plt.show()\n",
    "\n"
   ]
  },
  {
   "cell_type": "code",
   "execution_count": 27,
   "metadata": {
    "collapsed": true
   },
   "outputs": [],
   "source": [
    "def check_predict1(id='6100_1_3'):\n",
    "    model = get_unet()\n",
    "    model.load_weights(topDir + '/weights/unet_10_jk0.7878')\n",
    "#    model.load_weights(topDir + '/weights/buildings.w')\n",
    "#    model.load_weights(topDir + '/weights/buildings_28_june.w')\n",
    "    msk = predict_id(id, model, [0.4, 0.1, 0.4, 0.3, 0.3, 0.5, 0.3, 0.6, 0.1, 0.1])\n",
    "    img = M(id)\n",
    "\n",
    "    plt.figure(figsize=(15,10))\n",
    "    ax1 = plt.subplot(131)\n",
    "    ax1.set_title('image ID:6100_1_3')\n",
    "    ax1.imshow(img[:, :, 5], cmap=plt.get_cmap('gist_ncar'))\n",
    "    ax2 = plt.subplot(132)\n",
    "    ax2.set_title('predict bldg pixels')\n",
    "    ax2.imshow(msk[0], cmap=plt.get_cmap('gray'))\n",
    "    ax3 = plt.subplot(133)\n",
    "    ax3.set_title('predict bldg polygones')\n",
    "    ax3.imshow(mask_for_polygons(mask_to_polygons(msk[0], epsilon=1), img.shape[:2]), cmap=plt.get_cmap('gray'))\n",
    "\n",
    "    plt.show()"
   ]
  },
  {
   "cell_type": "code",
   "execution_count": 30,
   "metadata": {},
   "outputs": [
    {
     "name": "stdout",
     "output_type": "stream",
     "text": [
      "let's stick all imgs together\n",
      "25\n",
      "(837, 849, 8) 6010_1_2 1.0 0.0\n",
      "(837, 849, 8) 6010_4_2 1.0 0.0\n",
      "(837, 848, 8) 6010_4_4 1.0 0.0\n",
      "(837, 848, 8) 6040_1_0 1.0 0.0\n",
      "(837, 848, 8) 6040_1_3 1.0 0.0\n",
      "(837, 848, 8) 6040_2_2 1.0 0.0\n",
      "(837, 846, 8) 6040_4_4 1.0 0.0\n",
      "(837, 851, 8) 6060_2_3 1.0 0.0\n",
      "(838, 835, 8) 6070_2_3 1.0 0.0\n",
      "(837, 848, 8) 6090_2_0 1.0 0.0\n",
      "(837, 848, 8) 6100_1_3 1.0 0.0\n",
      "(837, 848, 8) 6100_2_2 1.0 0.0\n",
      "(837, 848, 8) 6100_2_3 1.0 0.0\n",
      "(837, 849, 8) 6110_1_2 1.0 0.0\n",
      "(837, 849, 8) 6110_3_1 1.0 0.0\n",
      "(837, 849, 8) 6110_4_0 1.0 0.0\n",
      "(837, 851, 8) 6120_2_0 1.0 0.0\n",
      "(837, 851, 8) 6120_2_2 1.0 0.0\n",
      "(837, 849, 8) 6140_1_2 1.0 0.0\n",
      "(837, 849, 8) 6140_3_1 1.0 0.0\n",
      "(837, 851, 8) 6150_2_3 1.0 0.0\n",
      "(837, 848, 8) 6160_2_1 1.0 0.0\n",
      "(837, 848, 8) 6170_0_4 1.0 0.0\n",
      "(837, 848, 8) 6170_2_4 1.0 0.0\n",
      "(837, 848, 8) 6170_4_1 1.0 0.0\n",
      "1.0 0.0\n"
     ]
    }
   ],
   "source": [
    "stick_all_train()"
   ]
  },
  {
   "cell_type": "code",
   "execution_count": 31,
   "metadata": {},
   "outputs": [
    {
     "name": "stdout",
     "output_type": "stream",
     "text": [
      "let's pick some samples for validation\n",
      "(1050, 8, 160, 160) (1050, 10, 160, 160) 1.0 -1.0 1.0 0.0\n"
     ]
    }
   ],
   "source": [
    "make_val()"
   ]
  },
  {
   "cell_type": "code",
   "execution_count": 32,
   "metadata": {},
   "outputs": [
    {
     "name": "stdout",
     "output_type": "stream",
     "text": [
      "start train net\n",
      "(3435, 8, 160, 160) (3435, 10, 160, 160) 1.0 -1.0 1.0 0.0\n",
      "4\n",
      "4\n",
      "build network\n"
     ]
    },
    {
     "name": "stderr",
     "output_type": "stream",
     "text": [
      "/usr/local/lib/python2.7/dist-packages/ipykernel_launcher.py:5: UserWarning: Update your `Conv2D` call to the Keras 2 API: `Conv2D(32, (3, 3), padding=\"same\", activation=\"relu\")`\n",
      "  \"\"\"\n",
      "/usr/local/lib/python2.7/dist-packages/ipykernel_launcher.py:6: UserWarning: Update your `Conv2D` call to the Keras 2 API: `Conv2D(32, (3, 3), padding=\"same\", activation=\"relu\")`\n",
      "  \n",
      "/usr/local/lib/python2.7/dist-packages/ipykernel_launcher.py:9: UserWarning: Update your `Conv2D` call to the Keras 2 API: `Conv2D(64, (3, 3), padding=\"same\", activation=\"relu\")`\n",
      "  if __name__ == '__main__':\n",
      "/usr/local/lib/python2.7/dist-packages/ipykernel_launcher.py:10: UserWarning: Update your `Conv2D` call to the Keras 2 API: `Conv2D(64, (3, 3), padding=\"same\", activation=\"relu\")`\n",
      "  # Remove the CWD from sys.path while we load stuff.\n",
      "/usr/local/lib/python2.7/dist-packages/ipykernel_launcher.py:13: UserWarning: Update your `Conv2D` call to the Keras 2 API: `Conv2D(128, (3, 3), padding=\"same\", activation=\"relu\")`\n",
      "  del sys.path[0]\n",
      "/usr/local/lib/python2.7/dist-packages/ipykernel_launcher.py:14: UserWarning: Update your `Conv2D` call to the Keras 2 API: `Conv2D(128, (3, 3), padding=\"same\", activation=\"relu\")`\n",
      "  \n",
      "/usr/local/lib/python2.7/dist-packages/ipykernel_launcher.py:17: UserWarning: Update your `Conv2D` call to the Keras 2 API: `Conv2D(256, (3, 3), padding=\"same\", activation=\"relu\")`\n",
      "/usr/local/lib/python2.7/dist-packages/ipykernel_launcher.py:18: UserWarning: Update your `Conv2D` call to the Keras 2 API: `Conv2D(256, (3, 3), padding=\"same\", activation=\"relu\")`\n",
      "/usr/local/lib/python2.7/dist-packages/ipykernel_launcher.py:21: UserWarning: Update your `Conv2D` call to the Keras 2 API: `Conv2D(512, (3, 3), padding=\"same\", activation=\"relu\")`\n",
      "/usr/local/lib/python2.7/dist-packages/ipykernel_launcher.py:22: UserWarning: Update your `Conv2D` call to the Keras 2 API: `Conv2D(512, (3, 3), padding=\"same\", activation=\"relu\")`\n",
      "/usr/local/lib/python2.7/dist-packages/ipykernel_launcher.py:24: UserWarning: The `merge` function is deprecated and will be removed after 08/2017. Use instead layers from `keras.layers.merge`, e.g. `add`, `concatenate`, etc.\n",
      "/usr/local/lib/python2.7/dist-packages/keras/legacy/layers.py:460: UserWarning: The `Merge` layer is deprecated and will be removed after 08/2017. Use instead layers from `keras.layers.merge`, e.g. `add`, `concatenate`, etc.\n",
      "  name=name)\n",
      "/usr/local/lib/python2.7/dist-packages/ipykernel_launcher.py:25: UserWarning: Update your `Conv2D` call to the Keras 2 API: `Conv2D(256, (3, 3), padding=\"same\", activation=\"relu\")`\n",
      "/usr/local/lib/python2.7/dist-packages/ipykernel_launcher.py:26: UserWarning: Update your `Conv2D` call to the Keras 2 API: `Conv2D(256, (3, 3), padding=\"same\", activation=\"relu\")`\n",
      "/usr/local/lib/python2.7/dist-packages/ipykernel_launcher.py:28: UserWarning: The `merge` function is deprecated and will be removed after 08/2017. Use instead layers from `keras.layers.merge`, e.g. `add`, `concatenate`, etc.\n",
      "/usr/local/lib/python2.7/dist-packages/ipykernel_launcher.py:29: UserWarning: Update your `Conv2D` call to the Keras 2 API: `Conv2D(128, (3, 3), padding=\"same\", activation=\"relu\")`\n",
      "/usr/local/lib/python2.7/dist-packages/ipykernel_launcher.py:30: UserWarning: Update your `Conv2D` call to the Keras 2 API: `Conv2D(128, (3, 3), padding=\"same\", activation=\"relu\")`\n",
      "/usr/local/lib/python2.7/dist-packages/ipykernel_launcher.py:32: UserWarning: The `merge` function is deprecated and will be removed after 08/2017. Use instead layers from `keras.layers.merge`, e.g. `add`, `concatenate`, etc.\n",
      "/usr/local/lib/python2.7/dist-packages/ipykernel_launcher.py:33: UserWarning: Update your `Conv2D` call to the Keras 2 API: `Conv2D(64, (3, 3), padding=\"same\", activation=\"relu\")`\n",
      "/usr/local/lib/python2.7/dist-packages/ipykernel_launcher.py:34: UserWarning: Update your `Conv2D` call to the Keras 2 API: `Conv2D(64, (3, 3), padding=\"same\", activation=\"relu\")`\n",
      "/usr/local/lib/python2.7/dist-packages/ipykernel_launcher.py:36: UserWarning: The `merge` function is deprecated and will be removed after 08/2017. Use instead layers from `keras.layers.merge`, e.g. `add`, `concatenate`, etc.\n",
      "/usr/local/lib/python2.7/dist-packages/ipykernel_launcher.py:37: UserWarning: Update your `Conv2D` call to the Keras 2 API: `Conv2D(32, (3, 3), padding=\"same\", activation=\"relu\")`\n",
      "/usr/local/lib/python2.7/dist-packages/ipykernel_launcher.py:38: UserWarning: Update your `Conv2D` call to the Keras 2 API: `Conv2D(32, (3, 3), padding=\"same\", activation=\"relu\")`\n",
      "/usr/local/lib/python2.7/dist-packages/ipykernel_launcher.py:40: UserWarning: Update your `Conv2D` call to the Keras 2 API: `Conv2D(10, (1, 1), activation=\"sigmoid\")`\n",
      "/usr/local/lib/python2.7/dist-packages/ipykernel_launcher.py:42: UserWarning: Update your `Model` call to the Keras 2 API: `Model(outputs=Tensor(\"co..., inputs=Tensor(\"in...)`\n",
      "/usr/local/lib/python2.7/dist-packages/ipykernel_launcher.py:19: UserWarning: The `nb_epoch` argument in `fit` has been renamed `epochs`.\n"
     ]
    },
    {
     "name": "stdout",
     "output_type": "stream",
     "text": [
      "Train on 3435 samples, validate on 1050 samples\n",
      "Epoch 1/1\n",
      "3435/3435 [==============================] - 388s - loss: 0.0978 - jaccard_coef: 0.2271 - jaccard_coef_int: 0.2271 - acc: 0.9657 - val_loss: 0.0883 - val_jaccard_coef: 0.2651 - val_jaccard_coef_int: 0.2651 - val_acc: 0.9682\n",
      "(3517, 8, 160, 160) (3517, 10, 160, 160) 1.0 -1.0 1.0 0.0\n",
      "(1050, 10, 160, 160) (1050, 10, 160, 160)\n",
      "0 0.819024040912 0.6\n",
      "1 0.642046223888 0.2\n",
      "2 0.861960686395 0.6\n",
      "3 0.409773809524 0.5\n",
      "4 0.482966409125 0.4\n",
      "5 0.863902471988 0.4\n",
      "6 0.976054457786 0.4\n",
      "7 0.972742012061 0.8\n",
      "8 0.986714285714 0.2\n",
      "9 0.941892857143 0.3\n",
      "val jk 0.795707725454\n",
      "Train on 3517 samples, validate on 1050 samples\n",
      "Epoch 1/1\n",
      "3517/3517 [==============================] - 377s - loss: 0.0762 - jaccard_coef: 0.2992 - jaccard_coef_int: 0.2992 - acc: 0.9729 - val_loss: 0.0696 - val_jaccard_coef: 0.3181 - val_jaccard_coef_int: 0.3181 - val_acc: 0.9754\n",
      "(3436, 8, 160, 160) (3436, 10, 160, 160) 1.0 -1.0 1.0 0.0\n",
      "(1050, 10, 160, 160) (1050, 10, 160, 160)\n",
      "0 0.846858009087 0.3\n",
      "1 0.648845154394 0.1\n",
      "2 0.870097952111 0.4\n",
      "3 0.41777742964 0.2\n",
      "4 0.510713116847 0.3\n",
      "5 0.913334679462 0.5\n",
      "6 0.97823232898 0.4\n",
      "7 0.974045242473 0.4\n",
      "8 0.986714285714 0.1\n",
      "9 0.941892857143 0.2\n",
      "val jk 0.808851105585\n",
      "Train on 3436 samples, validate on 1050 samples\n",
      "Epoch 1/1\n",
      "3436/3436 [==============================] - 368s - loss: 0.0647 - jaccard_coef: 0.3373 - jaccard_coef_int: 0.3373 - acc: 0.9768 - val_loss: 0.0624 - val_jaccard_coef: 0.3523 - val_jaccard_coef_int: 0.3523 - val_acc: 0.9774\n",
      "(3522, 8, 160, 160) (3522, 10, 160, 160) 1.0 -1.0 1.0 0.0\n",
      "(1050, 10, 160, 160) (1050, 10, 160, 160)\n",
      "0 0.850877974556 0.4\n",
      "1 0.641066470498 0.2\n",
      "2 0.881754940926 0.4\n",
      "3 0.434289565555 0.2\n",
      "4 0.540735100135 0.5\n",
      "5 0.926520874886 0.5\n",
      "6 0.980476385859 0.6\n",
      "7 0.978235436279 0.5\n",
      "8 0.986714285714 0.2\n",
      "9 0.941892857143 0.3\n",
      "val jk 0.816256389155\n",
      "Train on 3522 samples, validate on 1050 samples\n",
      "Epoch 1/1\n",
      "3522/3522 [==============================] - 370s - loss: 0.0717 - jaccard_coef: 0.3221 - jaccard_coef_int: 0.3221 - acc: 0.9744 - val_loss: 0.0683 - val_jaccard_coef: 0.3111 - val_jaccard_coef_int: 0.3111 - val_acc: 0.9753\n",
      "(3559, 8, 160, 160) (3559, 10, 160, 160) 1.0 -1.0 1.0 0.0\n",
      "(1050, 10, 160, 160) (1050, 10, 160, 160)\n",
      "0 0.839959530909 0.6\n",
      "1 0.642643782785 0.2\n",
      "2 0.877485732924 0.4\n",
      "3 0.423456660838 0.2\n",
      "4 0.525184362086 0.3\n",
      "5 0.918245814004 0.6\n",
      "6 0.979664074703 0.5\n",
      "7 0.967656253097 0.6\n",
      "8 0.986714285714 0.2\n",
      "9 0.941892857143 0.2\n",
      "val jk 0.81029033542\n",
      "Train on 3559 samples, validate on 1050 samples\n",
      "Epoch 1/1\n",
      "3559/3559 [==============================] - 379s - loss: 0.0635 - jaccard_coef: 0.3464 - jaccard_coef_int: 0.3464 - acc: 0.9773 - val_loss: 0.0597 - val_jaccard_coef: 0.3639 - val_jaccard_coef_int: 0.3639 - val_acc: 0.9785\n",
      "(3448, 8, 160, 160) (3448, 10, 160, 160) 1.0 -1.0 1.0 0.0\n",
      "(1050, 10, 160, 160) (1050, 10, 160, 160)\n",
      "0 0.855751199997 0.4\n",
      "1 0.654393842476 0.2\n",
      "2 0.891906864857 0.4\n",
      "3 0.437357928857 0.3\n",
      "4 0.554724271416 0.4\n",
      "5 0.928484471179 0.7\n",
      "6 0.982289811624 0.5\n",
      "7 0.976590791706 0.4\n",
      "8 0.986714285714 0.3\n",
      "9 0.941892857143 0.3\n",
      "val jk 0.821010632497\n",
      "Train on 3448 samples, validate on 1050 samples\n",
      "Epoch 1/1\n",
      "3448/3448 [==============================] - 371s - loss: 0.0573 - jaccard_coef: 0.3766 - jaccard_coef_int: 0.3766 - acc: 0.9792 - val_loss: 0.0565 - val_jaccard_coef: 0.3863 - val_jaccard_coef_int: 0.3863 - val_acc: 0.9795\n",
      "(3500, 8, 160, 160) (3500, 10, 160, 160) 1.0 -1.0 1.0 0.0\n",
      "(1050, 10, 160, 160) (1050, 10, 160, 160)\n",
      "0 0.858938322675 0.4\n",
      "1 0.651920439576 0.2\n",
      "2 0.9022860735 0.4\n",
      "3 0.448186802089 0.3\n",
      "4 0.576382961216 0.4\n",
      "5 0.935925275388 0.6\n",
      "6 0.982826880057 0.5\n",
      "7 0.978340234483 0.4\n",
      "8 0.986714285714 0.3\n",
      "9 0.941892857143 0.3\n",
      "val jk 0.826341413184\n",
      "Train on 3500 samples, validate on 1050 samples\n",
      "Epoch 1/1\n",
      "3500/3500 [==============================] - 368s - loss: 0.0558 - jaccard_coef: 0.3857 - jaccard_coef_int: 0.3857 - acc: 0.9796 - val_loss: 0.0545 - val_jaccard_coef: 0.3907 - val_jaccard_coef_int: 0.3907 - val_acc: 0.9801\n",
      "(3486, 8, 160, 160) (3486, 10, 160, 160) 1.0 -1.0 1.0 0.0\n",
      "(1050, 10, 160, 160) (1050, 10, 160, 160)\n",
      "0 0.860379180327 0.4\n",
      "1 0.654271809241 0.2\n",
      "2 0.912670574141 0.6\n",
      "3 0.457323864584 0.3\n",
      "4 0.591077699588 0.4\n",
      "5 0.941223937164 0.6\n",
      "6 0.982989681267 0.6\n",
      "7 0.979588767019 0.7\n",
      "8 0.986714285714 0.3\n",
      "9 0.941892857143 0.3\n",
      "val jk 0.830813265619\n",
      "Train on 3486 samples, validate on 1050 samples\n",
      "Epoch 1/1\n",
      "3486/3486 [==============================] - 371s - loss: 0.0538 - jaccard_coef: 0.3982 - jaccard_coef_int: 0.3982 - acc: 0.9803 - val_loss: 0.0535 - val_jaccard_coef: 0.4016 - val_jaccard_coef_int: 0.4016 - val_acc: 0.9804\n",
      "(3478, 8, 160, 160) (3478, 10, 160, 160) 1.0 -1.0 1.0 0.0\n",
      "(1050, 10, 160, 160) (1050, 10, 160, 160)\n",
      "0 0.862777550229 0.3\n",
      "1 0.655588767288 0.2\n",
      "2 0.917852996812 0.4\n",
      "3 0.456713117874 0.2\n",
      "4 0.602285370891 0.4\n",
      "5 0.941746975713 0.6\n",
      "6 0.983146030148 0.5\n",
      "7 0.980107693573 0.4\n",
      "8 0.986714285714 0.3\n",
      "9 0.941892857143 0.3\n",
      "val jk 0.832882564539\n",
      "Train on 3478 samples, validate on 1050 samples\n",
      "Epoch 1/1\n",
      "3478/3478 [==============================] - 370s - loss: 0.0525 - jaccard_coef: 0.4079 - jaccard_coef_int: 0.4079 - acc: 0.9808 - val_loss: 0.0547 - val_jaccard_coef: 0.3944 - val_jaccard_coef_int: 0.3944 - val_acc: 0.9800\n",
      "(3483, 8, 160, 160) (3483, 10, 160, 160) 1.0 -1.0 1.0 0.0\n",
      "(1050, 10, 160, 160) (1050, 10, 160, 160)\n",
      "0 0.861209749774 0.4\n",
      "1 0.657045807602 0.2\n",
      "2 0.921847187351 0.5\n",
      "3 0.460591948559 0.2\n",
      "4 0.594668733015 0.4\n",
      "5 0.938241144945 0.8\n",
      "6 0.982858813818 0.6\n",
      "7 0.978306157515 0.6\n",
      "8 0.986724206349 0.2\n",
      "9 0.941892857143 0.3\n",
      "val jk 0.832338660607\n",
      "Train on 3483 samples, validate on 1050 samples\n",
      "Epoch 1/1\n",
      "3483/3483 [==============================] - 371s - loss: 0.0518 - jaccard_coef: 0.4100 - jaccard_coef_int: 0.4100 - acc: 0.9810 - val_loss: 0.0501 - val_jaccard_coef: 0.4166 - val_jaccard_coef_int: 0.4166 - val_acc: 0.9815\n",
      "(3502, 8, 160, 160) (3502, 10, 160, 160) 1.0 -1.0 1.0 0.0\n",
      "(1050, 10, 160, 160) (1050, 10, 160, 160)\n",
      "0 0.864858641365 0.4\n",
      "1 0.656243910905 0.2\n",
      "2 0.928007689596 0.6\n",
      "3 0.476315838218 0.3\n",
      "4 0.620834228978 0.4\n",
      "5 0.949509386 0.5\n",
      "6 0.98399145909 0.5\n",
      "7 0.980907177656 0.7\n",
      "8 0.986935102513 0.2\n",
      "9 0.941892857143 0.5\n",
      "val jk 0.838949629146\n"
     ]
    }
   ],
   "source": [
    "# Build and display network\n",
    "#\n",
    "# model = get_unet()\n",
    "# model.summary()\n",
    "model = train_net()"
   ]
  },
  {
   "cell_type": "code",
   "execution_count": 34,
   "metadata": {},
   "outputs": [
    {
     "name": "stdout",
     "output_type": "stream",
     "text": [
      "(1050, 10, 160, 160) (1050, 10, 160, 160)\n",
      "0 0.864858641365 0.4\n",
      "1 0.656243910905 0.2\n",
      "2 0.928007689596 0.6\n",
      "3 0.476315838218 0.3\n",
      "4 0.620834228978 0.4\n",
      "5 0.949509386 0.5\n",
      "6 0.98399145909 0.5\n",
      "7 0.980907177656 0.7\n",
      "8 0.986935102513 0.2\n",
      "9 0.941892857143 0.5\n"
     ]
    }
   ],
   "source": [
    "score, trs = calc_jacc(model)"
   ]
  },
  {
   "cell_type": "code",
   "execution_count": 35,
   "metadata": {},
   "outputs": [
    {
     "name": "stdout",
     "output_type": "stream",
     "text": [
      "predict test\n",
      "0 6010_0_0\n",
      "100 6050_1_0\n",
      "200 6090_1_1\n",
      "300 6130_2_4\n",
      "400 6170_4_0\n"
     ]
    }
   ],
   "source": [
    "predict_test(model, trs)"
   ]
  },
  {
   "cell_type": "code",
   "execution_count": 36,
   "metadata": {},
   "outputs": [
    {
     "name": "stdout",
     "output_type": "stream",
     "text": [
      "build network\n"
     ]
    },
    {
     "name": "stderr",
     "output_type": "stream",
     "text": [
      "/usr/local/lib/python2.7/dist-packages/ipykernel_launcher.py:5: UserWarning: Update your `Conv2D` call to the Keras 2 API: `Conv2D(32, (3, 3), padding=\"same\", activation=\"relu\")`\n",
      "  \"\"\"\n",
      "/usr/local/lib/python2.7/dist-packages/ipykernel_launcher.py:6: UserWarning: Update your `Conv2D` call to the Keras 2 API: `Conv2D(32, (3, 3), padding=\"same\", activation=\"relu\")`\n",
      "  \n",
      "/usr/local/lib/python2.7/dist-packages/ipykernel_launcher.py:9: UserWarning: Update your `Conv2D` call to the Keras 2 API: `Conv2D(64, (3, 3), padding=\"same\", activation=\"relu\")`\n",
      "  if __name__ == '__main__':\n",
      "/usr/local/lib/python2.7/dist-packages/ipykernel_launcher.py:10: UserWarning: Update your `Conv2D` call to the Keras 2 API: `Conv2D(64, (3, 3), padding=\"same\", activation=\"relu\")`\n",
      "  # Remove the CWD from sys.path while we load stuff.\n",
      "/usr/local/lib/python2.7/dist-packages/ipykernel_launcher.py:13: UserWarning: Update your `Conv2D` call to the Keras 2 API: `Conv2D(128, (3, 3), padding=\"same\", activation=\"relu\")`\n",
      "  del sys.path[0]\n",
      "/usr/local/lib/python2.7/dist-packages/ipykernel_launcher.py:14: UserWarning: Update your `Conv2D` call to the Keras 2 API: `Conv2D(128, (3, 3), padding=\"same\", activation=\"relu\")`\n",
      "  \n",
      "/usr/local/lib/python2.7/dist-packages/ipykernel_launcher.py:17: UserWarning: Update your `Conv2D` call to the Keras 2 API: `Conv2D(256, (3, 3), padding=\"same\", activation=\"relu\")`\n",
      "/usr/local/lib/python2.7/dist-packages/ipykernel_launcher.py:18: UserWarning: Update your `Conv2D` call to the Keras 2 API: `Conv2D(256, (3, 3), padding=\"same\", activation=\"relu\")`\n",
      "/usr/local/lib/python2.7/dist-packages/ipykernel_launcher.py:21: UserWarning: Update your `Conv2D` call to the Keras 2 API: `Conv2D(512, (3, 3), padding=\"same\", activation=\"relu\")`\n",
      "/usr/local/lib/python2.7/dist-packages/ipykernel_launcher.py:22: UserWarning: Update your `Conv2D` call to the Keras 2 API: `Conv2D(512, (3, 3), padding=\"same\", activation=\"relu\")`\n",
      "/usr/local/lib/python2.7/dist-packages/ipykernel_launcher.py:24: UserWarning: The `merge` function is deprecated and will be removed after 08/2017. Use instead layers from `keras.layers.merge`, e.g. `add`, `concatenate`, etc.\n",
      "/usr/local/lib/python2.7/dist-packages/ipykernel_launcher.py:25: UserWarning: Update your `Conv2D` call to the Keras 2 API: `Conv2D(256, (3, 3), padding=\"same\", activation=\"relu\")`\n",
      "/usr/local/lib/python2.7/dist-packages/ipykernel_launcher.py:26: UserWarning: Update your `Conv2D` call to the Keras 2 API: `Conv2D(256, (3, 3), padding=\"same\", activation=\"relu\")`\n",
      "/usr/local/lib/python2.7/dist-packages/ipykernel_launcher.py:28: UserWarning: The `merge` function is deprecated and will be removed after 08/2017. Use instead layers from `keras.layers.merge`, e.g. `add`, `concatenate`, etc.\n",
      "/usr/local/lib/python2.7/dist-packages/ipykernel_launcher.py:29: UserWarning: Update your `Conv2D` call to the Keras 2 API: `Conv2D(128, (3, 3), padding=\"same\", activation=\"relu\")`\n",
      "/usr/local/lib/python2.7/dist-packages/ipykernel_launcher.py:30: UserWarning: Update your `Conv2D` call to the Keras 2 API: `Conv2D(128, (3, 3), padding=\"same\", activation=\"relu\")`\n",
      "/usr/local/lib/python2.7/dist-packages/ipykernel_launcher.py:32: UserWarning: The `merge` function is deprecated and will be removed after 08/2017. Use instead layers from `keras.layers.merge`, e.g. `add`, `concatenate`, etc.\n",
      "/usr/local/lib/python2.7/dist-packages/ipykernel_launcher.py:33: UserWarning: Update your `Conv2D` call to the Keras 2 API: `Conv2D(64, (3, 3), padding=\"same\", activation=\"relu\")`\n",
      "/usr/local/lib/python2.7/dist-packages/ipykernel_launcher.py:34: UserWarning: Update your `Conv2D` call to the Keras 2 API: `Conv2D(64, (3, 3), padding=\"same\", activation=\"relu\")`\n",
      "/usr/local/lib/python2.7/dist-packages/ipykernel_launcher.py:36: UserWarning: The `merge` function is deprecated and will be removed after 08/2017. Use instead layers from `keras.layers.merge`, e.g. `add`, `concatenate`, etc.\n",
      "/usr/local/lib/python2.7/dist-packages/ipykernel_launcher.py:37: UserWarning: Update your `Conv2D` call to the Keras 2 API: `Conv2D(32, (3, 3), padding=\"same\", activation=\"relu\")`\n",
      "/usr/local/lib/python2.7/dist-packages/ipykernel_launcher.py:38: UserWarning: Update your `Conv2D` call to the Keras 2 API: `Conv2D(32, (3, 3), padding=\"same\", activation=\"relu\")`\n",
      "/usr/local/lib/python2.7/dist-packages/ipykernel_launcher.py:40: UserWarning: Update your `Conv2D` call to the Keras 2 API: `Conv2D(10, (1, 1), activation=\"sigmoid\")`\n",
      "/usr/local/lib/python2.7/dist-packages/ipykernel_launcher.py:42: UserWarning: Update your `Model` call to the Keras 2 API: `Model(outputs=Tensor(\"co..., inputs=Tensor(\"in...)`\n",
      "Ring Self-intersection at or near point 170 112\n"
     ]
    },
    {
     "data": {
      "image/png": "[encoded data removed]",
      "text/plain": [
       "<matplotlib.figure.Figure at 0x7ff2c270f990>"
      ]
     },
     "metadata": {},
     "output_type": "display_data"
    }
   ],
   "source": [
    "#\n",
    "#\n",
    "check_predict()"
   ]
  },
  {
   "cell_type": "code",
   "execution_count": 40,
   "metadata": {},
   "outputs": [
    {
     "name": "stdout",
     "output_type": "stream",
     "text": [
      "build network\n"
     ]
    },
    {
     "name": "stderr",
     "output_type": "stream",
     "text": [
      "/usr/local/lib/python2.7/dist-packages/ipykernel_launcher.py:5: UserWarning: Update your `Conv2D` call to the Keras 2 API: `Conv2D(32, (3, 3), padding=\"same\", activation=\"relu\")`\n",
      "  \"\"\"\n",
      "/usr/local/lib/python2.7/dist-packages/ipykernel_launcher.py:6: UserWarning: Update your `Conv2D` call to the Keras 2 API: `Conv2D(32, (3, 3), padding=\"same\", activation=\"relu\")`\n",
      "  \n",
      "/usr/local/lib/python2.7/dist-packages/ipykernel_launcher.py:9: UserWarning: Update your `Conv2D` call to the Keras 2 API: `Conv2D(64, (3, 3), padding=\"same\", activation=\"relu\")`\n",
      "  if __name__ == '__main__':\n",
      "/usr/local/lib/python2.7/dist-packages/ipykernel_launcher.py:10: UserWarning: Update your `Conv2D` call to the Keras 2 API: `Conv2D(64, (3, 3), padding=\"same\", activation=\"relu\")`\n",
      "  # Remove the CWD from sys.path while we load stuff.\n",
      "/usr/local/lib/python2.7/dist-packages/ipykernel_launcher.py:13: UserWarning: Update your `Conv2D` call to the Keras 2 API: `Conv2D(128, (3, 3), padding=\"same\", activation=\"relu\")`\n",
      "  del sys.path[0]\n",
      "/usr/local/lib/python2.7/dist-packages/ipykernel_launcher.py:14: UserWarning: Update your `Conv2D` call to the Keras 2 API: `Conv2D(128, (3, 3), padding=\"same\", activation=\"relu\")`\n",
      "  \n",
      "/usr/local/lib/python2.7/dist-packages/ipykernel_launcher.py:17: UserWarning: Update your `Conv2D` call to the Keras 2 API: `Conv2D(256, (3, 3), padding=\"same\", activation=\"relu\")`\n",
      "/usr/local/lib/python2.7/dist-packages/ipykernel_launcher.py:18: UserWarning: Update your `Conv2D` call to the Keras 2 API: `Conv2D(256, (3, 3), padding=\"same\", activation=\"relu\")`\n",
      "/usr/local/lib/python2.7/dist-packages/ipykernel_launcher.py:21: UserWarning: Update your `Conv2D` call to the Keras 2 API: `Conv2D(512, (3, 3), padding=\"same\", activation=\"relu\")`\n",
      "/usr/local/lib/python2.7/dist-packages/ipykernel_launcher.py:22: UserWarning: Update your `Conv2D` call to the Keras 2 API: `Conv2D(512, (3, 3), padding=\"same\", activation=\"relu\")`\n",
      "/usr/local/lib/python2.7/dist-packages/ipykernel_launcher.py:24: UserWarning: The `merge` function is deprecated and will be removed after 08/2017. Use instead layers from `keras.layers.merge`, e.g. `add`, `concatenate`, etc.\n",
      "/usr/local/lib/python2.7/dist-packages/ipykernel_launcher.py:25: UserWarning: Update your `Conv2D` call to the Keras 2 API: `Conv2D(256, (3, 3), padding=\"same\", activation=\"relu\")`\n",
      "/usr/local/lib/python2.7/dist-packages/ipykernel_launcher.py:26: UserWarning: Update your `Conv2D` call to the Keras 2 API: `Conv2D(256, (3, 3), padding=\"same\", activation=\"relu\")`\n",
      "/usr/local/lib/python2.7/dist-packages/ipykernel_launcher.py:28: UserWarning: The `merge` function is deprecated and will be removed after 08/2017. Use instead layers from `keras.layers.merge`, e.g. `add`, `concatenate`, etc.\n",
      "/usr/local/lib/python2.7/dist-packages/ipykernel_launcher.py:29: UserWarning: Update your `Conv2D` call to the Keras 2 API: `Conv2D(128, (3, 3), padding=\"same\", activation=\"relu\")`\n",
      "/usr/local/lib/python2.7/dist-packages/ipykernel_launcher.py:30: UserWarning: Update your `Conv2D` call to the Keras 2 API: `Conv2D(128, (3, 3), padding=\"same\", activation=\"relu\")`\n",
      "/usr/local/lib/python2.7/dist-packages/ipykernel_launcher.py:32: UserWarning: The `merge` function is deprecated and will be removed after 08/2017. Use instead layers from `keras.layers.merge`, e.g. `add`, `concatenate`, etc.\n",
      "/usr/local/lib/python2.7/dist-packages/ipykernel_launcher.py:33: UserWarning: Update your `Conv2D` call to the Keras 2 API: `Conv2D(64, (3, 3), padding=\"same\", activation=\"relu\")`\n",
      "/usr/local/lib/python2.7/dist-packages/ipykernel_launcher.py:34: UserWarning: Update your `Conv2D` call to the Keras 2 API: `Conv2D(64, (3, 3), padding=\"same\", activation=\"relu\")`\n",
      "/usr/local/lib/python2.7/dist-packages/ipykernel_launcher.py:36: UserWarning: The `merge` function is deprecated and will be removed after 08/2017. Use instead layers from `keras.layers.merge`, e.g. `add`, `concatenate`, etc.\n",
      "/usr/local/lib/python2.7/dist-packages/ipykernel_launcher.py:37: UserWarning: Update your `Conv2D` call to the Keras 2 API: `Conv2D(32, (3, 3), padding=\"same\", activation=\"relu\")`\n",
      "/usr/local/lib/python2.7/dist-packages/ipykernel_launcher.py:38: UserWarning: Update your `Conv2D` call to the Keras 2 API: `Conv2D(32, (3, 3), padding=\"same\", activation=\"relu\")`\n",
      "/usr/local/lib/python2.7/dist-packages/ipykernel_launcher.py:40: UserWarning: Update your `Conv2D` call to the Keras 2 API: `Conv2D(10, (1, 1), activation=\"sigmoid\")`\n",
      "/usr/local/lib/python2.7/dist-packages/ipykernel_launcher.py:42: UserWarning: Update your `Model` call to the Keras 2 API: `Model(outputs=Tensor(\"co..., inputs=Tensor(\"in...)`\n",
      "Self-intersection at or near point 719.83636363636367 710.12727272727273\n"
     ]
    },
    {
     "data": {
      "image/png": "[encoded data removed]",
      "text/plain": [
       "<matplotlib.figure.Figure at 0x7ff2a1c3a890>"
      ]
     },
     "metadata": {},
     "output_type": "display_data"
    }
   ],
   "source": [
    "#\n",
    "#\n",
    "check_predict1()"
   ]
  },
  {
   "cell_type": "code",
   "execution_count": 41,
   "metadata": {},
   "outputs": [
    {
     "name": "stderr",
     "output_type": "stream",
     "text": [
      "Self-intersection at or near point 593.5333333333333 531\n",
      "Self-intersection at or near point 844.92814371257487 779.90119760479047\n",
      "Self-intersection at or near point 182.95081967213116 444.29508196721309\n"
     ]
    },
    {
     "name": "stdout",
     "output_type": "stream",
     "text": [
      "make submission file\n",
      "    ImageId  ClassType                                    MultipolygonWKT\n",
      "0  6120_2_4          1  POLYGON ((0 0, 0.009188 0, 0.009188 -0.0090399...\n",
      "1  6120_2_4          2  POLYGON ((0 0, 0.009188 0, 0.009188 -0.0090399...\n",
      "2  6120_2_4          3  POLYGON ((0 0, 0.009188 0, 0.009188 -0.0090399...\n",
      "3  6120_2_4          4  POLYGON ((0 0, 0.009188 0, 0.009188 -0.0090399...\n",
      "4  6120_2_4          5  POLYGON ((0 0, 0.009188 0, 0.009188 -0.0090399...\n",
      "0\n"
     ]
    },
    {
     "name": "stderr",
     "output_type": "stream",
     "text": [
      "Self-intersection at or near point 247.35294117647058 598.35294117647061\n",
      "Self-intersection at or near point 281.45454545454544 392.72727272727275\n",
      "Self-intersection at or near point 536 756.125\n",
      "Self-intersection at or near point 666.75999999999999 504.56\n",
      "Self-intersection at or near point 785.64525993883797 522.60550458715602\n",
      "Self-intersection at or near point 318.63636363636363 411.81818181818181\n",
      "Self-intersection at or near point 729.76095617529882 760.56972111553785\n",
      "Self-intersection at or near point 823.57142857142856 172.28571428571428\n",
      "Self-intersection at or near point 823.15916955017303 812.12456747404849\n",
      "Self-intersection at or near point 758.79999999999995 81.700000000000003\n",
      "Self-intersection at or near point 820.34285714285716 161.15238095238095\n",
      "Self-intersection at or near point 846.1351351351351 523.32432432432438\n",
      "Self-intersection at or near point 631.72500000000002 154.42500000000001\n",
      "Self-intersection at or near point 553.28451882845184 804.62761506276149\n",
      "Self-intersection at or near point 835.14814814814815 398.03703703703701\n",
      "Self-intersection at or near point 788.28951486697963 614.80751173708916\n",
      "Self-intersection at or near point 751.35294117647061 793.17647058823525\n",
      "Self-intersection at or near point 815.57055214723925 628.58895705521468\n",
      "Self-intersection at or near point 318.25131995776132 830.6177402323126\n",
      "Self-intersection at or near point 430.60317460317458 26.047619047619047\n",
      "Self-intersection at or near point 719.90909090909088 75.36363636363636\n",
      "Self-intersection at or near point 536.98203592814366 3.8592814371257482\n",
      "Self-intersection at or near point 75.821229050279328 818.43016759776538\n",
      "Self-intersection at or near point 767.06930693069307 299.05940594059405\n"
     ]
    },
    {
     "name": "stdout",
     "output_type": "stream",
     "text": [
      "100\n"
     ]
    },
    {
     "name": "stderr",
     "output_type": "stream",
     "text": [
      "Self-intersection at or near point 352.16268980477224 148.35791757049893\n",
      "Self-intersection at or near point 568.2814070351759 793.59798994974869\n",
      "Self-intersection at or near point 328.38028169014086 641.52112676056333\n",
      "Self-intersection at or near point 800.14754098360652 564.34426229508199\n",
      "Self-intersection at or near point 209.5 426.5\n",
      "Self-intersection at or near point 796.39999999999998 360.48571428571427\n",
      "Self-intersection at or near point 369.82258064516128 99.637096774193552\n",
      "Self-intersection at or near point 113 462.31578947368422\n",
      "Ring Self-intersection at or near point 380 319\n",
      "Self-intersection at or near point 670.3125 567.9375\n",
      "Self-intersection at or near point 740.73451327433634 570.42477876106193\n",
      "Self-intersection at or near point 692.0254083484574 0.093163944343617688\n",
      "Self-intersection at or near point 809 12.777777777777779\n",
      "Self-intersection at or near point 162.26993865030676 691.65644171779138\n"
     ]
    },
    {
     "name": "stdout",
     "output_type": "stream",
     "text": [
      "200\n"
     ]
    },
    {
     "name": "stderr",
     "output_type": "stream",
     "text": [
      "Self-intersection at or near point 842.47222222222217 62.166666666666664\n",
      "Self-intersection at or near point 331.46263345195729 400.14234875444839\n",
      "Self-intersection at or near point 277.95652173913044 115.60869565217391\n",
      "Self-intersection at or near point 816.10344827586209 565.37931034482756\n",
      "Self-intersection at or near point 8 164.83333333333334\n",
      "Self-intersection at or near point 761.9473684210526 143.47368421052633\n",
      "Self-intersection at or near point 835.10557184750735 609.89149560117301\n",
      "Self-intersection at or near point 33.724137931034484 816.24137931034488\n",
      "Self-intersection at or near point 805.96855345911945 600.89937106918239\n",
      "Self-intersection at or near point 674.23529411764707 804.76470588235293\n",
      "Self-intersection at or near point 643.5 429.5\n",
      "Self-intersection at or near point 731.71875 665.65625\n",
      "Self-intersection at or near point 843.38461538461536 507.69230769230768\n",
      "Self-intersection at or near point 809.51219512195121 284.78048780487802\n",
      "Self-intersection at or near point 825.96212121212125 800.2651515151515\n",
      "Self-intersection at or near point 716.51612903225805 808.71260997067452\n",
      "Self-intersection at or near point 845.74698795180723 245.63855421686748\n",
      "Self-intersection at or near point 773.9375 297.86931818181819\n",
      "Self-intersection at or near point 844.8125 375.4375\n"
     ]
    },
    {
     "name": "stdout",
     "output_type": "stream",
     "text": [
      "300\n"
     ]
    },
    {
     "name": "stderr",
     "output_type": "stream",
     "text": [
      "Self-intersection at or near point 804.49101796407183 778.67065868263478\n",
      "Self-intersection at or near point 44.475247524752476 830.69306930693074\n",
      "Self-intersection at or near point 530.20895522388059 785.74626865671644\n",
      "Self-intersection at or near point 122.48837209302326 565.67441860465112\n",
      "Self-intersection at or near point 548.94696969696975 212.62878787878788\n",
      "Self-intersection at or near point 742.3478260869565 129.43478260869566\n",
      "Self-intersection at or near point 161.36826783114992 365.16739446870452\n",
      "Self-intersection at or near point 260 0\n",
      "Self-intersection at or near point 149.3153153153153 602.27027027027032\n",
      "Self-intersection at or near point 386.08064516129031 273.56451612903226\n",
      "Self-intersection at or near point 664.43665768194069 813.58490566037733\n",
      "Self-intersection at or near point 314.4021739130435 258.89130434782606\n",
      "Self-intersection at or near point 37 17.142857142857142\n",
      "Self-intersection at or near point 480.58139534883719 228.59302325581396\n",
      "Self-intersection at or near point 240.70443349753694 201.30049261083744\n",
      "Self-intersection at or near point 801.33613445378148 248.16806722689077\n",
      "Self-intersection at or near point 561.61832061068708 164.70038167938932\n",
      "Self-intersection at or near point 834 449\n",
      "Self-intersection at or near point 542.77049180327867 678.18032786885249\n"
     ]
    },
    {
     "name": "stdout",
     "output_type": "stream",
     "text": [
      "400\n"
     ]
    },
    {
     "name": "stderr",
     "output_type": "stream",
     "text": [
      "Self-intersection at or near point 815.875 485.25\n",
      "Self-intersection at or near point 809 638\n",
      "Self-intersection at or near point 204.69803921568626 306.21960784313728\n",
      "Self-intersection at or near point 222.19148936170214 810.68085106382978\n",
      "Self-intersection at or near point 509.04587155963304 189.22018348623854\n",
      "Self-intersection at or near point 16.300000000000001 483.26249999999999\n",
      "Self-intersection at or near point 732.23076923076928 804.46153846153845\n",
      "Self-intersection at or near point 779.28571428571433 88\n",
      "Self-intersection at or near point 824.04761904761904 401.52380952380952\n",
      "Self-intersection at or near point 838.74285714285713 184.8857142857143\n",
      "Self-intersection at or near point 243.15789473684211 270.10526315789474\n",
      "Self-intersection at or near point 479.00719424460431 685.91366906474821\n",
      "Self-intersection at or near point 690.10380622837374 420.43598615916954\n",
      "Self-intersection at or near point 835.05727923627683 281.97613365155132\n",
      "Self-intersection at or near point 669.62962962962968 73.740740740740748\n",
      "Self-intersection at or near point 846.40796019900495 174.63681592039802\n",
      "Self-intersection at or near point 693 165.40000000000001\n",
      "Ring Self-intersection at or near point 320 479\n",
      "Self-intersection at or near point 816.60000000000002 4.2000000000000002\n",
      "Self-intersection at or near point 629.67441860465112 159.72868217054264\n",
      "Ring Self-intersection at or near point 320 319\n",
      "Self-intersection at or near point 570.82608695652175 782.59420289855075\n",
      "Self-intersection at or near point 741.61290322580646 143.12903225806451\n",
      "Self-intersection at or near point 843.65172054223149 596.8905109489051\n"
     ]
    },
    {
     "name": "stdout",
     "output_type": "stream",
     "text": [
      "500\n"
     ]
    },
    {
     "name": "stderr",
     "output_type": "stream",
     "text": [
      "Self-intersection at or near point 811.41004184100416 723.12133891213387\n",
      "Self-intersection at or near point 468.95652173913044 828.5978260869565\n",
      "Self-intersection at or near point 758.23529411764707 695.96078431372553\n",
      "Self-intersection at or near point 486.76470588235293 647.62352941176471\n",
      "Self-intersection at or near point 116.35294117647059 406.64705882352939\n",
      "Self-intersection at or near point 826.19480519480521 51.753246753246756\n",
      "Self-intersection at or near point 840 204.88888888888889\n",
      "Self-intersection at or near point 132.68618266978922 774.73770491803282\n",
      "Self-intersection at or near point 789.16666666666663 340.83333333333331\n",
      "Self-intersection at or near point 124.95833333333333 335.91666666666669\n",
      "Ring Self-intersection at or near point 0 569\n",
      "Self-intersection at or near point 483.66666666666669 625.33333333333337\n",
      "Self-intersection at or near point 811.88888888888891 772.88888888888891\n",
      "Self-intersection at or near point 404.64516129032256 637.22580645161293\n",
      "Self-intersection at or near point 695 160.875\n",
      "Self-intersection at or near point 812.8089887640449 268.9438202247191\n",
      "Self-intersection at or near point 417.70198675496687 153.73509933774835\n",
      "Self-intersection at or near point 712.56565656565658 181.42424242424244\n",
      "Self-intersection at or near point 320.47904191616766 18.143712574850298\n",
      "Self-intersection at or near point 822.17791411042947 61.006134969325153\n"
     ]
    },
    {
     "name": "stdout",
     "output_type": "stream",
     "text": [
      "600\n"
     ]
    },
    {
     "name": "stderr",
     "output_type": "stream",
     "text": [
      "Ring Self-intersection at or near point 569 835\n",
      "Self-intersection at or near point 819.63636363636363 291.63636363636363\n",
      "Self-intersection at or near point 699.03284671532845 407.02554744525548\n",
      "Self-intersection at or near point 77.765243902439025 709.29878048780483\n",
      "Self-intersection at or near point 691.66101694915255 496.11864406779659\n",
      "Self-intersection at or near point 341.39024390243901 827.97560975609758\n",
      "Self-intersection at or near point 836.2388059701492 475.74626865671644\n",
      "Self-intersection at or near point 796.60000000000002 177.80000000000001\n",
      "Self-intersection at or near point 414.16129032258067 712.70967741935488\n",
      "Ring Self-intersection at or near point 100 485\n",
      "Self-intersection at or near point 87.946808510638292 475.71276595744683\n",
      "Self-intersection at or near point 620.13043478260875 206.58695652173913\n",
      "Self-intersection at or near point 584.24770642201838 438.92660550458714\n",
      "Self-intersection at or near point 795.46719160104988 295.44094488188978\n",
      "Self-intersection at or near point 435.94936708860757 504.68354430379748\n",
      "Self-intersection at or near point 467.47058823529414 309.03921568627453\n",
      "Self-intersection at or near point 641.19417475728153 683.39805825242718\n",
      "Self-intersection at or near point 625.83870967741939 140.51612903225808\n",
      "Self-intersection at or near point 282.28571428571428 603.34285714285716\n",
      "Self-intersection at or near point 713.05369127516781 417.29530201342283\n",
      "Self-intersection at or near point 804.57706093189961 468.32616487455198\n",
      "Self-intersection at or near point 797.78723404255322 472.70212765957444\n",
      "Self-intersection at or near point 623.09090909090912 167.90909090909091\n",
      "Self-intersection at or near point 123.51612903225806 238.48387096774192\n",
      "Self-intersection at or near point 673.47252747252742 731.87912087912093\n",
      "Self-intersection at or near point 646.68122270742356 161.85152838427948\n"
     ]
    },
    {
     "name": "stdout",
     "output_type": "stream",
     "text": [
      "700\n"
     ]
    },
    {
     "name": "stderr",
     "output_type": "stream",
     "text": [
      "Self-intersection at or near point 533.17123287671234 6.3082191780821919\n",
      "Self-intersection at or near point 603.25531914893622 24.829787234042552\n",
      "Self-intersection at or near point 741.0252707581227 238.72202166064983\n",
      "Self-intersection at or near point 272.48275862068965 287.34482758620692\n",
      "Self-intersection at or near point 761.05769230769226 558.57692307692309\n",
      "Ring Self-intersection at or near point 207 93\n",
      "Self-intersection at or near point 401.07547169811323 616.79245283018872\n",
      "Self-intersection at or near point 623.97256097560978 117.9390243902439\n",
      "Self-intersection at or near point 802.16535433070862 464.3937007874016\n",
      "Self-intersection at or near point 764.06815761448354 474.92332268370609\n",
      "Self-intersection at or near point 435.77669902912623 177.02912621359224\n",
      "Self-intersection at or near point 313.2962962962963 552.25925925925924\n",
      "Self-intersection at or near point 799 637.46875\n",
      "Self-intersection at or near point 620.85714285714289 542.05714285714282\n",
      "Self-intersection at or near point 457.32876712328766 493.10958904109589\n",
      "Self-intersection at or near point 153 422\n",
      "Self-intersection at or near point 681.88 617.36000000000001\n",
      "Self-intersection at or near point 736.20000000000005 383.80000000000001\n",
      "Self-intersection at or near point 248.55238095238096 593.17142857142858\n",
      "Self-intersection at or near point 845.35064935064941 777.74025974025972\n",
      "Self-intersection at or near point 799.37341772151899 729.06962025316454\n",
      "Self-intersection at or near point 577.61538461538464 829.83516483516485\n",
      "Self-intersection at or near point 671.69343065693431 784.21897810218979\n",
      "Self-intersection at or near point 270 161\n"
     ]
    },
    {
     "name": "stdout",
     "output_type": "stream",
     "text": [
      "800\n"
     ]
    },
    {
     "name": "stderr",
     "output_type": "stream",
     "text": [
      "Self-intersection at or near point 17.05263157894737 143.2982456140351\n",
      "Self-intersection at or near point 449.11724137931037 97.34482758620689\n",
      "Self-intersection at or near point 781.43434343434342 158.27272727272728\n",
      "Self-intersection at or near point 726 548.73684210526312\n",
      "Self-intersection at or near point 147.14705882352942 5.4117647058823533\n",
      "Self-intersection at or near point 550.90301003344484 340.33779264214047\n",
      "Self-intersection at or near point 120.375 181.6875\n",
      "Self-intersection at or near point 669 467.33333333333331\n",
      "Self-intersection at or near point 20.600000000000001 439.19999999999999\n",
      "Self-intersection at or near point 702.84615384615381 831.30769230769226\n",
      "Self-intersection at or near point 705.17543859649118 824.21929824561403\n",
      "Self-intersection at or near point 532 254.18181818181819\n",
      "Self-intersection at or near point 828.40059347181011 18.643916913946587\n",
      "Self-intersection at or near point 818.07614213197974 184.46700507614213\n",
      "Self-intersection at or near point 824.59349593495938 214.02439024390245\n",
      "Self-intersection at or near point 781.39130434782612 599.97826086956525\n",
      "Self-intersection at or near point 365.15625 388.625\n",
      "Self-intersection at or near point 807.47540983606552 819.78688524590166\n",
      "Self-intersection at or near point 567.76923076923072 197.23076923076923\n",
      "Self-intersection at or near point 848.19348268839099 379.0672097759674\n",
      "Self-intersection at or near point 694.99723502304153 517.91705069124419\n",
      "Self-intersection at or near point 806.51219512195121 686.41463414634143\n",
      "Self-intersection at or near point 829.8347826086956 812.77391304347827\n",
      "Self-intersection at or near point 842.53061224489795 127.08163265306122\n"
     ]
    },
    {
     "name": "stdout",
     "output_type": "stream",
     "text": [
      "900\n"
     ]
    },
    {
     "name": "stderr",
     "output_type": "stream",
     "text": [
      "Self-intersection at or near point 844.81967213114751 164.85245901639345\n",
      "Self-intersection at or near point 773.42857142857144 737.17857142857144\n",
      "Self-intersection at or near point 819.18548387096769 656.63709677419354\n",
      "Self-intersection at or near point 835.11864406779659 449.05084745762713\n",
      "Ring Self-intersection at or near point 838 159\n",
      "Self-intersection at or near point 812.07453416149065 28.062111801242235\n",
      "Self-intersection at or near point 845.89361702127655 270.21276595744683\n",
      "Self-intersection at or near point 581.96703296703299 342.1098901098901\n",
      "Self-intersection at or near point 816.21951219512198 371.07317073170731\n",
      "Self-intersection at or near point 842.95652173913038 174.91304347826087\n",
      "Self-intersection at or near point 847.32183908045977 240.31034482758622\n",
      "Self-intersection at or near point 344.01190476190476 821.04761904761904\n",
      "Self-intersection at or near point 844.8478260869565 615.08695652173913\n",
      "Self-intersection at or near point 822.98031496062993 824.17716535433067\n",
      "Self-intersection at or near point 144.875 323\n",
      "Self-intersection at or near point 760.07692307692309 1.7948717948717949\n",
      "Self-intersection at or near point 799 640.71428571428567\n",
      "Self-intersection at or near point 463.16666666666669 275.16666666666669\n",
      "Self-intersection at or near point 745.3125 240.8125\n",
      "Self-intersection at or near point 656.10062893081761 44.415094339622641\n"
     ]
    },
    {
     "name": "stdout",
     "output_type": "stream",
     "text": [
      "1000\n"
     ]
    },
    {
     "name": "stderr",
     "output_type": "stream",
     "text": [
      "Self-intersection at or near point 298.95209580838321 276.16766467065867\n",
      "Self-intersection at or near point 792.32432432432438 137.05405405405406\n",
      "Self-intersection at or near point 787 160\n",
      "Self-intersection at or near point 513.46242774566474 27.959537572254334\n",
      "Self-intersection at or near point 736.06106870229007 276.30916030534354\n",
      "Self-intersection at or near point 830.44155844155841 208.09090909090909\n",
      "Self-intersection at or near point 825.85074626865674 367.9957356076759\n",
      "Self-intersection at or near point 843.82089552238801 171.16417910447763\n",
      "Self-intersection at or near point 791.06896551724139 104.82758620689656\n",
      "Self-intersection at or near point 643 1\n",
      "Self-intersection at or near point 788.0061349693251 84.907975460122699\n",
      "Self-intersection at or near point 584.04444444444448 635.08888888888885\n",
      "Self-intersection at or near point 813.30188679245282 696.11320754716985\n",
      "Self-intersection at or near point 812.59420289855075 60.94202898550725\n",
      "Self-intersection at or near point 690.09090909090912 707.36363636363637\n",
      "Self-intersection at or near point 802.21390374331554 163.82887700534761\n",
      "Self-intersection at or near point 847.1761658031088 367.90155440414509\n",
      "Self-intersection at or near point 434.36503856041134 91.897172236503863\n",
      "Self-intersection at or near point 769.54166666666663 630.875\n",
      "Self-intersection at or near point 525.29914529914527 771.74358974358972\n",
      "Self-intersection at or near point 763.38181818181818 4.883116883116883\n",
      "Self-intersection at or near point 670.36206896551721 779.87931034482756\n",
      "Self-intersection at or near point 815.98449612403101 808.74418604651157\n"
     ]
    },
    {
     "name": "stdout",
     "output_type": "stream",
     "text": [
      "1100\n"
     ]
    },
    {
     "name": "stderr",
     "output_type": "stream",
     "text": [
      "Self-intersection at or near point 709.03305785123962 246.55371900826447\n",
      "Self-intersection at or near point 614.64814814814815 6.2407407407407405\n",
      "Self-intersection at or near point 656.15789473684208 786.37894736842111\n",
      "Self-intersection at or near point 137.71717171717171 397.59595959595958\n",
      "Self-intersection at or near point 656 359.54545454545456\n",
      "Self-intersection at or near point 183.40000000000001 28.600000000000001\n",
      "Self-intersection at or near point 809.02030456852788 789.79695431472078\n",
      "Self-intersection at or near point 727.60000000000002 754.44000000000005\n",
      "Self-intersection at or near point 717.82967032967031 89.296703296703299\n",
      "Self-intersection at or near point 845.70151636073422 126.13567438148444\n",
      "Self-intersection at or near point 646.76963350785343 736.74869109947645\n",
      "Self-intersection at or near point 25 611.71875\n",
      "Self-intersection at or near point 224 79\n",
      "Self-intersection at or near point 804.36363636363637 472.72727272727275\n",
      "Self-intersection at or near point 620.51851851851848 798.22222222222217\n",
      "Self-intersection at or near point 364.22764227642278 677.51219512195121\n",
      "Self-intersection at or near point 376.18181818181819 462.63636363636363\n",
      "Self-intersection at or near point 614 582.87719298245611\n",
      "Self-intersection at or near point 799.12716763005778 626.89595375722547\n",
      "Self-intersection at or near point 639.13043478260875 459.30434782608694\n",
      "Self-intersection at or near point 560.74754098360654 832.19016393442621\n",
      "Self-intersection at or near point 446.69999999999999 447.60000000000002\n",
      "Self-intersection at or near point 733.4730290456431 498.40456431535267\n",
      "Self-intersection at or near point 700.625 815.25\n",
      "Self-intersection at or near point 820.29857819905214 743.5023696682465\n",
      "Self-intersection at or near point 805.46470588235297 725.30588235294113\n",
      "Self-intersection at or near point 263.36296296296297 627.51111111111106\n",
      "Self-intersection at or near point 696.60000000000002 777.39999999999998\n"
     ]
    },
    {
     "name": "stdout",
     "output_type": "stream",
     "text": [
      "1200\n"
     ]
    },
    {
     "name": "stderr",
     "output_type": "stream",
     "text": [
      "Self-intersection at or near point 612.79999999999995 347.60000000000002\n",
      "Self-intersection at or near point 646.54491017964074 784.07784431137725\n",
      "Self-intersection at or near point 101.85714285714286 778\n",
      "Self-intersection at or near point 584.22821576763488 682.04149377593365\n",
      "Self-intersection at or near point 575.92338709677415 700.78629032258061\n",
      "Self-intersection at or near point 650.24481865284974 435.84844559585491\n",
      "Self-intersection at or near point 743.48201438848923 259.136690647482\n",
      "Self-intersection at or near point 743.89655172413791 399.89655172413791\n",
      "Self-intersection at or near point 839.90625 230.0625\n",
      "Self-intersection at or near point 801.74193548387098 186.54838709677421\n",
      "Self-intersection at or near point 847.78769497400344 630.33362218370883\n",
      "Self-intersection at or near point 764.32989690721649 802.52577319587624\n",
      "Self-intersection at or near point 754.26315789473688 784.47368421052636\n",
      "Ring Self-intersection at or near point 12 28\n",
      "Self-intersection at or near point 844.67999999999995 389\n",
      "Ring Self-intersection at or near point 701 37\n",
      "Self-intersection at or near point 707.22222222222217 40.25925925925926\n",
      "Self-intersection at or near point 564.27397260273972 343.84931506849313\n",
      "Self-intersection at or near point 221.0477453580902 321.72944297082228\n",
      "Self-intersection at or near point 547.23121387283231 784.19075144508668\n",
      "Self-intersection at or near point 787.58088235294122 204.53676470588235\n",
      "Self-intersection at or near point 479.16311439756419 796.59721618094829\n",
      "Self-intersection at or near point 759.39999999999998 746.51428571428573\n",
      "Self-intersection at or near point 333.39737991266378 597.72489082969435\n",
      "Self-intersection at or near point 746.78523489932888 791.28187919463085\n",
      "Self-intersection at or near point 467.79553903345726 436.13382899628255\n",
      "Self-intersection at or near point 697.60000000000002 667.60000000000002\n",
      "Self-intersection at or near point 765.5 583.5\n",
      "Self-intersection at or near point 766.81376518218622 481.4898785425101\n",
      "Self-intersection at or near point 453.60439560439562 532.25824175824175\n"
     ]
    },
    {
     "name": "stdout",
     "output_type": "stream",
     "text": [
      "1300\n"
     ]
    },
    {
     "name": "stderr",
     "output_type": "stream",
     "text": [
      "Self-intersection at or near point 508.17226890756302 758.23949579831935\n",
      "Self-intersection at or near point 159 485\n",
      "Ring Self-intersection at or near point 192 735\n",
      "Self-intersection at or near point 751.5333333333333 740.5333333333333\n",
      "Self-intersection at or near point 798.47058823529414 483.52941176470586\n",
      "Self-intersection at or near point 600.05479452054794 804.21917808219177\n",
      "Self-intersection at or near point 795.32203389830511 289.96610169491527\n",
      "Self-intersection at or near point 785.86516853932585 629.33707865168537\n",
      "Self-intersection at or near point 372.97826086956519 579.78260869565213\n",
      "Self-intersection at or near point 734.66666666666663 623.08333333333337\n",
      "Self-intersection at or near point 792.46153846153845 423.46153846153845\n",
      "Self-intersection at or near point 29.057142857142857 204.08571428571429\n",
      "Self-intersection at or near point 64.839237057220714 120.71389645776567\n",
      "Self-intersection at or near point 140.11682242990653 125.16355140186916\n",
      "Self-intersection at or near point 667.73333333333335 194.73333333333332\n",
      "Self-intersection at or near point 846 451\n",
      "Self-intersection at or near point 676.42792792792795 113.56306306306307\n",
      "Self-intersection at or near point 832.58282208588957 294.60736196319016\n",
      "Self-intersection at or near point 671.55862068965519 359.36551724137934\n",
      "Self-intersection at or near point 836 683.16666666666663\n",
      "Ring Self-intersection at or near point 598 295\n",
      "Self-intersection at or near point 732.03067484662574 386.39877300613495\n",
      "Self-intersection at or near point 658.40206185567013 300.08247422680415\n",
      "Self-intersection at or near point 800.29292929292933 47.611111111111114\n"
     ]
    },
    {
     "name": "stdout",
     "output_type": "stream",
     "text": [
      "1400\n"
     ]
    },
    {
     "name": "stderr",
     "output_type": "stream",
     "text": [
      "Self-intersection at or near point 806.55555555555554 208.5679012345679\n",
      "Self-intersection at or near point 846.56756756756761 253\n",
      "Self-intersection at or near point 739.19480519480521 110.57142857142857\n",
      "Self-intersection at or near point 669.12 80.439999999999998\n",
      "Self-intersection at or near point 300 110.58823529411765\n",
      "Self-intersection at or near point 181.08108108108109 435.48648648648651\n",
      "Self-intersection at or near point 476.03703703703701 32.530864197530867\n",
      "Self-intersection at or near point 21 640\n",
      "Ring Self-intersection at or near point 161 804\n",
      "Self-intersection at or near point 77 836\n",
      "Self-intersection at or near point 719.01219512195121 741.13414634146341\n",
      "Self-intersection at or near point 569.74834437086088 825.50993377483439\n",
      "Self-intersection at or near point 811.08304498269899 727.55363321799302\n",
      "Self-intersection at or near point 362.97196261682245 602.56074766355141\n",
      "Self-intersection at or near point 799.72727272727275 371\n",
      "Self-intersection at or near point 813.0560747663551 28.672897196261683\n",
      "Self-intersection at or near point 819.18181818181813 229.27272727272728\n",
      "Self-intersection at or near point 832.07407407407402 151.66666666666666\n",
      "Self-intersection at or near point 201.72115384615384 366.67307692307691\n",
      "Self-intersection at or near point 816.28648648648652 236.77297297297298\n",
      "Self-intersection at or near point 528.89156626506019 10.843373493975903\n",
      "Self-intersection at or near point 831.94936708860757 639.05063291139243\n"
     ]
    },
    {
     "name": "stdout",
     "output_type": "stream",
     "text": [
      "1500\n"
     ]
    },
    {
     "name": "stderr",
     "output_type": "stream",
     "text": [
      "Self-intersection at or near point 536.17142857142858 249.25714285714287\n",
      "Self-intersection at or near point 831.546875 800\n",
      "Self-intersection at or near point 649.80471380471386 117.22895622895624\n",
      "Self-intersection at or near point 537.39999999999998 693.93333333333328\n",
      "Self-intersection at or near point 724.97368421052636 668.65789473684208\n",
      "Self-intersection at or near point 782.32432432432438 566.43243243243239\n",
      "Self-intersection at or near point 761.89473684210532 827.84210526315792\n",
      "Self-intersection at or near point 571.14953271028037 519.59345794392527\n",
      "Self-intersection at or near point 711.75738396624467 483.86075949367091\n",
      "Self-intersection at or near point 304.96984924623115 640.0251256281407\n",
      "Self-intersection at or near point 748.74061433447093 233.02389078498294\n",
      "Self-intersection at or near point 757.76470588235293 269.41176470588238\n",
      "Self-intersection at or near point 835.23711340206182 817.84536082474222\n",
      "Self-intersection at or near point 490.54545454545456 260.63636363636363\n",
      "Self-intersection at or near point 845.25190839694653 832.39694656488552\n",
      "Ring Self-intersection at or near point 698 547\n",
      "Self-intersection at or near point 296.29850746268659 0.6467661691542288\n",
      "Self-intersection at or near point 770.60000000000002 62\n",
      "Self-intersection at or near point 634.33333333333337 189.33333333333334\n",
      "Self-intersection at or near point 798.1260504201681 298.47058823529414\n"
     ]
    },
    {
     "name": "stdout",
     "output_type": "stream",
     "text": [
      "1600\n"
     ]
    },
    {
     "name": "stderr",
     "output_type": "stream",
     "text": [
      "Self-intersection at or near point 839.18584070796464 297.05309734513276\n",
      "Self-intersection at or near point 661.09404388714734 410.93103448275861\n",
      "Self-intersection at or near point 608.23809523809518 148.66666666666666\n",
      "Self-intersection at or near point 536.56692913385825 203.55905511811022\n",
      "Self-intersection at or near point 807.45000000000005 761.75\n",
      "Self-intersection at or near point 565.48453608247428 768.1649484536083\n",
      "Self-intersection at or near point 820.4666666666667 215.59999999999999\n",
      "Self-intersection at or near point 713.45652173913038 641.52173913043475\n",
      "Self-intersection at or near point 819.47500000000002 520.29999999999995\n",
      "Self-intersection at or near point 598.92592592592598 358.2962962962963\n",
      "Self-intersection at or near point 480.59558823529414 70.933823529411768\n",
      "Self-intersection at or near point 309.625 136.375\n",
      "Self-intersection at or near point 646.04255319148933 81.148936170212764\n",
      "Self-intersection at or near point 575.84210526315792 197.15789473684211\n",
      "Self-intersection at or near point 774.32258064516134 143.2258064516129\n",
      "Self-intersection at or near point 627.47965116279067 363.65406976744185\n",
      "Self-intersection at or near point 758.96000000000004 47.600000000000001\n",
      "Self-intersection at or near point 640.43636363636358 724.76363636363635\n",
      "Self-intersection at or near point 685.3129770992366 424.42748091603056\n",
      "Self-intersection at or near point 686.47619047619048 349.1904761904762\n",
      "Self-intersection at or near point 789.83333333333337 735.70833333333337\n",
      "Self-intersection at or near point 807.85714285714289 626.14285714285711\n",
      "Self-intersection at or near point 247.08450704225353 454.09859154929575\n",
      "Self-intersection at or near point 213.25 717.5\n",
      "Self-intersection at or near point 479.1875 727.8125\n",
      "Self-intersection at or near point 333 467\n",
      "Ring Self-intersection at or near point 38 320\n",
      "Self-intersection at or near point 813.26174496644296 752.93288590604027\n",
      "Ring Self-intersection at or near point 770 756\n"
     ]
    },
    {
     "name": "stdout",
     "output_type": "stream",
     "text": [
      "1700\n"
     ]
    },
    {
     "name": "stderr",
     "output_type": "stream",
     "text": [
      "Self-intersection at or near point 544.55944055944053 19.027972027972027\n",
      "Self-intersection at or near point 166.62650602409639 809.84337349397595\n",
      "Self-intersection at or near point 691.46511627906978 649.27906976744191\n",
      "Ring Self-intersection at or near point 667 109\n",
      "Self-intersection at or near point 144.59999999999999 36.799999999999997\n",
      "Self-intersection at or near point 477.80000000000001 36.799999999999997\n",
      "Self-intersection at or near point 834.19444444444446 674.19444444444446\n",
      "Self-intersection at or near point 796.75975975975973 444.18318318318319\n",
      "Self-intersection at or near point 702.48292682926831 297.29756097560977\n",
      "Self-intersection at or near point 397.18918918918916 143.45945945945945\n",
      "Self-intersection at or near point 488.43763213530656 209.61099365750528\n",
      "Self-intersection at or near point 843.43451143451148 39.844074844074846\n",
      "Self-intersection at or near point 120.05134474327629 208.85330073349633\n",
      "Self-intersection at or near point 756.5532879818594 114.94104308390023\n",
      "Self-intersection at or near point 654.33333333333337 138.66666666666666\n",
      "Self-intersection at or near point 741.87912087912093 155.8901098901099\n",
      "Self-intersection at or near point 719.0160570918822 667.99107939339876\n",
      "Self-intersection at or near point 824 749\n",
      "Self-intersection at or near point 797.41176470588232 217.50420168067228\n",
      "Self-intersection at or near point 75.072727272727278 831.9454545454546\n",
      "Self-intersection at or near point 504.12765957446811 315.70212765957444\n",
      "Self-intersection at or near point 734.77777777777783 453.88888888888891\n"
     ]
    },
    {
     "name": "stdout",
     "output_type": "stream",
     "text": [
      "1800\n"
     ]
    },
    {
     "name": "stderr",
     "output_type": "stream",
     "text": [
      "Self-intersection at or near point 803.66666666666663 422.42857142857144\n",
      "Self-intersection at or near point 5.4240000000000004 196.84800000000001\n",
      "Self-intersection at or near point 655 70.666666666666671\n",
      "Self-intersection at or near point 701.99143206854342 461.76866585067319\n",
      "Self-intersection at or near point 813.04615384615386 315.94358974358977\n",
      "Self-intersection at or near point 767.29608938547483 751.79329608938542\n",
      "Self-intersection at or near point 793 788\n",
      "Self-intersection at or near point 16.699029126213592 344.58252427184465\n",
      "Self-intersection at or near point 150.09756097560975 536.65853658536582\n",
      "Self-intersection at or near point 13.159574468085106 267.64893617021278\n",
      "Self-intersection at or near point 16.508021390374331 689.1604278074866\n",
      "Self-intersection at or near point 468.95419847328242 145.10687022900763\n",
      "Self-intersection at or near point 821.00898203592817 821.85628742514973\n",
      "Self-intersection at or near point 844.66666666666663 129\n",
      "Self-intersection at or near point 177.31999999999999 372.14666666666665\n",
      "Self-intersection at or near point 503.44999999999999 348.35000000000002\n",
      "Self-intersection at or near point 529.92307692307691 404.69230769230768\n",
      "Self-intersection at or near point 786.20425531914896 405.04255319148939\n",
      "Self-intersection at or near point 617.86335403726707 67.913043478260875\n",
      "Self-intersection at or near point 725.4406779661017 527.38983050847457\n",
      "Self-intersection at or near point 104.62162162162163 331.72972972972974\n",
      "Self-intersection at or near point 845.47593582887703 31.775401069518715\n",
      "Self-intersection at or near point 66.672413793103445 359.43103448275861\n",
      "Self-intersection at or near point 791.25766871165649 256.14110429447851\n",
      "Self-intersection at or near point 847 243.86666666666667\n",
      "Self-intersection at or near point 242.37142857142857 265.31428571428569\n"
     ]
    },
    {
     "name": "stdout",
     "output_type": "stream",
     "text": [
      "1900\n"
     ]
    },
    {
     "name": "stderr",
     "output_type": "stream",
     "text": [
      "Self-intersection at or near point 485.08524590163933 135.07868852459018\n",
      "Self-intersection at or near point 433 164.13333333333333\n",
      "Ring Self-intersection at or near point 158 222\n",
      "Self-intersection at or near point 387.54545454545456 107.45454545454545\n",
      "Self-intersection at or near point 341.30201342281879 207.92617449664431\n",
      "Self-intersection at or near point 819.97326203208559 271.88770053475935\n",
      "Self-intersection at or near point 420.59420289855075 758.1159420289855\n",
      "Self-intersection at or near point 344.89839572192511 403.11229946524065\n",
      "Self-intersection at or near point 703.58333333333337 515.16666666666663\n",
      "Self-intersection at or near point 304.12316715542522 789.97653958944284\n",
      "Self-intersection at or near point 577.71428571428567 636.71428571428567\n",
      "Self-intersection at or near point 743.75 42.375\n",
      "Self-intersection at or near point 722.29411764705878 195.3475935828877\n",
      "Self-intersection at or near point 768.81553398058247 140.08737864077671\n",
      "Self-intersection at or near point 846.56637168141594 108.32743362831859\n",
      "Self-intersection at or near point 735.09124087591238 108.63868613138686\n",
      "Self-intersection at or near point 723.46153846153845 814.92307692307691\n",
      "Self-intersection at or near point 502.37142857142857 153.05714285714285\n",
      "Self-intersection at or near point 717.39787798408486 40.848806366047747\n",
      "Self-intersection at or near point 824.29739776951669 706.91078066914497\n",
      "Self-intersection at or near point 829.32967032967031 273.27472527472526\n",
      "Self-intersection at or near point 331.84210526315792 832.57894736842104\n",
      "Self-intersection at or near point 317.90389016018304 322.97940503432494\n",
      "Self-intersection at or near point 802.20171673819743 454.22746781115882\n"
     ]
    },
    {
     "name": "stdout",
     "output_type": "stream",
     "text": [
      "2000\n"
     ]
    },
    {
     "name": "stderr",
     "output_type": "stream",
     "text": [
      "Self-intersection at or near point 808.86792452830184 153.75471698113208\n",
      "Self-intersection at or near point 649.61538461538464 291.61538461538464\n",
      "Self-intersection at or near point 831.39925373134326 96.679104477611943\n",
      "Self-intersection at or near point 845.24170616113747 170.29383886255926\n",
      "Self-intersection at or near point 605.49295774647885 122.29577464788733\n",
      "Self-intersection at or near point 845.74770642201838 506.79816513761466\n",
      "Self-intersection at or near point 722.44827586206895 123.40229885057471\n",
      "Self-intersection at or near point 841.88108108108111 346.00540540540538\n",
      "Self-intersection at or near point 827.29268292682923 582.09756097560978\n",
      "Self-intersection at or near point 769.81395348837214 214.04651162790697\n",
      "Self-intersection at or near point 358.19999999999999 801.60000000000002\n",
      "Self-intersection at or near point 579.1584158415842 194.70297029702971\n",
      "Self-intersection at or near point 807.3384615384615 421.40769230769229\n",
      "Self-intersection at or near point 692.16300940438873 156.5924764890282\n",
      "Self-intersection at or near point 648 837\n",
      "Self-intersection at or near point 800 5.25\n",
      "Ring Self-intersection at or near point 822 480\n",
      "Self-intersection at or near point 801.13793103448279 310.62068965517244\n"
     ]
    },
    {
     "name": "stdout",
     "output_type": "stream",
     "text": [
      "2100\n"
     ]
    },
    {
     "name": "stderr",
     "output_type": "stream",
     "text": [
      "Self-intersection at or near point 825.43396226415098 25.90566037735849\n",
      "Self-intersection at or near point 775.95412844036696 698.25993883792046\n",
      "Self-intersection at or near point 767.09855072463768 801.54202898550727\n",
      "Self-intersection at or near point 843.92116182572613 298.26970954356847\n",
      "Self-intersection at or near point 608.16766467065872 69.377245508982043\n",
      "Self-intersection at or near point 843.44444444444446 5.1851851851851851\n",
      "Self-intersection at or near point 769.46153846153845 424.61538461538464\n",
      "Self-intersection at or near point 484.40466926070042 786.79571984435802\n",
      "Self-intersection at or near point 843.39130434782612 36.113712374581937\n",
      "Self-intersection at or near point 658.59776536312847 56.089385474860336\n",
      "Self-intersection at or near point 444.02054794520546 383.17808219178085\n",
      "Self-intersection at or near point 701.13698630136992 493.84931506849313\n",
      "Self-intersection at or near point 796.92857142857144 181.5612244897959\n",
      "Self-intersection at or near point 844.53658536585363 626.26829268292681\n",
      "Self-intersection at or near point 56.090909090909093 508.90909090909093\n",
      "Self-intersection at or near point 799.56849315068496 799.93835616438355\n",
      "Self-intersection at or near point 846.41224489795923 144.04489795918369\n",
      "Self-intersection at or near point 845.49290780141848 779.13829787234044\n",
      "Self-intersection at or near point 788.62857142857138 412.27142857142854\n",
      "Self-intersection at or near point 831.92900608519267 318.79513184584181\n",
      "Self-intersection at or near point 439.07084468664851 316.57765667574932\n",
      "Self-intersection at or near point 806.10344827586209 305.27586206896552\n",
      "Self-intersection at or near point 458.00806451612902 803.17137096774195\n",
      "Self-intersection at or near point 831.83870967741939 385.87096774193549\n"
     ]
    },
    {
     "name": "stdout",
     "output_type": "stream",
     "text": [
      "2200\n"
     ]
    },
    {
     "name": "stderr",
     "output_type": "stream",
     "text": [
      "Self-intersection at or near point 811.43165467625897 667.39568345323744\n",
      "Self-intersection at or near point 812.4367176634214 285.18636995827541\n",
      "Self-intersection at or near point 777.60000000000002 589\n",
      "Self-intersection at or near point 833.42744479495263 776.31230283911668\n",
      "Self-intersection at or near point 823.92476489028218 90.319749216300934\n",
      "Self-intersection at or near point 778.42857142857144 316.14285714285717\n",
      "Self-intersection at or near point 830.93913043478256 249.06086956521739\n",
      "Self-intersection at or near point 358.10526315789474 242.84210526315789\n",
      "Ring Self-intersection at or near point 178 1\n",
      "Self-intersection at or near point 822.39473684210532 268.92105263157896\n",
      "Self-intersection at or near point 792.39047619047619 791.37142857142862\n",
      "Self-intersection at or near point 566.27388535031844 763.80891719745227\n",
      "Self-intersection at or near point 691.45381526104416 744.01606425702812\n",
      "Self-intersection at or near point 674.82866043613706 202.30529595015577\n",
      "Self-intersection at or near point 799.78688524590166 813.31803278688528\n",
      "Self-intersection at or near point 703.51076040172165 482.7374461979914\n",
      "Self-intersection at or near point 711.6204819277109 455.46385542168673\n"
     ]
    },
    {
     "name": "stdout",
     "output_type": "stream",
     "text": [
      "2300\n"
     ]
    },
    {
     "name": "stderr",
     "output_type": "stream",
     "text": [
      "Self-intersection at or near point 706 63.299999999999997\n",
      "Self-intersection at or near point 588.089156626506 563.04216867469881\n",
      "Self-intersection at or near point 811.99426934097426 770.07449856733524\n",
      "Self-intersection at or near point 701.88 325.51999999999998\n",
      "Self-intersection at or near point 3 724.5\n",
      "Self-intersection at or near point 13.753246753246753 185.06493506493507\n",
      "Self-intersection at or near point 792.55721393034821 81.71641791044776\n",
      "Self-intersection at or near point 763.61454545454546 706.67636363636359\n",
      "Self-intersection at or near point 429.97997496871091 638.9249061326658\n",
      "Self-intersection at or near point 137 699.27777777777783\n",
      "Self-intersection at or near point 651.34730538922156 823.57485029940119\n",
      "Self-intersection at or near point 844.29032258064512 87.709677419354833\n",
      "Ring Self-intersection at or near point 325 768\n",
      "Self-intersection at or near point 574.57303370786519 789.55056179775283\n",
      "Self-intersection at or near point 78.124137931034483 612.27931034482754\n",
      "Self-intersection at or near point 722.33333333333337 159.83333333333334\n",
      "Self-intersection at or near point 793.85714285714289 598\n",
      "Self-intersection at or near point 709.35502958579877 559.62130177514791\n",
      "Self-intersection at or near point 571.3389121338912 467.57740585774059\n",
      "Self-intersection at or near point 799.55813953488371 176.95348837209303\n",
      "Self-intersection at or near point 828 105\n",
      "Self-intersection at or near point 844.0526315789474 411.89473684210526\n",
      "Self-intersection at or near point 760.05714285714282 388.91428571428571\n",
      "Self-intersection at or near point 106.72727272727273 564.23636363636365\n",
      "Self-intersection at or near point 553.69863013698625 332.98630136986299\n",
      "Ring Self-intersection at or near point 837 319\n",
      "Self-intersection at or near point 528.28070175438597 101.68421052631579\n",
      "Self-intersection at or near point 749 650.39999999999998\n",
      "Self-intersection at or near point 572.72881355932202 134.91525423728814\n",
      "Self-intersection at or near point 724.94285714285718 538.31428571428569\n"
     ]
    },
    {
     "name": "stdout",
     "output_type": "stream",
     "text": [
      "2400\n"
     ]
    },
    {
     "name": "stderr",
     "output_type": "stream",
     "text": [
      "Self-intersection at or near point 521.8039215686274 831.8039215686274\n",
      "Self-intersection at or near point 834.04999999999995 291.94999999999999\n",
      "Self-intersection at or near point 598.57198443579762 550.76653696498056\n",
      "Self-intersection at or near point 843.09708737864082 790.00970873786412\n",
      "Self-intersection at or near point 842.57142857142856 328.14285714285717\n",
      "Self-intersection at or near point 156.48514851485149 504.04950495049508\n",
      "Self-intersection at or near point 821.6615384615385 791.10769230769233\n",
      "Self-intersection at or near point 839.49206349206349 619.69312169312173\n",
      "Self-intersection at or near point 610.11111111111109 807.11111111111109\n",
      "Self-intersection at or near point 603.59753954305802 175.31634446397189\n",
      "Self-intersection at or near point 805 656\n",
      "Self-intersection at or near point 502.6233766233766 171.2987012987013\n",
      "Self-intersection at or near point 492.12903225806451 310.51612903225805\n",
      "Self-intersection at or near point 492.67567567567568 276.41621621621624\n",
      "Self-intersection at or near point 527.6518518518518 658.40740740740739\n",
      "Self-intersection at or near point 580.22222222222217 804.77777777777783\n",
      "Ring Self-intersection at or near point 438 592\n",
      "Self-intersection at or near point 754.53164556962031 616.35443037974687\n",
      "Self-intersection at or near point 397.74285714285713 66.042857142857144\n",
      "Self-intersection at or near point 808 395.44444444444446\n",
      "Self-intersection at or near point 744.16030534351148 392.74809160305341\n",
      "Self-intersection at or near point 475.6692913385827 164.7244094488189\n",
      "Self-intersection at or near point 782.14285714285711 435\n"
     ]
    },
    {
     "name": "stdout",
     "output_type": "stream",
     "text": [
      "2500\n"
     ]
    },
    {
     "name": "stderr",
     "output_type": "stream",
     "text": [
      "Self-intersection at or near point 771.80645161290317 817.41935483870964\n",
      "Self-intersection at or near point 179.07142857142858 354.92857142857144\n",
      "Self-intersection at or near point 780.81967213114751 349.49180327868851\n",
      "Self-intersection at or near point 830.82539682539687 709.04761904761904\n",
      "Self-intersection at or near point 231.35849056603774 16.047169811320757\n",
      "Self-intersection at or near point 678.33663366336634 479.37623762376239\n",
      "Self-intersection at or near point 799 554.16216216216219\n",
      "Self-intersection at or near point 274.51612903225805 391.51612903225805\n",
      "Self-intersection at or near point 788.40495867768595 553.05785123966939\n",
      "Self-intersection at or near point 768.11940298507466 63.537313432835823\n",
      "Self-intersection at or near point 560.64705882352939 113.58823529411765\n",
      "Self-intersection at or near point 729.44295302013427 498.51677852348996\n",
      "Self-intersection at or near point 636.31818181818187 107.83116883116884\n",
      "Self-intersection at or near point 675.16666666666663 47.5\n",
      "Ring Self-intersection at or near point 644 166\n",
      "Self-intersection at or near point 306.68000000000001 260.60000000000002\n",
      "Self-intersection at or near point 733.76237623762381 251.1089108910891\n",
      "Ring Self-intersection at or near point 850 76\n",
      "Self-intersection at or near point 295.55555555555554 218.16666666666666\n",
      "Self-intersection at or near point 661.55609756097556 595.35121951219514\n",
      "Self-intersection at or near point 446 802\n",
      "Self-intersection at or near point 273.12068965517244 20.586206896551722\n",
      "Ring Self-intersection at or near point 669 441\n",
      "Ring Self-intersection at or near point 792 479\n",
      "Self-intersection at or near point 240.36000000000001 424.16000000000003\n",
      "Self-intersection at or near point 430.12068965517244 125.48275862068965\n",
      "Self-intersection at or near point 563.90243902439022 300.85365853658539\n",
      "Self-intersection at or near point 518.625 819.1875\n",
      "Self-intersection at or near point 562.48275862068965 221.48275862068965\n"
     ]
    },
    {
     "name": "stdout",
     "output_type": "stream",
     "text": [
      "2600\n"
     ]
    },
    {
     "name": "stderr",
     "output_type": "stream",
     "text": [
      "Self-intersection at or near point 388.92000000000002 409.36000000000001\n",
      "Self-intersection at or near point 161.73248407643311 643.40764331210187\n",
      "Self-intersection at or near point 768.36254980079684 674.39442231075702\n",
      "Self-intersection at or near point 34.54054054054054 685.72972972972968\n",
      "Self-intersection at or near point 797 363.76470588235293\n",
      "Self-intersection at or near point 306.61061946902657 818.67256637168146\n",
      "Self-intersection at or near point 582.34210526315792 94.065789473684205\n",
      "Self-intersection at or near point 847.04999999999995 246.67857142857142\n",
      "Self-intersection at or near point 505.49206349206349 353.11111111111109\n",
      "Self-intersection at or near point 563.30578512396698 524.75206611570252\n",
      "Self-intersection at or near point 463.03960396039605 283.7227722772277\n",
      "Self-intersection at or near point 586.757281553398 572.12621359223306\n",
      "Self-intersection at or near point 92.791666666666671 515.80555555555554\n",
      "Self-intersection at or near point 709.26490066225165 149.18543046357615\n",
      "Self-intersection at or near point 267.09345794392522 116.32710280373831\n",
      "Self-intersection at or near point 366.49372384937237 9.6317991631799167\n",
      "Self-intersection at or near point 432.42918454935625 352.51072961373393\n",
      "Ring Self-intersection at or near point 719 326\n",
      "Self-intersection at or near point 195.22222222222223 590.77777777777783\n",
      "Self-intersection at or near point 741.66346153846155 704.26923076923072\n",
      "Self-intersection at or near point 434.54545454545456 169.34090909090909\n",
      "Self-intersection at or near point 656 595\n",
      "Self-intersection at or near point 355.66990291262135 580.43689320388353\n",
      "Self-intersection at or near point 308.92814371257487 395.32934131736528\n"
     ]
    },
    {
     "name": "stdout",
     "output_type": "stream",
     "text": [
      "2700\n"
     ]
    },
    {
     "name": "stderr",
     "output_type": "stream",
     "text": [
      "Self-intersection at or near point 646.37931034482756 714.68965517241384\n",
      "Self-intersection at or near point 221.55234657039711 289.65342960288808\n",
      "Self-intersection at or near point 647.31428571428569 703.25714285714287\n",
      "Self-intersection at or near point 238.09090909090909 189.45454545454547\n",
      "Self-intersection at or near point 176.72727272727272 500.18181818181819\n",
      "Self-intersection at or near point 339.78610603290679 632.76965265082265\n",
      "Self-intersection at or near point 746.48543689320388 196.66019417475729\n",
      "Self-intersection at or near point 827 338.05263157894734\n",
      "Self-intersection at or near point 586.24806201550382 399.06976744186045\n",
      "Self-intersection at or near point 141.97916666666666 2.0375000000000001\n",
      "Self-intersection at or near point 30.039999999999999 374.48000000000002\n",
      "Self-intersection at or near point 61.81818181818182 456\n",
      "Self-intersection at or near point 153.71428571428572 414.71428571428572\n",
      "Self-intersection at or near point 209.4406779661017 469.66949152542372\n",
      "Self-intersection at or near point 31.571428571428573 29.928571428571427\n",
      "Self-intersection at or near point 780.75 211.5\n",
      "Self-intersection at or near point 798.28571428571433 799.02857142857147\n",
      "Self-intersection at or near point 476.9387755102041 483.59183673469386\n",
      "Self-intersection at or near point 834 678\n",
      "Self-intersection at or near point 808.57500000000005 153.19999999999999\n",
      "Self-intersection at or near point 825.0987124463519 510.09442060085837\n",
      "Self-intersection at or near point 816.15151515151513 250.72727272727272\n"
     ]
    },
    {
     "name": "stdout",
     "output_type": "stream",
     "text": [
      "2800\n"
     ]
    },
    {
     "name": "stderr",
     "output_type": "stream",
     "text": [
      "Self-intersection at or near point 751.17241379310349 175.06896551724137\n",
      "Self-intersection at or near point 847 208\n",
      "Self-intersection at or near point 779.05660377358492 361.09433962264148\n",
      "Self-intersection at or near point 684.39767441860465 649.49302325581391\n",
      "Self-intersection at or near point 297.69054441260744 19.034383954154727\n",
      "Self-intersection at or near point 60.4141592920354 425.69734513274335\n",
      "Self-intersection at or near point 98.441314553990608 449.01408450704224\n",
      "Self-intersection at or near point 688.03587443946185 345.66367713004485\n",
      "Self-intersection at or near point 632.60000000000002 551.20000000000005\n",
      "Self-intersection at or near point 833.21052631578948 802.66315789473686\n",
      "Self-intersection at or near point 696.43585237258344 654.03514938488581\n",
      "Self-intersection at or near point 618.5151515151515 410.4848484848485\n",
      "Self-intersection at or near point 841.82142857142856 78.476190476190482\n",
      "Self-intersection at or near point 259.69230769230768 122\n",
      "Self-intersection at or near point 813.94749403341291 153.7398568019093\n",
      "Self-intersection at or near point 781.23529411764707 721.02941176470586\n",
      "Self-intersection at or near point 552.97687861271675 765.12138728323703\n",
      "Self-intersection at or near point 413.2613065326633 537.8743718592965\n",
      "Self-intersection at or near point 709.1171875 234.98828125\n",
      "Self-intersection at or near point 798.13084112149534 625.9439252336449\n",
      "Self-intersection at or near point 163.25806451612902 484.22580645161293\n",
      "Self-intersection at or near point 847.00226757369614 434.90249433106578\n",
      "Self-intersection at or near point 188.69811320754718 806.56603773584902\n",
      "Self-intersection at or near point 770.25925925925924 779.55555555555554\n",
      "Self-intersection at or near point 521.03355704697992 343.19463087248323\n",
      "Self-intersection at or near point 63.8125 765.78125\n",
      "Self-intersection at or near point 229.74157303370785 513.91011235955057\n",
      "Self-intersection at or near point 838.25925925925924 736.66666666666663\n"
     ]
    },
    {
     "name": "stdout",
     "output_type": "stream",
     "text": [
      "2900\n"
     ]
    },
    {
     "name": "stderr",
     "output_type": "stream",
     "text": [
      "Self-intersection at or near point 660.43283582089555 542.6567164179105\n",
      "Self-intersection at or near point 839.0432432432433 107.08108108108108\n",
      "Self-intersection at or near point 726.13970588235293 759.89705882352939\n",
      "Self-intersection at or near point 568.85567010309273 84.979381443298962\n",
      "Self-intersection at or near point 639.42857142857144 627.28571428571433\n",
      "Self-intersection at or near point 371.09604519774012 833.18644067796606\n",
      "Self-intersection at or near point 504.35000000000002 553.35000000000002\n",
      "Self-intersection at or near point 403 275.07407407407408\n",
      "Self-intersection at or near point 835.75 647.25\n",
      "Self-intersection at or near point 467.64705882352939 675.35294117647061\n",
      "Self-intersection at or near point 831.27547169811317 525.32830188679247\n",
      "Self-intersection at or near point 612 800\n",
      "Self-intersection at or near point 846 182\n",
      "Self-intersection at or near point 639.95419847328242 497.96183206106872\n",
      "Self-intersection at or near point 827.42222222222222 363.80000000000001\n",
      "Self-intersection at or near point 844.46341463414637 671.07317073170736\n",
      "Self-intersection at or near point 779.15936254980079 104.48207171314741\n",
      "Self-intersection at or near point 844.468085106383 604.63829787234044\n",
      "Self-intersection at or near point 833.94117647058829 563.05882352941171\n",
      "Self-intersection at or near point 739.4580152671756 62.732824427480914\n",
      "Self-intersection at or near point 1.7416107382550337 818.05704697986573\n"
     ]
    },
    {
     "name": "stdout",
     "output_type": "stream",
     "text": [
      "3000\n"
     ]
    },
    {
     "name": "stderr",
     "output_type": "stream",
     "text": [
      "Self-intersection at or near point 678.26197183098589 96.149295774647882\n",
      "Self-intersection at or near point 551.21052631578948 195\n",
      "Self-intersection at or near point 2 193\n",
      "Self-intersection at or near point 344.25316455696202 159.54430379746836\n",
      "Self-intersection at or near point 602.88286334056397 576.06507592190894\n",
      "Self-intersection at or near point 761.23668639053255 611.10059171597629\n",
      "Self-intersection at or near point 836.81746031746036 458.82539682539681\n",
      "Self-intersection at or near point 760.39130434782612 440.82608695652175\n",
      "Self-intersection at or near point 530.93258426966293 477.88764044943821\n",
      "Self-intersection at or near point 817.66666666666663 14\n",
      "Self-intersection at or near point 578.88888888888891 306.33333333333331\n",
      "Self-intersection at or near point 507 0.30434782608695654\n",
      "Self-intersection at or near point 744.83333333333337 751.08333333333337\n",
      "Self-intersection at or near point 324.53374233128835 642.24539877300617\n",
      "Self-intersection at or near point 592.22435897435901 321.29166666666669\n",
      "Self-intersection at or near point 793.37241379310342 627.75862068965512\n",
      "Self-intersection at or near point 554.1559633027523 271.24770642201833\n",
      "Self-intersection at or near point 277 262\n",
      "Self-intersection at or near point 593.39583333333337 477.12878787878788\n",
      "Self-intersection at or near point 391.5427135678392 57.386934673366831\n"
     ]
    },
    {
     "name": "stdout",
     "output_type": "stream",
     "text": [
      "3100\n"
     ]
    },
    {
     "name": "stderr",
     "output_type": "stream",
     "text": [
      "Self-intersection at or near point 821.36263736263732 273.54945054945057\n",
      "Self-intersection at or near point 798.71375464684013 246.58364312267659\n",
      "Self-intersection at or near point 515.05882352941171 2.1568627450980391\n",
      "Self-intersection at or near point 412 807.5\n",
      "Self-intersection at or near point 839.4545454545455 675.77272727272725\n",
      "Self-intersection at or near point 803.69955156950675 84.349775784753362\n",
      "Self-intersection at or near point 202.03225806451613 826.0322580645161\n",
      "Self-intersection at or near point 769 549.90909090909088\n",
      "Ring Self-intersection at or near point 834 384\n",
      "Self-intersection at or near point 758.91780821917803 97.273972602739732\n",
      "Self-intersection at or near point 348 208.33333333333334\n",
      "Self-intersection at or near point 702.25 36.5\n",
      "Self-intersection at or near point 614.84615384615381 803.41025641025647\n",
      "Self-intersection at or near point 506.65306122448982 824.81632653061229\n",
      "Self-intersection at or near point 267.08333333333331 213.54166666666666\n",
      "Self-intersection at or near point 517 731.55555555555554\n",
      "Self-intersection at or near point 815.30967741935478 469.09677419354841\n",
      "Self-intersection at or near point 747.66473988439304 790.49132947976875\n",
      "Self-intersection at or near point 693.3121387283237 640.90173410404623\n",
      "Self-intersection at or near point 564 771\n",
      "Self-intersection at or near point 771.89024390243901 674.31707317073176\n",
      "Self-intersection at or near point 1.8701075268817204 608.1131182795699\n",
      "Self-intersection at or near point 729.94630872483219 161.42953020134229\n",
      "Self-intersection at or near point 101 320\n"
     ]
    },
    {
     "name": "stdout",
     "output_type": "stream",
     "text": [
      "3200\n"
     ]
    },
    {
     "name": "stderr",
     "output_type": "stream",
     "text": [
      "Self-intersection at or near point 833.17272727272723 726.24545454545455\n",
      "Self-intersection at or near point 799.0976744186047 421.1720930232558\n",
      "Self-intersection at or near point 831.13793103448279 500.13793103448273\n",
      "Self-intersection at or near point 723.33333333333337 783.77777777777783\n",
      "Self-intersection at or near point 389.54135338345867 366.3233082706767\n",
      "Self-intersection at or near point 434.22580645161293 775.16129032258061\n",
      "Self-intersection at or near point 375.09859154929575 685.77464788732391\n",
      "Self-intersection at or near point 680.24719101123594 700.49438202247188\n",
      "Self-intersection at or near point 108.06968641114983 769.2439024390244\n",
      "Self-intersection at or near point 383.8354430379747 310.40506329113924\n",
      "Self-intersection at or near point 327.24916943521595 263.21926910299004\n",
      "Self-intersection at or near point 675.46534653465346 567.86138613861385\n",
      "Self-intersection at or near point 241.13872832369941 74.537572254335259\n",
      "Self-intersection at or near point 779.5602836879433 55.936170212765958\n",
      "Self-intersection at or near point 705.0764818355641 804.08604206500956\n",
      "Self-intersection at or near point 495.60674157303373 346.88764044943821\n",
      "Self-intersection at or near point 688.58490566037733 194.38993710691824\n",
      "Self-intersection at or near point 364.93129770992368 563.70229007633588\n",
      "Self-intersection at or near point 794.75159235668787 381.09554140127386\n",
      "Self-intersection at or near point 202.61290322580646 629.9677419354839\n",
      "Self-intersection at or near point 774.38 207.90000000000001\n",
      "Self-intersection at or near point 372 713.66666666666663\n"
     ]
    },
    {
     "name": "stdout",
     "output_type": "stream",
     "text": [
      "3300\n"
     ]
    },
    {
     "name": "stderr",
     "output_type": "stream",
     "text": [
      "Self-intersection at or near point 549.16883116883116 717.39393939393938\n",
      "Self-intersection at or near point 397.84549356223175 141.12017167381975\n",
      "Self-intersection at or near point 844.74074074074076 327.18518518518516\n",
      "Self-intersection at or near point 46.137724550898206 817.82035928143716\n",
      "Self-intersection at or near point 489.55102040816325 729.55102040816325\n",
      "Self-intersection at or near point 494.80000000000001 512.32000000000005\n",
      "Self-intersection at or near point 358.25 666.75\n",
      "Self-intersection at or near point 747.90909090909088 132.68181818181819\n",
      "Self-intersection at or near point 561.04347826086962 616.97826086956525\n",
      "Self-intersection at or near point 350.4493927125506 787.51417004048585\n",
      "Self-intersection at or near point 765.72093023255809 774.51162790697674\n",
      "Self-intersection at or near point 642.93150684931504 527.34246575342468\n",
      "Self-intersection at or near point 771.88888888888891 85.148148148148152\n",
      "Self-intersection at or near point 846.67521367521363 348.90598290598291\n",
      "Self-intersection at or near point 749.231884057971 617.94202898550725\n",
      "Self-intersection at or near point 527 116\n",
      "Self-intersection at or near point 402.45454545454544 382.45454545454544\n",
      "Self-intersection at or near point 455.17475728155341 250.60194174757282\n",
      "Self-intersection at or near point 440.04733727810651 616.97830374753448\n",
      "Self-intersection at or near point 590.74683544303798 210.56962025316454\n",
      "Self-intersection at or near point 788.83333333333337 340.83333333333331\n",
      "Self-intersection at or near point 837.030303030303 735.57575757575762\n",
      "Self-intersection at or near point 266.71428571428572 104.85714285714286\n",
      "Self-intersection at or near point 701.38400000000001 380.52800000000002\n",
      "Self-intersection at or near point 504.13664596273293 511.90683229813664\n",
      "Self-intersection at or near point 660.90047393364932 0.59715639810426535\n",
      "Self-intersection at or near point 631.71739130434787 480.39130434782606\n",
      "Self-intersection at or near point 134.30756578947367 730.83717105263156\n",
      "Self-intersection at or near point 742.88519637462241 593.78247734138972\n",
      "Self-intersection at or near point 260.02941176470586 357.61764705882354\n"
     ]
    },
    {
     "name": "stdout",
     "output_type": "stream",
     "text": [
      "3400\n"
     ]
    },
    {
     "name": "stderr",
     "output_type": "stream",
     "text": [
      "Self-intersection at or near point 314.18367346938777 581.89795918367349\n",
      "Self-intersection at or near point 527.24137931034488 558.58620689655174\n",
      "Self-intersection at or near point 664.25339366515834 214.85972850678732\n",
      "Self-intersection at or near point 669.11111111111109 355.88888888888891\n",
      "Self-intersection at or near point 805.31645569620252 92.822784810126578\n",
      "Self-intersection at or near point 544.32142857142856 432.53571428571428\n",
      "Self-intersection at or near point 836.79310344827582 528.94827586206895\n",
      "Self-intersection at or near point 836.53846153846155 53.92307692307692\n",
      "Self-intersection at or near point 539.61290322580646 402.32258064516128\n",
      "Self-intersection at or near point 830.45945945945948 733.02702702702697\n",
      "Self-intersection at or near point 318.32394366197184 493.3943661971831\n",
      "Self-intersection at or near point 654.39393939393938 335.09090909090907\n",
      "Self-intersection at or near point 428.66094420600859 803.75536480686696\n",
      "Self-intersection at or near point 547.67521367521363 162.15954415954417\n",
      "Self-intersection at or near point 759.39999999999998 160.59999999999999\n",
      "Self-intersection at or near point 232.32520325203251 467.1869918699187\n",
      "Self-intersection at or near point 657.9473684210526 832.26315789473688\n",
      "Self-intersection at or near point 483.70212765957444 142.89361702127658\n",
      "Self-intersection at or near point 409.625 479\n",
      "Self-intersection at or near point 656.23076923076928 602.20512820512818\n",
      "Self-intersection at or near point 619.58536585365857 569.65853658536582\n",
      "Self-intersection at or near point 742.89999999999998 704.08000000000004\n",
      "Self-intersection at or near point 268.94753086419752 40.712962962962962\n",
      "Self-intersection at or near point 357.3230240549828 76.31615120274914\n",
      "Self-intersection at or near point 750 108.5\n",
      "Self-intersection at or near point 800.25 250.8125\n",
      "Self-intersection at or near point 662 432.18181818181819\n",
      "Self-intersection at or near point 766.07692307692309 154.92307692307693\n",
      "Self-intersection at or near point 802.60714285714289 153.92857142857142\n"
     ]
    },
    {
     "name": "stdout",
     "output_type": "stream",
     "text": [
      "3500\n"
     ]
    },
    {
     "name": "stderr",
     "output_type": "stream",
     "text": [
      "Self-intersection at or near point 115 400\n",
      "Self-intersection at or near point 484.17391304347825 283.73913043478262\n",
      "Self-intersection at or near point 776.26315789473688 576.26315789473688\n",
      "Self-intersection at or near point 802.29636048526868 77.263431542461007\n",
      "Self-intersection at or near point 563.2844827586207 744.20689655172418\n",
      "Self-intersection at or near point 691.0980392156863 511.60784313725492\n",
      "Self-intersection at or near point 247.14285714285714 510.57142857142856\n",
      "Ring Self-intersection at or near point 267 177\n",
      "Self-intersection at or near point 588.35820895522386 124.6268656716418\n",
      "Self-intersection at or near point 480 294.83333333333331\n",
      "Ring Self-intersection at or near point 243 426\n",
      "Self-intersection at or near point 273.05504587155963 628.9174311926605\n",
      "Self-intersection at or near point 683.85714285714289 237.57142857142858\n",
      "Self-intersection at or near point 560.46153846153845 714.38461538461536\n",
      "Self-intersection at or near point 471.16666666666669 206.33333333333334\n",
      "Self-intersection at or near point 579.27555555555557 309.24888888888887\n",
      "Self-intersection at or near point 775.76377952755911 216.8031496062992\n",
      "Self-intersection at or near point 724.52631578947364 39.526315789473685\n",
      "Self-intersection at or near point 799.39893617021278 354.72340425531917\n",
      "Self-intersection at or near point 290.93975903614455 270.28915662650604\n",
      "Self-intersection at or near point 783.88461538461536 299\n",
      "Self-intersection at or near point 816.61325966850825 342.72375690607737\n",
      "Self-intersection at or near point 679.50931677018639 245.55900621118013\n",
      "Self-intersection at or near point 344.81818181818181 681.18181818181813\n",
      "Self-intersection at or near point 848.56896551724139 320\n"
     ]
    },
    {
     "name": "stdout",
     "output_type": "stream",
     "text": [
      "3600\n"
     ]
    },
    {
     "name": "stderr",
     "output_type": "stream",
     "text": [
      "Self-intersection at or near point 625 349\n",
      "Self-intersection at or near point 720.73568281938321 325.85022026431716\n",
      "Self-intersection at or near point 459.4830508474576 358.60169491525426\n",
      "Self-intersection at or near point 617 160\n",
      "Self-intersection at or near point 750.90322580645159 654.06451612903231\n",
      "Self-intersection at or near point 784.66042154566742 440.25292740046837\n",
      "Self-intersection at or near point 213.22222222222223 332.5\n",
      "Self-intersection at or near point 703.82733812949641 627.15107913669067\n",
      "Self-intersection at or near point 685.26586102719034 458.33836858006043\n",
      "Self-intersection at or near point 809.81818181818187 435.09090909090907\n",
      "Self-intersection at or near point 849 269\n",
      "Self-intersection at or near point 835.56050955414014 705.53503184713372\n",
      "Self-intersection at or near point 316.51999999999998 144.19200000000001\n",
      "Self-intersection at or near point 394.73684210526318 575.36842105263156\n",
      "Self-intersection at or near point 817.94308943089436 46.544715447154474\n",
      "Self-intersection at or near point 29.789156626506024 618.30120481927713\n",
      "Self-intersection at or near point 569.93768545994067 743.16617210682489\n",
      "Self-intersection at or near point 770.76923076923072 623.92307692307691\n",
      "Self-intersection at or near point 536.22448979591832 747.46938775510205\n",
      "Self-intersection at or near point 498.44954128440367 44.302752293577981\n",
      "Self-intersection at or near point 814.31081081081084 623.83445945945948\n",
      "Self-intersection at or near point 788.27659574468089 354.35106382978722\n",
      "Self-intersection at or near point 676.87179487179492 479.79487179487177\n",
      "Self-intersection at or near point 844.67741935483866 94.322580645161295\n",
      "Self-intersection at or near point 823.06849315068496 254.79452054794521\n",
      "Self-intersection at or near point 512.03571428571433 569.25\n",
      "Self-intersection at or near point 734.21359223300976 737.61165048543694\n",
      "Self-intersection at or near point 648.25870646766168 311.21890547263683\n"
     ]
    },
    {
     "name": "stdout",
     "output_type": "stream",
     "text": [
      "3700\n"
     ]
    },
    {
     "name": "stderr",
     "output_type": "stream",
     "text": [
      "Self-intersection at or near point 656.43478260869563 221.04347826086956\n",
      "Self-intersection at or near point 472.07692307692309 595.92307692307691\n",
      "Self-intersection at or near point 195.08641975308643 620.93827160493822\n",
      "Self-intersection at or near point 686.71929824561403 340.85964912280701\n",
      "Self-intersection at or near point 805.28985507246375 236.81884057971016\n",
      "Self-intersection at or near point 145.2775119617225 623.61722488038276\n",
      "Self-intersection at or near point 350.92473118279571 127.54838709677419\n",
      "Self-intersection at or near point 815.3121387283237 231.82658959537574\n",
      "Self-intersection at or near point 705.69329529243942 800.73609129814554\n",
      "Self-intersection at or near point 58.4375 580.734375\n",
      "Self-intersection at or near point 795.42338709677415 792.41935483870964\n",
      "Self-intersection at or near point 642.83333333333337 3\n",
      "Self-intersection at or near point 825.81609195402302 624.18965517241384\n",
      "Self-intersection at or near point 185.22058823529412 94.029411764705884\n",
      "Self-intersection at or near point 304.68627450980392 624.98039215686276\n",
      "Self-intersection at or near point 845.46987951807228 278.13253012048193\n",
      "Self-intersection at or near point 761.94505494505495 7.1318681318681314\n"
     ]
    },
    {
     "name": "stdout",
     "output_type": "stream",
     "text": [
      "3800\n"
     ]
    },
    {
     "name": "stderr",
     "output_type": "stream",
     "text": [
      "Self-intersection at or near point 845.19791666666663 782.71875\n",
      "Self-intersection at or near point 824.79757085020242 717.65789473684208\n",
      "Self-intersection at or near point 639.15887850467288 277.74766355140184\n",
      "Self-intersection at or near point 462.046875 526.8125\n",
      "Self-intersection at or near point 809.53846153846155 253.15384615384616\n",
      "Self-intersection at or near point 837.73749999999995 528.70000000000005\n",
      "Self-intersection at or near point 808.91304347826087 479.80869565217392\n",
      "Self-intersection at or near point 642.40740740740739 287.92592592592592\n",
      "Self-intersection at or near point 518.2389380530974 271.94690265486724\n",
      "Ring Self-intersection at or near point 733 320\n",
      "Self-intersection at or near point 714.11538461538464 634.69230769230774\n",
      "Ring Self-intersection at or near point 834 667\n",
      "Self-intersection at or near point 604 1\n",
      "Self-intersection at or near point 726.95833333333337 146.99583333333334\n"
     ]
    },
    {
     "name": "stdout",
     "output_type": "stream",
     "text": [
      "3900\n"
     ]
    },
    {
     "name": "stderr",
     "output_type": "stream",
     "text": [
      "Self-intersection at or near point 743.13043478260875 660.08695652173913\n",
      "Self-intersection at or near point 846.67041198501875 436.62921348314609\n",
      "Self-intersection at or near point 801.41999999999996 577.01999999999998\n",
      "Self-intersection at or near point 788.21052631578948 202.10526315789474\n",
      "Self-intersection at or near point 836.92857142857144 775.75\n",
      "Self-intersection at or near point 830.82089552238801 200.67164179104478\n",
      "Self-intersection at or near point 820 164.44\n",
      "Self-intersection at or near point 648.92592592592598 790.40740740740739\n",
      "Self-intersection at or near point 782 297.71428571428572\n",
      "Self-intersection at or near point 488.80769230769232 801.30769230769226\n",
      "Self-intersection at or near point 845.26198083067095 536.63258785942492\n",
      "Self-intersection at or near point 555.31455399061031 124.7981220657277\n",
      "Self-intersection at or near point 365.92307692307691 664.84615384615381\n",
      "Self-intersection at or near point 628.53072625698326 446.66480446927375\n",
      "Self-intersection at or near point 344.60824742268039 813.62886597938143\n",
      "Ring Self-intersection at or near point 414 220\n",
      "Self-intersection at or near point 564.10759493670889 641.70253164556959\n",
      "Self-intersection at or near point 474.86231884057969 180.69565217391303\n"
     ]
    },
    {
     "name": "stdout",
     "output_type": "stream",
     "text": [
      "4000\n"
     ]
    },
    {
     "name": "stderr",
     "output_type": "stream",
     "text": [
      "Self-intersection at or near point 615.3221757322176 588.61924686192469\n",
      "Self-intersection at or near point 310.44170403587447 305.77354260089686\n",
      "Self-intersection at or near point 675.12854442344042 266.17202268431004\n",
      "Self-intersection at or near point 510.83333333333331 526\n",
      "Self-intersection at or near point 561.02222222222224 321.15555555555557\n",
      "Self-intersection at or near point 767.02870813397124 337.51196172248802\n",
      "Self-intersection at or near point 718.06185567010311 546.9432989690722\n",
      "Self-intersection at or near point 742.91666666666663 478.02380952380952\n",
      "Self-intersection at or near point 764.1232876712329 601.7397260273973\n",
      "Self-intersection at or near point 441.66272189349115 76.786982248520715\n",
      "Self-intersection at or near point 292.97014925373134 832.73134328358208\n",
      "Self-intersection at or near point 544.6686567164179 4.6776119402985072\n",
      "Self-intersection at or near point 299.25352112676057 401.40845070422534\n",
      "Self-intersection at or near point 157.28571428571428 388.57142857142856\n",
      "Ring Self-intersection at or near point 775 37\n",
      "Self-intersection at or near point 711.33333333333337 80.909090909090907\n",
      "Self-intersection at or near point 798.17857142857144 575.46428571428567\n",
      "Self-intersection at or near point 846.39200000000005 652.06399999999996\n",
      "Self-intersection at or near point 459.04411764705884 483.69117647058823\n",
      "Self-intersection at or near point 752.53846153846155 633.30769230769226\n",
      "Ring Self-intersection at or near point 479 10\n",
      "Self-intersection at or near point 733.06349206349205 551.49206349206349\n",
      "Self-intersection at or near point 489.11764705882354 324.70588235294116\n",
      "Self-intersection at or near point 545.27999999999997 39.520000000000003\n",
      "Self-intersection at or near point 553.42372881355936 93.983050847457633\n"
     ]
    },
    {
     "name": "stdout",
     "output_type": "stream",
     "text": [
      "4100\n"
     ]
    },
    {
     "name": "stderr",
     "output_type": "stream",
     "text": [
      "Self-intersection at or near point 115.05555555555556 772.96296296296293\n",
      "Self-intersection at or near point 735.24590163934431 243.10928961748633\n",
      "Self-intersection at or near point 585.64227642276421 220.7479674796748\n",
      "Self-intersection at or near point 715 0\n",
      "Self-intersection at or near point 110.9047619047619 462.90476190476193\n",
      "Self-intersection at or near point 779.79472140762459 69.592375366568916\n",
      "Self-intersection at or near point 832.60869565217388 536.56521739130437\n",
      "Ring Self-intersection at or near point 319 364\n",
      "Self-intersection at or near point 769.75150300601206 300.83867735470943\n",
      "Self-intersection at or near point 376.86363636363637 679.86363636363637\n",
      "Self-intersection at or near point 671.26086956521738 485.33043478260868\n",
      "Self-intersection at or near point 445.04046242774564 601.06358381502889\n",
      "Self-intersection at or near point 65.784135240572169 750.52405721716514\n",
      "Self-intersection at or near point 767.08333333333337 56\n",
      "Self-intersection at or near point 618.0980392156863 592.86274509803923\n",
      "Self-intersection at or near point 689.58620689655174 220.48275862068965\n",
      "Ring Self-intersection at or near point 129 99\n",
      "Self-intersection at or near point 723.83333333333337 228.66666666666666\n",
      "Self-intersection at or near point 802.06060606060601 808.030303030303\n",
      "Self-intersection at or near point 752.13469387755106 78.987755102040822\n",
      "Self-intersection at or near point 792.17391304347825 139.86956521739131\n",
      "Self-intersection at or near point 378.26603325415675 831.69596199524938\n",
      "Self-intersection at or near point 791.51492537313436 384.29850746268659\n",
      "Self-intersection at or near point 834.04958677685954 495.11570247933884\n"
     ]
    },
    {
     "name": "stdout",
     "output_type": "stream",
     "text": [
      "4200\n"
     ]
    },
    {
     "name": "stderr",
     "output_type": "stream",
     "text": [
      "Self-intersection at or near point 528.23529411764707 832.41176470588232\n",
      "Self-intersection at or near point 781 65.5\n",
      "Self-intersection at or near point 302.96728971962619 804.6121495327103\n",
      "Self-intersection at or near point 823.52494577006507 473.77440347071581\n",
      "Ring Self-intersection at or near point 847 257\n",
      "Self-intersection at or near point 676.79775280898878 250.70786516853931\n",
      "Self-intersection at or near point 518 161.78947368421052\n",
      "Self-intersection at or near point 684.25 129\n",
      "Self-intersection at or near point 703.39743589743591 365.17948717948718\n",
      "Self-intersection at or near point 655.25925925925924 368.88888888888891\n",
      "Self-intersection at or near point 560.59463487332334 745.96870342771979\n",
      "Self-intersection at or near point 827.16176470588232 117.48529411764706\n",
      "Self-intersection at or near point 652 673.79999999999995\n",
      "Self-intersection at or near point 299.03271028037381 28.752336448598129\n",
      "Self-intersection at or near point 326.13157894736844 580.52631578947364\n",
      "Self-intersection at or near point 666.98406374501997 380.71314741035854\n",
      "Self-intersection at or near point 669.51020408163265 833.2489795918367\n",
      "Self-intersection at or near point 80.534591194968556 347.67924528301887\n",
      "Self-intersection at or near point 508.22222222222223 519.77777777777783\n",
      "Self-intersection at or near point 739.75 827\n",
      "Self-intersection at or near point 843.35338345864659 369.65413533834584\n",
      "Self-intersection at or near point 11.111111111111111 423.55555555555554\n",
      "Self-intersection at or near point 116 400.38961038961037\n",
      "Self-intersection at or near point 443.74103585657372 210.31872509960161\n"
     ]
    },
    {
     "name": "stdout",
     "output_type": "stream",
     "text": [
      "    ImageId  ClassType                                    MultipolygonWKT\n",
      "0  6120_2_4          1  MULTIPOLYGON (((0.0061055575672065 -0.00728821...\n",
      "1  6120_2_4          2  MULTIPOLYGON (((0.0073721359987014 -0.00790458...\n",
      "2  6120_2_4          3  MULTIPOLYGON (((0.0091691618074892 -0.00328726...\n",
      "3  6120_2_4          4  MULTIPOLYGON (((0.0091691618074892 -0.00082181...\n",
      "4  6120_2_4          5  MULTIPOLYGON (((0.0091366854374508 -0.00510391...\n"
     ]
    }
   ],
   "source": [
    "# make submission\n",
    "#\n",
    "make_submit()"
   ]
  },
  {
   "cell_type": "code",
   "execution_count": 28,
   "metadata": {
    "collapsed": true
   },
   "outputs": [],
   "source": [
    "# N_Cls = 10\n",
    "N_Cls = 1\n",
    "inDir = '/home/ubuntu/data/dstl/data'\n",
    "topDir = '/home/ubuntu/data/dstl'\n",
    "DF = pd.read_csv(inDir + '/train_wkt_v4.csv')\n",
    "GS = pd.read_csv(inDir + '/grid_sizes.csv', names=['ImageId', 'Xmax', 'Ymin'], skiprows=1)\n",
    "SB = pd.read_csv(topDir + '/subm/sample_submission.csv')\n",
    "ISZ = 160\n",
    "smooth = 1e-12"
   ]
  },
  {
   "cell_type": "code",
   "execution_count": 29,
   "metadata": {},
   "outputs": [
    {
     "name": "stdout",
     "output_type": "stream",
     "text": [
      "25\n",
      "450\n",
      "4290\n"
     ]
    }
   ],
   "source": [
    "DF = DF.loc[(DF['ClassType'] == 1)] # | (DF['ClassType'] == 2)]\n",
    "print len(DF)\n",
    "print len(GS)\n",
    "print len(SB)"
   ]
  },
  {
   "cell_type": "code",
   "execution_count": 30,
   "metadata": {},
   "outputs": [
    {
     "name": "stdout",
     "output_type": "stream",
     "text": [
      "let's stick all imgs together\n",
      "25\n",
      "(837, 849, 8) 6010_1_2 1.0 0.0\n",
      "(837, 849, 8) 6010_4_2 1.0 0.0\n",
      "(837, 848, 8) 6010_4_4 1.0 0.0\n",
      "(837, 848, 8) 6040_1_0 1.0 0.0\n",
      "(837, 848, 8) 6040_1_3 1.0 0.0\n",
      "(837, 848, 8) 6040_2_2 1.0 0.0\n",
      "(837, 846, 8) 6040_4_4 1.0 0.0\n",
      "(837, 851, 8) 6060_2_3 1.0 0.0\n",
      "(838, 835, 8) 6070_2_3 1.0 0.0\n",
      "(837, 848, 8) 6090_2_0 1.0 0.0\n",
      "(837, 848, 8) 6100_1_3 1.0 0.0\n",
      "(837, 848, 8) 6100_2_2 1.0 0.0\n",
      "(837, 848, 8) 6100_2_3 1.0 0.0\n",
      "(837, 849, 8) 6110_1_2 1.0 0.0\n",
      "(837, 849, 8) 6110_3_1 1.0 0.0\n",
      "(837, 849, 8) 6110_4_0 1.0 0.0\n",
      "(837, 851, 8) 6120_2_0 1.0 0.0\n",
      "(837, 851, 8) 6120_2_2 1.0 0.0\n",
      "(837, 849, 8) 6140_1_2 1.0 0.0\n",
      "(837, 849, 8) 6140_3_1 1.0 0.0\n",
      "(837, 851, 8) 6150_2_3 1.0 0.0\n",
      "(837, 848, 8) 6160_2_1 1.0 0.0\n",
      "(837, 848, 8) 6170_0_4 1.0 0.0\n",
      "(837, 848, 8) 6170_2_4 1.0 0.0\n",
      "(837, 848, 8) 6170_4_1 1.0 0.0\n",
      "1.0 0.0\n"
     ]
    }
   ],
   "source": [
    "stick_all_train()"
   ]
  },
  {
   "cell_type": "code",
   "execution_count": 31,
   "metadata": {},
   "outputs": [
    {
     "name": "stdout",
     "output_type": "stream",
     "text": [
      "let's pick some samples for validation\n",
      "(82, 8, 160, 160) (82, 1, 160, 160) 1.0 -1.0 1.0 0.0\n"
     ]
    }
   ],
   "source": [
    "make_val()"
   ]
  },
  {
   "cell_type": "code",
   "execution_count": null,
   "metadata": {
    "collapsed": true
   },
   "outputs": [],
   "source": []
  },
  {
   "cell_type": "code",
   "execution_count": 61,
   "metadata": {
    "collapsed": true
   },
   "outputs": [],
   "source": [
    "def train_net():\n",
    "    print \"start train net\"\n",
    "    x_val, y_val = np.load(inDir + '/x_tmp_%d.npy' % N_Cls), np.load(inDir +'/y_tmp_%d.npy' % N_Cls)\n",
    "   \n",
    "    img = np.load(inDir + '/x_trn_%d.npy' % N_Cls)\n",
    "    msk = np.load(inDir + '/y_trn_%d.npy' % N_Cls)\n",
    "\n",
    "    x_trn, y_trn = get_patches(img, msk)\n",
    "    print np.ndim(x_trn)\n",
    "    print np.ndim(y_trn)\n",
    "    model = get_unet()\n",
    "\n",
    "    model.load_weights(topDir + '/weights/buildings_unet_10_jk0.0780')\n",
    "#    model.load_weights(topDir + '/weights/unet_10_jk0.7878')\n",
    "#    model.load_weights(topDir + '/weights/baseline.w')\n",
    "    model_checkpoint = ModelCheckpoint(topDir + '/weights/unet_tmp.hdf5', monitor='loss', save_best_only=True)\n",
    "    for i in range(200):\n",
    "        model.fit(x_trn, y_trn, batch_size=64, nb_epoch=10, verbose=1, shuffle=True,\n",
    "                  callbacks=[model_checkpoint], validation_data=(x_val, y_val))\n",
    "        del x_trn\n",
    "        del y_trn\n",
    "        x_trn, y_trn = get_patches(img, msk)\n",
    "        score, trs = calc_jacc(model)\n",
    "        print 'val jk', score\n",
    "        model.save_weights(topDir + '/weights/buildings_unet_10_jk%.4f' % score)\n",
    "\n",
    "    return model"
   ]
  },
  {
   "cell_type": "code",
   "execution_count": null,
   "metadata": {},
   "outputs": [
    {
     "name": "stdout",
     "output_type": "stream",
     "text": [
      "start train net\n",
      "(224, 8, 160, 160) (224, 1, 160, 160) 1.0 -1.0 1.0 0.0\n",
      "4\n",
      "4\n",
      "build network\n"
     ]
    },
    {
     "name": "stderr",
     "output_type": "stream",
     "text": [
      "/usr/local/lib/python2.7/dist-packages/ipykernel_launcher.py:5: UserWarning: Update your `Conv2D` call to the Keras 2 API: `Conv2D(32, (3, 3), padding=\"same\", activation=\"relu\")`\n",
      "  \"\"\"\n",
      "/usr/local/lib/python2.7/dist-packages/ipykernel_launcher.py:6: UserWarning: Update your `Conv2D` call to the Keras 2 API: `Conv2D(32, (3, 3), padding=\"same\", activation=\"relu\")`\n",
      "  \n",
      "/usr/local/lib/python2.7/dist-packages/ipykernel_launcher.py:9: UserWarning: Update your `Conv2D` call to the Keras 2 API: `Conv2D(64, (3, 3), padding=\"same\", activation=\"relu\")`\n",
      "  if __name__ == '__main__':\n",
      "/usr/local/lib/python2.7/dist-packages/ipykernel_launcher.py:10: UserWarning: Update your `Conv2D` call to the Keras 2 API: `Conv2D(64, (3, 3), padding=\"same\", activation=\"relu\")`\n",
      "  # Remove the CWD from sys.path while we load stuff.\n",
      "/usr/local/lib/python2.7/dist-packages/ipykernel_launcher.py:13: UserWarning: Update your `Conv2D` call to the Keras 2 API: `Conv2D(128, (3, 3), padding=\"same\", activation=\"relu\")`\n",
      "  del sys.path[0]\n",
      "/usr/local/lib/python2.7/dist-packages/ipykernel_launcher.py:14: UserWarning: Update your `Conv2D` call to the Keras 2 API: `Conv2D(128, (3, 3), padding=\"same\", activation=\"relu\")`\n",
      "  \n",
      "/usr/local/lib/python2.7/dist-packages/ipykernel_launcher.py:17: UserWarning: Update your `Conv2D` call to the Keras 2 API: `Conv2D(256, (3, 3), padding=\"same\", activation=\"relu\")`\n",
      "/usr/local/lib/python2.7/dist-packages/ipykernel_launcher.py:18: UserWarning: Update your `Conv2D` call to the Keras 2 API: `Conv2D(256, (3, 3), padding=\"same\", activation=\"relu\")`\n",
      "/usr/local/lib/python2.7/dist-packages/ipykernel_launcher.py:21: UserWarning: Update your `Conv2D` call to the Keras 2 API: `Conv2D(512, (3, 3), padding=\"same\", activation=\"relu\")`\n",
      "/usr/local/lib/python2.7/dist-packages/ipykernel_launcher.py:22: UserWarning: Update your `Conv2D` call to the Keras 2 API: `Conv2D(512, (3, 3), padding=\"same\", activation=\"relu\")`\n",
      "/usr/local/lib/python2.7/dist-packages/ipykernel_launcher.py:24: UserWarning: The `merge` function is deprecated and will be removed after 08/2017. Use instead layers from `keras.layers.merge`, e.g. `add`, `concatenate`, etc.\n",
      "/usr/local/lib/python2.7/dist-packages/ipykernel_launcher.py:25: UserWarning: Update your `Conv2D` call to the Keras 2 API: `Conv2D(256, (3, 3), padding=\"same\", activation=\"relu\")`\n",
      "/usr/local/lib/python2.7/dist-packages/ipykernel_launcher.py:26: UserWarning: Update your `Conv2D` call to the Keras 2 API: `Conv2D(256, (3, 3), padding=\"same\", activation=\"relu\")`\n",
      "/usr/local/lib/python2.7/dist-packages/ipykernel_launcher.py:28: UserWarning: The `merge` function is deprecated and will be removed after 08/2017. Use instead layers from `keras.layers.merge`, e.g. `add`, `concatenate`, etc.\n",
      "/usr/local/lib/python2.7/dist-packages/ipykernel_launcher.py:29: UserWarning: Update your `Conv2D` call to the Keras 2 API: `Conv2D(128, (3, 3), padding=\"same\", activation=\"relu\")`\n",
      "/usr/local/lib/python2.7/dist-packages/ipykernel_launcher.py:30: UserWarning: Update your `Conv2D` call to the Keras 2 API: `Conv2D(128, (3, 3), padding=\"same\", activation=\"relu\")`\n",
      "/usr/local/lib/python2.7/dist-packages/ipykernel_launcher.py:32: UserWarning: The `merge` function is deprecated and will be removed after 08/2017. Use instead layers from `keras.layers.merge`, e.g. `add`, `concatenate`, etc.\n",
      "/usr/local/lib/python2.7/dist-packages/ipykernel_launcher.py:33: UserWarning: Update your `Conv2D` call to the Keras 2 API: `Conv2D(64, (3, 3), padding=\"same\", activation=\"relu\")`\n",
      "/usr/local/lib/python2.7/dist-packages/ipykernel_launcher.py:34: UserWarning: Update your `Conv2D` call to the Keras 2 API: `Conv2D(64, (3, 3), padding=\"same\", activation=\"relu\")`\n",
      "/usr/local/lib/python2.7/dist-packages/ipykernel_launcher.py:36: UserWarning: The `merge` function is deprecated and will be removed after 08/2017. Use instead layers from `keras.layers.merge`, e.g. `add`, `concatenate`, etc.\n",
      "/usr/local/lib/python2.7/dist-packages/ipykernel_launcher.py:37: UserWarning: Update your `Conv2D` call to the Keras 2 API: `Conv2D(32, (3, 3), padding=\"same\", activation=\"relu\")`\n",
      "/usr/local/lib/python2.7/dist-packages/ipykernel_launcher.py:38: UserWarning: Update your `Conv2D` call to the Keras 2 API: `Conv2D(32, (3, 3), padding=\"same\", activation=\"relu\")`\n",
      "/usr/local/lib/python2.7/dist-packages/ipykernel_launcher.py:40: UserWarning: Update your `Conv2D` call to the Keras 2 API: `Conv2D(1, (1, 1), activation=\"sigmoid\")`\n",
      "/usr/local/lib/python2.7/dist-packages/ipykernel_launcher.py:42: UserWarning: Update your `Model` call to the Keras 2 API: `Model(outputs=Tensor(\"co..., inputs=Tensor(\"in...)`\n",
      "/usr/local/lib/python2.7/dist-packages/ipykernel_launcher.py:19: UserWarning: The `nb_epoch` argument in `fit` has been renamed `epochs`.\n"
     ]
    },
    {
     "name": "stdout",
     "output_type": "stream",
     "text": [
      "Train on 224 samples, validate on 82 samples\n",
      "Epoch 1/10\n",
      "224/224 [==============================] - 22s - loss: 0.3730 - jaccard_coef: 0.6141 - jaccard_coef_int: 0.6141 - acc: 0.8264 - val_loss: 0.3369 - val_jaccard_coef: 0.5938 - val_jaccard_coef_int: 0.5938 - val_acc: 0.8494\n",
      "Epoch 2/10\n",
      "192/224 [========================>.....] - ETA: 2s - loss: 0.3426 - jaccard_coef: 0.6040 - jaccard_coef_int: 0.6040 - acc: 0.8465"
     ]
    }
   ],
   "source": [
    "model = train_net()"
   ]
  },
  {
   "cell_type": "code",
   "execution_count": 47,
   "metadata": {},
   "outputs": [
    {
     "name": "stdout",
     "output_type": "stream",
     "text": [
      "(82, 1, 160, 160) (82, 1, 160, 160)\n",
      "0 0.777859124982 0.3\n"
     ]
    }
   ],
   "source": [
    "score, trs = calc_jacc(model)"
   ]
  },
  {
   "cell_type": "code",
   "execution_count": 48,
   "metadata": {},
   "outputs": [
    {
     "name": "stdout",
     "output_type": "stream",
     "text": [
      "predict test\n",
      "0 6010_0_0\n",
      "100 6050_1_0\n",
      "200 6090_1_1\n",
      "300 6130_2_4\n",
      "400 6170_4_0\n"
     ]
    }
   ],
   "source": [
    "predict_test(model, trs)"
   ]
  },
  {
   "cell_type": "code",
   "execution_count": 49,
   "metadata": {
    "collapsed": true
   },
   "outputs": [],
   "source": [
    "def make_submit():\n",
    "    print \"make submission file\"\n",
    "#    df = pd.read_csv(os.path.join(topDir + '/subm/BASELINE__empty_with_true_train.csv'))\n",
    "    df = pd.read_csv(os.path.join(topDir + '/subm/buildings_base_v1.csv'))\n",
    "    print df.head()\n",
    "    for idx, row in df.iterrows():\n",
    "        id = row[0]\n",
    "        kls = row[1] - 1\n",
    "        if kls == 0: #  class 0 is buildings\n",
    "            msk = np.load(topDir + '/msk/10_%s.npy' % id)[kls]\n",
    "            pred_polygons = mask_to_polygons(msk)\n",
    "            x_max = GS.loc[GS['ImageId'] == id, 'Xmax'].as_matrix()[0]\n",
    "            y_min = GS.loc[GS['ImageId'] == id, 'Ymin'].as_matrix()[0]\n",
    "            x_scaler, y_scaler = get_scalers(msk.shape, x_max, y_min)\n",
    "\n",
    "            scaled_pred_polygons = shapely.affinity.scale(pred_polygons, xfact=1.0 / x_scaler, yfact=1.0 / y_scaler,origin=(0, 0, 0))\n",
    "            df.iloc[idx, 2] = shapely.wkt.dumps(scaled_pred_polygons)\n",
    "        if idx % 100 == 0: print idx\n",
    "    print df.head()\n",
    "    df.to_csv(topDir + '/subm/buildings_29_06_v2.csv', index=False)"
   ]
  },
  {
   "cell_type": "code",
   "execution_count": null,
   "metadata": {
    "collapsed": true
   },
   "outputs": [],
   "source": []
  },
  {
   "cell_type": "code",
   "execution_count": 50,
   "metadata": {},
   "outputs": [
    {
     "name": "stdout",
     "output_type": "stream",
     "text": [
      "make submission file\n"
     ]
    },
    {
     "name": "stderr",
     "output_type": "stream",
     "text": [
      "Self-intersection at or near point 326.69999999999999 597\n"
     ]
    },
    {
     "name": "stdout",
     "output_type": "stream",
     "text": [
      "    ImageId  ClassType                                    MultipolygonWKT\n",
      "0  6120_2_4          1  MULTIPOLYGON (((0.0061055575672065 -0.00728821...\n",
      "1  6120_2_4          2  MULTIPOLYGON (((0.0073721359987014 -0.00790458...\n",
      "2  6120_2_4          3  MULTIPOLYGON (((0.0091691618074892 -0.00328726...\n",
      "3  6120_2_4          4  MULTIPOLYGON (((0.0091691618074892 -0.00082181...\n",
      "4  6120_2_4          5  MULTIPOLYGON (((0.0091366854374508 -0.00510391...\n",
      "0\n"
     ]
    },
    {
     "name": "stderr",
     "output_type": "stream",
     "text": [
      "Self-intersection at or near point 842.06324110671937 691.92885375494075\n",
      "Self-intersection at or near point 795.11111111111109 11.666666666666668\n",
      "Self-intersection at or near point 733.33333333333337 95.571428571428569\n",
      "Self-intersection at or near point 824.64999999999998 731.70000000000005\n",
      "Self-intersection at or near point 640.72137404580155 725.41221374045801\n",
      "Self-intersection at or near point 344.55080213903744 23.486631016042782\n",
      "Self-intersection at or near point 224.47368421052633 319.10526315789474\n",
      "Self-intersection at or near point 612.60869565217388 640\n",
      "Self-intersection at or near point 110.8252427184466 503.73786407766988\n",
      "Self-intersection at or near point 845.80455740578441 115.14110429447852\n",
      "Self-intersection at or near point 750.68085106382978 389.57446808510639\n",
      "Self-intersection at or near point 478.51999999999998 622.63\n",
      "Ring Self-intersection at or near point 42 743\n",
      "Self-intersection at or near point 267.06214689265539 563.12994350282486\n"
     ]
    },
    {
     "name": "stdout",
     "output_type": "stream",
     "text": [
      "100\n"
     ]
    },
    {
     "name": "stderr",
     "output_type": "stream",
     "text": [
      "Self-intersection at or near point 282.09565217391304 445.46086956521737\n",
      "Self-intersection at or near point 635.70588235294122 442.47058823529414\n",
      "Self-intersection at or near point 836.73333333333335 564.39999999999998\n",
      "Self-intersection at or near point 811.38095238095241 414.38095238095241\n",
      "Self-intersection at or near point 766.16326530612241 571.44897959183675\n",
      "Self-intersection at or near point 595.56716417910445 646.6567164179105\n"
     ]
    },
    {
     "name": "stdout",
     "output_type": "stream",
     "text": [
      "200\n"
     ]
    },
    {
     "name": "stderr",
     "output_type": "stream",
     "text": [
      "Self-intersection at or near point 652.2268041237113 387.95876288659792\n",
      "Self-intersection at or near point 807 543.72727272727275\n",
      "Self-intersection at or near point 639.59615384615381 158.01923076923077\n",
      "Self-intersection at or near point 672.75471698113211 551.4905660377359\n",
      "Self-intersection at or near point 618.01171875 282.18359375\n",
      "Self-intersection at or near point 814.91891891891896 217.37837837837839\n",
      "Self-intersection at or near point 634.51401869158883 35.383177570093459\n",
      "Self-intersection at or near point 804.2465753424658 664.57534246575347\n",
      "Self-intersection at or near point 677.53488372093022 47.093023255813954\n",
      "Self-intersection at or near point 397 711.33333333333337\n",
      "Self-intersection at or near point 159.8125 149.2890625\n",
      "Self-intersection at or near point 326.28767123287673 818.10958904109589\n",
      "Self-intersection at or near point 537.45161290322585 27\n"
     ]
    },
    {
     "name": "stdout",
     "output_type": "stream",
     "text": [
      "300\n"
     ]
    },
    {
     "name": "stderr",
     "output_type": "stream",
     "text": [
      "Self-intersection at or near point 621.18975903614455 259.21084337349396\n",
      "Self-intersection at or near point 746.93548387096769 34.225806451612904\n",
      "Self-intersection at or near point 161.75 158.35714285714286\n",
      "Self-intersection at or near point 777.94444444444446 35.777777777777779\n",
      "Self-intersection at or near point 150.28571428571428 435.68571428571431\n",
      "Self-intersection at or near point 269.2340425531915 319.65957446808511\n",
      "Self-intersection at or near point 61 484.21052631578948\n",
      "Self-intersection at or near point 800.87096774193549 180.29032258064515\n",
      "Self-intersection at or near point 232.57894736842104 833.42105263157896\n"
     ]
    },
    {
     "name": "stdout",
     "output_type": "stream",
     "text": [
      "400\n"
     ]
    },
    {
     "name": "stderr",
     "output_type": "stream",
     "text": [
      "Self-intersection at or near point 828.54482758620691 549.08275862068967\n",
      "Self-intersection at or near point 816.77981651376149 780.80733944954125\n",
      "Self-intersection at or near point 665.31818181818187 570.0454545454545\n",
      "Self-intersection at or near point 537.99676375404533 659.9676375404531\n",
      "Self-intersection at or near point 320.81481481481484 546.85185185185185\n",
      "Self-intersection at or near point 846.48888888888894 789.02222222222224\n",
      "Self-intersection at or near point 774.04395604395609 218.09890109890111\n"
     ]
    },
    {
     "name": "stdout",
     "output_type": "stream",
     "text": [
      "500\n"
     ]
    },
    {
     "name": "stderr",
     "output_type": "stream",
     "text": [
      "Self-intersection at or near point 214.4375 748.3125\n",
      "Self-intersection at or near point 638.39047619047619 210.62857142857143\n",
      "Self-intersection at or near point 726.78151260504205 630.25210084033608\n",
      "Self-intersection at or near point 841.98104265402844 151.85781990521326\n",
      "Self-intersection at or near point 778.17142857142858 389.62857142857143\n",
      "Self-intersection at or near point 840.27096774193546 794.84516129032261\n",
      "Self-intersection at or near point 639.95955882352939 325.6875\n",
      "Self-intersection at or near point 802.52631578947364 719.46783625730995\n"
     ]
    },
    {
     "name": "stdout",
     "output_type": "stream",
     "text": [
      "600\n"
     ]
    },
    {
     "name": "stderr",
     "output_type": "stream",
     "text": [
      "Self-intersection at or near point 822.030303030303 38.926406926406926\n",
      "Self-intersection at or near point 563.61904761904759 695.61904761904759\n",
      "Ring Self-intersection at or near point 847 506\n",
      "Self-intersection at or near point 710.89211618257264 210.49792531120332\n",
      "Self-intersection at or near point 816.747572815534 638.03883495145635\n",
      "Self-intersection at or near point 366.40989399293284 187.71731448763251\n",
      "Self-intersection at or near point 406.96732026143792 155.77124183006535\n",
      "Self-intersection at or near point 633.71428571428567 136.28571428571428\n",
      "Self-intersection at or near point 190.17021276595744 374.65957446808511\n",
      "Self-intersection at or near point 653.06666666666672 549.88\n",
      "Self-intersection at or near point 801.65979381443299 158.29896907216494\n",
      "Self-intersection at or near point 670.78023850085174 552.06303236797271\n",
      "Self-intersection at or near point 12.408759124087592 73.0948905109489\n"
     ]
    },
    {
     "name": "stdout",
     "output_type": "stream",
     "text": [
      "700\n"
     ]
    },
    {
     "name": "stderr",
     "output_type": "stream",
     "text": [
      "Self-intersection at or near point 720.21513944223102 248.0597609561753\n",
      "Self-intersection at or near point 368.13793103448273 218.86206896551724\n",
      "Self-intersection at or near point 727.30232558139539 307.09302325581393\n",
      "Self-intersection at or near point 566.82739726027398 715.90684931506848\n",
      "Self-intersection at or near point 295.33860045146724 498.29345372460494\n",
      "Self-intersection at or near point 800 129.66666666666666\n",
      "Self-intersection at or near point 502.70588235294116 110.41176470588235\n"
     ]
    },
    {
     "name": "stdout",
     "output_type": "stream",
     "text": [
      "800\n"
     ]
    },
    {
     "name": "stderr",
     "output_type": "stream",
     "text": [
      "Self-intersection at or near point 162.67567567567568 795.72972972972968\n",
      "Self-intersection at or near point 741.18791946308727 495.68456375838929\n",
      "Self-intersection at or near point 740.19469026548677 39.513274336283189\n",
      "Self-intersection at or near point 25.945996275605214 805.23836126629419\n",
      "Self-intersection at or near point 757.99133448873488 315.6273830155979\n",
      "Self-intersection at or near point 764.3125 501.27083333333331\n",
      "Self-intersection at or near point 114.59183673469387 751.59183673469386\n",
      "Self-intersection at or near point 409.42857142857144 355.71428571428572\n"
     ]
    },
    {
     "name": "stdout",
     "output_type": "stream",
     "text": [
      "900\n"
     ]
    },
    {
     "name": "stderr",
     "output_type": "stream",
     "text": [
      "Self-intersection at or near point 840.63302752293578 672.04587155963304\n",
      "Self-intersection at or near point 782.10810810810813 636.72972972972968\n",
      "Self-intersection at or near point 745.4909090909091 394.14545454545453\n",
      "Self-intersection at or near point 162.44910179640718 297.05389221556885\n",
      "Self-intersection at or near point 846.01869158878503 817.6635514018692\n",
      "Self-intersection at or near point 796.30882352941171 385.29411764705884\n",
      "Self-intersection at or near point 420.36764705882354 241.19117647058823\n",
      "Self-intersection at or near point 529 480\n",
      "Self-intersection at or near point 611.47368421052636 127.21052631578948\n",
      "Self-intersection at or near point 365.81990521327015 636.74881516587675\n",
      "Self-intersection at or near point 411.29411764705884 568.54901960784309\n",
      "Self-intersection at or near point 295.51006711409394 278.19127516778525\n"
     ]
    },
    {
     "name": "stdout",
     "output_type": "stream",
     "text": [
      "1000\n"
     ]
    },
    {
     "name": "stderr",
     "output_type": "stream",
     "text": [
      "Self-intersection at or near point 801 173.875\n",
      "Self-intersection at or near point 506.69565217391306 131.98550724637681\n",
      "Self-intersection at or near point 800.01286173633446 523.15434083601281\n",
      "Self-intersection at or near point 619.42996742671005 814.98045602605862\n",
      "Self-intersection at or near point 667.27397260273972 826.79908675799084\n",
      "Self-intersection at or near point 159.12537764350452 118.1344410876133\n",
      "Self-intersection at or near point 787.9945799457995 826.42005420054204\n",
      "Self-intersection at or near point 668.38356164383561 7.9863013698630141\n",
      "Self-intersection at or near point 732.38961038961043 565.68831168831173\n"
     ]
    },
    {
     "name": "stdout",
     "output_type": "stream",
     "text": [
      "1100\n"
     ]
    },
    {
     "name": "stderr",
     "output_type": "stream",
     "text": [
      "Self-intersection at or near point 659.90291262135918 97.4368932038835\n",
      "Self-intersection at or near point 586.30825688073389 65.735779816513755\n",
      "Self-intersection at or near point 800.29999999999995 47.012500000000003\n",
      "Self-intersection at or near point 735.68447412353919 197.2787979966611\n",
      "Self-intersection at or near point 847.52517985611507 47.28776978417266\n",
      "Self-intersection at or near point 677.26666666666665 584.66666666666663\n",
      "Self-intersection at or near point 374.87931034482756 10.086206896551724\n",
      "Self-intersection at or near point 560.44633730834755 163.93015332197615\n",
      "Self-intersection at or near point 827 199.90909090909091\n",
      "Self-intersection at or near point 384.01351351351349 100.72972972972973\n",
      "Self-intersection at or near point 785.68568102444704 835.49476135040743\n",
      "Self-intersection at or near point 659.3291139240506 812.92405063291142\n"
     ]
    },
    {
     "name": "stdout",
     "output_type": "stream",
     "text": [
      "1200\n"
     ]
    },
    {
     "name": "stderr",
     "output_type": "stream",
     "text": [
      "Ring Self-intersection at or near point 830 771\n",
      "Self-intersection at or near point 665.0526315789474 802.63157894736844\n",
      "Self-intersection at or near point 208.46448087431693 397.66120218579238\n",
      "Self-intersection at or near point 587.53731343283584 671.3432835820895\n",
      "Self-intersection at or near point 204.71186440677965 466.99152542372883\n",
      "Self-intersection at or near point 333.34285714285716 629.94285714285718\n",
      "Self-intersection at or near point 633.13043478260875 738.13043478260875\n",
      "Self-intersection at or near point 816.99065420560748 35.915887850467293\n",
      "Self-intersection at or near point 733.57142857142856 451.64285714285717\n"
     ]
    },
    {
     "name": "stdout",
     "output_type": "stream",
     "text": [
      "1300\n"
     ]
    },
    {
     "name": "stderr",
     "output_type": "stream",
     "text": [
      "Self-intersection at or near point 768.47872340425533 160.57446808510639\n",
      "Self-intersection at or near point 661.36363636363637 626.0454545454545\n",
      "Self-intersection at or near point 613.03164556962031 275.68354430379748\n",
      "Self-intersection at or near point 661.74418604651157 222.11627906976744\n",
      "Self-intersection at or near point 846.9023255813953 508.82093023255811\n",
      "Self-intersection at or near point 384.5765765765766 635.87387387387389\n",
      "Self-intersection at or near point 764.04428044280439 230.55719557195573\n",
      "Self-intersection at or near point 722.02094240837698 502.15706806282725\n"
     ]
    },
    {
     "name": "stdout",
     "output_type": "stream",
     "text": [
      "1400\n"
     ]
    },
    {
     "name": "stderr",
     "output_type": "stream",
     "text": [
      "Self-intersection at or near point 800.97560975609758 59.804878048780488\n",
      "Self-intersection at or near point 813.84269662921349 396.11235955056179\n",
      "Self-intersection at or near point 697.74285714285713 10.285714285714285\n",
      "Self-intersection at or near point 825.30769230769226 693\n",
      "Self-intersection at or near point 818.5 437\n"
     ]
    },
    {
     "name": "stdout",
     "output_type": "stream",
     "text": [
      "1500\n"
     ]
    },
    {
     "name": "stderr",
     "output_type": "stream",
     "text": [
      "Self-intersection at or near point 695.21888412017165 435.27038626609442\n",
      "Self-intersection at or near point 829.95789473684215 383.42105263157896\n",
      "Self-intersection at or near point 637 487\n",
      "Self-intersection at or near point 547.25 236.75\n",
      "Self-intersection at or near point 457.10309278350513 288.64948453608247\n",
      "Self-intersection at or near point 710.18243243243239 516.85135135135135\n",
      "Self-intersection at or near point 337.43478260869563 749.56521739130437\n",
      "Self-intersection at or near point 825.05882352941171 524.47058823529414\n",
      "Self-intersection at or near point 780.12618296529968 782.88643533123025\n"
     ]
    },
    {
     "name": "stdout",
     "output_type": "stream",
     "text": [
      "1600\n"
     ]
    },
    {
     "name": "stderr",
     "output_type": "stream",
     "text": [
      "Self-intersection at or near point 409.80053191489361 642.09042553191489\n",
      "Self-intersection at or near point 798.89530685920579 262.87725631768956\n",
      "Self-intersection at or near point 740.92814371257487 781.32934131736522\n",
      "Self-intersection at or near point 800 281.80000000000001\n",
      "Self-intersection at or near point 506.83216783216784 457.84615384615387\n",
      "Self-intersection at or near point 301.57939914163092 113.04291845493562\n",
      "Self-intersection at or near point 824.79807692307691 124.60576923076923\n",
      "Self-intersection at or near point 707.68421052631584 464.84210526315792\n",
      "Self-intersection at or near point 751.11267605633805 291.67605633802816\n",
      "Self-intersection at or near point 780.76947040498442 322.39875389408098\n",
      "Self-intersection at or near point 425.68995633187774 394.46724890829694\n"
     ]
    },
    {
     "name": "stdout",
     "output_type": "stream",
     "text": [
      "1700\n"
     ]
    },
    {
     "name": "stderr",
     "output_type": "stream",
     "text": [
      "Self-intersection at or near point 515 350.60000000000002\n",
      "Self-intersection at or near point 349.87096774193549 625.67741935483866\n",
      "Self-intersection at or near point 498.23255813953489 552.90697674418607\n",
      "Self-intersection at or near point 782.90754716981132 406.76792452830188\n",
      "Self-intersection at or near point 755.40506329113919 63.485232067510552\n",
      "Self-intersection at or near point 103.14285714285714 349.23809523809524\n"
     ]
    },
    {
     "name": "stdout",
     "output_type": "stream",
     "text": [
      "1800\n"
     ]
    },
    {
     "name": "stderr",
     "output_type": "stream",
     "text": [
      "Self-intersection at or near point 814 309\n",
      "Self-intersection at or near point 68.243243243243242 364.48648648648651\n",
      "Self-intersection at or near point 841.68926553672316 169.47457627118644\n",
      "Self-intersection at or near point 373.2463054187192 121.52216748768473\n",
      "Self-intersection at or near point 700.74626865671644 286.76119402985074\n",
      "Self-intersection at or near point 313.38709677419354 827.54193548387093\n",
      "Self-intersection at or near point 555.13483146067415 640.91011235955057\n",
      "Self-intersection at or near point 757.10294117647061 213.97058823529412\n",
      "Self-intersection at or near point 704 194\n"
     ]
    },
    {
     "name": "stdout",
     "output_type": "stream",
     "text": [
      "1900\n"
     ]
    },
    {
     "name": "stderr",
     "output_type": "stream",
     "text": [
      "Self-intersection at or near point 812.97752808988764 100.10112359550561\n",
      "Self-intersection at or near point 494.47058823529414 801.93725490196073\n",
      "Self-intersection at or near point 783.51851851851848 821.83796296296293\n",
      "Self-intersection at or near point 182.7865168539326 266.08988764044943\n",
      "Self-intersection at or near point 808.97574123989216 672.58221024258762\n"
     ]
    },
    {
     "name": "stdout",
     "output_type": "stream",
     "text": [
      "2000\n"
     ]
    },
    {
     "name": "stderr",
     "output_type": "stream",
     "text": [
      "Self-intersection at or near point 832.86746987951813 31.144578313253014\n",
      "Self-intersection at or near point 735.09565217391309 78.921739130434787\n",
      "Self-intersection at or near point 705.82352941176475 99.529411764705884\n",
      "Self-intersection at or near point 829.14801444043326 301.41155234657037\n",
      "Self-intersection at or near point 686.8984375 834.578125\n",
      "Self-intersection at or near point 817.57894736842104 65.736842105263165\n",
      "Self-intersection at or near point 794 130.41666666666666\n",
      "Self-intersection at or near point 810.41176470588232 491.68627450980392\n",
      "Self-intersection at or near point 437.08490566037733 186.04716981132074\n"
     ]
    },
    {
     "name": "stdout",
     "output_type": "stream",
     "text": [
      "2100\n"
     ]
    },
    {
     "name": "stderr",
     "output_type": "stream",
     "text": [
      "Self-intersection at or near point 663.86666666666667 243.13333333333333\n",
      "Self-intersection at or near point 632.58333333333337 56.666666666666664\n",
      "Self-intersection at or near point 749.57142857142856 437.14285714285717\n",
      "Self-intersection at or near point 800.25 657\n",
      "Self-intersection at or near point 700.109375 509.671875\n",
      "Self-intersection at or near point 722.74452554744528 403.69343065693431\n",
      "Self-intersection at or near point 820.390625 359.203125\n",
      "Self-intersection at or near point 234.08502024291499 1.8137651821862348\n",
      "Self-intersection at or near point 349.33333333333331 644.22222222222217\n",
      "Self-intersection at or near point 814.95811518324604 476.09424083769636\n"
     ]
    },
    {
     "name": "stdout",
     "output_type": "stream",
     "text": [
      "2200\n"
     ]
    },
    {
     "name": "stderr",
     "output_type": "stream",
     "text": [
      "Self-intersection at or near point 256.76106194690266 32.371681415929203\n",
      "Self-intersection at or near point 847.64013840830455 656.95501730103808\n",
      "Self-intersection at or near point 124.20353982300885 644.76991150442473\n",
      "Self-intersection at or near point 522.60439560439556 369.09890109890108\n",
      "Self-intersection at or near point 779.91566265060237 754.61445783132535\n",
      "Self-intersection at or near point 616.44696969696975 688.96212121212125\n",
      "Self-intersection at or near point 800.63829787234044 217.87234042553192\n",
      "Self-intersection at or near point 777.51612903225805 813.16129032258061\n",
      "Self-intersection at or near point 132.30208333333334 834.09375\n",
      "Self-intersection at or near point 185 620.55882352941171\n"
     ]
    },
    {
     "name": "stdout",
     "output_type": "stream",
     "text": [
      "2300\n"
     ]
    },
    {
     "name": "stderr",
     "output_type": "stream",
     "text": [
      "Self-intersection at or near point 684.08571428571429 430.22857142857146\n",
      "Self-intersection at or near point 706.43103448275861 455.5344827586207\n",
      "Self-intersection at or near point 844.78723404255322 245.48936170212767\n",
      "Self-intersection at or near point 482.33999999999997 308.22000000000003\n",
      "Self-intersection at or near point 734.4545454545455 116.18181818181819\n",
      "Self-intersection at or near point 798.30035335689047 291.80918727915196\n"
     ]
    },
    {
     "name": "stdout",
     "output_type": "stream",
     "text": [
      "2400\n"
     ]
    },
    {
     "name": "stderr",
     "output_type": "stream",
     "text": [
      "Self-intersection at or near point 802.64705882352939 360.76470588235293\n",
      "Self-intersection at or near point 160.64705882352942 467.76470588235293\n",
      "Self-intersection at or near point 332 786\n",
      "Self-intersection at or near point 368.66784452296821 21.590106007067138\n",
      "Self-intersection at or near point 454.3480278422274 161.38283062645013\n",
      "Self-intersection at or near point 692.38461538461536 707.23076923076928\n",
      "Self-intersection at or near point 274.10416666666669 8.0911458333333339\n",
      "Self-intersection at or near point 729.09302325581393 300.13953488372096\n",
      "Self-intersection at or near point 284.9387755102041 251.38775510204081\n",
      "Ring Self-intersection at or near point 87 480\n"
     ]
    },
    {
     "name": "stdout",
     "output_type": "stream",
     "text": [
      "2500\n"
     ]
    },
    {
     "name": "stderr",
     "output_type": "stream",
     "text": [
      "Self-intersection at or near point 467.48058252427182 823.37378640776694\n",
      "Self-intersection at or near point 789.39999999999998 812.79999999999995\n",
      "Self-intersection at or near point 160.04776119402985 584.31044776119404\n",
      "Self-intersection at or near point 391.92307692307691 689.23076923076928\n",
      "Self-intersection at or near point 334.60747663551405 60.579439252336449\n",
      "Self-intersection at or near point 772.56756756756761 16.351351351351351\n",
      "Self-intersection at or near point 798.42465753424653 384.61643835616439\n",
      "Self-intersection at or near point 639.0815850815851 0.57109557109557119\n",
      "Self-intersection at or near point 845.96346493812609 78.308780200353567\n"
     ]
    },
    {
     "name": "stdout",
     "output_type": "stream",
     "text": [
      "2600\n"
     ]
    },
    {
     "name": "stderr",
     "output_type": "stream",
     "text": [
      "Self-intersection at or near point 85.266666666666666 532.84444444444443\n",
      "Self-intersection at or near point 597.50561797752812 809.88764044943821\n",
      "Self-intersection at or near point 845.88565488565484 50.989604989604992\n",
      "Self-intersection at or near point 431.36144578313252 545.5542168674699\n",
      "Self-intersection at or near point 770.77272727272725 408.20454545454544\n",
      "Self-intersection at or near point 481.43181818181819 159.63636363636363\n",
      "Self-intersection at or near point 11.682119205298013 317.6754966887417\n",
      "Self-intersection at or near point 797.94008264462809 200.16735537190084\n",
      "Self-intersection at or near point 291.13513513513516 319.70270270270271\n",
      "Self-intersection at or near point 250.20970873786408 661.4174757281553\n"
     ]
    },
    {
     "name": "stdout",
     "output_type": "stream",
     "text": [
      "2700\n"
     ]
    },
    {
     "name": "stderr",
     "output_type": "stream",
     "text": [
      "Self-intersection at or near point 582.07894736842104 157.81578947368422\n",
      "Self-intersection at or near point 738.3526970954357 87.423236514522827\n",
      "Self-intersection at or near point 118.98939929328623 376.10954063604242\n",
      "Self-intersection at or near point 633.2023121387283 341.05780346820808\n",
      "Self-intersection at or near point 641.34210526315792 424.13157894736844\n",
      "Self-intersection at or near point 796.47422680412376 706.88402061855675\n"
     ]
    },
    {
     "name": "stdout",
     "output_type": "stream",
     "text": [
      "2800\n"
     ]
    },
    {
     "name": "stderr",
     "output_type": "stream",
     "text": [
      "Self-intersection at or near point 411.2093023255814 93.581395348837205\n",
      "Self-intersection at or near point 554 412\n",
      "Self-intersection at or near point 847.71034482758625 456.95172413793102\n",
      "Self-intersection at or near point 787 101.80555555555556\n",
      "Self-intersection at or near point 292.05755395683451 649.15107913669067\n"
     ]
    },
    {
     "name": "stdout",
     "output_type": "stream",
     "text": [
      "2900\n"
     ]
    },
    {
     "name": "stderr",
     "output_type": "stream",
     "text": [
      "Self-intersection at or near point 470.89285714285717 386.52678571428572\n",
      "Self-intersection at or near point 476.40909090909093 599.7954545454545\n",
      "Self-intersection at or near point 708.13636363636363 641.0454545454545\n",
      "Self-intersection at or near point 708 34.375\n",
      "Self-intersection at or near point 523.75 489.25\n",
      "Self-intersection at or near point 140.91304347826087 400.08695652173913\n",
      "Self-intersection at or near point 842.24528301886789 318.69811320754718\n",
      "Self-intersection at or near point 838.58536585365857 820.99512195121952\n",
      "Self-intersection at or near point 676.37440758293837 815.03317535545023\n"
     ]
    },
    {
     "name": "stdout",
     "output_type": "stream",
     "text": [
      "3000\n"
     ]
    },
    {
     "name": "stderr",
     "output_type": "stream",
     "text": [
      "Self-intersection at or near point 807.6827586206897 602.99310344827586\n",
      "Self-intersection at or near point 705.15789473684208 708.89473684210532\n",
      "Self-intersection at or near point 637.24203821656056 684.92356687898086\n",
      "Self-intersection at or near point 653.15873015873012 164.95238095238096\n",
      "Self-intersection at or near point 723.71428571428567 269.21428571428572\n",
      "Self-intersection at or near point 788.96330275229354 53.486238532110093\n",
      "Self-intersection at or near point 614.14432989690727 202.36082474226805\n",
      "Self-intersection at or near point 636.79999999999995 720.75\n",
      "Self-intersection at or near point 604.33576642335765 605.10218978102193\n"
     ]
    },
    {
     "name": "stdout",
     "output_type": "stream",
     "text": [
      "3100\n"
     ]
    },
    {
     "name": "stderr",
     "output_type": "stream",
     "text": [
      "Self-intersection at or near point 803.53846153846155 466.73076923076923\n",
      "Self-intersection at or near point 586.79775280898878 799.69662921348311\n",
      "Self-intersection at or near point 695.04166666666663 65.041666666666671\n",
      "Self-intersection at or near point 725.1351351351351 175.81081081081081\n",
      "Self-intersection at or near point 551.09090909090912 321.5272727272727\n",
      "Self-intersection at or near point 245.48672566371681 112.60176991150442\n",
      "Self-intersection at or near point 802.23076923076928 607.30769230769226\n"
     ]
    },
    {
     "name": "stdout",
     "output_type": "stream",
     "text": [
      "3200\n"
     ]
    },
    {
     "name": "stderr",
     "output_type": "stream",
     "text": [
      "Self-intersection at or near point 806.66272189349115 506.54437869822488\n",
      "Self-intersection at or near point 830.85245901639348 316.96721311475409\n",
      "Self-intersection at or near point 549.75 791.5\n",
      "Self-intersection at or near point 661.28960817717211 516.77853492333907\n",
      "Self-intersection at or near point 100 639.33333333333337\n",
      "Self-intersection at or near point 639.82739726027398 712.90410958904113\n",
      "Self-intersection at or near point 452.40983606557376 386.73770491803276\n",
      "Self-intersection at or near point 251.85098039215686 730.34117647058827\n",
      "Self-intersection at or near point 761.80487804878044 144.97560975609755\n",
      "Self-intersection at or near point 749.3739130434783 163.99130434782609\n",
      "Self-intersection at or near point 628.79104477611941 628.57462686567169\n"
     ]
    },
    {
     "name": "stdout",
     "output_type": "stream",
     "text": [
      "3300\n"
     ]
    },
    {
     "name": "stderr",
     "output_type": "stream",
     "text": [
      "Self-intersection at or near point 114.19587628865979 832.95876288659792\n",
      "Self-intersection at or near point 836 18.857142857142858\n",
      "Self-intersection at or near point 838.21739130434787 135.91304347826087\n",
      "Self-intersection at or near point 706.91606960081879 431.28659160696009\n",
      "Self-intersection at or near point 588 809.13333333333333\n",
      "Self-intersection at or near point 816.04255319148933 133.85106382978722\n",
      "Self-intersection at or near point 836.60000000000002 810.20000000000005\n",
      "Self-intersection at or near point 57 676.66666666666663\n"
     ]
    },
    {
     "name": "stdout",
     "output_type": "stream",
     "text": [
      "3400\n"
     ]
    },
    {
     "name": "stderr",
     "output_type": "stream",
     "text": [
      "Self-intersection at or near point 346.93421052631578 373.89473684210526\n",
      "Self-intersection at or near point 826.5454545454545 313.18181818181819\n",
      "Self-intersection at or near point 271.23661971830984 136.56056338028168\n",
      "Self-intersection at or near point 828.60000000000002 3.7999999999999998\n",
      "Self-intersection at or near point 714.46153846153845 476.61538461538464\n",
      "Self-intersection at or near point 764.96078431372553 747.74509803921569\n",
      "Self-intersection at or near point 653.58709677419358 835.62258064516129\n",
      "Self-intersection at or near point 369.60122699386505 526.65644171779138\n"
     ]
    },
    {
     "name": "stdout",
     "output_type": "stream",
     "text": [
      "3500\n"
     ]
    },
    {
     "name": "stderr",
     "output_type": "stream",
     "text": [
      "Self-intersection at or near point 186.17553191489361 140.07978723404256\n",
      "Self-intersection at or near point 840.57142857142856 523.42857142857144\n",
      "Self-intersection at or near point 241.97391304347826 26.434782608695652\n",
      "Self-intersection at or near point 784.70450097847356 477.60861056751469\n",
      "Self-intersection at or near point 170.89787234042552 61.625531914893614\n",
      "Self-intersection at or near point 603.06280193236717 588.49758454106279\n",
      "Self-intersection at or near point 657.79999999999995 62.466666666666669\n"
     ]
    },
    {
     "name": "stdout",
     "output_type": "stream",
     "text": [
      "3600\n"
     ]
    },
    {
     "name": "stderr",
     "output_type": "stream",
     "text": [
      "Self-intersection at or near point 634.375 738.375\n",
      "Self-intersection at or near point 783.38016528925618 641.19008264462809\n",
      "Self-intersection at or near point 753.55555555555554 649.77777777777783\n",
      "Self-intersection at or near point 808.6564885496183 502.92366412213738\n",
      "Self-intersection at or near point 559.75 733.41666666666663\n",
      "Self-intersection at or near point 827 492.36363636363637\n",
      "Self-intersection at or near point 812.94968553459114 371.13836477987422\n"
     ]
    },
    {
     "name": "stdout",
     "output_type": "stream",
     "text": [
      "3700\n"
     ]
    },
    {
     "name": "stderr",
     "output_type": "stream",
     "text": [
      "Self-intersection at or near point 458.36363636363637 487.18181818181819\n",
      "Self-intersection at or near point 639.84000000000003 254.09999999999999\n",
      "Ring Self-intersection at or near point 809 163\n",
      "Self-intersection at or near point 25.20779220779221 637.90909090909088\n",
      "Self-intersection at or near point 27.966386554621849 122.74789915966386\n",
      "Self-intersection at or near point 797.76095617529882 189.80079681274901\n",
      "Self-intersection at or near point 691.49180327868851 583.06557377049182\n",
      "Self-intersection at or near point 664 364.5609756097561\n",
      "Self-intersection at or near point 570.58333333333337 264\n",
      "Self-intersection at or near point 797 416.30434782608694\n",
      "Self-intersection at or near point 18.092783505154639 740.89690721649481\n"
     ]
    },
    {
     "name": "stdout",
     "output_type": "stream",
     "text": [
      "3800\n"
     ]
    },
    {
     "name": "stderr",
     "output_type": "stream",
     "text": [
      "Self-intersection at or near point 760.57142857142856 817\n",
      "Ring Self-intersection at or near point 437 49\n",
      "Self-intersection at or near point 771.3125 484.84375\n",
      "Self-intersection at or near point 781.97278911564626 440.51700680272108\n",
      "Self-intersection at or near point 637.44059405940595 547.80693069306926\n",
      "Self-intersection at or near point 837 6.666666666666667\n"
     ]
    },
    {
     "name": "stdout",
     "output_type": "stream",
     "text": [
      "3900\n"
     ]
    },
    {
     "name": "stderr",
     "output_type": "stream",
     "text": [
      "Self-intersection at or near point 815.36842105263156 774.10526315789468\n",
      "Self-intersection at or near point 828.79999999999995 419.19999999999999\n",
      "Self-intersection at or near point 791.32432432432438 114.25225225225225\n",
      "Self-intersection at or near point 760.64615384615388 523.43076923076922\n",
      "Self-intersection at or near point 564.86538461538464 187.11538461538461\n",
      "Self-intersection at or near point 800.7802197802198 830.13186813186815\n",
      "Self-intersection at or near point 471.5 696\n",
      "Self-intersection at or near point 655.5 32.5\n",
      "Self-intersection at or near point 756.47761194029852 282.44776119402985\n",
      "Self-intersection at or near point 808.29864253393669 217.67420814479638\n"
     ]
    },
    {
     "name": "stdout",
     "output_type": "stream",
     "text": [
      "4000\n"
     ]
    },
    {
     "name": "stderr",
     "output_type": "stream",
     "text": [
      "Self-intersection at or near point 567.75 224.125\n",
      "Self-intersection at or near point 800 138.8235294117647\n",
      "Self-intersection at or near point 846.7714285714286 550.92857142857144\n",
      "Ring Self-intersection at or near point 31 68\n",
      "Self-intersection at or near point 130.0625 760\n",
      "Self-intersection at or near point 812.22222222222217 313.61111111111109\n",
      "Self-intersection at or near point 539.58723404255318 212.07659574468084\n",
      "Self-intersection at or near point 358.68421052631578 169.68421052631578\n",
      "Self-intersection at or near point 574.45000000000005 298.60000000000002\n",
      "Self-intersection at or near point 462 176.875\n",
      "Self-intersection at or near point 302.57142857142856 452.42857142857144\n",
      "Self-intersection at or near point 716.14225941422592 109.38493723849372\n"
     ]
    },
    {
     "name": "stdout",
     "output_type": "stream",
     "text": [
      "4100\n"
     ]
    },
    {
     "name": "stderr",
     "output_type": "stream",
     "text": [
      "Self-intersection at or near point 773.25229357798162 667.03669724770646\n",
      "Self-intersection at or near point 723.7714285714286 115.08571428571429\n",
      "Self-intersection at or near point 828 804.21428571428567\n",
      "Self-intersection at or near point 822.37735849056605 301.52830188679246\n",
      "Self-intersection at or near point 817.14285714285711 770.49206349206349\n",
      "Self-intersection at or near point 830.81818181818187 785.90909090909088\n"
     ]
    },
    {
     "name": "stdout",
     "output_type": "stream",
     "text": [
      "4200\n"
     ]
    },
    {
     "name": "stderr",
     "output_type": "stream",
     "text": [
      "Self-intersection at or near point 720.00429184549353 281.87982832618025\n",
      "Self-intersection at or near point 517.96511627906978 278.11627906976742\n",
      "Self-intersection at or near point 626.10256410256409 155.76923076923077\n",
      "Self-intersection at or near point 841.96823379923762 346.89834815756035\n",
      "Self-intersection at or near point 630.31404958677683 693.90082644628103\n"
     ]
    },
    {
     "name": "stdout",
     "output_type": "stream",
     "text": [
      "    ImageId  ClassType                                    MultipolygonWKT\n",
      "0  6120_2_4          1  MULTIPOLYGON (((0.0005412728339722 -0.00886697...\n",
      "1  6120_2_4          2  MULTIPOLYGON (((0.0073721359987014 -0.00790458...\n",
      "2  6120_2_4          3  MULTIPOLYGON (((0.0091691618074892 -0.00328726...\n",
      "3  6120_2_4          4  MULTIPOLYGON (((0.0091691618074892 -0.00082181...\n",
      "4  6120_2_4          5  MULTIPOLYGON (((0.0091366854374508 -0.00510391...\n"
     ]
    }
   ],
   "source": [
    "make_submit()"
   ]
  },
  {
   "cell_type": "code",
   "execution_count": null,
   "metadata": {
    "collapsed": true
   },
   "outputs": [],
   "source": []
  },
  {
   "cell_type": "code",
   "execution_count": 56,
   "metadata": {},
   "outputs": [],
   "source": [
    "def calc_dice(model):\n",
    "    img = np.load(inDir + '/x_tmp_%d.npy' % N_Cls)\n",
    "    msk = np.load(inDir + '/y_tmp_%d.npy' % N_Cls)\n",
    "\n",
    "    prd = model.predict(img, batch_size=4)\n",
    "    print prd.shape, msk.shape\n",
    "    avg, trs = [], []\n",
    "\n",
    "    for i in range(N_Cls):\n",
    "        t_msk = msk[:, i, :, :]\n",
    "        t_prd = prd[:, i, :, :]\n",
    "        t_msk = t_msk.reshape(msk.shape[0] * msk.shape[2], msk.shape[3])\n",
    "        t_prd = t_prd.reshape(msk.shape[0] * msk.shape[2], msk.shape[3])\n",
    "        print t_prd.shape, t_msk.shape\n",
    "#        m, b_tr = 0, 0\n",
    "#        for j in range(10):\n",
    "#            tr = j / 10.0\n",
    "#            pred_binary_mask = t_prd > tr\n",
    "        dc = dice_coefficient(t_msk, t_prd)\n",
    "        print dc\n",
    "    \n",
    "    return dc\n",
    "\n",
    "           # if jk > m:\n",
    "           #     m = jk\n",
    "           #     b_tr = tr\n",
    "                \n",
    "  #      print i, m, b_tr\n",
    "  #      avg.append(m)\n",
    "  #      trs.append(b_tr)\n",
    "\n",
    "  #  score = sum(avg) / 10.0\n",
    "  #  return score, trs\n"
   ]
  },
  {
   "cell_type": "code",
   "execution_count": 59,
   "metadata": {
    "collapsed": true
   },
   "outputs": [],
   "source": [
    "def dice_coefficient(a, b):\n",
    "#    \"\"\"dice coefficient 2nt/na + nb.\"\"\"\n",
    "#    if not len(a) or not len(b): return 0.0\n",
    "#    if len(a) == 1:  a=a+u'.'\n",
    "#    if len(b) == 1:  b=b+u'.'\n",
    "#    \n",
    "#    a_bigram_list=[]\n",
    "#    for i in range(len(a)-1):\n",
    "#      a_bigram_list.append(a[i:i+2])\n",
    "#    b_bigram_list=[]\n",
    "#    for i in range(len(b)-1):\n",
    "#      b_bigram_list.append(b[i:i+2])\n",
    "#      \n",
    "#    a_bigrams = set(a_bigram_list)\n",
    "#    b_bigrams = set(b_bigram_list)\n",
    "    overlap = len(a & b)\n",
    "    dice_coeff = overlap * 2.0/(len(a) + len(b))\n",
    "    return dice_coeff"
   ]
  },
  {
   "cell_type": "code",
   "execution_count": 60,
   "metadata": {},
   "outputs": [
    {
     "name": "stdout",
     "output_type": "stream",
     "text": [
      "(82, 1, 160, 160) (82, 1, 160, 160)\n",
      "(13120, 160) (13120, 160)\n"
     ]
    },
    {
     "ename": "TypeError",
     "evalue": "ufunc 'bitwise_and' not supported for the input types, and the inputs could not be safely coerced to any supported types according to the casting rule ''safe''",
     "output_type": "error",
     "traceback": [
      "\u001b[0;31m--------------------------------------------------------------\u001b[0m",
      "\u001b[0;31mTypeError\u001b[0m                    Traceback (most recent call last)",
      "\u001b[0;32m<ipython-input-60-55df12368ea3>\u001b[0m in \u001b[0;36m<module>\u001b[0;34m()\u001b[0m\n\u001b[0;32m----> 1\u001b[0;31m \u001b[0mscore\u001b[0m \u001b[0;34m=\u001b[0m \u001b[0mcalc_dice\u001b[0m\u001b[0;34m(\u001b[0m\u001b[0mmodel\u001b[0m\u001b[0;34m)\u001b[0m\u001b[0;34m\u001b[0m\u001b[0m\n\u001b[0m",
      "\u001b[0;32m<ipython-input-56-c74ee6e38b60>\u001b[0m in \u001b[0;36mcalc_dice\u001b[0;34m(model)\u001b[0m\n\u001b[1;32m     17\u001b[0m \u001b[0;31m#            tr = j / 10.0\u001b[0m\u001b[0;34m\u001b[0m\u001b[0;34m\u001b[0m\u001b[0m\n\u001b[1;32m     18\u001b[0m \u001b[0;31m#            pred_binary_mask = t_prd > tr\u001b[0m\u001b[0;34m\u001b[0m\u001b[0;34m\u001b[0m\u001b[0m\n\u001b[0;32m---> 19\u001b[0;31m         \u001b[0mdc\u001b[0m \u001b[0;34m=\u001b[0m \u001b[0mdice_coefficient\u001b[0m\u001b[0;34m(\u001b[0m\u001b[0mt_msk\u001b[0m\u001b[0;34m,\u001b[0m \u001b[0mt_prd\u001b[0m\u001b[0;34m)\u001b[0m\u001b[0;34m\u001b[0m\u001b[0m\n\u001b[0m\u001b[1;32m     20\u001b[0m         \u001b[0;32mprint\u001b[0m \u001b[0mdc\u001b[0m\u001b[0;34m\u001b[0m\u001b[0m\n\u001b[1;32m     21\u001b[0m \u001b[0;34m\u001b[0m\u001b[0m\n",
      "\u001b[0;32m<ipython-input-59-7ece337ea7c8>\u001b[0m in \u001b[0;36mdice_coefficient\u001b[0;34m(a, b)\u001b[0m\n\u001b[1;32m     14\u001b[0m \u001b[0;31m#    a_bigrams = set(a_bigram_list)\u001b[0m\u001b[0;34m\u001b[0m\u001b[0;34m\u001b[0m\u001b[0m\n\u001b[1;32m     15\u001b[0m \u001b[0;31m#    b_bigrams = set(b_bigram_list)\u001b[0m\u001b[0;34m\u001b[0m\u001b[0;34m\u001b[0m\u001b[0m\n\u001b[0;32m---> 16\u001b[0;31m     \u001b[0moverlap\u001b[0m \u001b[0;34m=\u001b[0m \u001b[0mlen\u001b[0m\u001b[0;34m(\u001b[0m\u001b[0ma\u001b[0m \u001b[0;34m&\u001b[0m \u001b[0mb\u001b[0m\u001b[0;34m)\u001b[0m\u001b[0;34m\u001b[0m\u001b[0m\n\u001b[0m\u001b[1;32m     17\u001b[0m     \u001b[0mdice_coeff\u001b[0m \u001b[0;34m=\u001b[0m \u001b[0moverlap\u001b[0m \u001b[0;34m*\u001b[0m \u001b[0;36m2.0\u001b[0m\u001b[0;34m/\u001b[0m\u001b[0;34m(\u001b[0m\u001b[0mlen\u001b[0m\u001b[0;34m(\u001b[0m\u001b[0ma\u001b[0m\u001b[0;34m)\u001b[0m \u001b[0;34m+\u001b[0m \u001b[0mlen\u001b[0m\u001b[0;34m(\u001b[0m\u001b[0mb\u001b[0m\u001b[0;34m)\u001b[0m\u001b[0;34m)\u001b[0m\u001b[0;34m\u001b[0m\u001b[0m\n\u001b[1;32m     18\u001b[0m     \u001b[0;32mreturn\u001b[0m \u001b[0mdice_coeff\u001b[0m\u001b[0;34m\u001b[0m\u001b[0m\n",
      "\u001b[0;31mTypeError\u001b[0m: ufunc 'bitwise_and' not supported for the input types, and the inputs could not be safely coerced to any supported types according to the casting rule ''safe''"
     ]
    }
   ],
   "source": [
    "score = calc_dice(model)"
   ]
  },
  {
   "cell_type": "code",
   "execution_count": null,
   "metadata": {
    "collapsed": true
   },
   "outputs": [],
   "source": []
  },
  {
   "cell_type": "code",
   "execution_count": 43,
   "metadata": {
    "collapsed": true
   },
   "outputs": [],
   "source": [
    "# ENDS #"
   ]
  },
  {
   "cell_type": "code",
   "execution_count": null,
   "metadata": {
    "collapsed": true
   },
   "outputs": [],
   "source": []
  }
 ],
 "metadata": {
  "kernelspec": {
   "display_name": "Python 2",
   "language": "python",
   "name": "python2"
  },
  "language_info": {
   "codemirror_mode": {
    "name": "ipython",
    "version": 2
   },
   "file_extension": ".py",
   "mimetype": "text/x-python",
   "name": "python",
   "nbconvert_exporter": "python",
   "pygments_lexer": "ipython2",
   "version": "2.7.6"
  }
 },
 "nbformat": 4,
 "nbformat_minor": 2
}
